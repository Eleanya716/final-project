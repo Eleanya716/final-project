{
 "cells": [
  {
   "cell_type": "code",
   "execution_count": 1,
   "id": "8cc77953",
   "metadata": {},
   "outputs": [],
   "source": [
    "import pandas as pd\n",
    "import numpy as np\n",
    "from scipy.stats import norm\n",
    "from scipy import stats"
   ]
  },
  {
   "cell_type": "code",
   "execution_count": 2,
   "id": "0902b276",
   "metadata": {},
   "outputs": [],
   "source": [
    "import pandas as pd\n",
    "import matplotlib.pyplot as plt\n",
    "import seaborn as sns"
   ]
  },
  {
   "cell_type": "code",
   "execution_count": 3,
   "id": "fbf9220b",
   "metadata": {},
   "outputs": [],
   "source": [
    "import pandas as pd\n",
    "import numpy as np\n",
    "from scipy import stats\n",
    "from scipy.stats import ttest_ind"
   ]
  },
  {
   "cell_type": "code",
   "execution_count": 4,
   "id": "e95a9a26",
   "metadata": {},
   "outputs": [],
   "source": [
    "import pandas as pd\n",
    "import numpy as np\n",
    "import scipy\n",
    "from scipy import stats\n",
    "from statsmodels.stats.multicomp import pairwise_tukeyhsd\n",
    "from statsmodels.stats.multicomp import MultiComparison"
   ]
  },
  {
   "cell_type": "code",
   "execution_count": 5,
   "id": "957ff8a5",
   "metadata": {},
   "outputs": [],
   "source": [
    "import pandas as pd\n",
    "import numpy as np\n",
    "import matplotlib.pyplot as plt\n",
    "from pylab import *\n",
    "import seaborn as sns\n",
    "%matplotlib inline\n",
    "import  statsmodels.api as sm\n",
    "import statsmodels.stats.api as sms\n",
    "from scipy.stats import boxcox"
   ]
  },
  {
   "cell_type": "code",
   "execution_count": 6,
   "id": "4dd335e4",
   "metadata": {},
   "outputs": [],
   "source": [
    "import pandas as pd\n",
    "import numpy as np\n",
    "from scipy.stats import chi2_contingency\n",
    " \n",
    "import seaborn as sns\n",
    "import matplotlib.pyplot as plt\n",
    "%matplotlib inline "
   ]
  },
  {
   "cell_type": "code",
   "execution_count": 7,
   "id": "f490c8f7",
   "metadata": {},
   "outputs": [],
   "source": [
    "import pandas as pd\n",
    "from scipy import stats"
   ]
  },
  {
   "cell_type": "code",
   "execution_count": 8,
   "id": "5a656d1b",
   "metadata": {},
   "outputs": [],
   "source": [
    "from scipy.stats import chi2_contingency"
   ]
  },
  {
   "cell_type": "code",
   "execution_count": 9,
   "id": "5b40d0a0",
   "metadata": {},
   "outputs": [],
   "source": [
    "import matplotlib.pyplot as plt"
   ]
  },
  {
   "cell_type": "code",
   "execution_count": 10,
   "id": "f50696bf",
   "metadata": {},
   "outputs": [],
   "source": [
    "import seaborn as sns"
   ]
  },
  {
   "cell_type": "code",
   "execution_count": 11,
   "id": "6f7ece92",
   "metadata": {},
   "outputs": [],
   "source": [
    "bias = pd.read_csv('C:/Users/elean/Downloads/Risk_of_Bias.csv')"
   ]
  },
  {
   "cell_type": "code",
   "execution_count": 12,
   "id": "e87cc145",
   "metadata": {},
   "outputs": [
    {
     "data": {
      "text/html": [
       "<div>\n",
       "<style scoped>\n",
       "    .dataframe tbody tr th:only-of-type {\n",
       "        vertical-align: middle;\n",
       "    }\n",
       "\n",
       "    .dataframe tbody tr th {\n",
       "        vertical-align: top;\n",
       "    }\n",
       "\n",
       "    .dataframe thead th {\n",
       "        text-align: right;\n",
       "    }\n",
       "</style>\n",
       "<table border=\"1\" class=\"dataframe\">\n",
       "  <thead>\n",
       "    <tr style=\"text-align: right;\">\n",
       "      <th></th>\n",
       "      <th>Study ID</th>\n",
       "      <th>Study Class</th>\n",
       "      <th>Treatment Focus</th>\n",
       "      <th>Total N Randomized (Study level)</th>\n",
       "      <th>Selection Bias: Randomization Adequate</th>\n",
       "      <th>Selection Bias: Allocation Concealment Adequate</th>\n",
       "      <th>Selection Bias: Groups Similar at Baseline</th>\n",
       "      <th>Selection Bias: ITT Analysis</th>\n",
       "      <th>Performance Bias: Care Providers Masked</th>\n",
       "      <th>Performance Bias: Patients Masked</th>\n",
       "      <th>...</th>\n",
       "      <th>Veteran Percent (Study level)</th>\n",
       "      <th>Community Percent (Study level)</th>\n",
       "      <th>Female Percent (Study level)</th>\n",
       "      <th>Female Percent Detail (Study level)</th>\n",
       "      <th>Male Percent (Study level)</th>\n",
       "      <th>Trauma Type (Study level)</th>\n",
       "      <th>Trauma Detail (Study level)</th>\n",
       "      <th>Citation</th>\n",
       "      <th>PTSDPubs ID</th>\n",
       "      <th>Year Added to PTSD-Repository</th>\n",
       "    </tr>\n",
       "  </thead>\n",
       "  <tbody>\n",
       "    <tr>\n",
       "      <th>0</th>\n",
       "      <td>acarturk2016</td>\n",
       "      <td>Psychotherapy</td>\n",
       "      <td>PTSD</td>\n",
       "      <td>98</td>\n",
       "      <td>Yes</td>\n",
       "      <td>Yes</td>\n",
       "      <td>Unclear</td>\n",
       "      <td>Yes</td>\n",
       "      <td>No</td>\n",
       "      <td>No</td>\n",
       "      <td>...</td>\n",
       "      <td>NaN</td>\n",
       "      <td>1.0</td>\n",
       "      <td>0.7449</td>\n",
       "      <td>NaN</td>\n",
       "      <td>0.2551</td>\n",
       "      <td>Terrorism/political violence/forced displacement</td>\n",
       "      <td>NaN</td>\n",
       "      <td>Acarturk C, Konuk E, Cetinkaya M, et al. The e...</td>\n",
       "      <td>45262.0</td>\n",
       "      <td>2019</td>\n",
       "    </tr>\n",
       "    <tr>\n",
       "      <th>1</th>\n",
       "      <td>acierno2017</td>\n",
       "      <td>Psychotherapy</td>\n",
       "      <td>PTSD</td>\n",
       "      <td>150</td>\n",
       "      <td>Yes</td>\n",
       "      <td>Yes</td>\n",
       "      <td>Yes</td>\n",
       "      <td>No</td>\n",
       "      <td>No</td>\n",
       "      <td>No</td>\n",
       "      <td>...</td>\n",
       "      <td>1.0</td>\n",
       "      <td>NaN</td>\n",
       "      <td>0.0379</td>\n",
       "      <td>NaN</td>\n",
       "      <td>0.9621</td>\n",
       "      <td>Combat-related</td>\n",
       "      <td>NaN</td>\n",
       "      <td>Acierno RE, Knapp RG, Tuerk PW, et al. A non-i...</td>\n",
       "      <td>45948.0</td>\n",
       "      <td>2019</td>\n",
       "    </tr>\n",
       "    <tr>\n",
       "      <th>2</th>\n",
       "      <td>adenauer2011</td>\n",
       "      <td>Psychotherapy</td>\n",
       "      <td>PTSD</td>\n",
       "      <td>34</td>\n",
       "      <td>Yes</td>\n",
       "      <td>Unclear</td>\n",
       "      <td>No</td>\n",
       "      <td>Yes</td>\n",
       "      <td>No</td>\n",
       "      <td>No</td>\n",
       "      <td>...</td>\n",
       "      <td>NaN</td>\n",
       "      <td>1.0</td>\n",
       "      <td>0.4412</td>\n",
       "      <td>NaN</td>\n",
       "      <td>0.5588</td>\n",
       "      <td>Terrorism/political violence/forced displacement</td>\n",
       "      <td>NaN</td>\n",
       "      <td>Adenauer H, Catani C, Gola H, et al. Narrative...</td>\n",
       "      <td>37889.0</td>\n",
       "      <td>2019</td>\n",
       "    </tr>\n",
       "    <tr>\n",
       "      <th>3</th>\n",
       "      <td>ahmadi2015</td>\n",
       "      <td>Mixed: Psychotherapy &amp; CIH</td>\n",
       "      <td>PTSD</td>\n",
       "      <td>48</td>\n",
       "      <td>Unclear</td>\n",
       "      <td>Unclear</td>\n",
       "      <td>Yes</td>\n",
       "      <td>No</td>\n",
       "      <td>No</td>\n",
       "      <td>No</td>\n",
       "      <td>...</td>\n",
       "      <td>0.0</td>\n",
       "      <td>0.0</td>\n",
       "      <td>0.0000</td>\n",
       "      <td>NaN</td>\n",
       "      <td>1.0000</td>\n",
       "      <td>Combat-related</td>\n",
       "      <td>NaN</td>\n",
       "      <td>Ahmadi K, Hazrati M, Ahmadizadeh MJ, et al. RE...</td>\n",
       "      <td>46896.0</td>\n",
       "      <td>2019</td>\n",
       "    </tr>\n",
       "    <tr>\n",
       "      <th>4</th>\n",
       "      <td>ahmadizadeh2018</td>\n",
       "      <td>Nonpharmacologic biological</td>\n",
       "      <td>PTSD</td>\n",
       "      <td>65</td>\n",
       "      <td>Unclear</td>\n",
       "      <td>Unclear</td>\n",
       "      <td>Yes</td>\n",
       "      <td>Yes</td>\n",
       "      <td>No</td>\n",
       "      <td>Yes</td>\n",
       "      <td>...</td>\n",
       "      <td>1.0</td>\n",
       "      <td>0.0</td>\n",
       "      <td>0.0000</td>\n",
       "      <td>NaN</td>\n",
       "      <td>1.0000</td>\n",
       "      <td>Combat-related</td>\n",
       "      <td>NaN</td>\n",
       "      <td>Ahmadizadeh MJ, Rezaei M. Unilateral right and...</td>\n",
       "      <td>50480.0</td>\n",
       "      <td>2019</td>\n",
       "    </tr>\n",
       "  </tbody>\n",
       "</table>\n",
       "<p>5 rows × 35 columns</p>\n",
       "</div>"
      ],
      "text/plain": [
       "          Study ID                  Study Class Treatment Focus  \\\n",
       "0     acarturk2016                Psychotherapy            PTSD   \n",
       "1      acierno2017                Psychotherapy            PTSD   \n",
       "2     adenauer2011                Psychotherapy            PTSD   \n",
       "3       ahmadi2015   Mixed: Psychotherapy & CIH            PTSD   \n",
       "4  ahmadizadeh2018  Nonpharmacologic biological            PTSD   \n",
       "\n",
       "   Total N Randomized (Study level) Selection Bias: Randomization Adequate  \\\n",
       "0                                98                                    Yes   \n",
       "1                               150                                    Yes   \n",
       "2                                34                                    Yes   \n",
       "3                                48                                Unclear   \n",
       "4                                65                                Unclear   \n",
       "\n",
       "  Selection Bias: Allocation Concealment Adequate  \\\n",
       "0                                             Yes   \n",
       "1                                             Yes   \n",
       "2                                         Unclear   \n",
       "3                                         Unclear   \n",
       "4                                         Unclear   \n",
       "\n",
       "  Selection Bias: Groups Similar at Baseline Selection Bias: ITT Analysis  \\\n",
       "0                                    Unclear                          Yes   \n",
       "1                                        Yes                           No   \n",
       "2                                         No                          Yes   \n",
       "3                                        Yes                           No   \n",
       "4                                        Yes                          Yes   \n",
       "\n",
       "  Performance Bias: Care Providers Masked Performance Bias: Patients Masked  \\\n",
       "0                                      No                                No   \n",
       "1                                      No                                No   \n",
       "2                                      No                                No   \n",
       "3                                      No                                No   \n",
       "4                                      No                               Yes   \n",
       "\n",
       "   ... Veteran Percent (Study level) Community Percent (Study level)  \\\n",
       "0  ...                           NaN                             1.0   \n",
       "1  ...                           1.0                             NaN   \n",
       "2  ...                           NaN                             1.0   \n",
       "3  ...                           0.0                             0.0   \n",
       "4  ...                           1.0                             0.0   \n",
       "\n",
       "   Female Percent (Study level) Female Percent Detail (Study level)  \\\n",
       "0                        0.7449                                 NaN   \n",
       "1                        0.0379                                 NaN   \n",
       "2                        0.4412                                 NaN   \n",
       "3                        0.0000                                 NaN   \n",
       "4                        0.0000                                 NaN   \n",
       "\n",
       "  Male Percent (Study level)  \\\n",
       "0                     0.2551   \n",
       "1                     0.9621   \n",
       "2                     0.5588   \n",
       "3                     1.0000   \n",
       "4                     1.0000   \n",
       "\n",
       "                          Trauma Type (Study level)  \\\n",
       "0  Terrorism/political violence/forced displacement   \n",
       "1                                    Combat-related   \n",
       "2  Terrorism/political violence/forced displacement   \n",
       "3                                    Combat-related   \n",
       "4                                    Combat-related   \n",
       "\n",
       "  Trauma Detail (Study level)  \\\n",
       "0                         NaN   \n",
       "1                         NaN   \n",
       "2                         NaN   \n",
       "3                         NaN   \n",
       "4                         NaN   \n",
       "\n",
       "                                            Citation PTSDPubs ID  \\\n",
       "0  Acarturk C, Konuk E, Cetinkaya M, et al. The e...     45262.0   \n",
       "1  Acierno RE, Knapp RG, Tuerk PW, et al. A non-i...     45948.0   \n",
       "2  Adenauer H, Catani C, Gola H, et al. Narrative...     37889.0   \n",
       "3  Ahmadi K, Hazrati M, Ahmadizadeh MJ, et al. RE...     46896.0   \n",
       "4  Ahmadizadeh MJ, Rezaei M. Unilateral right and...     50480.0   \n",
       "\n",
       "  Year Added to PTSD-Repository  \n",
       "0                          2019  \n",
       "1                          2019  \n",
       "2                          2019  \n",
       "3                          2019  \n",
       "4                          2019  \n",
       "\n",
       "[5 rows x 35 columns]"
      ]
     },
     "execution_count": 12,
     "metadata": {},
     "output_type": "execute_result"
    }
   ],
   "source": [
    "bias.head()"
   ]
  },
  {
   "cell_type": "code",
   "execution_count": 13,
   "id": "5d1f078f",
   "metadata": {},
   "outputs": [
    {
     "data": {
      "text/plain": [
       "Total N Randomized (Study level)          82.966581\n",
       "Attrition Overall Greater Than 20%         0.315994\n",
       "Active Duty Military (Study level)         0.094748\n",
       "Veteran Percent (Study level)              0.723692\n",
       "Community Percent (Study level)            0.608769\n",
       "Female Percent (Study level)               0.460399\n",
       "Male Percent (Study level)                 0.539886\n",
       "PTSDPubs ID                           100595.570248\n",
       "Year Added to PTSD-Repository           2019.226221\n",
       "dtype: float64"
      ]
     },
     "execution_count": 13,
     "metadata": {},
     "output_type": "execute_result"
    }
   ],
   "source": [
    "bias.mean()"
   ]
  },
  {
   "cell_type": "code",
   "execution_count": 14,
   "id": "363277f3",
   "metadata": {},
   "outputs": [
    {
     "data": {
      "text/plain": [
       "Index(['Study ID', 'Study Class', 'Treatment Focus',\n",
       "       'Total N Randomized (Study level)',\n",
       "       'Selection Bias: Randomization Adequate',\n",
       "       'Selection Bias: Allocation Concealment Adequate',\n",
       "       'Selection Bias: Groups Similar at Baseline',\n",
       "       'Selection Bias: ITT Analysis',\n",
       "       'Performance Bias: Care Providers Masked',\n",
       "       'Performance Bias: Patients Masked',\n",
       "       'Detection Bias: Outcome Assessors Masked',\n",
       "       'Attrition Overall Less Than or Equal to 20%',\n",
       "       'Attrition Overall Greater Than 20%',\n",
       "       'Attrition Differential Less Than or Equal to 15%',\n",
       "       'Attrition Differential Greater Than 15%',\n",
       "       'Additional Quantitative Data Reported',\n",
       "       'Reporting Bias: All Prespecified Outcomes Reported',\n",
       "       'Reporting Bias: Method of Handling Dropouts',\n",
       "       'Reporting Bias: Detail of Other Methods of Handling Dropouts',\n",
       "       'Outcome Measures Equal Valid and Reliable',\n",
       "       'Study Reports Adequate Treatment Fidelity Based on Measurements by Independent Raters',\n",
       "       'Risk of Bias Rating', 'EPC Assessing Risk of Bias',\n",
       "       'Military Status (Study level)', 'Active Duty Military (Study level)',\n",
       "       'Veteran Percent (Study level)', 'Community Percent (Study level)',\n",
       "       'Female Percent (Study level)', 'Female Percent Detail (Study level)',\n",
       "       'Male Percent (Study level)', 'Trauma Type (Study level)',\n",
       "       'Trauma Detail (Study level)', 'Citation', 'PTSDPubs ID',\n",
       "       'Year Added to PTSD-Repository'],\n",
       "      dtype='object')"
      ]
     },
     "execution_count": 14,
     "metadata": {},
     "output_type": "execute_result"
    }
   ],
   "source": [
    "bias.columns"
   ]
  },
  {
   "cell_type": "markdown",
   "id": "a2156e9b",
   "metadata": {},
   "source": [
    "# Recode & Rename"
   ]
  },
  {
   "cell_type": "code",
   "execution_count": 15,
   "id": "30641a43",
   "metadata": {},
   "outputs": [],
   "source": [
    "def male_recode (series):\n",
    "    if series < .25:\n",
    "        return 0\n",
    "    if series < .5:\n",
    "        return 1\n",
    "    if series < .75:\n",
    "        return 2\n",
    "    else:\n",
    "        return 3"
   ]
  },
  {
   "cell_type": "code",
   "execution_count": 16,
   "id": "17e60632",
   "metadata": {},
   "outputs": [],
   "source": [
    "bias['Male_recode'] = bias['Male Percent (Study level)'].apply(male_recode)"
   ]
  },
  {
   "cell_type": "code",
   "execution_count": 17,
   "id": "bdec86bd",
   "metadata": {},
   "outputs": [
    {
     "data": {
      "text/plain": [
       "3    166\n",
       "0     97\n",
       "1     83\n",
       "2     43\n",
       "Name: Male_recode, dtype: int64"
      ]
     },
     "execution_count": 17,
     "metadata": {},
     "output_type": "execute_result"
    }
   ],
   "source": [
    "bias['Male_recode'].value_counts(dropna=False)"
   ]
  },
  {
   "cell_type": "code",
   "execution_count": 18,
   "id": "b6c97699",
   "metadata": {},
   "outputs": [],
   "source": [
    "def fem_recode (series):\n",
    "    if series < .25:\n",
    "        return 0\n",
    "    if series < .5:\n",
    "        return 1\n",
    "    if series < .75:\n",
    "        return 2\n",
    "    else:\n",
    "        return 3"
   ]
  },
  {
   "cell_type": "code",
   "execution_count": 19,
   "id": "a66441d5",
   "metadata": {},
   "outputs": [],
   "source": [
    "bias['Female_recode'] = bias['Female Percent (Study level)'].apply(fem_recode)"
   ]
  },
  {
   "cell_type": "code",
   "execution_count": 20,
   "id": "bfffc10f",
   "metadata": {},
   "outputs": [],
   "source": [
    "bias1 =bias[['Female Percent (Study level)', 'Male Percent (Study level)']].dropna()"
   ]
  },
  {
   "cell_type": "code",
   "execution_count": 21,
   "id": "16aef973",
   "metadata": {},
   "outputs": [
    {
     "data": {
      "text/plain": [
       "0    141\n",
       "3    124\n",
       "2     81\n",
       "1     43\n",
       "Name: Female_recode, dtype: int64"
      ]
     },
     "execution_count": 21,
     "metadata": {},
     "output_type": "execute_result"
    }
   ],
   "source": [
    "bias['Female_recode'].value_counts(dropna=False)"
   ]
  },
  {
   "cell_type": "code",
   "execution_count": 22,
   "id": "65a5454f",
   "metadata": {},
   "outputs": [],
   "source": [
    "def Vetern_recode (series):\n",
    "    if series < .25:\n",
    "        return 0\n",
    "    if series < .5:\n",
    "        return 1\n",
    "    if series < .75:\n",
    "        return 2\n",
    "    else:\n",
    "        return 3"
   ]
  },
  {
   "cell_type": "code",
   "execution_count": 23,
   "id": "fa87dd21",
   "metadata": {},
   "outputs": [],
   "source": [
    "bias['Veteran_recode'] = bias['Veteran Percent (Study level)'].apply(Vetern_recode)"
   ]
  },
  {
   "cell_type": "code",
   "execution_count": 24,
   "id": "8688381e",
   "metadata": {},
   "outputs": [
    {
     "data": {
      "text/plain": [
       "3    332\n",
       "0     46\n",
       "1      7\n",
       "2      4\n",
       "Name: Veteran_recode, dtype: int64"
      ]
     },
     "execution_count": 24,
     "metadata": {},
     "output_type": "execute_result"
    }
   ],
   "source": [
    "bias['Veteran_recode'].value_counts(dropna=False)"
   ]
  },
  {
   "cell_type": "code",
   "execution_count": 25,
   "id": "9e2ba8ac",
   "metadata": {},
   "outputs": [],
   "source": [
    "def Military_recode (series):\n",
    "    if series < .25:\n",
    "        return 0\n",
    "    if series < .5:\n",
    "        return 1\n",
    "    if series < .75:\n",
    "        return 2\n",
    "    else:\n",
    "        return 3"
   ]
  },
  {
   "cell_type": "code",
   "execution_count": 26,
   "id": "44b4422d",
   "metadata": {},
   "outputs": [],
   "source": [
    "bias2 =bias[['Active Duty Military (Study level)', ]].dropna()"
   ]
  },
  {
   "cell_type": "code",
   "execution_count": 27,
   "id": "4c0b5be8",
   "metadata": {
    "scrolled": true
   },
   "outputs": [],
   "source": [
    "bias['Military_recode'] = bias['Active Duty Military (Study level)'].apply(Military_recode)"
   ]
  },
  {
   "cell_type": "code",
   "execution_count": 28,
   "id": "ad1f9b78",
   "metadata": {},
   "outputs": [
    {
     "data": {
      "text/plain": [
       "3    234\n",
       "0    151\n",
       "1      2\n",
       "2      2\n",
       "Name: Military_recode, dtype: int64"
      ]
     },
     "execution_count": 28,
     "metadata": {},
     "output_type": "execute_result"
    }
   ],
   "source": [
    "bias['Military_recode'].value_counts(dropna=False)"
   ]
  },
  {
   "cell_type": "code",
   "execution_count": 29,
   "id": "7c6d89b2",
   "metadata": {},
   "outputs": [],
   "source": [
    "bias2 =bias[['Risk of Bias Rating', ]].dropna()"
   ]
  },
  {
   "cell_type": "code",
   "execution_count": 30,
   "id": "64552784",
   "metadata": {},
   "outputs": [],
   "source": [
    "def trauma_recode (series):\n",
    "    if pd.isnull(series):\n",
    "        return 0\n",
    "    else:\n",
    "        return 1\n",
    "    "
   ]
  },
  {
   "cell_type": "code",
   "execution_count": 31,
   "id": "ed47c0d2",
   "metadata": {},
   "outputs": [],
   "source": [
    "bias['trauma_recode'] = bias['Trauma Detail (Study level)'].apply(trauma_recode)"
   ]
  },
  {
   "cell_type": "code",
   "execution_count": 32,
   "id": "e4e3f0c6",
   "metadata": {},
   "outputs": [
    {
     "data": {
      "text/plain": [
       "0      0\n",
       "1      0\n",
       "2      0\n",
       "3      0\n",
       "4      0\n",
       "      ..\n",
       "384    0\n",
       "385    1\n",
       "386    1\n",
       "387    1\n",
       "388    0\n",
       "Name: trauma_recode, Length: 389, dtype: int64"
      ]
     },
     "execution_count": 32,
     "metadata": {},
     "output_type": "execute_result"
    }
   ],
   "source": [
    "bias['trauma_recode']"
   ]
  },
  {
   "cell_type": "code",
   "execution_count": 33,
   "id": "9691b0bc",
   "metadata": {},
   "outputs": [],
   "source": [
    "bias2 =bias[['trauma_recode',]].dropna()"
   ]
  },
  {
   "cell_type": "code",
   "execution_count": 34,
   "id": "c929c265",
   "metadata": {
    "scrolled": true
   },
   "outputs": [
    {
     "data": {
      "text/plain": [
       "0      0\n",
       "1      0\n",
       "2      0\n",
       "3      0\n",
       "4      0\n",
       "      ..\n",
       "384    0\n",
       "385    1\n",
       "386    1\n",
       "387    1\n",
       "388    0\n",
       "Name: trauma_recode, Length: 389, dtype: int64"
      ]
     },
     "execution_count": 34,
     "metadata": {},
     "output_type": "execute_result"
    }
   ],
   "source": [
    "bias['trauma_recode']"
   ]
  },
  {
   "cell_type": "code",
   "execution_count": 35,
   "id": "1a1da200",
   "metadata": {},
   "outputs": [
    {
     "data": {
      "text/plain": [
       "1    199\n",
       "0    190\n",
       "Name: trauma_recode, dtype: int64"
      ]
     },
     "execution_count": 35,
     "metadata": {},
     "output_type": "execute_result"
    }
   ],
   "source": [
    "bias['trauma_recode'].value_counts(dropna=False)"
   ]
  },
  {
   "cell_type": "code",
   "execution_count": 36,
   "id": "e31bace5",
   "metadata": {},
   "outputs": [
    {
     "data": {
      "text/plain": [
       "array([0, 1], dtype=int64)"
      ]
     },
     "execution_count": 36,
     "metadata": {},
     "output_type": "execute_result"
    }
   ],
   "source": [
    "bias['trauma_recode'].unique()"
   ]
  },
  {
   "cell_type": "code",
   "execution_count": 37,
   "id": "dd9ecb8e",
   "metadata": {},
   "outputs": [
    {
     "data": {
      "text/plain": [
       "0      Medium\n",
       "1      Medium\n",
       "2        High\n",
       "3        High\n",
       "4      Medium\n",
       "        ...  \n",
       "384      High\n",
       "385      High\n",
       "386    Medium\n",
       "387    Medium\n",
       "388      High\n",
       "Name: Risk of Bias Rating, Length: 389, dtype: object"
      ]
     },
     "execution_count": 37,
     "metadata": {},
     "output_type": "execute_result"
    }
   ],
   "source": [
    "bias['Risk of Bias Rating']"
   ]
  },
  {
   "cell_type": "code",
   "execution_count": 38,
   "id": "30cf0589",
   "metadata": {},
   "outputs": [
    {
     "data": {
      "text/html": [
       "<div>\n",
       "<style scoped>\n",
       "    .dataframe tbody tr th:only-of-type {\n",
       "        vertical-align: middle;\n",
       "    }\n",
       "\n",
       "    .dataframe tbody tr th {\n",
       "        vertical-align: top;\n",
       "    }\n",
       "\n",
       "    .dataframe thead th {\n",
       "        text-align: right;\n",
       "    }\n",
       "</style>\n",
       "<table border=\"1\" class=\"dataframe\">\n",
       "  <thead>\n",
       "    <tr style=\"text-align: right;\">\n",
       "      <th></th>\n",
       "      <th>Study ID</th>\n",
       "      <th>Study Class</th>\n",
       "      <th>Treatment Focus</th>\n",
       "      <th>Total N Randomized (Study level)</th>\n",
       "      <th>Selection Bias: Randomization Adequate</th>\n",
       "      <th>Selection Bias: Allocation Concealment Adequate</th>\n",
       "      <th>Selection Bias: Groups Similar at Baseline</th>\n",
       "      <th>Selection Bias: ITT Analysis</th>\n",
       "      <th>Performance Bias: Care Providers Masked</th>\n",
       "      <th>Performance Bias: Patients Masked</th>\n",
       "      <th>...</th>\n",
       "      <th>Trauma Type (Study level)</th>\n",
       "      <th>Trauma Detail (Study level)</th>\n",
       "      <th>Citation</th>\n",
       "      <th>PTSDPubs ID</th>\n",
       "      <th>Year Added to PTSD-Repository</th>\n",
       "      <th>Male_recode</th>\n",
       "      <th>Female_recode</th>\n",
       "      <th>Veteran_recode</th>\n",
       "      <th>Military_recode</th>\n",
       "      <th>trauma_recode</th>\n",
       "    </tr>\n",
       "  </thead>\n",
       "  <tbody>\n",
       "    <tr>\n",
       "      <th>0</th>\n",
       "      <td>acarturk2016</td>\n",
       "      <td>Psychotherapy</td>\n",
       "      <td>PTSD</td>\n",
       "      <td>98</td>\n",
       "      <td>Yes</td>\n",
       "      <td>Yes</td>\n",
       "      <td>Unclear</td>\n",
       "      <td>Yes</td>\n",
       "      <td>No</td>\n",
       "      <td>No</td>\n",
       "      <td>...</td>\n",
       "      <td>Terrorism/political violence/forced displacement</td>\n",
       "      <td>NaN</td>\n",
       "      <td>Acarturk C, Konuk E, Cetinkaya M, et al. The e...</td>\n",
       "      <td>45262.0</td>\n",
       "      <td>2019</td>\n",
       "      <td>1</td>\n",
       "      <td>2</td>\n",
       "      <td>3</td>\n",
       "      <td>3</td>\n",
       "      <td>0</td>\n",
       "    </tr>\n",
       "    <tr>\n",
       "      <th>1</th>\n",
       "      <td>acierno2017</td>\n",
       "      <td>Psychotherapy</td>\n",
       "      <td>PTSD</td>\n",
       "      <td>150</td>\n",
       "      <td>Yes</td>\n",
       "      <td>Yes</td>\n",
       "      <td>Yes</td>\n",
       "      <td>No</td>\n",
       "      <td>No</td>\n",
       "      <td>No</td>\n",
       "      <td>...</td>\n",
       "      <td>Combat-related</td>\n",
       "      <td>NaN</td>\n",
       "      <td>Acierno RE, Knapp RG, Tuerk PW, et al. A non-i...</td>\n",
       "      <td>45948.0</td>\n",
       "      <td>2019</td>\n",
       "      <td>3</td>\n",
       "      <td>0</td>\n",
       "      <td>3</td>\n",
       "      <td>3</td>\n",
       "      <td>0</td>\n",
       "    </tr>\n",
       "    <tr>\n",
       "      <th>2</th>\n",
       "      <td>adenauer2011</td>\n",
       "      <td>Psychotherapy</td>\n",
       "      <td>PTSD</td>\n",
       "      <td>34</td>\n",
       "      <td>Yes</td>\n",
       "      <td>Unclear</td>\n",
       "      <td>No</td>\n",
       "      <td>Yes</td>\n",
       "      <td>No</td>\n",
       "      <td>No</td>\n",
       "      <td>...</td>\n",
       "      <td>Terrorism/political violence/forced displacement</td>\n",
       "      <td>NaN</td>\n",
       "      <td>Adenauer H, Catani C, Gola H, et al. Narrative...</td>\n",
       "      <td>37889.0</td>\n",
       "      <td>2019</td>\n",
       "      <td>2</td>\n",
       "      <td>1</td>\n",
       "      <td>3</td>\n",
       "      <td>3</td>\n",
       "      <td>0</td>\n",
       "    </tr>\n",
       "    <tr>\n",
       "      <th>3</th>\n",
       "      <td>ahmadi2015</td>\n",
       "      <td>Mixed: Psychotherapy &amp; CIH</td>\n",
       "      <td>PTSD</td>\n",
       "      <td>48</td>\n",
       "      <td>Unclear</td>\n",
       "      <td>Unclear</td>\n",
       "      <td>Yes</td>\n",
       "      <td>No</td>\n",
       "      <td>No</td>\n",
       "      <td>No</td>\n",
       "      <td>...</td>\n",
       "      <td>Combat-related</td>\n",
       "      <td>NaN</td>\n",
       "      <td>Ahmadi K, Hazrati M, Ahmadizadeh MJ, et al. RE...</td>\n",
       "      <td>46896.0</td>\n",
       "      <td>2019</td>\n",
       "      <td>3</td>\n",
       "      <td>0</td>\n",
       "      <td>0</td>\n",
       "      <td>3</td>\n",
       "      <td>0</td>\n",
       "    </tr>\n",
       "    <tr>\n",
       "      <th>4</th>\n",
       "      <td>ahmadizadeh2018</td>\n",
       "      <td>Nonpharmacologic biological</td>\n",
       "      <td>PTSD</td>\n",
       "      <td>65</td>\n",
       "      <td>Unclear</td>\n",
       "      <td>Unclear</td>\n",
       "      <td>Yes</td>\n",
       "      <td>Yes</td>\n",
       "      <td>No</td>\n",
       "      <td>Yes</td>\n",
       "      <td>...</td>\n",
       "      <td>Combat-related</td>\n",
       "      <td>NaN</td>\n",
       "      <td>Ahmadizadeh MJ, Rezaei M. Unilateral right and...</td>\n",
       "      <td>50480.0</td>\n",
       "      <td>2019</td>\n",
       "      <td>3</td>\n",
       "      <td>0</td>\n",
       "      <td>3</td>\n",
       "      <td>0</td>\n",
       "      <td>0</td>\n",
       "    </tr>\n",
       "  </tbody>\n",
       "</table>\n",
       "<p>5 rows × 40 columns</p>\n",
       "</div>"
      ],
      "text/plain": [
       "          Study ID                  Study Class Treatment Focus  \\\n",
       "0     acarturk2016                Psychotherapy            PTSD   \n",
       "1      acierno2017                Psychotherapy            PTSD   \n",
       "2     adenauer2011                Psychotherapy            PTSD   \n",
       "3       ahmadi2015   Mixed: Psychotherapy & CIH            PTSD   \n",
       "4  ahmadizadeh2018  Nonpharmacologic biological            PTSD   \n",
       "\n",
       "   Total N Randomized (Study level) Selection Bias: Randomization Adequate  \\\n",
       "0                                98                                    Yes   \n",
       "1                               150                                    Yes   \n",
       "2                                34                                    Yes   \n",
       "3                                48                                Unclear   \n",
       "4                                65                                Unclear   \n",
       "\n",
       "  Selection Bias: Allocation Concealment Adequate  \\\n",
       "0                                             Yes   \n",
       "1                                             Yes   \n",
       "2                                         Unclear   \n",
       "3                                         Unclear   \n",
       "4                                         Unclear   \n",
       "\n",
       "  Selection Bias: Groups Similar at Baseline Selection Bias: ITT Analysis  \\\n",
       "0                                    Unclear                          Yes   \n",
       "1                                        Yes                           No   \n",
       "2                                         No                          Yes   \n",
       "3                                        Yes                           No   \n",
       "4                                        Yes                          Yes   \n",
       "\n",
       "  Performance Bias: Care Providers Masked Performance Bias: Patients Masked  \\\n",
       "0                                      No                                No   \n",
       "1                                      No                                No   \n",
       "2                                      No                                No   \n",
       "3                                      No                                No   \n",
       "4                                      No                               Yes   \n",
       "\n",
       "   ...                         Trauma Type (Study level)  \\\n",
       "0  ...  Terrorism/political violence/forced displacement   \n",
       "1  ...                                    Combat-related   \n",
       "2  ...  Terrorism/political violence/forced displacement   \n",
       "3  ...                                    Combat-related   \n",
       "4  ...                                    Combat-related   \n",
       "\n",
       "  Trauma Detail (Study level)  \\\n",
       "0                         NaN   \n",
       "1                         NaN   \n",
       "2                         NaN   \n",
       "3                         NaN   \n",
       "4                         NaN   \n",
       "\n",
       "                                            Citation PTSDPubs ID  \\\n",
       "0  Acarturk C, Konuk E, Cetinkaya M, et al. The e...     45262.0   \n",
       "1  Acierno RE, Knapp RG, Tuerk PW, et al. A non-i...     45948.0   \n",
       "2  Adenauer H, Catani C, Gola H, et al. Narrative...     37889.0   \n",
       "3  Ahmadi K, Hazrati M, Ahmadizadeh MJ, et al. RE...     46896.0   \n",
       "4  Ahmadizadeh MJ, Rezaei M. Unilateral right and...     50480.0   \n",
       "\n",
       "  Year Added to PTSD-Repository Male_recode Female_recode Veteran_recode  \\\n",
       "0                          2019           1             2              3   \n",
       "1                          2019           3             0              3   \n",
       "2                          2019           2             1              3   \n",
       "3                          2019           3             0              0   \n",
       "4                          2019           3             0              3   \n",
       "\n",
       "  Military_recode trauma_recode  \n",
       "0               3             0  \n",
       "1               3             0  \n",
       "2               3             0  \n",
       "3               3             0  \n",
       "4               0             0  \n",
       "\n",
       "[5 rows x 40 columns]"
      ]
     },
     "execution_count": 38,
     "metadata": {},
     "output_type": "execute_result"
    }
   ],
   "source": [
    "bias.head()"
   ]
  },
  {
   "cell_type": "code",
   "execution_count": 39,
   "id": "1a55a482",
   "metadata": {},
   "outputs": [
    {
     "name": "stdout",
     "output_type": "stream",
     "text": [
      "<class 'pandas.core.frame.DataFrame'>\n",
      "RangeIndex: 389 entries, 0 to 388\n",
      "Data columns (total 40 columns):\n",
      " #   Column                                                                                 Non-Null Count  Dtype  \n",
      "---  ------                                                                                 --------------  -----  \n",
      " 0   Study ID                                                                               389 non-null    object \n",
      " 1   Study Class                                                                            389 non-null    object \n",
      " 2   Treatment Focus                                                                        389 non-null    object \n",
      " 3   Total N Randomized (Study level)                                                       389 non-null    int64  \n",
      " 4   Selection Bias: Randomization Adequate                                                 389 non-null    object \n",
      " 5   Selection Bias: Allocation Concealment Adequate                                        389 non-null    object \n",
      " 6   Selection Bias: Groups Similar at Baseline                                             386 non-null    object \n",
      " 7   Selection Bias: ITT Analysis                                                           384 non-null    object \n",
      " 8   Performance Bias: Care Providers Masked                                                389 non-null    object \n",
      " 9   Performance Bias: Patients Masked                                                      389 non-null    object \n",
      " 10  Detection Bias: Outcome Assessors Masked                                               389 non-null    object \n",
      " 11  Attrition Overall Less Than or Equal to 20%                                            381 non-null    object \n",
      " 12  Attrition Overall Greater Than 20%                                                     174 non-null    float64\n",
      " 13  Attrition Differential Less Than or Equal to 15%                                       380 non-null    object \n",
      " 14  Attrition Differential Greater Than 15%                                                88 non-null     object \n",
      " 15  Additional Quantitative Data Reported                                                  1 non-null      object \n",
      " 16  Reporting Bias: All Prespecified Outcomes Reported                                     389 non-null    object \n",
      " 17  Reporting Bias: Method of Handling Dropouts                                            389 non-null    object \n",
      " 18  Reporting Bias: Detail of Other Methods of Handling Dropouts                           13 non-null     object \n",
      " 19  Outcome Measures Equal Valid and Reliable                                              389 non-null    object \n",
      " 20  Study Reports Adequate Treatment Fidelity Based on Measurements by Independent Raters  246 non-null    object \n",
      " 21  Risk of Bias Rating                                                                    389 non-null    object \n",
      " 22  EPC Assessing Risk of Bias                                                             389 non-null    object \n",
      " 23  Military Status (Study level)                                                          380 non-null    object \n",
      " 24  Active Duty Military (Study level)                                                     169 non-null    float64\n",
      " 25  Veteran Percent (Study level)                                                          186 non-null    float64\n",
      " 26  Community Percent (Study level)                                                        364 non-null    float64\n",
      " 27  Female Percent (Study level)                                                           365 non-null    float64\n",
      " 28  Female Percent Detail (Study level)                                                    7 non-null      object \n",
      " 29  Male Percent (Study level)                                                             365 non-null    float64\n",
      " 30  Trauma Type (Study level)                                                              332 non-null    object \n",
      " 31  Trauma Detail (Study level)                                                            199 non-null    object \n",
      " 32  Citation                                                                               389 non-null    object \n",
      " 33  PTSDPubs ID                                                                            363 non-null    float64\n",
      " 34  Year Added to PTSD-Repository                                                          389 non-null    int64  \n",
      " 35  Male_recode                                                                            389 non-null    int64  \n",
      " 36  Female_recode                                                                          389 non-null    int64  \n",
      " 37  Veteran_recode                                                                         389 non-null    int64  \n",
      " 38  Military_recode                                                                        389 non-null    int64  \n",
      " 39  trauma_recode                                                                          389 non-null    int64  \n",
      "dtypes: float64(7), int64(7), object(26)\n",
      "memory usage: 121.7+ KB\n"
     ]
    }
   ],
   "source": [
    "bias.info()"
   ]
  },
  {
   "cell_type": "markdown",
   "id": "df5619a3",
   "metadata": {},
   "source": [
    "# corrlation "
   ]
  },
  {
   "cell_type": "code",
   "execution_count": 40,
   "id": "f618e14d",
   "metadata": {},
   "outputs": [
    {
     "data": {
      "text/plain": [
       "-0.8331822757513321"
      ]
     },
     "execution_count": 40,
     "metadata": {},
     "output_type": "execute_result"
    }
   ],
   "source": [
    "bias['Female_recode'].corr(bias['Male_recode'])       "
   ]
  },
  {
   "cell_type": "code",
   "execution_count": 41,
   "id": "919c1032",
   "metadata": {},
   "outputs": [
    {
     "data": {
      "text/html": [
       "<style  type=\"text/css\" >\n",
       "#T_131e4_row0_col0,#T_131e4_row1_col1,#T_131e4_row2_col2,#T_131e4_row2_col12,#T_131e4_row3_col3,#T_131e4_row3_col11,#T_131e4_row4_col4,#T_131e4_row5_col5,#T_131e4_row6_col6,#T_131e4_row7_col7,#T_131e4_row8_col8,#T_131e4_row9_col9,#T_131e4_row10_col10,#T_131e4_row11_col3,#T_131e4_row11_col11,#T_131e4_row12_col2,#T_131e4_row12_col12,#T_131e4_row13_col13{\n",
       "            background-color:  #fff5f0;\n",
       "            color:  #000000;\n",
       "        }#T_131e4_row0_col1,#T_131e4_row1_col9{\n",
       "            background-color:  #980c13;\n",
       "            color:  #f1f1f1;\n",
       "        }#T_131e4_row0_col2{\n",
       "            background-color:  #b51318;\n",
       "            color:  #f1f1f1;\n",
       "        }#T_131e4_row0_col3,#T_131e4_row4_col6{\n",
       "            background-color:  #71020e;\n",
       "            color:  #f1f1f1;\n",
       "        }#T_131e4_row0_col4,#T_131e4_row12_col9{\n",
       "            background-color:  #75030f;\n",
       "            color:  #f1f1f1;\n",
       "        }#T_131e4_row0_col5,#T_131e4_row7_col9{\n",
       "            background-color:  #77040f;\n",
       "            color:  #f1f1f1;\n",
       "        }#T_131e4_row0_col6,#T_131e4_row7_col12{\n",
       "            background-color:  #a30f15;\n",
       "            color:  #f1f1f1;\n",
       "        }#T_131e4_row0_col7{\n",
       "            background-color:  #69000d;\n",
       "            color:  #f1f1f1;\n",
       "        }#T_131e4_row0_col8,#T_131e4_row1_col13,#T_131e4_row13_col11{\n",
       "            background-color:  #bd151a;\n",
       "            color:  #f1f1f1;\n",
       "        }#T_131e4_row0_col9,#T_131e4_row6_col4{\n",
       "            background-color:  #a60f15;\n",
       "            color:  #f1f1f1;\n",
       "        }#T_131e4_row0_col10,#T_131e4_row1_col3,#T_131e4_row2_col3,#T_131e4_row2_col11,#T_131e4_row3_col4,#T_131e4_row4_col3,#T_131e4_row5_col6,#T_131e4_row6_col5,#T_131e4_row7_col6,#T_131e4_row8_col12,#T_131e4_row9_col5,#T_131e4_row10_col6,#T_131e4_row11_col2,#T_131e4_row12_col6,#T_131e4_row13_col6{\n",
       "            background-color:  #67000d;\n",
       "            color:  #f1f1f1;\n",
       "        }#T_131e4_row0_col11{\n",
       "            background-color:  #73030f;\n",
       "            color:  #f1f1f1;\n",
       "        }#T_131e4_row0_col12{\n",
       "            background-color:  #9a0c14;\n",
       "            color:  #f1f1f1;\n",
       "        }#T_131e4_row0_col13,#T_131e4_row1_col0,#T_131e4_row7_col11{\n",
       "            background-color:  #9f0e14;\n",
       "            color:  #f1f1f1;\n",
       "        }#T_131e4_row1_col2{\n",
       "            background-color:  #bb141a;\n",
       "            color:  #f1f1f1;\n",
       "        }#T_131e4_row1_col4,#T_131e4_row12_col3{\n",
       "            background-color:  #960b13;\n",
       "            color:  #f1f1f1;\n",
       "        }#T_131e4_row1_col5{\n",
       "            background-color:  #8c0912;\n",
       "            color:  #f1f1f1;\n",
       "        }#T_131e4_row1_col6,#T_131e4_row1_col7{\n",
       "            background-color:  #a10e15;\n",
       "            color:  #f1f1f1;\n",
       "        }#T_131e4_row1_col8{\n",
       "            background-color:  #880811;\n",
       "            color:  #f1f1f1;\n",
       "        }#T_131e4_row1_col10{\n",
       "            background-color:  #860811;\n",
       "            color:  #f1f1f1;\n",
       "        }#T_131e4_row1_col11,#T_131e4_row12_col8{\n",
       "            background-color:  #7c0510;\n",
       "            color:  #f1f1f1;\n",
       "        }#T_131e4_row1_col12,#T_131e4_row7_col1{\n",
       "            background-color:  #9c0d14;\n",
       "            color:  #f1f1f1;\n",
       "        }#T_131e4_row2_col0,#T_131e4_row2_col1{\n",
       "            background-color:  #f34935;\n",
       "            color:  #000000;\n",
       "        }#T_131e4_row2_col4,#T_131e4_row5_col3{\n",
       "            background-color:  #c7171c;\n",
       "            color:  #f1f1f1;\n",
       "        }#T_131e4_row2_col5,#T_131e4_row8_col5{\n",
       "            background-color:  #c9181d;\n",
       "            color:  #f1f1f1;\n",
       "        }#T_131e4_row2_col6,#T_131e4_row3_col7{\n",
       "            background-color:  #f5533b;\n",
       "            color:  #000000;\n",
       "        }#T_131e4_row2_col7,#T_131e4_row3_col13{\n",
       "            background-color:  #db2824;\n",
       "            color:  #f1f1f1;\n",
       "        }#T_131e4_row2_col8{\n",
       "            background-color:  #d11e1f;\n",
       "            color:  #f1f1f1;\n",
       "        }#T_131e4_row2_col9,#T_131e4_row6_col7,#T_131e4_row10_col0{\n",
       "            background-color:  #f6583e;\n",
       "            color:  #000000;\n",
       "        }#T_131e4_row2_col10,#T_131e4_row13_col8{\n",
       "            background-color:  #c8171c;\n",
       "            color:  #f1f1f1;\n",
       "        }#T_131e4_row2_col13,#T_131e4_row9_col12{\n",
       "            background-color:  #d42121;\n",
       "            color:  #f1f1f1;\n",
       "        }#T_131e4_row3_col0{\n",
       "            background-color:  #f14432;\n",
       "            color:  #f1f1f1;\n",
       "        }#T_131e4_row3_col1{\n",
       "            background-color:  #ef3c2c;\n",
       "            color:  #f1f1f1;\n",
       "        }#T_131e4_row3_col2{\n",
       "            background-color:  #ab1016;\n",
       "            color:  #f1f1f1;\n",
       "        }#T_131e4_row3_col5,#T_131e4_row9_col4{\n",
       "            background-color:  #aa1016;\n",
       "            color:  #f1f1f1;\n",
       "        }#T_131e4_row3_col6{\n",
       "            background-color:  #fcb79c;\n",
       "            color:  #000000;\n",
       "        }#T_131e4_row3_col8{\n",
       "            background-color:  #ca181d;\n",
       "            color:  #f1f1f1;\n",
       "        }#T_131e4_row3_col9{\n",
       "            background-color:  #fcb398;\n",
       "            color:  #000000;\n",
       "        }#T_131e4_row3_col10{\n",
       "            background-color:  #c2161b;\n",
       "            color:  #f1f1f1;\n",
       "        }#T_131e4_row3_col12{\n",
       "            background-color:  #cc191e;\n",
       "            color:  #f1f1f1;\n",
       "        }#T_131e4_row4_col0{\n",
       "            background-color:  #f24734;\n",
       "            color:  #000000;\n",
       "        }#T_131e4_row4_col1,#T_131e4_row12_col13{\n",
       "            background-color:  #f5523a;\n",
       "            color:  #000000;\n",
       "        }#T_131e4_row4_col2,#T_131e4_row9_col13{\n",
       "            background-color:  #e63328;\n",
       "            color:  #f1f1f1;\n",
       "        }#T_131e4_row4_col5{\n",
       "            background-color:  #fedaca;\n",
       "            color:  #000000;\n",
       "        }#T_131e4_row4_col7{\n",
       "            background-color:  #f96245;\n",
       "            color:  #000000;\n",
       "        }#T_131e4_row4_col8,#T_131e4_row6_col13{\n",
       "            background-color:  #e83429;\n",
       "            color:  #f1f1f1;\n",
       "        }#T_131e4_row4_col9{\n",
       "            background-color:  #7e0610;\n",
       "            color:  #f1f1f1;\n",
       "        }#T_131e4_row4_col10{\n",
       "            background-color:  #fdcdb9;\n",
       "            color:  #000000;\n",
       "        }#T_131e4_row4_col11,#T_131e4_row10_col2{\n",
       "            background-color:  #f34a36;\n",
       "            color:  #000000;\n",
       "        }#T_131e4_row4_col12,#T_131e4_row10_col4{\n",
       "            background-color:  #fdd2bf;\n",
       "            color:  #000000;\n",
       "        }#T_131e4_row4_col13{\n",
       "            background-color:  #fc9576;\n",
       "            color:  #000000;\n",
       "        }#T_131e4_row5_col0,#T_131e4_row10_col1{\n",
       "            background-color:  #f96044;\n",
       "            color:  #000000;\n",
       "        }#T_131e4_row5_col1,#T_131e4_row10_col11{\n",
       "            background-color:  #fa6547;\n",
       "            color:  #000000;\n",
       "        }#T_131e4_row5_col2,#T_131e4_row13_col10{\n",
       "            background-color:  #f44d38;\n",
       "            color:  #000000;\n",
       "        }#T_131e4_row5_col4{\n",
       "            background-color:  #fee0d2;\n",
       "            color:  #000000;\n",
       "        }#T_131e4_row5_col7{\n",
       "            background-color:  #fb7a5a;\n",
       "            color:  #000000;\n",
       "        }#T_131e4_row5_col8{\n",
       "            background-color:  #f85f43;\n",
       "            color:  #000000;\n",
       "        }#T_131e4_row5_col9,#T_131e4_row6_col10{\n",
       "            background-color:  #6d010e;\n",
       "            color:  #f1f1f1;\n",
       "        }#T_131e4_row5_col10,#T_131e4_row6_col9,#T_131e4_row9_col6,#T_131e4_row10_col5{\n",
       "            background-color:  #fff3ed;\n",
       "            color:  #000000;\n",
       "        }#T_131e4_row5_col11{\n",
       "            background-color:  #f96346;\n",
       "            color:  #000000;\n",
       "        }#T_131e4_row5_col12{\n",
       "            background-color:  #fcb69b;\n",
       "            color:  #000000;\n",
       "        }#T_131e4_row5_col13{\n",
       "            background-color:  #fc9b7c;\n",
       "            color:  #000000;\n",
       "        }#T_131e4_row6_col0{\n",
       "            background-color:  #fb7252;\n",
       "            color:  #000000;\n",
       "        }#T_131e4_row6_col1{\n",
       "            background-color:  #fb6e4e;\n",
       "            color:  #000000;\n",
       "        }#T_131e4_row6_col2,#T_131e4_row9_col2{\n",
       "            background-color:  #fc8262;\n",
       "            color:  #000000;\n",
       "        }#T_131e4_row6_col3{\n",
       "            background-color:  #fcbfa7;\n",
       "            color:  #000000;\n",
       "        }#T_131e4_row6_col8,#T_131e4_row9_col8{\n",
       "            background-color:  #fb7353;\n",
       "            color:  #000000;\n",
       "        }#T_131e4_row6_col11{\n",
       "            background-color:  #fb7050;\n",
       "            color:  #000000;\n",
       "        }#T_131e4_row6_col12{\n",
       "            background-color:  #d01d1f;\n",
       "            color:  #f1f1f1;\n",
       "        }#T_131e4_row7_col0{\n",
       "            background-color:  #6f020e;\n",
       "            color:  #f1f1f1;\n",
       "        }#T_131e4_row7_col2,#T_131e4_row7_col13,#T_131e4_row8_col3{\n",
       "            background-color:  #7a0510;\n",
       "            color:  #f1f1f1;\n",
       "        }#T_131e4_row7_col3,#T_131e4_row11_col8{\n",
       "            background-color:  #920a13;\n",
       "            color:  #f1f1f1;\n",
       "        }#T_131e4_row7_col4{\n",
       "            background-color:  #ad1117;\n",
       "            color:  #f1f1f1;\n",
       "        }#T_131e4_row7_col5{\n",
       "            background-color:  #b31218;\n",
       "            color:  #f1f1f1;\n",
       "        }#T_131e4_row7_col8{\n",
       "            background-color:  #9d0d14;\n",
       "            color:  #f1f1f1;\n",
       "        }#T_131e4_row7_col10,#T_131e4_row8_col4{\n",
       "            background-color:  #b21218;\n",
       "            color:  #f1f1f1;\n",
       "        }#T_131e4_row8_col0{\n",
       "            background-color:  #f03d2d;\n",
       "            color:  #f1f1f1;\n",
       "        }#T_131e4_row8_col1,#T_131e4_row13_col0{\n",
       "            background-color:  #cf1c1f;\n",
       "            color:  #f1f1f1;\n",
       "        }#T_131e4_row8_col2{\n",
       "            background-color:  #be151a;\n",
       "            color:  #f1f1f1;\n",
       "        }#T_131e4_row8_col6,#T_131e4_row13_col1{\n",
       "            background-color:  #e12d26;\n",
       "            color:  #f1f1f1;\n",
       "        }#T_131e4_row8_col7{\n",
       "            background-color:  #da2723;\n",
       "            color:  #f1f1f1;\n",
       "        }#T_131e4_row8_col9,#T_131e4_row12_col0{\n",
       "            background-color:  #e32f27;\n",
       "            color:  #f1f1f1;\n",
       "        }#T_131e4_row8_col10{\n",
       "            background-color:  #c5171c;\n",
       "            color:  #f1f1f1;\n",
       "        }#T_131e4_row8_col11,#T_131e4_row13_col9{\n",
       "            background-color:  #6b010e;\n",
       "            color:  #f1f1f1;\n",
       "        }#T_131e4_row8_col13{\n",
       "            background-color:  #d72322;\n",
       "            color:  #f1f1f1;\n",
       "        }#T_131e4_row9_col0{\n",
       "            background-color:  #fb7151;\n",
       "            color:  #000000;\n",
       "        }#T_131e4_row9_col1{\n",
       "            background-color:  #fa6849;\n",
       "            color:  #000000;\n",
       "        }#T_131e4_row9_col3{\n",
       "            background-color:  #fcbca2;\n",
       "            color:  #000000;\n",
       "        }#T_131e4_row9_col7,#T_131e4_row13_col5{\n",
       "            background-color:  #f75c41;\n",
       "            color:  #000000;\n",
       "        }#T_131e4_row9_col10,#T_131e4_row10_col9{\n",
       "            background-color:  #8a0812;\n",
       "            color:  #f1f1f1;\n",
       "        }#T_131e4_row9_col11{\n",
       "            background-color:  #fb6d4d;\n",
       "            color:  #000000;\n",
       "        }#T_131e4_row10_col3,#T_131e4_row11_col0,#T_131e4_row11_col1{\n",
       "            background-color:  #d92523;\n",
       "            color:  #f1f1f1;\n",
       "        }#T_131e4_row10_col7{\n",
       "            background-color:  #fb7757;\n",
       "            color:  #000000;\n",
       "        }#T_131e4_row10_col8{\n",
       "            background-color:  #f75b40;\n",
       "            color:  #000000;\n",
       "        }#T_131e4_row10_col12{\n",
       "            background-color:  #fcaa8d;\n",
       "            color:  #000000;\n",
       "        }#T_131e4_row10_col13{\n",
       "            background-color:  #fc9070;\n",
       "            color:  #000000;\n",
       "        }#T_131e4_row11_col4,#T_131e4_row11_col5{\n",
       "            background-color:  #dd2a25;\n",
       "            color:  #f1f1f1;\n",
       "        }#T_131e4_row11_col6,#T_131e4_row13_col12{\n",
       "            background-color:  #ec382b;\n",
       "            color:  #f1f1f1;\n",
       "        }#T_131e4_row11_col7,#T_131e4_row11_col9{\n",
       "            background-color:  #eb372a;\n",
       "            color:  #f1f1f1;\n",
       "        }#T_131e4_row11_col10{\n",
       "            background-color:  #e22e27;\n",
       "            color:  #f1f1f1;\n",
       "        }#T_131e4_row11_col12{\n",
       "            background-color:  #f6563d;\n",
       "            color:  #000000;\n",
       "        }#T_131e4_row11_col13{\n",
       "            background-color:  #de2b25;\n",
       "            color:  #f1f1f1;\n",
       "        }#T_131e4_row12_col1{\n",
       "            background-color:  #e02c26;\n",
       "            color:  #f1f1f1;\n",
       "        }#T_131e4_row12_col4{\n",
       "            background-color:  #fdc6b0;\n",
       "            color:  #000000;\n",
       "        }#T_131e4_row12_col5{\n",
       "            background-color:  #fc9474;\n",
       "            color:  #000000;\n",
       "        }#T_131e4_row12_col7{\n",
       "            background-color:  #e53228;\n",
       "            color:  #f1f1f1;\n",
       "        }#T_131e4_row12_col10{\n",
       "            background-color:  #fc8767;\n",
       "            color:  #000000;\n",
       "        }#T_131e4_row12_col11{\n",
       "            background-color:  #f44f39;\n",
       "            color:  #000000;\n",
       "        }#T_131e4_row13_col2{\n",
       "            background-color:  #b01217;\n",
       "            color:  #f1f1f1;\n",
       "        }#T_131e4_row13_col3{\n",
       "            background-color:  #800610;\n",
       "            color:  #f1f1f1;\n",
       "        }#T_131e4_row13_col4{\n",
       "            background-color:  #fb694a;\n",
       "            color:  #000000;\n",
       "        }#T_131e4_row13_col7{\n",
       "            background-color:  #b91419;\n",
       "            color:  #f1f1f1;\n",
       "        }</style><table id=\"T_131e4_\" ><thead>    <tr>        <th class=\"blank level0\" ></th>        <th class=\"col_heading level0 col0\" >Total N Randomized (Study level)</th>        <th class=\"col_heading level0 col1\" >Attrition Overall Greater Than 20%</th>        <th class=\"col_heading level0 col2\" >Active Duty Military (Study level)</th>        <th class=\"col_heading level0 col3\" >Veteran Percent (Study level)</th>        <th class=\"col_heading level0 col4\" >Community Percent (Study level)</th>        <th class=\"col_heading level0 col5\" >Female Percent (Study level)</th>        <th class=\"col_heading level0 col6\" >Male Percent (Study level)</th>        <th class=\"col_heading level0 col7\" >PTSDPubs ID</th>        <th class=\"col_heading level0 col8\" >Year Added to PTSD-Repository</th>        <th class=\"col_heading level0 col9\" >Male_recode</th>        <th class=\"col_heading level0 col10\" >Female_recode</th>        <th class=\"col_heading level0 col11\" >Veteran_recode</th>        <th class=\"col_heading level0 col12\" >Military_recode</th>        <th class=\"col_heading level0 col13\" >trauma_recode</th>    </tr></thead><tbody>\n",
       "                <tr>\n",
       "                        <th id=\"T_131e4_level0_row0\" class=\"row_heading level0 row0\" >Total N Randomized (Study level)</th>\n",
       "                        <td id=\"T_131e4_row0_col0\" class=\"data row0 col0\" >1.0</td>\n",
       "                        <td id=\"T_131e4_row0_col1\" class=\"data row0 col1\" >0.022</td>\n",
       "                        <td id=\"T_131e4_row0_col2\" class=\"data row0 col2\" >0.11</td>\n",
       "                        <td id=\"T_131e4_row0_col3\" class=\"data row0 col3\" >-0.063</td>\n",
       "                        <td id=\"T_131e4_row0_col4\" class=\"data row0 col4\" >-0.052</td>\n",
       "                        <td id=\"T_131e4_row0_col5\" class=\"data row0 col5\" >-0.049</td>\n",
       "                        <td id=\"T_131e4_row0_col6\" class=\"data row0 col6\" >0.049</td>\n",
       "                        <td id=\"T_131e4_row0_col7\" class=\"data row0 col7\" >-0.077</td>\n",
       "                        <td id=\"T_131e4_row0_col8\" class=\"data row0 col8\" >0.14</td>\n",
       "                        <td id=\"T_131e4_row0_col9\" class=\"data row0 col9\" >0.058</td>\n",
       "                        <td id=\"T_131e4_row0_col10\" class=\"data row0 col10\" >-0.085</td>\n",
       "                        <td id=\"T_131e4_row0_col11\" class=\"data row0 col11\" >-0.059</td>\n",
       "                        <td id=\"T_131e4_row0_col12\" class=\"data row0 col12\" >0.028</td>\n",
       "                        <td id=\"T_131e4_row0_col13\" class=\"data row0 col13\" >0.042</td>\n",
       "            </tr>\n",
       "            <tr>\n",
       "                        <th id=\"T_131e4_level0_row1\" class=\"row_heading level0 row1\" >Attrition Overall Greater Than 20%</th>\n",
       "                        <td id=\"T_131e4_row1_col0\" class=\"data row1 col0\" >0.022</td>\n",
       "                        <td id=\"T_131e4_row1_col1\" class=\"data row1 col1\" >1.0</td>\n",
       "                        <td id=\"T_131e4_row1_col2\" class=\"data row1 col2\" >0.11</td>\n",
       "                        <td id=\"T_131e4_row1_col3\" class=\"data row1 col3\" >-0.11</td>\n",
       "                        <td id=\"T_131e4_row1_col4\" class=\"data row1 col4\" >-0.0018</td>\n",
       "                        <td id=\"T_131e4_row1_col5\" class=\"data row1 col5\" >-0.024</td>\n",
       "                        <td id=\"T_131e4_row1_col6\" class=\"data row1 col6\" >0.025</td>\n",
       "                        <td id=\"T_131e4_row1_col7\" class=\"data row1 col7\" >0.022</td>\n",
       "                        <td id=\"T_131e4_row1_col8\" class=\"data row1 col8\" >-0.03</td>\n",
       "                        <td id=\"T_131e4_row1_col9\" class=\"data row1 col9\" >0.00092</td>\n",
       "                        <td id=\"T_131e4_row1_col10\" class=\"data row1 col10\" >-0.036</td>\n",
       "                        <td id=\"T_131e4_row1_col11\" class=\"data row1 col11\" >-0.06</td>\n",
       "                        <td id=\"T_131e4_row1_col12\" class=\"data row1 col12\" >0.0099</td>\n",
       "                        <td id=\"T_131e4_row1_col13\" class=\"data row1 col13\" >0.12</td>\n",
       "            </tr>\n",
       "            <tr>\n",
       "                        <th id=\"T_131e4_level0_row2\" class=\"row_heading level0 row2\" >Active Duty Military (Study level)</th>\n",
       "                        <td id=\"T_131e4_row2_col0\" class=\"data row2 col0\" >0.11</td>\n",
       "                        <td id=\"T_131e4_row2_col1\" class=\"data row2 col1\" >0.11</td>\n",
       "                        <td id=\"T_131e4_row2_col2\" class=\"data row2 col2\" >1.0</td>\n",
       "                        <td id=\"T_131e4_row2_col3\" class=\"data row2 col3\" >-0.52</td>\n",
       "                        <td id=\"T_131e4_row2_col4\" class=\"data row2 col4\" >-0.16</td>\n",
       "                        <td id=\"T_131e4_row2_col5\" class=\"data row2 col5\" >-0.15</td>\n",
       "                        <td id=\"T_131e4_row2_col6\" class=\"data row2 col6\" >0.15</td>\n",
       "                        <td id=\"T_131e4_row2_col7\" class=\"data row2 col7\" >-0.051</td>\n",
       "                        <td id=\"T_131e4_row2_col8\" class=\"data row2 col8\" >-0.1</td>\n",
       "                        <td id=\"T_131e4_row2_col9\" class=\"data row2 col9\" >0.17</td>\n",
       "                        <td id=\"T_131e4_row2_col10\" class=\"data row2 col10\" >-0.15</td>\n",
       "                        <td id=\"T_131e4_row2_col11\" class=\"data row2 col11\" >-0.51</td>\n",
       "                        <td id=\"T_131e4_row2_col12\" class=\"data row2 col12\" >1.0</td>\n",
       "                        <td id=\"T_131e4_row2_col13\" class=\"data row2 col13\" >-0.09</td>\n",
       "            </tr>\n",
       "            <tr>\n",
       "                        <th id=\"T_131e4_level0_row3\" class=\"row_heading level0 row3\" >Veteran Percent (Study level)</th>\n",
       "                        <td id=\"T_131e4_row3_col0\" class=\"data row3 col0\" >-0.063</td>\n",
       "                        <td id=\"T_131e4_row3_col1\" class=\"data row3 col1\" >-0.11</td>\n",
       "                        <td id=\"T_131e4_row3_col2\" class=\"data row3 col2\" >-0.52</td>\n",
       "                        <td id=\"T_131e4_row3_col3\" class=\"data row3 col3\" >1.0</td>\n",
       "                        <td id=\"T_131e4_row3_col4\" class=\"data row3 col4\" >-0.78</td>\n",
       "                        <td id=\"T_131e4_row3_col5\" class=\"data row3 col5\" >-0.53</td>\n",
       "                        <td id=\"T_131e4_row3_col6\" class=\"data row3 col6\" >0.53</td>\n",
       "                        <td id=\"T_131e4_row3_col7\" class=\"data row3 col7\" >-0.0003</td>\n",
       "                        <td id=\"T_131e4_row3_col8\" class=\"data row3 col8\" >-0.34</td>\n",
       "                        <td id=\"T_131e4_row3_col9\" class=\"data row3 col9\" >0.51</td>\n",
       "                        <td id=\"T_131e4_row3_col10\" class=\"data row3 col10\" >-0.38</td>\n",
       "                        <td id=\"T_131e4_row3_col11\" class=\"data row3 col11\" >1.0</td>\n",
       "                        <td id=\"T_131e4_row3_col12\" class=\"data row3 col12\" >-0.32</td>\n",
       "                        <td id=\"T_131e4_row3_col13\" class=\"data row3 col13\" >-0.23</td>\n",
       "            </tr>\n",
       "            <tr>\n",
       "                        <th id=\"T_131e4_level0_row4\" class=\"row_heading level0 row4\" >Community Percent (Study level)</th>\n",
       "                        <td id=\"T_131e4_row4_col0\" class=\"data row4 col0\" >-0.052</td>\n",
       "                        <td id=\"T_131e4_row4_col1\" class=\"data row4 col1\" >-0.0018</td>\n",
       "                        <td id=\"T_131e4_row4_col2\" class=\"data row4 col2\" >-0.16</td>\n",
       "                        <td id=\"T_131e4_row4_col3\" class=\"data row4 col3\" >-0.78</td>\n",
       "                        <td id=\"T_131e4_row4_col4\" class=\"data row4 col4\" >1.0</td>\n",
       "                        <td id=\"T_131e4_row4_col5\" class=\"data row4 col5\" >0.74</td>\n",
       "                        <td id=\"T_131e4_row4_col6\" class=\"data row4 col6\" >-0.74</td>\n",
       "                        <td id=\"T_131e4_row4_col7\" class=\"data row4 col7\" >0.074</td>\n",
       "                        <td id=\"T_131e4_row4_col8\" class=\"data row4 col8\" >-0.16</td>\n",
       "                        <td id=\"T_131e4_row4_col9\" class=\"data row4 col9\" >-0.69</td>\n",
       "                        <td id=\"T_131e4_row4_col10\" class=\"data row4 col10\" >0.66</td>\n",
       "                        <td id=\"T_131e4_row4_col11\" class=\"data row4 col11\" >-0.038</td>\n",
       "                        <td id=\"T_131e4_row4_col12\" class=\"data row4 col12\" >0.69</td>\n",
       "                        <td id=\"T_131e4_row4_col13\" class=\"data row4 col13\" >0.35</td>\n",
       "            </tr>\n",
       "            <tr>\n",
       "                        <th id=\"T_131e4_level0_row5\" class=\"row_heading level0 row5\" >Female Percent (Study level)</th>\n",
       "                        <td id=\"T_131e4_row5_col0\" class=\"data row5 col0\" >-0.049</td>\n",
       "                        <td id=\"T_131e4_row5_col1\" class=\"data row5 col1\" >-0.024</td>\n",
       "                        <td id=\"T_131e4_row5_col2\" class=\"data row5 col2\" >-0.15</td>\n",
       "                        <td id=\"T_131e4_row5_col3\" class=\"data row5 col3\" >-0.53</td>\n",
       "                        <td id=\"T_131e4_row5_col4\" class=\"data row5 col4\" >0.74</td>\n",
       "                        <td id=\"T_131e4_row5_col5\" class=\"data row5 col5\" >1.0</td>\n",
       "                        <td id=\"T_131e4_row5_col6\" class=\"data row5 col6\" >-1.0</td>\n",
       "                        <td id=\"T_131e4_row5_col7\" class=\"data row5 col7\" >0.095</td>\n",
       "                        <td id=\"T_131e4_row5_col8\" class=\"data row5 col8\" >-0.058</td>\n",
       "                        <td id=\"T_131e4_row5_col9\" class=\"data row5 col9\" >-0.97</td>\n",
       "                        <td id=\"T_131e4_row5_col10\" class=\"data row5 col10\" >0.97</td>\n",
       "                        <td id=\"T_131e4_row5_col11\" class=\"data row5 col11\" >-0.036</td>\n",
       "                        <td id=\"T_131e4_row5_col12\" class=\"data row5 col12\" >0.46</td>\n",
       "                        <td id=\"T_131e4_row5_col13\" class=\"data row5 col13\" >0.3</td>\n",
       "            </tr>\n",
       "            <tr>\n",
       "                        <th id=\"T_131e4_level0_row6\" class=\"row_heading level0 row6\" >Male Percent (Study level)</th>\n",
       "                        <td id=\"T_131e4_row6_col0\" class=\"data row6 col0\" >0.049</td>\n",
       "                        <td id=\"T_131e4_row6_col1\" class=\"data row6 col1\" >0.025</td>\n",
       "                        <td id=\"T_131e4_row6_col2\" class=\"data row6 col2\" >0.15</td>\n",
       "                        <td id=\"T_131e4_row6_col3\" class=\"data row6 col3\" >0.53</td>\n",
       "                        <td id=\"T_131e4_row6_col4\" class=\"data row6 col4\" >-0.74</td>\n",
       "                        <td id=\"T_131e4_row6_col5\" class=\"data row6 col5\" >-1.0</td>\n",
       "                        <td id=\"T_131e4_row6_col6\" class=\"data row6 col6\" >1.0</td>\n",
       "                        <td id=\"T_131e4_row6_col7\" class=\"data row6 col7\" >-0.095</td>\n",
       "                        <td id=\"T_131e4_row6_col8\" class=\"data row6 col8\" >0.059</td>\n",
       "                        <td id=\"T_131e4_row6_col9\" class=\"data row6 col9\" >0.97</td>\n",
       "                        <td id=\"T_131e4_row6_col10\" class=\"data row6 col10\" >-0.97</td>\n",
       "                        <td id=\"T_131e4_row6_col11\" class=\"data row6 col11\" >0.036</td>\n",
       "                        <td id=\"T_131e4_row6_col12\" class=\"data row6 col12\" >-0.46</td>\n",
       "                        <td id=\"T_131e4_row6_col13\" class=\"data row6 col13\" >-0.3</td>\n",
       "            </tr>\n",
       "            <tr>\n",
       "                        <th id=\"T_131e4_level0_row7\" class=\"row_heading level0 row7\" >PTSDPubs ID</th>\n",
       "                        <td id=\"T_131e4_row7_col0\" class=\"data row7 col0\" >-0.077</td>\n",
       "                        <td id=\"T_131e4_row7_col1\" class=\"data row7 col1\" >0.022</td>\n",
       "                        <td id=\"T_131e4_row7_col2\" class=\"data row7 col2\" >-0.051</td>\n",
       "                        <td id=\"T_131e4_row7_col3\" class=\"data row7 col3\" >-0.0003</td>\n",
       "                        <td id=\"T_131e4_row7_col4\" class=\"data row7 col4\" >0.074</td>\n",
       "                        <td id=\"T_131e4_row7_col5\" class=\"data row7 col5\" >0.095</td>\n",
       "                        <td id=\"T_131e4_row7_col6\" class=\"data row7 col6\" >-0.095</td>\n",
       "                        <td id=\"T_131e4_row7_col7\" class=\"data row7 col7\" >1.0</td>\n",
       "                        <td id=\"T_131e4_row7_col8\" class=\"data row7 col8\" >0.027</td>\n",
       "                        <td id=\"T_131e4_row7_col9\" class=\"data row7 col9\" >-0.059</td>\n",
       "                        <td id=\"T_131e4_row7_col10\" class=\"data row7 col10\" >0.091</td>\n",
       "                        <td id=\"T_131e4_row7_col11\" class=\"data row7 col11\" >0.03</td>\n",
       "                        <td id=\"T_131e4_row7_col12\" class=\"data row7 col12\" >0.04</td>\n",
       "                        <td id=\"T_131e4_row7_col13\" class=\"data row7 col13\" >-0.049</td>\n",
       "            </tr>\n",
       "            <tr>\n",
       "                        <th id=\"T_131e4_level0_row8\" class=\"row_heading level0 row8\" >Year Added to PTSD-Repository</th>\n",
       "                        <td id=\"T_131e4_row8_col0\" class=\"data row8 col0\" >0.14</td>\n",
       "                        <td id=\"T_131e4_row8_col1\" class=\"data row8 col1\" >-0.03</td>\n",
       "                        <td id=\"T_131e4_row8_col2\" class=\"data row8 col2\" >-0.1</td>\n",
       "                        <td id=\"T_131e4_row8_col3\" class=\"data row8 col3\" >-0.34</td>\n",
       "                        <td id=\"T_131e4_row8_col4\" class=\"data row8 col4\" >-0.16</td>\n",
       "                        <td id=\"T_131e4_row8_col5\" class=\"data row8 col5\" >-0.058</td>\n",
       "                        <td id=\"T_131e4_row8_col6\" class=\"data row8 col6\" >0.059</td>\n",
       "                        <td id=\"T_131e4_row8_col7\" class=\"data row8 col7\" >0.027</td>\n",
       "                        <td id=\"T_131e4_row8_col8\" class=\"data row8 col8\" >1.0</td>\n",
       "                        <td id=\"T_131e4_row8_col9\" class=\"data row8 col9\" >0.07</td>\n",
       "                        <td id=\"T_131e4_row8_col10\" class=\"data row8 col10\" >-0.07</td>\n",
       "                        <td id=\"T_131e4_row8_col11\" class=\"data row8 col11\" >-0.38</td>\n",
       "                        <td id=\"T_131e4_row8_col12\" class=\"data row8 col12\" >-0.4</td>\n",
       "                        <td id=\"T_131e4_row8_col13\" class=\"data row8 col13\" >0.012</td>\n",
       "            </tr>\n",
       "            <tr>\n",
       "                        <th id=\"T_131e4_level0_row9\" class=\"row_heading level0 row9\" >Male_recode</th>\n",
       "                        <td id=\"T_131e4_row9_col0\" class=\"data row9 col0\" >0.058</td>\n",
       "                        <td id=\"T_131e4_row9_col1\" class=\"data row9 col1\" >0.00092</td>\n",
       "                        <td id=\"T_131e4_row9_col2\" class=\"data row9 col2\" >0.17</td>\n",
       "                        <td id=\"T_131e4_row9_col3\" class=\"data row9 col3\" >0.51</td>\n",
       "                        <td id=\"T_131e4_row9_col4\" class=\"data row9 col4\" >-0.69</td>\n",
       "                        <td id=\"T_131e4_row9_col5\" class=\"data row9 col5\" >-0.97</td>\n",
       "                        <td id=\"T_131e4_row9_col6\" class=\"data row9 col6\" >0.97</td>\n",
       "                        <td id=\"T_131e4_row9_col7\" class=\"data row9 col7\" >-0.059</td>\n",
       "                        <td id=\"T_131e4_row9_col8\" class=\"data row9 col8\" >0.07</td>\n",
       "                        <td id=\"T_131e4_row9_col9\" class=\"data row9 col9\" >1.0</td>\n",
       "                        <td id=\"T_131e4_row9_col10\" class=\"data row9 col10\" >-0.83</td>\n",
       "                        <td id=\"T_131e4_row9_col11\" class=\"data row9 col11\" >0.034</td>\n",
       "                        <td id=\"T_131e4_row9_col12\" class=\"data row9 col12\" >-0.42</td>\n",
       "                        <td id=\"T_131e4_row9_col13\" class=\"data row9 col13\" >-0.29</td>\n",
       "            </tr>\n",
       "            <tr>\n",
       "                        <th id=\"T_131e4_level0_row10\" class=\"row_heading level0 row10\" >Female_recode</th>\n",
       "                        <td id=\"T_131e4_row10_col0\" class=\"data row10 col0\" >-0.085</td>\n",
       "                        <td id=\"T_131e4_row10_col1\" class=\"data row10 col1\" >-0.036</td>\n",
       "                        <td id=\"T_131e4_row10_col2\" class=\"data row10 col2\" >-0.15</td>\n",
       "                        <td id=\"T_131e4_row10_col3\" class=\"data row10 col3\" >-0.38</td>\n",
       "                        <td id=\"T_131e4_row10_col4\" class=\"data row10 col4\" >0.66</td>\n",
       "                        <td id=\"T_131e4_row10_col5\" class=\"data row10 col5\" >0.97</td>\n",
       "                        <td id=\"T_131e4_row10_col6\" class=\"data row10 col6\" >-0.97</td>\n",
       "                        <td id=\"T_131e4_row10_col7\" class=\"data row10 col7\" >0.091</td>\n",
       "                        <td id=\"T_131e4_row10_col8\" class=\"data row10 col8\" >-0.07</td>\n",
       "                        <td id=\"T_131e4_row10_col9\" class=\"data row10 col9\" >-0.83</td>\n",
       "                        <td id=\"T_131e4_row10_col10\" class=\"data row10 col10\" >1.0</td>\n",
       "                        <td id=\"T_131e4_row10_col11\" class=\"data row10 col11\" >-0.013</td>\n",
       "                        <td id=\"T_131e4_row10_col12\" class=\"data row10 col12\" >0.4</td>\n",
       "                        <td id=\"T_131e4_row10_col13\" class=\"data row10 col13\" >0.25</td>\n",
       "            </tr>\n",
       "            <tr>\n",
       "                        <th id=\"T_131e4_level0_row11\" class=\"row_heading level0 row11\" >Veteran_recode</th>\n",
       "                        <td id=\"T_131e4_row11_col0\" class=\"data row11 col0\" >-0.059</td>\n",
       "                        <td id=\"T_131e4_row11_col1\" class=\"data row11 col1\" >-0.06</td>\n",
       "                        <td id=\"T_131e4_row11_col2\" class=\"data row11 col2\" >-0.51</td>\n",
       "                        <td id=\"T_131e4_row11_col3\" class=\"data row11 col3\" >1.0</td>\n",
       "                        <td id=\"T_131e4_row11_col4\" class=\"data row11 col4\" >-0.038</td>\n",
       "                        <td id=\"T_131e4_row11_col5\" class=\"data row11 col5\" >-0.036</td>\n",
       "                        <td id=\"T_131e4_row11_col6\" class=\"data row11 col6\" >0.036</td>\n",
       "                        <td id=\"T_131e4_row11_col7\" class=\"data row11 col7\" >0.03</td>\n",
       "                        <td id=\"T_131e4_row11_col8\" class=\"data row11 col8\" >-0.38</td>\n",
       "                        <td id=\"T_131e4_row11_col9\" class=\"data row11 col9\" >0.034</td>\n",
       "                        <td id=\"T_131e4_row11_col10\" class=\"data row11 col10\" >-0.013</td>\n",
       "                        <td id=\"T_131e4_row11_col11\" class=\"data row11 col11\" >1.0</td>\n",
       "                        <td id=\"T_131e4_row11_col12\" class=\"data row11 col12\" >0.16</td>\n",
       "                        <td id=\"T_131e4_row11_col13\" class=\"data row11 col13\" >-0.032</td>\n",
       "            </tr>\n",
       "            <tr>\n",
       "                        <th id=\"T_131e4_level0_row12\" class=\"row_heading level0 row12\" >Military_recode</th>\n",
       "                        <td id=\"T_131e4_row12_col0\" class=\"data row12 col0\" >0.028</td>\n",
       "                        <td id=\"T_131e4_row12_col1\" class=\"data row12 col1\" >0.0099</td>\n",
       "                        <td id=\"T_131e4_row12_col2\" class=\"data row12 col2\" >1.0</td>\n",
       "                        <td id=\"T_131e4_row12_col3\" class=\"data row12 col3\" >-0.32</td>\n",
       "                        <td id=\"T_131e4_row12_col4\" class=\"data row12 col4\" >0.69</td>\n",
       "                        <td id=\"T_131e4_row12_col5\" class=\"data row12 col5\" >0.46</td>\n",
       "                        <td id=\"T_131e4_row12_col6\" class=\"data row12 col6\" >-0.46</td>\n",
       "                        <td id=\"T_131e4_row12_col7\" class=\"data row12 col7\" >0.04</td>\n",
       "                        <td id=\"T_131e4_row12_col8\" class=\"data row12 col8\" >-0.4</td>\n",
       "                        <td id=\"T_131e4_row12_col9\" class=\"data row12 col9\" >-0.42</td>\n",
       "                        <td id=\"T_131e4_row12_col10\" class=\"data row12 col10\" >0.4</td>\n",
       "                        <td id=\"T_131e4_row12_col11\" class=\"data row12 col11\" >0.16</td>\n",
       "                        <td id=\"T_131e4_row12_col12\" class=\"data row12 col12\" >1.0</td>\n",
       "                        <td id=\"T_131e4_row12_col13\" class=\"data row12 col13\" >0.18</td>\n",
       "            </tr>\n",
       "            <tr>\n",
       "                        <th id=\"T_131e4_level0_row13\" class=\"row_heading level0 row13\" >trauma_recode</th>\n",
       "                        <td id=\"T_131e4_row13_col0\" class=\"data row13 col0\" >0.042</td>\n",
       "                        <td id=\"T_131e4_row13_col1\" class=\"data row13 col1\" >0.12</td>\n",
       "                        <td id=\"T_131e4_row13_col2\" class=\"data row13 col2\" >-0.09</td>\n",
       "                        <td id=\"T_131e4_row13_col3\" class=\"data row13 col3\" >-0.23</td>\n",
       "                        <td id=\"T_131e4_row13_col4\" class=\"data row13 col4\" >0.35</td>\n",
       "                        <td id=\"T_131e4_row13_col5\" class=\"data row13 col5\" >0.3</td>\n",
       "                        <td id=\"T_131e4_row13_col6\" class=\"data row13 col6\" >-0.3</td>\n",
       "                        <td id=\"T_131e4_row13_col7\" class=\"data row13 col7\" >-0.049</td>\n",
       "                        <td id=\"T_131e4_row13_col8\" class=\"data row13 col8\" >0.012</td>\n",
       "                        <td id=\"T_131e4_row13_col9\" class=\"data row13 col9\" >-0.29</td>\n",
       "                        <td id=\"T_131e4_row13_col10\" class=\"data row13 col10\" >0.25</td>\n",
       "                        <td id=\"T_131e4_row13_col11\" class=\"data row13 col11\" >-0.032</td>\n",
       "                        <td id=\"T_131e4_row13_col12\" class=\"data row13 col12\" >0.18</td>\n",
       "                        <td id=\"T_131e4_row13_col13\" class=\"data row13 col13\" >1.0</td>\n",
       "            </tr>\n",
       "    </tbody></table>"
      ],
      "text/plain": [
       "<pandas.io.formats.style.Styler at 0x25060319880>"
      ]
     },
     "execution_count": 41,
     "metadata": {},
     "output_type": "execute_result"
    }
   ],
   "source": [
    "bias.corr(method='pearson').style.format(\"{:.2}\").background_gradient(cmap=plt.get_cmap('Reds_r'), axis=1)"
   ]
  },
  {
   "cell_type": "code",
   "execution_count": 42,
   "id": "6a6e52f0",
   "metadata": {
    "scrolled": false
   },
   "outputs": [
    {
     "name": "stdout",
     "output_type": "stream",
     "text": [
      "                                    Total N Randomized (Study level)  \\\n",
      "Total N Randomized (Study level)                            1.000000   \n",
      "Attrition Overall Greater Than 20%                          0.022035   \n",
      "Active Duty Military (Study level)                          0.107754   \n",
      "Veteran Percent (Study level)                              -0.063362   \n",
      "Community Percent (Study level)                            -0.051990   \n",
      "Female Percent (Study level)                               -0.048866   \n",
      "Male Percent (Study level)                                  0.049362   \n",
      "PTSDPubs ID                                                -0.076728   \n",
      "Year Added to PTSD-Repository                               0.136507   \n",
      "Male_recode                                                 0.057996   \n",
      "Female_recode                                              -0.084654   \n",
      "Veteran_recode                                             -0.058840   \n",
      "Military_recode                                             0.028475   \n",
      "trauma_recode                                               0.041963   \n",
      "\n",
      "                                    Attrition Overall Greater Than 20%  \\\n",
      "Total N Randomized (Study level)                              0.022035   \n",
      "Attrition Overall Greater Than 20%                            1.000000   \n",
      "Active Duty Military (Study level)                            0.110591   \n",
      "Veteran Percent (Study level)                                -0.107586   \n",
      "Community Percent (Study level)                              -0.001833   \n",
      "Female Percent (Study level)                                 -0.023577   \n",
      "Male Percent (Study level)                                    0.025127   \n",
      "PTSDPubs ID                                                   0.022371   \n",
      "Year Added to PTSD-Repository                                -0.030026   \n",
      "Male_recode                                                   0.000918   \n",
      "Female_recode                                                -0.035815   \n",
      "Veteran_recode                                               -0.059599   \n",
      "Military_recode                                               0.009889   \n",
      "trauma_recode                                                 0.121383   \n",
      "\n",
      "                                    Active Duty Military (Study level)  \\\n",
      "Total N Randomized (Study level)                              0.107754   \n",
      "Attrition Overall Greater Than 20%                            0.110591   \n",
      "Active Duty Military (Study level)                            1.000000   \n",
      "Veteran Percent (Study level)                                -0.517866   \n",
      "Community Percent (Study level)                              -0.160487   \n",
      "Female Percent (Study level)                                 -0.149570   \n",
      "Male Percent (Study level)                                    0.149570   \n",
      "PTSDPubs ID                                                  -0.051316   \n",
      "Year Added to PTSD-Repository                                -0.104083   \n",
      "Male_recode                                                   0.166602   \n",
      "Female_recode                                                -0.151481   \n",
      "Veteran_recode                                               -0.513619   \n",
      "Military_recode                                               0.998017   \n",
      "trauma_recode                                                -0.089719   \n",
      "\n",
      "                                    Veteran Percent (Study level)  \\\n",
      "Total N Randomized (Study level)                        -0.063362   \n",
      "Attrition Overall Greater Than 20%                      -0.107586   \n",
      "Active Duty Military (Study level)                      -0.517866   \n",
      "Veteran Percent (Study level)                            1.000000   \n",
      "Community Percent (Study level)                         -0.778676   \n",
      "Female Percent (Study level)                            -0.528156   \n",
      "Male Percent (Study level)                               0.528107   \n",
      "PTSDPubs ID                                             -0.000305   \n",
      "Year Added to PTSD-Repository                           -0.337965   \n",
      "Male_recode                                              0.509116   \n",
      "Female_recode                                           -0.383693   \n",
      "Veteran_recode                                           0.995244   \n",
      "Military_recode                                         -0.321138   \n",
      "trauma_recode                                           -0.230413   \n",
      "\n",
      "                                    Community Percent (Study level)  \\\n",
      "Total N Randomized (Study level)                          -0.051990   \n",
      "Attrition Overall Greater Than 20%                        -0.001833   \n",
      "Active Duty Military (Study level)                        -0.160487   \n",
      "Veteran Percent (Study level)                             -0.778676   \n",
      "Community Percent (Study level)                            1.000000   \n",
      "Female Percent (Study level)                               0.742304   \n",
      "Male Percent (Study level)                                -0.741875   \n",
      "PTSDPubs ID                                                0.073724   \n",
      "Year Added to PTSD-Repository                             -0.158088   \n",
      "Male_recode                                               -0.691496   \n",
      "Female_recode                                              0.660606   \n",
      "Veteran_recode                                            -0.038381   \n",
      "Military_recode                                            0.687484   \n",
      "trauma_recode                                              0.348302   \n",
      "\n",
      "                                    Female Percent (Study level)  \\\n",
      "Total N Randomized (Study level)                       -0.048866   \n",
      "Attrition Overall Greater Than 20%                     -0.023577   \n",
      "Active Duty Military (Study level)                     -0.149570   \n",
      "Veteran Percent (Study level)                          -0.528156   \n",
      "Community Percent (Study level)                         0.742304   \n",
      "Female Percent (Study level)                            1.000000   \n",
      "Male Percent (Study level)                             -0.999892   \n",
      "PTSDPubs ID                                             0.094825   \n",
      "Year Added to PTSD-Repository                          -0.057858   \n",
      "Male_recode                                            -0.974519   \n",
      "Female_recode                                           0.974334   \n",
      "Veteran_recode                                         -0.036120   \n",
      "Military_recode                                         0.462966   \n",
      "trauma_recode                                           0.301763   \n",
      "\n",
      "                                    Male Percent (Study level)  PTSDPubs ID  \\\n",
      "Total N Randomized (Study level)                      0.049362    -0.076728   \n",
      "Attrition Overall Greater Than 20%                    0.025127     0.022371   \n",
      "Active Duty Military (Study level)                    0.149570    -0.051316   \n",
      "Veteran Percent (Study level)                         0.528107    -0.000305   \n",
      "Community Percent (Study level)                      -0.741875     0.073724   \n",
      "Female Percent (Study level)                         -0.999892     0.094825   \n",
      "Male Percent (Study level)                            1.000000    -0.095008   \n",
      "PTSDPubs ID                                          -0.095008     1.000000   \n",
      "Year Added to PTSD-Repository                         0.059354     0.026838   \n",
      "Male_recode                                           0.974454    -0.058756   \n",
      "Female_recode                                        -0.974279     0.090839   \n",
      "Veteran_recode                                        0.036399     0.030358   \n",
      "Military_recode                                      -0.462470     0.039659   \n",
      "trauma_recode                                        -0.301091    -0.049219   \n",
      "\n",
      "                                    Year Added to PTSD-Repository  \\\n",
      "Total N Randomized (Study level)                         0.136507   \n",
      "Attrition Overall Greater Than 20%                      -0.030026   \n",
      "Active Duty Military (Study level)                      -0.104083   \n",
      "Veteran Percent (Study level)                           -0.337965   \n",
      "Community Percent (Study level)                         -0.158088   \n",
      "Female Percent (Study level)                            -0.057858   \n",
      "Male Percent (Study level)                               0.059354   \n",
      "PTSDPubs ID                                              0.026838   \n",
      "Year Added to PTSD-Repository                            1.000000   \n",
      "Male_recode                                              0.069502   \n",
      "Female_recode                                           -0.070310   \n",
      "Veteran_recode                                          -0.381904   \n",
      "Military_recode                                         -0.396715   \n",
      "trauma_recode                                            0.012071   \n",
      "\n",
      "                                    Male_recode  Female_recode  \\\n",
      "Total N Randomized (Study level)       0.057996      -0.084654   \n",
      "Attrition Overall Greater Than 20%     0.000918      -0.035815   \n",
      "Active Duty Military (Study level)     0.166602      -0.151481   \n",
      "Veteran Percent (Study level)          0.509116      -0.383693   \n",
      "Community Percent (Study level)       -0.691496       0.660606   \n",
      "Female Percent (Study level)          -0.974519       0.974334   \n",
      "Male Percent (Study level)             0.974454      -0.974279   \n",
      "PTSDPubs ID                           -0.058756       0.090839   \n",
      "Year Added to PTSD-Repository          0.069502      -0.070310   \n",
      "Male_recode                            1.000000      -0.833182   \n",
      "Female_recode                         -0.833182       1.000000   \n",
      "Veteran_recode                         0.034219      -0.013473   \n",
      "Military_recode                       -0.418216       0.403737   \n",
      "trauma_recode                         -0.289476       0.250411   \n",
      "\n",
      "                                    Veteran_recode  Military_recode  \\\n",
      "Total N Randomized (Study level)         -0.058840         0.028475   \n",
      "Attrition Overall Greater Than 20%       -0.059599         0.009889   \n",
      "Active Duty Military (Study level)       -0.513619         0.998017   \n",
      "Veteran Percent (Study level)             0.995244        -0.321138   \n",
      "Community Percent (Study level)          -0.038381         0.687484   \n",
      "Female Percent (Study level)             -0.036120         0.462966   \n",
      "Male Percent (Study level)                0.036399        -0.462470   \n",
      "PTSDPubs ID                               0.030358         0.039659   \n",
      "Year Added to PTSD-Repository            -0.381904        -0.396715   \n",
      "Male_recode                               0.034219        -0.418216   \n",
      "Female_recode                            -0.013473         0.403737   \n",
      "Veteran_recode                            1.000000         0.163208   \n",
      "Military_recode                           0.163208         1.000000   \n",
      "trauma_recode                            -0.032092         0.175642   \n",
      "\n",
      "                                    trauma_recode  \n",
      "Total N Randomized (Study level)         0.041963  \n",
      "Attrition Overall Greater Than 20%       0.121383  \n",
      "Active Duty Military (Study level)      -0.089719  \n",
      "Veteran Percent (Study level)           -0.230413  \n",
      "Community Percent (Study level)          0.348302  \n",
      "Female Percent (Study level)             0.301763  \n",
      "Male Percent (Study level)              -0.301091  \n",
      "PTSDPubs ID                             -0.049219  \n",
      "Year Added to PTSD-Repository            0.012071  \n",
      "Male_recode                             -0.289476  \n",
      "Female_recode                            0.250411  \n",
      "Veteran_recode                          -0.032092  \n",
      "Military_recode                          0.175642  \n",
      "trauma_recode                            1.000000  \n"
     ]
    }
   ],
   "source": [
    "print (bias.corr())"
   ]
  },
  {
   "cell_type": "markdown",
   "id": "ceb76016",
   "metadata": {},
   "source": [
    "# histogram "
   ]
  },
  {
   "cell_type": "code",
   "execution_count": 43,
   "id": "c7024aa5",
   "metadata": {},
   "outputs": [
    {
     "data": {
      "text/plain": [
       "(array([141.,   0.,   0.,  43.,   0.,   0.,  81.,   0.,   0., 124.]),\n",
       " array([0. , 0.3, 0.6, 0.9, 1.2, 1.5, 1.8, 2.1, 2.4, 2.7, 3. ]),\n",
       " <BarContainer object of 10 artists>)"
      ]
     },
     "execution_count": 43,
     "metadata": {},
     "output_type": "execute_result"
    },
    {
     "data": {
      "image/png": "[encoded data removed]",
      "text/plain": [
       "<Figure size 432x288 with 1 Axes>"
      ]
     },
     "metadata": {
      "needs_background": "light"
     },
     "output_type": "display_data"
    }
   ],
   "source": [
    "bias['Female_recode'].hist()\n",
    "plt.hist(bias['Female_recode'], facecolor='hotpink')\n"
   ]
  },
  {
   "cell_type": "code",
   "execution_count": 44,
   "id": "975fa6ea",
   "metadata": {},
   "outputs": [
    {
     "data": {
      "text/plain": [
       "(array([ 97.,   0.,   0.,  83.,   0.,   0.,  43.,   0.,   0., 166.]),\n",
       " array([0. , 0.3, 0.6, 0.9, 1.2, 1.5, 1.8, 2.1, 2.4, 2.7, 3. ]),\n",
       " <BarContainer object of 10 artists>)"
      ]
     },
     "execution_count": 44,
     "metadata": {},
     "output_type": "execute_result"
    },
    {
     "data": {
      "image/png": "[encoded data removed]",
      "text/plain": [
       "<Figure size 432x288 with 1 Axes>"
      ]
     },
     "metadata": {
      "needs_background": "light"
     },
     "output_type": "display_data"
    }
   ],
   "source": [
    "bias['Male_recode'].hist()\n",
    "plt.hist(bias['Male_recode'], facecolor='hotpink')"
   ]
  },
  {
   "cell_type": "code",
   "execution_count": 45,
   "id": "8e2c6d80",
   "metadata": {
    "scrolled": true
   },
   "outputs": [
    {
     "data": {
      "text/plain": [
       "(array([235.,   0.,   0.,   0.,   0., 132.,   0.,   0.,   0.,  22.]),\n",
       " array([0. , 0.2, 0.4, 0.6, 0.8, 1. , 1.2, 1.4, 1.6, 1.8, 2. ]),\n",
       " <BarContainer object of 10 artists>)"
      ]
     },
     "execution_count": 45,
     "metadata": {},
     "output_type": "execute_result"
    },
    {
     "data": {
      "image/png": "[encoded data removed]",
      "text/plain": [
       "<Figure size 432x288 with 1 Axes>"
      ]
     },
     "metadata": {
      "needs_background": "light"
     },
     "output_type": "display_data"
    }
   ],
   "source": [
    "bias['Risk of Bias Rating'].hist()\n",
    "plt.title('Histogram of risk of Bias rating')\n",
    "plt.hist(bias['Risk of Bias Rating'], facecolor ='hotpink')"
   ]
  },
  {
   "cell_type": "code",
   "execution_count": 46,
   "id": "652cb08d",
   "metadata": {},
   "outputs": [
    {
     "data": {
      "text/plain": [
       "(array([151.,   0.,   0.,   2.,   0.,   0.,   2.,   0.,   0., 234.]),\n",
       " array([0. , 0.3, 0.6, 0.9, 1.2, 1.5, 1.8, 2.1, 2.4, 2.7, 3. ]),\n",
       " <BarContainer object of 10 artists>)"
      ]
     },
     "execution_count": 46,
     "metadata": {},
     "output_type": "execute_result"
    },
    {
     "data": {
      "image/png": "[encoded data removed]",
      "text/plain": [
       "<Figure size 432x288 with 1 Axes>"
      ]
     },
     "metadata": {
      "needs_background": "light"
     },
     "output_type": "display_data"
    }
   ],
   "source": [
    "bias['Military_recode'].hist()\n",
    "plt.hist(bias['Military_recode'], facecolor='hotpink')"
   ]
  },
  {
   "cell_type": "code",
   "execution_count": 47,
   "id": "efe887c4",
   "metadata": {},
   "outputs": [
    {
     "data": {
      "text/plain": [
       "(array([ 46.,   0.,   0.,   7.,   0.,   0.,   4.,   0.,   0., 332.]),\n",
       " array([0. , 0.3, 0.6, 0.9, 1.2, 1.5, 1.8, 2.1, 2.4, 2.7, 3. ]),\n",
       " <BarContainer object of 10 artists>)"
      ]
     },
     "execution_count": 47,
     "metadata": {},
     "output_type": "execute_result"
    },
    {
     "data": {
      "image/png": "[encoded data removed]",
      "text/plain": [
       "<Figure size 432x288 with 1 Axes>"
      ]
     },
     "metadata": {
      "needs_background": "light"
     },
     "output_type": "display_data"
    }
   ],
   "source": [
    "bias['Veteran_recode'].hist()\n",
    "plt.hist(bias['Veteran_recode'], facecolor='hotpink')"
   ]
  },
  {
   "cell_type": "code",
   "execution_count": 48,
   "id": "213f84d4",
   "metadata": {},
   "outputs": [
    {
     "data": {
      "text/plain": [
       "Index(['Study ID', 'Study Class', 'Treatment Focus',\n",
       "       'Total N Randomized (Study level)',\n",
       "       'Selection Bias: Randomization Adequate',\n",
       "       'Selection Bias: Allocation Concealment Adequate',\n",
       "       'Selection Bias: Groups Similar at Baseline',\n",
       "       'Selection Bias: ITT Analysis',\n",
       "       'Performance Bias: Care Providers Masked',\n",
       "       'Performance Bias: Patients Masked',\n",
       "       'Detection Bias: Outcome Assessors Masked',\n",
       "       'Attrition Overall Less Than or Equal to 20%',\n",
       "       'Attrition Overall Greater Than 20%',\n",
       "       'Attrition Differential Less Than or Equal to 15%',\n",
       "       'Attrition Differential Greater Than 15%',\n",
       "       'Additional Quantitative Data Reported',\n",
       "       'Reporting Bias: All Prespecified Outcomes Reported',\n",
       "       'Reporting Bias: Method of Handling Dropouts',\n",
       "       'Reporting Bias: Detail of Other Methods of Handling Dropouts',\n",
       "       'Outcome Measures Equal Valid and Reliable',\n",
       "       'Study Reports Adequate Treatment Fidelity Based on Measurements by Independent Raters',\n",
       "       'Risk of Bias Rating', 'EPC Assessing Risk of Bias',\n",
       "       'Military Status (Study level)', 'Active Duty Military (Study level)',\n",
       "       'Veteran Percent (Study level)', 'Community Percent (Study level)',\n",
       "       'Female Percent (Study level)', 'Female Percent Detail (Study level)',\n",
       "       'Male Percent (Study level)', 'Trauma Type (Study level)',\n",
       "       'Trauma Detail (Study level)', 'Citation', 'PTSDPubs ID',\n",
       "       'Year Added to PTSD-Repository', 'Male_recode', 'Female_recode',\n",
       "       'Veteran_recode', 'Military_recode', 'trauma_recode'],\n",
       "      dtype='object')"
      ]
     },
     "execution_count": 48,
     "metadata": {},
     "output_type": "execute_result"
    }
   ],
   "source": [
    "bias.columns"
   ]
  },
  {
   "cell_type": "markdown",
   "id": "9b0b9453",
   "metadata": {},
   "source": [
    "# ttest"
   ]
  },
  {
   "cell_type": "code",
   "execution_count": 49,
   "id": "b12489fc",
   "metadata": {
    "scrolled": true
   },
   "outputs": [
    {
     "data": {
      "text/plain": [
       "Ttest_1sampResult(statistic=-209.69057588230226, pvalue=0.0)"
      ]
     },
     "execution_count": 49,
     "metadata": {},
     "output_type": "execute_result"
    }
   ],
   "source": [
    "stats.ttest_1samp(bias['Female_recode'], 15)"
   ]
  },
  {
   "cell_type": "code",
   "execution_count": 50,
   "id": "caa54689",
   "metadata": {
    "scrolled": true
   },
   "outputs": [
    {
     "data": {
      "text/plain": [
       "Ttest_1sampResult(statistic=-209.78224634437905, pvalue=0.0)"
      ]
     },
     "execution_count": 50,
     "metadata": {},
     "output_type": "execute_result"
    }
   ],
   "source": [
    "stats.ttest_1samp(bias['Male_recode'], 15)"
   ]
  },
  {
   "cell_type": "code",
   "execution_count": 51,
   "id": "2c571ee8",
   "metadata": {
    "scrolled": true
   },
   "outputs": [
    {
     "data": {
      "text/plain": [
       "Ttest_indResult(statistic=-2.5603289632828967, pvalue=0.010645532321528605)"
      ]
     },
     "execution_count": 51,
     "metadata": {},
     "output_type": "execute_result"
    }
   ],
   "source": [
    "ttest_ind(bias['Female_recode'], bias['Male_recode'])"
   ]
  },
  {
   "cell_type": "markdown",
   "id": "d529121e",
   "metadata": {},
   "source": [
    "# crosstab"
   ]
  },
  {
   "cell_type": "code",
   "execution_count": 52,
   "id": "6e23fde6",
   "metadata": {},
   "outputs": [
    {
     "data": {
      "text/html": [
       "<div>\n",
       "<style scoped>\n",
       "    .dataframe tbody tr th:only-of-type {\n",
       "        vertical-align: middle;\n",
       "    }\n",
       "\n",
       "    .dataframe tbody tr th {\n",
       "        vertical-align: top;\n",
       "    }\n",
       "\n",
       "    .dataframe thead th {\n",
       "        text-align: right;\n",
       "    }\n",
       "</style>\n",
       "<table border=\"1\" class=\"dataframe\">\n",
       "  <thead>\n",
       "    <tr style=\"text-align: right;\">\n",
       "      <th>Male_recode</th>\n",
       "      <th>0</th>\n",
       "      <th>1</th>\n",
       "      <th>2</th>\n",
       "      <th>3</th>\n",
       "    </tr>\n",
       "    <tr>\n",
       "      <th>Female_recode</th>\n",
       "      <th></th>\n",
       "      <th></th>\n",
       "      <th></th>\n",
       "      <th></th>\n",
       "    </tr>\n",
       "  </thead>\n",
       "  <tbody>\n",
       "    <tr>\n",
       "      <th>0</th>\n",
       "      <td>0</td>\n",
       "      <td>0</td>\n",
       "      <td>0</td>\n",
       "      <td>141</td>\n",
       "    </tr>\n",
       "    <tr>\n",
       "      <th>1</th>\n",
       "      <td>0</td>\n",
       "      <td>0</td>\n",
       "      <td>42</td>\n",
       "      <td>1</td>\n",
       "    </tr>\n",
       "    <tr>\n",
       "      <th>2</th>\n",
       "      <td>0</td>\n",
       "      <td>80</td>\n",
       "      <td>1</td>\n",
       "      <td>0</td>\n",
       "    </tr>\n",
       "    <tr>\n",
       "      <th>3</th>\n",
       "      <td>97</td>\n",
       "      <td>3</td>\n",
       "      <td>0</td>\n",
       "      <td>24</td>\n",
       "    </tr>\n",
       "  </tbody>\n",
       "</table>\n",
       "</div>"
      ],
      "text/plain": [
       "Male_recode     0   1   2    3\n",
       "Female_recode                 \n",
       "0               0   0   0  141\n",
       "1               0   0  42    1\n",
       "2               0  80   1    0\n",
       "3              97   3   0   24"
      ]
     },
     "execution_count": 52,
     "metadata": {},
     "output_type": "execute_result"
    }
   ],
   "source": [
    "bias_crosstab1 = pd.crosstab(bias['Female_recode'], bias['Male_recode'])\n",
    "bias_crosstab1"
   ]
  },
  {
   "cell_type": "code",
   "execution_count": 53,
   "id": "7d7b9227",
   "metadata": {},
   "outputs": [
    {
     "data": {
      "text/html": [
       "<div>\n",
       "<style scoped>\n",
       "    .dataframe tbody tr th:only-of-type {\n",
       "        vertical-align: middle;\n",
       "    }\n",
       "\n",
       "    .dataframe tbody tr th {\n",
       "        vertical-align: top;\n",
       "    }\n",
       "\n",
       "    .dataframe thead th {\n",
       "        text-align: right;\n",
       "    }\n",
       "</style>\n",
       "<table border=\"1\" class=\"dataframe\">\n",
       "  <thead>\n",
       "    <tr style=\"text-align: right;\">\n",
       "      <th>Male_recode</th>\n",
       "      <th>0</th>\n",
       "      <th>1</th>\n",
       "      <th>2</th>\n",
       "      <th>3</th>\n",
       "    </tr>\n",
       "    <tr>\n",
       "      <th>Risk of Bias Rating</th>\n",
       "      <th></th>\n",
       "      <th></th>\n",
       "      <th></th>\n",
       "      <th></th>\n",
       "    </tr>\n",
       "  </thead>\n",
       "  <tbody>\n",
       "    <tr>\n",
       "      <th>High</th>\n",
       "      <td>35</td>\n",
       "      <td>21</td>\n",
       "      <td>18</td>\n",
       "      <td>58</td>\n",
       "    </tr>\n",
       "    <tr>\n",
       "      <th>Low</th>\n",
       "      <td>2</td>\n",
       "      <td>4</td>\n",
       "      <td>1</td>\n",
       "      <td>15</td>\n",
       "    </tr>\n",
       "    <tr>\n",
       "      <th>Medium</th>\n",
       "      <td>60</td>\n",
       "      <td>58</td>\n",
       "      <td>24</td>\n",
       "      <td>93</td>\n",
       "    </tr>\n",
       "  </tbody>\n",
       "</table>\n",
       "</div>"
      ],
      "text/plain": [
       "Male_recode           0   1   2   3\n",
       "Risk of Bias Rating                \n",
       "High                 35  21  18  58\n",
       "Low                   2   4   1  15\n",
       "Medium               60  58  24  93"
      ]
     },
     "execution_count": 53,
     "metadata": {},
     "output_type": "execute_result"
    }
   ],
   "source": [
    "bias_crosstab2 = pd.crosstab(bias['Risk of Bias Rating'], bias['Male_recode'])\n",
    "bias_crosstab2"
   ]
  },
  {
   "cell_type": "code",
   "execution_count": 54,
   "id": "ab858043",
   "metadata": {},
   "outputs": [
    {
     "data": {
      "text/html": [
       "<div>\n",
       "<style scoped>\n",
       "    .dataframe tbody tr th:only-of-type {\n",
       "        vertical-align: middle;\n",
       "    }\n",
       "\n",
       "    .dataframe tbody tr th {\n",
       "        vertical-align: top;\n",
       "    }\n",
       "\n",
       "    .dataframe thead th {\n",
       "        text-align: right;\n",
       "    }\n",
       "</style>\n",
       "<table border=\"1\" class=\"dataframe\">\n",
       "  <thead>\n",
       "    <tr style=\"text-align: right;\">\n",
       "      <th>Female_recode</th>\n",
       "      <th>0</th>\n",
       "      <th>1</th>\n",
       "      <th>2</th>\n",
       "      <th>3</th>\n",
       "    </tr>\n",
       "    <tr>\n",
       "      <th>Risk of Bias Rating</th>\n",
       "      <th></th>\n",
       "      <th></th>\n",
       "      <th></th>\n",
       "      <th></th>\n",
       "    </tr>\n",
       "  </thead>\n",
       "  <tbody>\n",
       "    <tr>\n",
       "      <th>High</th>\n",
       "      <td>46</td>\n",
       "      <td>17</td>\n",
       "      <td>21</td>\n",
       "      <td>48</td>\n",
       "    </tr>\n",
       "    <tr>\n",
       "      <th>Low</th>\n",
       "      <td>14</td>\n",
       "      <td>1</td>\n",
       "      <td>4</td>\n",
       "      <td>3</td>\n",
       "    </tr>\n",
       "    <tr>\n",
       "      <th>Medium</th>\n",
       "      <td>81</td>\n",
       "      <td>25</td>\n",
       "      <td>56</td>\n",
       "      <td>73</td>\n",
       "    </tr>\n",
       "  </tbody>\n",
       "</table>\n",
       "</div>"
      ],
      "text/plain": [
       "Female_recode         0   1   2   3\n",
       "Risk of Bias Rating                \n",
       "High                 46  17  21  48\n",
       "Low                  14   1   4   3\n",
       "Medium               81  25  56  73"
      ]
     },
     "execution_count": 54,
     "metadata": {},
     "output_type": "execute_result"
    }
   ],
   "source": [
    "bias_crosstab3 = pd.crosstab(bias['Risk of Bias Rating'], bias['Female_recode'])\n",
    "bias_crosstab3"
   ]
  },
  {
   "cell_type": "markdown",
   "id": "959d5063",
   "metadata": {},
   "source": [
    "# Bias Histogram"
   ]
  },
  {
   "cell_type": "code",
   "execution_count": 55,
   "id": "cc0a3b2c",
   "metadata": {},
   "outputs": [
    {
     "data": {
      "image/png": "[encoded data removed]",
      "text/plain": [
       "<Figure size 1440x1440 with 16 Axes>"
      ]
     },
     "metadata": {
      "needs_background": "light"
     },
     "output_type": "display_data"
    }
   ],
   "source": [
    "\n",
    "bias.hist(figsize= (20, 20), color = \"hotpink\")\n",
    "plt.show()"
   ]
  },
  {
   "cell_type": "code",
   "execution_count": 56,
   "id": "0003be14",
   "metadata": {},
   "outputs": [],
   "source": [
    "h2=bias[['Risk of Bias Rating','Female_recode', 'Male_recode']]"
   ]
  },
  {
   "cell_type": "markdown",
   "id": "e1e38cc3",
   "metadata": {},
   "source": [
    "# barplot "
   ]
  },
  {
   "cell_type": "code",
   "execution_count": 57,
   "id": "3047f58e",
   "metadata": {
    "scrolled": true
   },
   "outputs": [
    {
     "data": {
      "text/plain": [
       "<AxesSubplot:xlabel='Female_recode', ylabel='Risk of Bias Rating'>"
      ]
     },
     "execution_count": 57,
     "metadata": {},
     "output_type": "execute_result"
    },
    {
     "data": {
      "image/png": "[encoded data removed]",
      "text/plain": [
       "<Figure size 432x288 with 1 Axes>"
      ]
     },
     "metadata": {
      "needs_background": "light"
     },
     "output_type": "display_data"
    }
   ],
   "source": [
    "sns.barplot(data=bias, x='Female_recode',y='Risk of Bias Rating')\n"
   ]
  },
  {
   "cell_type": "code",
   "execution_count": 58,
   "id": "78dd32ce",
   "metadata": {
    "scrolled": true
   },
   "outputs": [
    {
     "data": {
      "text/plain": [
       "<AxesSubplot:xlabel='Female_recode', ylabel='Veteran_recode'>"
      ]
     },
     "execution_count": 58,
     "metadata": {},
     "output_type": "execute_result"
    },
    {
     "data": {
      "image/png": "[encoded data removed]",
      "text/plain": [
       "<Figure size 432x288 with 1 Axes>"
      ]
     },
     "metadata": {
      "needs_background": "light"
     },
     "output_type": "display_data"
    }
   ],
   "source": [
    "sns.barplot(data=bias, x='Female_recode',y='Veteran_recode')\n"
   ]
  },
  {
   "cell_type": "code",
   "execution_count": 59,
   "id": "de69cfe0",
   "metadata": {},
   "outputs": [
    {
     "data": {
      "text/plain": [
       "<AxesSubplot:xlabel='Female_recode', ylabel='Military_recode'>"
      ]
     },
     "execution_count": 59,
     "metadata": {},
     "output_type": "execute_result"
    },
    {
     "data": {
      "image/png": "[encoded data removed]",
      "text/plain": [
       "<Figure size 432x288 with 1 Axes>"
      ]
     },
     "metadata": {
      "needs_background": "light"
     },
     "output_type": "display_data"
    }
   ],
   "source": [
    "sns.barplot(data=bias, x='Female_recode',y='Military_recode')"
   ]
  },
  {
   "cell_type": "code",
   "execution_count": 60,
   "id": "87b5cadf",
   "metadata": {},
   "outputs": [
    {
     "data": {
      "text/plain": [
       "Text(0, 0.5, 'Female_recode')"
      ]
     },
     "execution_count": 60,
     "metadata": {},
     "output_type": "execute_result"
    },
    {
     "data": {
      "image/png": "[encoded data removed]",
      "text/plain": [
       "<Figure size 432x288 with 1 Axes>"
      ]
     },
     "metadata": {
      "needs_background": "light"
     },
     "output_type": "display_data"
    }
   ],
   "source": [
    "p = sns.lineplot(data =bias,)\n",
    "p.set_xlabel(\"Risk of Bias Rating\", fontsize = 20)\n",
    "p.set_ylabel('Female_recode', fontsize = 20)\n"
   ]
  },
  {
   "cell_type": "code",
   "execution_count": 61,
   "id": "1c171d9f",
   "metadata": {},
   "outputs": [
    {
     "data": {
      "text/plain": [
       "array([0.7449, 0.0379, 0.4412, 0.    , 0.65  , 0.28  , 0.7857, 0.5294,\n",
       "       0.6567, 0.875 , 0.091 , 0.193 , 0.8475, 0.871 , 0.0667, 0.1371,\n",
       "          nan, 0.8182, 0.2143, 0.881 , 0.0556, 0.7347, 0.7   , 1.    ,\n",
       "       0.0274, 0.8   , 0.733 , 0.457 , 0.79  , 0.507 , 0.5833, 0.52  ,\n",
       "       0.9643, 0.5429, 0.23  , 0.4101, 0.6596, 0.9333, 0.0455, 0.6071,\n",
       "       0.4365, 0.5625, 0.1017, 0.6744, 0.4603, 0.29  , 0.91  , 0.7308,\n",
       "       0.7619, 0.7788, 0.541 , 0.66  , 0.0238, 0.0571, 0.0244, 0.162 ,\n",
       "       0.34  , 0.0323, 0.825 , 0.806 , 0.24  , 0.4   , 0.3966, 0.5   ,\n",
       "       0.5868, 0.098 , 0.309 , 0.1875, 0.1907, 0.556 , 0.4634, 0.7042,\n",
       "       0.177 , 0.3455, 0.3944, 0.1202, 0.6515, 0.0339, 0.102 , 0.074 ,\n",
       "       0.2282, 0.5714, 0.69  , 0.6522, 0.1207, 0.119 , 0.831 , 0.1915,\n",
       "       0.9074, 0.0345, 0.1905, 0.139 , 0.2391, 0.1818, 0.1364, 0.36  ,\n",
       "       0.5846, 0.2083, 0.6786, 0.2308, 0.823 , 0.9211, 0.11  , 0.6   ,\n",
       "       0.8875, 0.3846, 0.5652, 0.62  , 0.2444, 0.2128, 0.1455, 0.0765,\n",
       "       0.33  , 0.7233, 0.6489, 0.2857, 0.0882, 0.09  , 0.069 , 0.25  ,\n",
       "       0.4583, 0.2727, 0.8276, 0.595 , 0.125 , 0.5417, 0.226 , 0.7317,\n",
       "       0.067 , 0.791 , 0.1   , 0.6842, 0.6731, 0.19  , 0.7153, 0.5897,\n",
       "       0.8125, 0.85  , 0.0636, 0.566 , 0.593 , 0.05  , 0.037 , 0.7692,\n",
       "       0.8056, 0.621 , 0.2692, 0.75  , 0.251 , 0.787 , 0.6866, 0.625 ,\n",
       "       0.3571, 0.5126, 0.3125, 0.1683, 0.564 , 0.528 , 0.1008, 0.4884,\n",
       "       0.8333, 0.5049, 0.679 , 0.0909, 0.0625, 0.16  , 0.22  , 0.1552,\n",
       "       0.2368, 0.4167, 0.8889, 0.27  , 0.115 , 0.8667, 0.1493, 0.023 ,\n",
       "       0.0833, 0.13  , 0.1176, 0.0741, 0.6923, 0.1605, 0.646 , 0.0513,\n",
       "       0.64  , 0.5323, 0.3871, 0.7593, 0.7931, 0.5405, 0.6389, 0.0872,\n",
       "       0.7549, 0.941 , 0.3333, 0.8049, 0.4762, 0.56  , 0.401 , 0.8095,\n",
       "       0.864 , 0.475 , 0.487 , 0.1277, 0.3086, 0.8488, 0.6889, 0.5806,\n",
       "       0.8462, 0.2778, 0.658 , 0.7414, 0.7895, 0.3182, 0.5419, 0.7412,\n",
       "       0.3438, 0.8295, 0.8571, 0.0588, 0.1739, 0.5814, 0.55  , 0.375 ,\n",
       "       0.818 , 0.6774, 0.1081, 0.019 , 0.766 , 0.5333, 0.7727, 0.9   ,\n",
       "       0.7143, 0.88  , 0.447 ])"
      ]
     },
     "execution_count": 61,
     "metadata": {},
     "output_type": "execute_result"
    }
   ],
   "source": [
    "bias['Female Percent (Study level)'].unique()"
   ]
  },
  {
   "cell_type": "code",
   "execution_count": 62,
   "id": "c5e7e2bd",
   "metadata": {},
   "outputs": [],
   "source": [
    "CrossTable = pd.crosstab(bias['Military_recode'], bias['Veteran_recode'])\n"
   ]
  },
  {
   "cell_type": "code",
   "execution_count": 63,
   "id": "b18ac7cd",
   "metadata": {},
   "outputs": [
    {
     "data": {
      "text/plain": [
       "array([3, 0, 2, 1], dtype=int64)"
      ]
     },
     "execution_count": 63,
     "metadata": {},
     "output_type": "execute_result"
    }
   ],
   "source": [
    "bias['Military_recode'].unique()"
   ]
  },
  {
   "cell_type": "code",
   "execution_count": 64,
   "id": "c3a82d2e",
   "metadata": {},
   "outputs": [
    {
     "data": {
      "text/plain": [
       "array([3, 0, 2, 1], dtype=int64)"
      ]
     },
     "execution_count": 64,
     "metadata": {},
     "output_type": "execute_result"
    }
   ],
   "source": [
    "   bias['Veteran_recode'].unique()"
   ]
  },
  {
   "cell_type": "markdown",
   "id": "937f1061",
   "metadata": {},
   "source": [
    "# Stacked Bar"
   ]
  },
  {
   "cell_type": "code",
   "execution_count": 65,
   "id": "3d453212",
   "metadata": {},
   "outputs": [
    {
     "data": {
      "text/plain": [
       "<AxesSubplot:xlabel='Male_recode'>"
      ]
     },
     "execution_count": 65,
     "metadata": {},
     "output_type": "execute_result"
    },
    {
     "data": {
      "image/png": "[encoded data removed]",
      "text/plain": [
       "<Figure size 432x288 with 1 Axes>"
      ]
     },
     "metadata": {
      "needs_background": "light"
     },
     "output_type": "display_data"
    }
   ],
   "source": [
    "CrossTable2 = pd.crosstab(bias['Male_recode'], bias['Risk of Bias Rating'])\n",
    "CrossTable2.plot.bar(stacked=True, color=['purple', 'lightblue', 'hotpink'])"
   ]
  },
  {
   "cell_type": "code",
   "execution_count": 66,
   "id": "93246ed9",
   "metadata": {
    "scrolled": true
   },
   "outputs": [
    {
     "data": {
      "text/plain": [
       "<AxesSubplot:xlabel='Female_recode'>"
      ]
     },
     "execution_count": 66,
     "metadata": {},
     "output_type": "execute_result"
    },
    {
     "data": {
      "image/png": "[encoded data removed]",
      "text/plain": [
       "<Figure size 432x288 with 1 Axes>"
      ]
     },
     "metadata": {
      "needs_background": "light"
     },
     "output_type": "display_data"
    }
   ],
   "source": [
    "CrossTable2 = pd.crosstab(bias['Female_recode'], bias['Risk of Bias Rating'])\n",
    "CrossTable2.plot.bar(stacked=True, color=['purple', 'lightblue', 'hotpink'])"
   ]
  },
  {
   "cell_type": "code",
   "execution_count": 67,
   "id": "e3e9fe70",
   "metadata": {},
   "outputs": [
    {
     "data": {
      "text/plain": [
       "<AxesSubplot:xlabel='Female_recode'>"
      ]
     },
     "execution_count": 67,
     "metadata": {},
     "output_type": "execute_result"
    },
    {
     "data": {
      "image/png": "[encoded data removed]",
      "text/plain": [
       "<Figure size 432x288 with 1 Axes>"
      ]
     },
     "metadata": {
      "needs_background": "light"
     },
     "output_type": "display_data"
    }
   ],
   "source": [
    "CrossTable = pd.crosstab(bias['Veteran_recode'],bias['trauma_recode'])\n",
    "CrossTable2.plot.bar(stacked=True, color=['hotpink', 'lightblue', 'purple'])"
   ]
  },
  {
   "cell_type": "code",
   "execution_count": null,
   "id": "8100bc3d",
   "metadata": {},
   "outputs": [],
   "source": []
  },
  {
   "cell_type": "code",
   "execution_count": 68,
   "id": "0a7b1f45",
   "metadata": {},
   "outputs": [
    {
     "data": {
      "text/plain": [
       "<AxesSubplot:xlabel='Female_recode'>"
      ]
     },
     "execution_count": 68,
     "metadata": {},
     "output_type": "execute_result"
    },
    {
     "data": {
      "image/png": "[encoded data removed]",
      "text/plain": [
       "<Figure size 432x288 with 1 Axes>"
      ]
     },
     "metadata": {
      "needs_background": "light"
     },
     "output_type": "display_data"
    }
   ],
   "source": [
    "CrossTable1 = pd.crosstab(bias['Female_recode'], bias['Male_recode'])\n",
    "CrossTable1.plot.bar(stacked=True, color=['purple', 'lightblue','yellow', 'hotpink'])"
   ]
  },
  {
   "cell_type": "code",
   "execution_count": 69,
   "id": "043036a0",
   "metadata": {},
   "outputs": [
    {
     "data": {
      "text/plain": [
       "<AxesSubplot:xlabel='Male_recode'>"
      ]
     },
     "execution_count": 69,
     "metadata": {},
     "output_type": "execute_result"
    },
    {
     "data": {
      "image/png": "[encoded data removed]",
      "text/plain": [
       "<Figure size 432x288 with 1 Axes>"
      ]
     },
     "metadata": {
      "needs_background": "light"
     },
     "output_type": "display_data"
    }
   ],
   "source": [
    "CrossTable = pd.crosstab(bias['Male_recode'], bias['Risk of Bias Rating'])\n",
    "CrossTable.plot.bar(stacked=True, color=['hotpink', 'lightblue', 'purple'])"
   ]
  },
  {
   "cell_type": "code",
   "execution_count": 70,
   "id": "7510c62b",
   "metadata": {},
   "outputs": [
    {
     "data": {
      "text/plain": [
       "<AxesSubplot:xlabel='Female_recode'>"
      ]
     },
     "execution_count": 70,
     "metadata": {},
     "output_type": "execute_result"
    },
    {
     "data": {
      "image/png": "[encoded data removed]",
      "text/plain": [
       "<Figure size 432x288 with 1 Axes>"
      ]
     },
     "metadata": {
      "needs_background": "light"
     },
     "output_type": "display_data"
    }
   ],
   "source": [
    "CrossTable = pd.crosstab(bias['Female_recode'], bias['Risk of Bias Rating'])\n",
    "CrossTable.plot.bar(stacked=True, color=['hotpink', 'lightblue', 'purple'])"
   ]
  },
  {
   "cell_type": "code",
   "execution_count": 71,
   "id": "db06377e",
   "metadata": {},
   "outputs": [
    {
     "data": {
      "text/plain": [
       "<AxesSubplot:xlabel='Female_recode'>"
      ]
     },
     "execution_count": 71,
     "metadata": {},
     "output_type": "execute_result"
    },
    {
     "data": {
      "image/png": "[encoded data removed]",
      "text/plain": [
       "<Figure size 432x288 with 1 Axes>"
      ]
     },
     "metadata": {
      "needs_background": "light"
     },
     "output_type": "display_data"
    }
   ],
   "source": [
    "CrossTable = pd.crosstab(bias['Female_recode'], bias['Military_recode'])\n",
    "CrossTable.plot.bar(stacked=True, color=['purple', 'lightblue', 'yellow', 'hotpink'])"
   ]
  },
  {
   "cell_type": "code",
   "execution_count": 72,
   "id": "b1cc2ad8",
   "metadata": {},
   "outputs": [
    {
     "data": {
      "text/plain": [
       "<AxesSubplot:xlabel='Male_recode'>"
      ]
     },
     "execution_count": 72,
     "metadata": {},
     "output_type": "execute_result"
    },
    {
     "data": {
      "image/png": "[encoded data removed]",
      "text/plain": [
       "<Figure size 432x288 with 1 Axes>"
      ]
     },
     "metadata": {
      "needs_background": "light"
     },
     "output_type": "display_data"
    }
   ],
   "source": [
    "CrossTable = pd.crosstab(bias['Male_recode'],bias['Military_recode'])\n",
    "CrossTable.plot.bar(stacked=True, color=['purple', 'yellow', 'lightblue', 'hotpink'])"
   ]
  },
  {
   "cell_type": "code",
   "execution_count": 73,
   "id": "72fb6bf4",
   "metadata": {},
   "outputs": [
    {
     "data": {
      "text/plain": [
       "<AxesSubplot:xlabel='Veteran_recode'>"
      ]
     },
     "execution_count": 73,
     "metadata": {},
     "output_type": "execute_result"
    },
    {
     "data": {
      "image/png": "[encoded data removed]",
      "text/plain": [
       "<Figure size 432x288 with 1 Axes>"
      ]
     },
     "metadata": {
      "needs_background": "light"
     },
     "output_type": "display_data"
    }
   ],
   "source": [
    "CrossTable1 = pd.crosstab(bias['Veteran_recode'],bias['Military_recode'])\n",
    "CrossTable1.plot.bar(stacked=True, color=['purple', 'black', 'yellow', 'hotpink'])"
   ]
  },
  {
   "cell_type": "code",
   "execution_count": 74,
   "id": "ac4df01f",
   "metadata": {},
   "outputs": [
    {
     "data": {
      "text/plain": [
       "<AxesSubplot:xlabel='Veteran_recode'>"
      ]
     },
     "execution_count": 74,
     "metadata": {},
     "output_type": "execute_result"
    },
    {
     "data": {
      "image/png": "[encoded data removed]",
      "text/plain": [
       "<Figure size 432x288 with 1 Axes>"
      ]
     },
     "metadata": {
      "needs_background": "light"
     },
     "output_type": "display_data"
    }
   ],
   "source": [
    "CrossTable2 = pd.crosstab(bias['Veteran_recode'],bias['trauma_recode'])\n",
    "CrossTable2.plot.bar(stacked=True, color=['purple', 'hotpink'])"
   ]
  },
  {
   "cell_type": "code",
   "execution_count": 75,
   "id": "57f0d9af",
   "metadata": {},
   "outputs": [
    {
     "data": {
      "text/plain": [
       "<AxesSubplot:xlabel='trauma_recode'>"
      ]
     },
     "execution_count": 75,
     "metadata": {},
     "output_type": "execute_result"
    },
    {
     "data": {
      "image/png": "[encoded data removed]",
      "text/plain": [
       "<Figure size 432x288 with 1 Axes>"
      ]
     },
     "metadata": {
      "needs_background": "light"
     },
     "output_type": "display_data"
    }
   ],
   "source": [
    "CrossTable3 = pd.crosstab(bias['trauma_recode'],bias['Veteran_recode'])\n",
    "CrossTable3.plot.bar(stacked=True, color=['purple', 'lightblue', 'yellow', 'hotpink'])"
   ]
  },
  {
   "cell_type": "code",
   "execution_count": 76,
   "id": "19037aff",
   "metadata": {},
   "outputs": [],
   "source": [
    "from scipy.stats import chi2_contingency"
   ]
  },
  {
   "cell_type": "markdown",
   "id": "a6988653",
   "metadata": {},
   "source": [
    " # Chi 2"
   ]
  },
  {
   "cell_type": "code",
   "execution_count": 77,
   "id": "4818191d",
   "metadata": {
    "scrolled": true
   },
   "outputs": [],
   "source": [
    "stat, p, dlf, expected = chi2_contingency(bias_crosstab1)"
   ]
  },
  {
   "cell_type": "code",
   "execution_count": 78,
   "id": "5ded9cbe",
   "metadata": {},
   "outputs": [
    {
     "name": "stdout",
     "output_type": "stream",
     "text": [
      "998.5339809548447\n"
     ]
    }
   ],
   "source": [
    "print(stat)"
   ]
  },
  {
   "cell_type": "code",
   "execution_count": 79,
   "id": "7cb76076",
   "metadata": {},
   "outputs": [
    {
     "name": "stdout",
     "output_type": "stream",
     "text": [
      "3.5700217301721944e-209\n"
     ]
    }
   ],
   "source": [
    "print (p)"
   ]
  },
  {
   "cell_type": "code",
   "execution_count": 80,
   "id": "2cf40baf",
   "metadata": {},
   "outputs": [
    {
     "name": "stdout",
     "output_type": "stream",
     "text": [
      "p value:3.5700217301721944e-209\n",
      "Reject NULL HYPOTHESIS\n"
     ]
    }
   ],
   "source": [
    "significance_level = 0.05\n",
    "print(\"p value:\"+ str(p))\n",
    "if p <= significance_level: \n",
    "    print('Reject NULL HYPOTHESIS') \n",
    "else: \n",
    "    print('ACCEPT NULL HYPOTHESIS') "
   ]
  },
  {
   "cell_type": "code",
   "execution_count": 81,
   "id": "f3f22111",
   "metadata": {},
   "outputs": [
    {
     "name": "stdout",
     "output_type": "stream",
     "text": [
      "0      1\n",
      "1      3\n",
      "2      2\n",
      "3      3\n",
      "4      3\n",
      "      ..\n",
      "384    0\n",
      "385    0\n",
      "386    1\n",
      "387    0\n",
      "388    2\n",
      "Name: Male_recode, Length: 389, dtype: int64 0      2\n",
      "1      0\n",
      "2      1\n",
      "3      0\n",
      "4      0\n",
      "      ..\n",
      "384    3\n",
      "385    3\n",
      "386    2\n",
      "387    3\n",
      "388    1\n",
      "Name: Female_recode, Length: 389, dtype: int64\n"
     ]
    }
   ],
   "source": [
    "x = bias['Male_recode']\n",
    "y = bias['Female_recode']\n",
    "print (x, y)"
   ]
  },
  {
   "cell_type": "code",
   "execution_count": 82,
   "id": "882ac359",
   "metadata": {},
   "outputs": [],
   "source": [
    "import pandas as pd\n",
    "import numpy as np\n",
    "import matplotlib.pyplot as plt\n",
    "import seaborn as sns\n",
    "%matplotlib inline\n",
    "from sklearn.model_selection import train_test_split\n",
    "from sklearn.tree import DecisionTreeClassifier\n",
    "from sklearn.metrics import classification_report, confusion_matrix, accuracy_score"
   ]
  },
  {
   "cell_type": "markdown",
   "id": "4b6e9094",
   "metadata": {},
   "source": [
    "# decision tree"
   ]
  },
  {
   "cell_type": "code",
   "execution_count": 83,
   "id": "43687d7f",
   "metadata": {
    "scrolled": true
   },
   "outputs": [],
   "source": [
    "x = bias[['Male_recode','Veteran_recode','Military_recode']]\n",
    "y = bias['trauma_recode']"
   ]
  },
  {
   "cell_type": "code",
   "execution_count": 84,
   "id": "51954d41",
   "metadata": {},
   "outputs": [],
   "source": [
    "x = bias[['trauma_recode','Veteran_recode','Military_recode']]\n",
    "y = bias['Male_recode']"
   ]
  },
  {
   "cell_type": "code",
   "execution_count": 85,
   "id": "8d7b99ad",
   "metadata": {},
   "outputs": [
    {
     "data": {
      "text/html": [
       "<div>\n",
       "<style scoped>\n",
       "    .dataframe tbody tr th:only-of-type {\n",
       "        vertical-align: middle;\n",
       "    }\n",
       "\n",
       "    .dataframe tbody tr th {\n",
       "        vertical-align: top;\n",
       "    }\n",
       "\n",
       "    .dataframe thead th {\n",
       "        text-align: right;\n",
       "    }\n",
       "</style>\n",
       "<table border=\"1\" class=\"dataframe\">\n",
       "  <thead>\n",
       "    <tr style=\"text-align: right;\">\n",
       "      <th></th>\n",
       "      <th>trauma_recode</th>\n",
       "      <th>Veteran_recode</th>\n",
       "      <th>Military_recode</th>\n",
       "    </tr>\n",
       "  </thead>\n",
       "  <tbody>\n",
       "    <tr>\n",
       "      <th>0</th>\n",
       "      <td>0</td>\n",
       "      <td>3</td>\n",
       "      <td>3</td>\n",
       "    </tr>\n",
       "    <tr>\n",
       "      <th>1</th>\n",
       "      <td>0</td>\n",
       "      <td>3</td>\n",
       "      <td>3</td>\n",
       "    </tr>\n",
       "    <tr>\n",
       "      <th>2</th>\n",
       "      <td>0</td>\n",
       "      <td>3</td>\n",
       "      <td>3</td>\n",
       "    </tr>\n",
       "    <tr>\n",
       "      <th>3</th>\n",
       "      <td>0</td>\n",
       "      <td>0</td>\n",
       "      <td>3</td>\n",
       "    </tr>\n",
       "    <tr>\n",
       "      <th>4</th>\n",
       "      <td>0</td>\n",
       "      <td>3</td>\n",
       "      <td>0</td>\n",
       "    </tr>\n",
       "  </tbody>\n",
       "</table>\n",
       "</div>"
      ],
      "text/plain": [
       "   trauma_recode  Veteran_recode  Military_recode\n",
       "0              0               3                3\n",
       "1              0               3                3\n",
       "2              0               3                3\n",
       "3              0               0                3\n",
       "4              0               3                0"
      ]
     },
     "execution_count": 85,
     "metadata": {},
     "output_type": "execute_result"
    }
   ],
   "source": [
    "x.head()"
   ]
  },
  {
   "cell_type": "code",
   "execution_count": 86,
   "id": "5faf848e",
   "metadata": {},
   "outputs": [
    {
     "data": {
      "text/plain": [
       "0    1\n",
       "1    3\n",
       "2    2\n",
       "3    3\n",
       "4    3\n",
       "Name: Male_recode, dtype: int64"
      ]
     },
     "execution_count": 86,
     "metadata": {},
     "output_type": "execute_result"
    }
   ],
   "source": [
    "y.head()"
   ]
  },
  {
   "cell_type": "code",
   "execution_count": 87,
   "id": "9ce5469e",
   "metadata": {},
   "outputs": [],
   "source": [
    "x = bias[['Female_recode','Veteran_recode','Military_recode']]\n",
    "y = bias['trauma_recode']"
   ]
  },
  {
   "cell_type": "code",
   "execution_count": 88,
   "id": "a2cdca4a",
   "metadata": {
    "scrolled": true
   },
   "outputs": [
    {
     "data": {
      "text/html": [
       "<div>\n",
       "<style scoped>\n",
       "    .dataframe tbody tr th:only-of-type {\n",
       "        vertical-align: middle;\n",
       "    }\n",
       "\n",
       "    .dataframe tbody tr th {\n",
       "        vertical-align: top;\n",
       "    }\n",
       "\n",
       "    .dataframe thead th {\n",
       "        text-align: right;\n",
       "    }\n",
       "</style>\n",
       "<table border=\"1\" class=\"dataframe\">\n",
       "  <thead>\n",
       "    <tr style=\"text-align: right;\">\n",
       "      <th></th>\n",
       "      <th>Female_recode</th>\n",
       "      <th>Veteran_recode</th>\n",
       "      <th>Military_recode</th>\n",
       "    </tr>\n",
       "  </thead>\n",
       "  <tbody>\n",
       "    <tr>\n",
       "      <th>0</th>\n",
       "      <td>2</td>\n",
       "      <td>3</td>\n",
       "      <td>3</td>\n",
       "    </tr>\n",
       "    <tr>\n",
       "      <th>1</th>\n",
       "      <td>0</td>\n",
       "      <td>3</td>\n",
       "      <td>3</td>\n",
       "    </tr>\n",
       "    <tr>\n",
       "      <th>2</th>\n",
       "      <td>1</td>\n",
       "      <td>3</td>\n",
       "      <td>3</td>\n",
       "    </tr>\n",
       "    <tr>\n",
       "      <th>3</th>\n",
       "      <td>0</td>\n",
       "      <td>0</td>\n",
       "      <td>3</td>\n",
       "    </tr>\n",
       "    <tr>\n",
       "      <th>4</th>\n",
       "      <td>0</td>\n",
       "      <td>3</td>\n",
       "      <td>0</td>\n",
       "    </tr>\n",
       "  </tbody>\n",
       "</table>\n",
       "</div>"
      ],
      "text/plain": [
       "   Female_recode  Veteran_recode  Military_recode\n",
       "0              2               3                3\n",
       "1              0               3                3\n",
       "2              1               3                3\n",
       "3              0               0                3\n",
       "4              0               3                0"
      ]
     },
     "execution_count": 88,
     "metadata": {},
     "output_type": "execute_result"
    }
   ],
   "source": [
    "x.head()"
   ]
  },
  {
   "cell_type": "code",
   "execution_count": 89,
   "id": "54930ac6",
   "metadata": {},
   "outputs": [
    {
     "data": {
      "text/plain": [
       "0    0\n",
       "1    0\n",
       "2    0\n",
       "3    0\n",
       "4    0\n",
       "Name: trauma_recode, dtype: int64"
      ]
     },
     "execution_count": 89,
     "metadata": {},
     "output_type": "execute_result"
    }
   ],
   "source": [
    "y.head()"
   ]
  },
  {
   "cell_type": "code",
   "execution_count": 90,
   "id": "02667578",
   "metadata": {},
   "outputs": [],
   "source": [
    "x = bias[['trauma_recode','Veteran_recode','Military_recode', 'Female_recode']]\n",
    "y = bias['Risk of Bias Rating']"
   ]
  },
  {
   "cell_type": "code",
   "execution_count": 91,
   "id": "3ec753cd",
   "metadata": {},
   "outputs": [
    {
     "data": {
      "text/html": [
       "<div>\n",
       "<style scoped>\n",
       "    .dataframe tbody tr th:only-of-type {\n",
       "        vertical-align: middle;\n",
       "    }\n",
       "\n",
       "    .dataframe tbody tr th {\n",
       "        vertical-align: top;\n",
       "    }\n",
       "\n",
       "    .dataframe thead th {\n",
       "        text-align: right;\n",
       "    }\n",
       "</style>\n",
       "<table border=\"1\" class=\"dataframe\">\n",
       "  <thead>\n",
       "    <tr style=\"text-align: right;\">\n",
       "      <th></th>\n",
       "      <th>trauma_recode</th>\n",
       "      <th>Veteran_recode</th>\n",
       "      <th>Military_recode</th>\n",
       "      <th>Female_recode</th>\n",
       "    </tr>\n",
       "  </thead>\n",
       "  <tbody>\n",
       "    <tr>\n",
       "      <th>0</th>\n",
       "      <td>0</td>\n",
       "      <td>3</td>\n",
       "      <td>3</td>\n",
       "      <td>2</td>\n",
       "    </tr>\n",
       "    <tr>\n",
       "      <th>1</th>\n",
       "      <td>0</td>\n",
       "      <td>3</td>\n",
       "      <td>3</td>\n",
       "      <td>0</td>\n",
       "    </tr>\n",
       "    <tr>\n",
       "      <th>2</th>\n",
       "      <td>0</td>\n",
       "      <td>3</td>\n",
       "      <td>3</td>\n",
       "      <td>1</td>\n",
       "    </tr>\n",
       "    <tr>\n",
       "      <th>3</th>\n",
       "      <td>0</td>\n",
       "      <td>0</td>\n",
       "      <td>3</td>\n",
       "      <td>0</td>\n",
       "    </tr>\n",
       "    <tr>\n",
       "      <th>4</th>\n",
       "      <td>0</td>\n",
       "      <td>3</td>\n",
       "      <td>0</td>\n",
       "      <td>0</td>\n",
       "    </tr>\n",
       "  </tbody>\n",
       "</table>\n",
       "</div>"
      ],
      "text/plain": [
       "   trauma_recode  Veteran_recode  Military_recode  Female_recode\n",
       "0              0               3                3              2\n",
       "1              0               3                3              0\n",
       "2              0               3                3              1\n",
       "3              0               0                3              0\n",
       "4              0               3                0              0"
      ]
     },
     "execution_count": 91,
     "metadata": {},
     "output_type": "execute_result"
    }
   ],
   "source": [
    "x.head()"
   ]
  },
  {
   "cell_type": "code",
   "execution_count": 92,
   "id": "c1abd858",
   "metadata": {},
   "outputs": [
    {
     "data": {
      "text/plain": [
       "0    Medium\n",
       "1    Medium\n",
       "2      High\n",
       "3      High\n",
       "4    Medium\n",
       "Name: Risk of Bias Rating, dtype: object"
      ]
     },
     "execution_count": 92,
     "metadata": {},
     "output_type": "execute_result"
    }
   ],
   "source": [
    "y.head()"
   ]
  },
  {
   "cell_type": "code",
   "execution_count": 93,
   "id": "aba6f8ef",
   "metadata": {},
   "outputs": [],
   "source": [
    "x_train, x_test, y_train, y_test = train_test_split(x,y, test_size=0.3, random_state=76)"
   ]
  },
  {
   "cell_type": "code",
   "execution_count": 94,
   "id": "32f13503",
   "metadata": {
    "scrolled": true
   },
   "outputs": [
    {
     "data": {
      "text/plain": [
       "DecisionTreeClassifier(random_state=76)"
      ]
     },
     "execution_count": 94,
     "metadata": {},
     "output_type": "execute_result"
    }
   ],
   "source": [
    "decisionTree = DecisionTreeClassifier(random_state=76)\n",
    "decisionTree.fit(x_train , y_train )"
   ]
  },
  {
   "cell_type": "code",
   "execution_count": 95,
   "id": "4a275bd4",
   "metadata": {},
   "outputs": [
    {
     "name": "stdout",
     "output_type": "stream",
     "text": [
      "     trauma_recode  Veteran_recode  Military_recode  Female_recode\n",
      "360              1               3                0              0\n",
      "387              1               3                0              3\n",
      "166              1               3                3              1\n",
      "176              1               2                1              0\n",
      "330              1               3                3              3\n",
      "..             ...             ...              ...            ...\n",
      "72               1               3                3              2\n",
      "7                1               3                3              3\n",
      "309              1               3                3              3\n",
      "320              1               3                3              2\n",
      "62               0               3                3              3\n",
      "\n",
      "[117 rows x 4 columns]\n"
     ]
    }
   ],
   "source": [
    "treePredictions = decisionTree.predict(x_test)\n",
    "print (x_test)"
   ]
  },
  {
   "cell_type": "code",
   "execution_count": 96,
   "id": "6d19cdd2",
   "metadata": {},
   "outputs": [
    {
     "name": "stdout",
     "output_type": "stream",
     "text": [
      "[[ 1  0 37]\n",
      " [ 0  0  5]\n",
      " [ 4  1 69]]\n"
     ]
    }
   ],
   "source": [
    "print(confusion_matrix(y_test, treePredictions))"
   ]
  },
  {
   "cell_type": "code",
   "execution_count": 97,
   "id": "b517752b",
   "metadata": {},
   "outputs": [
    {
     "name": "stdout",
     "output_type": "stream",
     "text": [
      "              precision    recall  f1-score   support\n",
      "\n",
      "        High       0.20      0.03      0.05        38\n",
      "         Low       0.00      0.00      0.00         5\n",
      "      Medium       0.62      0.93      0.75        74\n",
      "\n",
      "    accuracy                           0.60       117\n",
      "   macro avg       0.27      0.32      0.26       117\n",
      "weighted avg       0.46      0.60      0.49       117\n",
      "\n"
     ]
    }
   ],
   "source": [
    "print(classification_report(y_test, treePredictions))"
   ]
  },
  {
   "cell_type": "code",
   "execution_count": 98,
   "id": "69938b60",
   "metadata": {},
   "outputs": [],
   "source": [
    "from sklearn.metrics import plot_confusion_matrix"
   ]
  },
  {
   "cell_type": "code",
   "execution_count": 99,
   "id": "73e18174",
   "metadata": {},
   "outputs": [
    {
     "data": {
      "image/png": "[encoded data removed]",
      "text/plain": [
       "<Figure size 432x288 with 2 Axes>"
      ]
     },
     "metadata": {
      "needs_background": "light"
     },
     "output_type": "display_data"
    }
   ],
   "source": [
    "plot_confusion_matrix(decisionTree, x_test, y_test)\n",
    "plt.show()\n",
    "\n"
   ]
  },
  {
   "cell_type": "code",
   "execution_count": null,
   "id": "27235292",
   "metadata": {},
   "outputs": [],
   "source": []
  }
 ],
 "metadata": {
  "kernelspec": {
   "display_name": "Python 3",
   "language": "python",
   "name": "python3"
  },
  "language_info": {
   "codemirror_mode": {
    "name": "ipython",
    "version": 3
   },
   "file_extension": ".py",
   "mimetype": "text/x-python",
   "name": "python",
   "nbconvert_exporter": "python",
   "pygments_lexer": "ipython3",
   "version": "3.8.8"
  }
 },
 "nbformat": 4,
 "nbformat_minor": 5
}
