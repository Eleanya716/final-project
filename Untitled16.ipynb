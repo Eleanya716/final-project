{
 "cells": [
  {
   "cell_type": "code",
   "execution_count": 2,
   "id": "92c4b760",
   "metadata": {},
   "outputs": [],
   "source": [
    "import pandas as pd\n",
    "import numpy as np\n",
    "from scipy.stats import norm\n",
    "from scipy import stats"
   ]
  },
  {
   "cell_type": "code",
   "execution_count": 24,
   "id": "73078aa2",
   "metadata": {},
   "outputs": [],
   "source": [
    "import pandas as pd\n",
    "import matplotlib.pyplot as plt\n",
    "import seaborn as sns"
   ]
  },
  {
   "cell_type": "code",
   "execution_count": 25,
   "id": "dee80e5c",
   "metadata": {},
   "outputs": [],
   "source": [
    "import pandas as pd\n",
    "import numpy as np\n",
    "from scipy import stats\n",
    "from scipy.stats import ttest_ind"
   ]
  },
  {
   "cell_type": "code",
   "execution_count": 46,
   "id": "e4528271",
   "metadata": {},
   "outputs": [],
   "source": [
    "import pandas as pd\n",
    "import numpy as np\n",
    "import scipy\n",
    "from scipy import stats\n",
    "from statsmodels.stats.multicomp import pairwise_tukeyhsd\n",
    "from statsmodels.stats.multicomp import MultiComparison"
   ]
  },
  {
   "cell_type": "code",
   "execution_count": 26,
   "id": "ab02be71",
   "metadata": {},
   "outputs": [],
   "source": [
    "bias = pd.read_csv('C:/Users/elean/Downloads/Risk_of_Bias.csv')"
   ]
  },
  {
   "cell_type": "code",
   "execution_count": 27,
   "id": "88f30793",
   "metadata": {},
   "outputs": [
    {
     "data": {
      "text/html": [
       "<div>\n",
       "<style scoped>\n",
       "    .dataframe tbody tr th:only-of-type {\n",
       "        vertical-align: middle;\n",
       "    }\n",
       "\n",
       "    .dataframe tbody tr th {\n",
       "        vertical-align: top;\n",
       "    }\n",
       "\n",
       "    .dataframe thead th {\n",
       "        text-align: right;\n",
       "    }\n",
       "</style>\n",
       "<table border=\"1\" class=\"dataframe\">\n",
       "  <thead>\n",
       "    <tr style=\"text-align: right;\">\n",
       "      <th></th>\n",
       "      <th>Study ID</th>\n",
       "      <th>Study Class</th>\n",
       "      <th>Treatment Focus</th>\n",
       "      <th>Total N Randomized (Study level)</th>\n",
       "      <th>Selection Bias: Randomization Adequate</th>\n",
       "      <th>Selection Bias: Allocation Concealment Adequate</th>\n",
       "      <th>Selection Bias: Groups Similar at Baseline</th>\n",
       "      <th>Selection Bias: ITT Analysis</th>\n",
       "      <th>Performance Bias: Care Providers Masked</th>\n",
       "      <th>Performance Bias: Patients Masked</th>\n",
       "      <th>...</th>\n",
       "      <th>Veteran Percent (Study level)</th>\n",
       "      <th>Community Percent (Study level)</th>\n",
       "      <th>Female Percent (Study level)</th>\n",
       "      <th>Female Percent Detail (Study level)</th>\n",
       "      <th>Male Percent (Study level)</th>\n",
       "      <th>Trauma Type (Study level)</th>\n",
       "      <th>Trauma Detail (Study level)</th>\n",
       "      <th>Citation</th>\n",
       "      <th>PTSDPubs ID</th>\n",
       "      <th>Year Added to PTSD-Repository</th>\n",
       "    </tr>\n",
       "  </thead>\n",
       "  <tbody>\n",
       "    <tr>\n",
       "      <th>0</th>\n",
       "      <td>acarturk2016</td>\n",
       "      <td>Psychotherapy</td>\n",
       "      <td>PTSD</td>\n",
       "      <td>98</td>\n",
       "      <td>Yes</td>\n",
       "      <td>Yes</td>\n",
       "      <td>Unclear</td>\n",
       "      <td>Yes</td>\n",
       "      <td>No</td>\n",
       "      <td>No</td>\n",
       "      <td>...</td>\n",
       "      <td>NaN</td>\n",
       "      <td>1.0</td>\n",
       "      <td>0.7449</td>\n",
       "      <td>NaN</td>\n",
       "      <td>0.2551</td>\n",
       "      <td>Terrorism/political violence/forced displacement</td>\n",
       "      <td>NaN</td>\n",
       "      <td>Acarturk C, Konuk E, Cetinkaya M, et al. The e...</td>\n",
       "      <td>45262.0</td>\n",
       "      <td>2019</td>\n",
       "    </tr>\n",
       "    <tr>\n",
       "      <th>1</th>\n",
       "      <td>acierno2017</td>\n",
       "      <td>Psychotherapy</td>\n",
       "      <td>PTSD</td>\n",
       "      <td>150</td>\n",
       "      <td>Yes</td>\n",
       "      <td>Yes</td>\n",
       "      <td>Yes</td>\n",
       "      <td>No</td>\n",
       "      <td>No</td>\n",
       "      <td>No</td>\n",
       "      <td>...</td>\n",
       "      <td>1.0</td>\n",
       "      <td>NaN</td>\n",
       "      <td>0.0379</td>\n",
       "      <td>NaN</td>\n",
       "      <td>0.9621</td>\n",
       "      <td>Combat-related</td>\n",
       "      <td>NaN</td>\n",
       "      <td>Acierno RE, Knapp RG, Tuerk PW, et al. A non-i...</td>\n",
       "      <td>45948.0</td>\n",
       "      <td>2019</td>\n",
       "    </tr>\n",
       "    <tr>\n",
       "      <th>2</th>\n",
       "      <td>adenauer2011</td>\n",
       "      <td>Psychotherapy</td>\n",
       "      <td>PTSD</td>\n",
       "      <td>34</td>\n",
       "      <td>Yes</td>\n",
       "      <td>Unclear</td>\n",
       "      <td>No</td>\n",
       "      <td>Yes</td>\n",
       "      <td>No</td>\n",
       "      <td>No</td>\n",
       "      <td>...</td>\n",
       "      <td>NaN</td>\n",
       "      <td>1.0</td>\n",
       "      <td>0.4412</td>\n",
       "      <td>NaN</td>\n",
       "      <td>0.5588</td>\n",
       "      <td>Terrorism/political violence/forced displacement</td>\n",
       "      <td>NaN</td>\n",
       "      <td>Adenauer H, Catani C, Gola H, et al. Narrative...</td>\n",
       "      <td>37889.0</td>\n",
       "      <td>2019</td>\n",
       "    </tr>\n",
       "    <tr>\n",
       "      <th>3</th>\n",
       "      <td>ahmadi2015</td>\n",
       "      <td>Mixed: Psychotherapy &amp; CIH</td>\n",
       "      <td>PTSD</td>\n",
       "      <td>48</td>\n",
       "      <td>Unclear</td>\n",
       "      <td>Unclear</td>\n",
       "      <td>Yes</td>\n",
       "      <td>No</td>\n",
       "      <td>No</td>\n",
       "      <td>No</td>\n",
       "      <td>...</td>\n",
       "      <td>0.0</td>\n",
       "      <td>0.0</td>\n",
       "      <td>0.0000</td>\n",
       "      <td>NaN</td>\n",
       "      <td>1.0000</td>\n",
       "      <td>Combat-related</td>\n",
       "      <td>NaN</td>\n",
       "      <td>Ahmadi K, Hazrati M, Ahmadizadeh MJ, et al. RE...</td>\n",
       "      <td>46896.0</td>\n",
       "      <td>2019</td>\n",
       "    </tr>\n",
       "    <tr>\n",
       "      <th>4</th>\n",
       "      <td>ahmadizadeh2018</td>\n",
       "      <td>Nonpharmacologic biological</td>\n",
       "      <td>PTSD</td>\n",
       "      <td>65</td>\n",
       "      <td>Unclear</td>\n",
       "      <td>Unclear</td>\n",
       "      <td>Yes</td>\n",
       "      <td>Yes</td>\n",
       "      <td>No</td>\n",
       "      <td>Yes</td>\n",
       "      <td>...</td>\n",
       "      <td>1.0</td>\n",
       "      <td>0.0</td>\n",
       "      <td>0.0000</td>\n",
       "      <td>NaN</td>\n",
       "      <td>1.0000</td>\n",
       "      <td>Combat-related</td>\n",
       "      <td>NaN</td>\n",
       "      <td>Ahmadizadeh MJ, Rezaei M. Unilateral right and...</td>\n",
       "      <td>50480.0</td>\n",
       "      <td>2019</td>\n",
       "    </tr>\n",
       "  </tbody>\n",
       "</table>\n",
       "<p>5 rows × 35 columns</p>\n",
       "</div>"
      ],
      "text/plain": [
       "          Study ID                  Study Class Treatment Focus  \\\n",
       "0     acarturk2016                Psychotherapy            PTSD   \n",
       "1      acierno2017                Psychotherapy            PTSD   \n",
       "2     adenauer2011                Psychotherapy            PTSD   \n",
       "3       ahmadi2015   Mixed: Psychotherapy & CIH            PTSD   \n",
       "4  ahmadizadeh2018  Nonpharmacologic biological            PTSD   \n",
       "\n",
       "   Total N Randomized (Study level) Selection Bias: Randomization Adequate  \\\n",
       "0                                98                                    Yes   \n",
       "1                               150                                    Yes   \n",
       "2                                34                                    Yes   \n",
       "3                                48                                Unclear   \n",
       "4                                65                                Unclear   \n",
       "\n",
       "  Selection Bias: Allocation Concealment Adequate  \\\n",
       "0                                             Yes   \n",
       "1                                             Yes   \n",
       "2                                         Unclear   \n",
       "3                                         Unclear   \n",
       "4                                         Unclear   \n",
       "\n",
       "  Selection Bias: Groups Similar at Baseline Selection Bias: ITT Analysis  \\\n",
       "0                                    Unclear                          Yes   \n",
       "1                                        Yes                           No   \n",
       "2                                         No                          Yes   \n",
       "3                                        Yes                           No   \n",
       "4                                        Yes                          Yes   \n",
       "\n",
       "  Performance Bias: Care Providers Masked Performance Bias: Patients Masked  \\\n",
       "0                                      No                                No   \n",
       "1                                      No                                No   \n",
       "2                                      No                                No   \n",
       "3                                      No                                No   \n",
       "4                                      No                               Yes   \n",
       "\n",
       "   ... Veteran Percent (Study level) Community Percent (Study level)  \\\n",
       "0  ...                           NaN                             1.0   \n",
       "1  ...                           1.0                             NaN   \n",
       "2  ...                           NaN                             1.0   \n",
       "3  ...                           0.0                             0.0   \n",
       "4  ...                           1.0                             0.0   \n",
       "\n",
       "   Female Percent (Study level) Female Percent Detail (Study level)  \\\n",
       "0                        0.7449                                 NaN   \n",
       "1                        0.0379                                 NaN   \n",
       "2                        0.4412                                 NaN   \n",
       "3                        0.0000                                 NaN   \n",
       "4                        0.0000                                 NaN   \n",
       "\n",
       "  Male Percent (Study level)  \\\n",
       "0                     0.2551   \n",
       "1                     0.9621   \n",
       "2                     0.5588   \n",
       "3                     1.0000   \n",
       "4                     1.0000   \n",
       "\n",
       "                          Trauma Type (Study level)  \\\n",
       "0  Terrorism/political violence/forced displacement   \n",
       "1                                    Combat-related   \n",
       "2  Terrorism/political violence/forced displacement   \n",
       "3                                    Combat-related   \n",
       "4                                    Combat-related   \n",
       "\n",
       "  Trauma Detail (Study level)  \\\n",
       "0                         NaN   \n",
       "1                         NaN   \n",
       "2                         NaN   \n",
       "3                         NaN   \n",
       "4                         NaN   \n",
       "\n",
       "                                            Citation PTSDPubs ID  \\\n",
       "0  Acarturk C, Konuk E, Cetinkaya M, et al. The e...     45262.0   \n",
       "1  Acierno RE, Knapp RG, Tuerk PW, et al. A non-i...     45948.0   \n",
       "2  Adenauer H, Catani C, Gola H, et al. Narrative...     37889.0   \n",
       "3  Ahmadi K, Hazrati M, Ahmadizadeh MJ, et al. RE...     46896.0   \n",
       "4  Ahmadizadeh MJ, Rezaei M. Unilateral right and...     50480.0   \n",
       "\n",
       "  Year Added to PTSD-Repository  \n",
       "0                          2019  \n",
       "1                          2019  \n",
       "2                          2019  \n",
       "3                          2019  \n",
       "4                          2019  \n",
       "\n",
       "[5 rows x 35 columns]"
      ]
     },
     "execution_count": 27,
     "metadata": {},
     "output_type": "execute_result"
    }
   ],
   "source": [
    "bias.head()"
   ]
  },
  {
   "cell_type": "code",
   "execution_count": 28,
   "id": "8a575134",
   "metadata": {},
   "outputs": [
    {
     "data": {
      "text/plain": [
       "<AxesSubplot:>"
      ]
     },
     "execution_count": 28,
     "metadata": {},
     "output_type": "execute_result"
    },
    {
     "data": {
      "image/png": "[encoded data removed]",
      "text/plain": [
       "<Figure size 432x288 with 1 Axes>"
      ]
     },
     "metadata": {
      "needs_background": "light"
     },
     "output_type": "display_data"
    }
   ],
   "source": [
    "bias['Female Percent (Study level)'].hist()"
   ]
  },
  {
   "cell_type": "code",
   "execution_count": 29,
   "id": "4f1faabc",
   "metadata": {},
   "outputs": [
    {
     "data": {
      "text/plain": [
       "<AxesSubplot:>"
      ]
     },
     "execution_count": 29,
     "metadata": {},
     "output_type": "execute_result"
    },
    {
     "data": {
      "image/png": "[encoded data removed]",
      "text/plain": [
       "<Figure size 432x288 with 1 Axes>"
      ]
     },
     "metadata": {
      "needs_background": "light"
     },
     "output_type": "display_data"
    }
   ],
   "source": [
    "bias['Male Percent (Study level)'].hist()"
   ]
  },
  {
   "cell_type": "code",
   "execution_count": 30,
   "id": "b65d7386",
   "metadata": {},
   "outputs": [],
   "source": [
    "bias2 =bias[['Female Percent (Study level)', 'Male Percent (Study level)']].dropna()"
   ]
  },
  {
   "cell_type": "code",
   "execution_count": 31,
   "id": "e3c9a223",
   "metadata": {},
   "outputs": [
    {
     "data": {
      "text/html": [
       "<div>\n",
       "<style scoped>\n",
       "    .dataframe tbody tr th:only-of-type {\n",
       "        vertical-align: middle;\n",
       "    }\n",
       "\n",
       "    .dataframe tbody tr th {\n",
       "        vertical-align: top;\n",
       "    }\n",
       "\n",
       "    .dataframe thead th {\n",
       "        text-align: right;\n",
       "    }\n",
       "</style>\n",
       "<table border=\"1\" class=\"dataframe\">\n",
       "  <thead>\n",
       "    <tr style=\"text-align: right;\">\n",
       "      <th></th>\n",
       "      <th>Female Percent (Study level)</th>\n",
       "      <th>Male Percent (Study level)</th>\n",
       "    </tr>\n",
       "  </thead>\n",
       "  <tbody>\n",
       "    <tr>\n",
       "      <th>0</th>\n",
       "      <td>0.7449</td>\n",
       "      <td>0.2551</td>\n",
       "    </tr>\n",
       "    <tr>\n",
       "      <th>1</th>\n",
       "      <td>0.0379</td>\n",
       "      <td>0.9621</td>\n",
       "    </tr>\n",
       "    <tr>\n",
       "      <th>2</th>\n",
       "      <td>0.4412</td>\n",
       "      <td>0.5588</td>\n",
       "    </tr>\n",
       "    <tr>\n",
       "      <th>3</th>\n",
       "      <td>0.0000</td>\n",
       "      <td>1.0000</td>\n",
       "    </tr>\n",
       "    <tr>\n",
       "      <th>4</th>\n",
       "      <td>0.0000</td>\n",
       "      <td>1.0000</td>\n",
       "    </tr>\n",
       "  </tbody>\n",
       "</table>\n",
       "</div>"
      ],
      "text/plain": [
       "   Female Percent (Study level)  Male Percent (Study level)\n",
       "0                        0.7449                      0.2551\n",
       "1                        0.0379                      0.9621\n",
       "2                        0.4412                      0.5588\n",
       "3                        0.0000                      1.0000\n",
       "4                        0.0000                      1.0000"
      ]
     },
     "execution_count": 31,
     "metadata": {},
     "output_type": "execute_result"
    }
   ],
   "source": [
    "bias2.head()"
   ]
  },
  {
   "cell_type": "code",
   "execution_count": 32,
   "id": "15753587",
   "metadata": {},
   "outputs": [
    {
     "data": {
      "text/plain": [
       "Ttest_1sampResult(statistic=-780.3953325665119, pvalue=0.0)"
      ]
     },
     "execution_count": 32,
     "metadata": {},
     "output_type": "execute_result"
    }
   ],
   "source": [
    "stats.ttest_1samp(bias2['Female Percent (Study level)'], 15)"
   ]
  },
  {
   "cell_type": "code",
   "execution_count": 33,
   "id": "2eabbbb1",
   "metadata": {},
   "outputs": [
    {
     "data": {
      "text/plain": [
       "Ttest_1sampResult(statistic=-776.3813246914493, pvalue=0.0)"
      ]
     },
     "execution_count": 33,
     "metadata": {},
     "output_type": "execute_result"
    }
   ],
   "source": [
    "stats.ttest_1samp(bias2['Male Percent (Study level)'], 15)"
   ]
  },
  {
   "cell_type": "code",
   "execution_count": 34,
   "id": "33ce2e68",
   "metadata": {},
   "outputs": [
    {
     "data": {
      "text/plain": [
       "Total N Randomized (Study level)          82.966581\n",
       "Attrition Overall Greater Than 20%         0.315994\n",
       "Active Duty Military (Study level)         0.094748\n",
       "Veteran Percent (Study level)              0.723692\n",
       "Community Percent (Study level)            0.608769\n",
       "Female Percent (Study level)               0.460399\n",
       "Male Percent (Study level)                 0.539886\n",
       "PTSDPubs ID                           100595.570248\n",
       "Year Added to PTSD-Repository           2019.226221\n",
       "dtype: float64"
      ]
     },
     "execution_count": 34,
     "metadata": {},
     "output_type": "execute_result"
    }
   ],
   "source": [
    "bias.mean()"
   ]
  },
  {
   "cell_type": "code",
   "execution_count": 35,
   "id": "239712ea",
   "metadata": {},
   "outputs": [
    {
     "data": {
      "text/plain": [
       "Ttest_indResult(statistic=-3.01729332663548, pvalue=0.0026393372907377454)"
      ]
     },
     "execution_count": 35,
     "metadata": {},
     "output_type": "execute_result"
    }
   ],
   "source": [
    "ttest_ind(bias2['Female Percent (Study level)'], bias2['Male Percent (Study level)'])"
   ]
  },
  {
   "cell_type": "code",
   "execution_count": 36,
   "id": "5866ce44",
   "metadata": {},
   "outputs": [
    {
     "data": {
      "text/plain": [
       "Total N Randomized (Study level)          82.966581\n",
       "Attrition Overall Greater Than 20%         0.315994\n",
       "Active Duty Military (Study level)         0.094748\n",
       "Veteran Percent (Study level)              0.723692\n",
       "Community Percent (Study level)            0.608769\n",
       "Female Percent (Study level)               0.460399\n",
       "Male Percent (Study level)                 0.539886\n",
       "PTSDPubs ID                           100595.570248\n",
       "Year Added to PTSD-Repository           2019.226221\n",
       "dtype: float64"
      ]
     },
     "execution_count": 36,
     "metadata": {},
     "output_type": "execute_result"
    }
   ],
   "source": [
    "bias.mean()"
   ]
  },
  {
   "cell_type": "code",
   "execution_count": 37,
   "id": "f2fc77cd",
   "metadata": {},
   "outputs": [
    {
     "data": {
      "text/plain": [
       "0                                                    NaN\n",
       "1                                                    NaN\n",
       "2                                                    NaN\n",
       "3                                                    NaN\n",
       "4                                                    NaN\n",
       "                             ...                        \n",
       "384                                                  NaN\n",
       "385       rape/sexual assault, community/school violence\n",
       "386    combat-related, child physical abuse, child se...\n",
       "387         combat-related, accidents, other (captivity)\n",
       "388                                                  NaN\n",
       "Name: Trauma Detail (Study level), Length: 389, dtype: object"
      ]
     },
     "execution_count": 37,
     "metadata": {},
     "output_type": "execute_result"
    }
   ],
   "source": [
    "bias['Trauma Detail (Study level)']"
   ]
  },
  {
   "cell_type": "code",
   "execution_count": 38,
   "id": "10c4057b",
   "metadata": {},
   "outputs": [],
   "source": [
    "bias2 =bias[['Trauma Detail (Study level)', ]].dropna()"
   ]
  },
  {
   "cell_type": "code",
   "execution_count": 39,
   "id": "2c88bc33",
   "metadata": {},
   "outputs": [
    {
     "data": {
      "text/plain": [
       "<bound method NDFrame._add_numeric_operations.<locals>.mean of             Study ID                                 Study Class  \\\n",
       "0       acarturk2016                               Psychotherapy   \n",
       "1        acierno2017                               Psychotherapy   \n",
       "2       adenauer2011                               Psychotherapy   \n",
       "3         ahmadi2015                  Mixed: Psychotherapy & CIH   \n",
       "4    ahmadizadeh2018                 Nonpharmacologic biological   \n",
       "..               ...                                         ...   \n",
       "384     zlotnick1997                               Psychotherapy   \n",
       "385     zlotnick2009                               Psychotherapy   \n",
       "386     zoellner2017      Mixed: Psychotherapy & pharmacotherapy   \n",
       "387        zohar2002                             Pharmacotherapy   \n",
       "388       zucker2009  Complementary and integrative health (CIH)   \n",
       "\n",
       "    Treatment Focus  Total N Randomized (Study level)  \\\n",
       "0              PTSD                                98   \n",
       "1              PTSD                               150   \n",
       "2              PTSD                                34   \n",
       "3              PTSD                                48   \n",
       "4              PTSD                                65   \n",
       "..              ...                               ...   \n",
       "384            PTSD                                46   \n",
       "385        PTSD+SUD                                49   \n",
       "386            PTSD                                42   \n",
       "387            PTSD                                42   \n",
       "388            PTSD                                45   \n",
       "\n",
       "    Selection Bias: Randomization Adequate  \\\n",
       "0                                      Yes   \n",
       "1                                      Yes   \n",
       "2                                      Yes   \n",
       "3                                  Unclear   \n",
       "4                                  Unclear   \n",
       "..                                     ...   \n",
       "384                                Unclear   \n",
       "385                                Unclear   \n",
       "386                                    Yes   \n",
       "387                                Unclear   \n",
       "388                                     No   \n",
       "\n",
       "    Selection Bias: Allocation Concealment Adequate  \\\n",
       "0                                               Yes   \n",
       "1                                               Yes   \n",
       "2                                           Unclear   \n",
       "3                                           Unclear   \n",
       "4                                           Unclear   \n",
       "..                                              ...   \n",
       "384                                         Unclear   \n",
       "385                                         Unclear   \n",
       "386                                         Unclear   \n",
       "387                                         Unclear   \n",
       "388                                         Unclear   \n",
       "\n",
       "    Selection Bias: Groups Similar at Baseline Selection Bias: ITT Analysis  \\\n",
       "0                                      Unclear                          Yes   \n",
       "1                                          Yes                           No   \n",
       "2                                           No                          Yes   \n",
       "3                                          Yes                           No   \n",
       "4                                          Yes                          Yes   \n",
       "..                                         ...                          ...   \n",
       "384                                         No                           No   \n",
       "385                                    Unclear                           No   \n",
       "386                                        Yes                          Yes   \n",
       "387                                         No                          Yes   \n",
       "388                                        Yes                           No   \n",
       "\n",
       "    Performance Bias: Care Providers Masked Performance Bias: Patients Masked  \\\n",
       "0                                        No                                No   \n",
       "1                                        No                                No   \n",
       "2                                        No                                No   \n",
       "3                                        No                                No   \n",
       "4                                        No                               Yes   \n",
       "..                                      ...                               ...   \n",
       "384                                      No                                No   \n",
       "385                                      No                                No   \n",
       "386                                     Yes                               Yes   \n",
       "387                                     Yes                               Yes   \n",
       "388                                      No                                No   \n",
       "\n",
       "     ... Veteran Percent (Study level) Community Percent (Study level)  \\\n",
       "0    ...                           NaN                             1.0   \n",
       "1    ...                           1.0                             NaN   \n",
       "2    ...                           NaN                             1.0   \n",
       "3    ...                           0.0                             0.0   \n",
       "4    ...                           1.0                             0.0   \n",
       "..   ...                           ...                             ...   \n",
       "384  ...                           NaN                             1.0   \n",
       "385  ...                           NaN                             1.0   \n",
       "386  ...                           NaN                             1.0   \n",
       "387  ...                           1.0                             0.0   \n",
       "388  ...                           NaN                             1.0   \n",
       "\n",
       "     Female Percent (Study level) Female Percent Detail (Study level)  \\\n",
       "0                          0.7449                                 NaN   \n",
       "1                          0.0379                                 NaN   \n",
       "2                          0.4412                                 NaN   \n",
       "3                          0.0000                                 NaN   \n",
       "4                          0.0000                                 NaN   \n",
       "..                            ...                                 ...   \n",
       "384                        1.0000                                 NaN   \n",
       "385                        1.0000                                 NaN   \n",
       "386                        0.7143                                 NaN   \n",
       "387                        0.8800                                 NaN   \n",
       "388                        0.4470                                 NaN   \n",
       "\n",
       "    Male Percent (Study level)  \\\n",
       "0                       0.2551   \n",
       "1                       0.9621   \n",
       "2                       0.5588   \n",
       "3                       1.0000   \n",
       "4                       1.0000   \n",
       "..                         ...   \n",
       "384                     0.0000   \n",
       "385                     0.0000   \n",
       "386                     0.2857   \n",
       "387                     0.1200   \n",
       "388                     0.5530   \n",
       "\n",
       "                            Trauma Type (Study level)  \\\n",
       "0    Terrorism/political violence/forced displacement   \n",
       "1                                      Combat-related   \n",
       "2    Terrorism/political violence/forced displacement   \n",
       "3                                      Combat-related   \n",
       "4                                      Combat-related   \n",
       "..                                                ...   \n",
       "384                                Child sexual abuse   \n",
       "385                                             Mixed   \n",
       "386                                             Mixed   \n",
       "387                                             Mixed   \n",
       "388                                               NaN   \n",
       "\n",
       "                           Trauma Detail (Study level)  \\\n",
       "0                                                  NaN   \n",
       "1                                                  NaN   \n",
       "2                                                  NaN   \n",
       "3                                                  NaN   \n",
       "4                                                  NaN   \n",
       "..                                                 ...   \n",
       "384                                                NaN   \n",
       "385     rape/sexual assault, community/school violence   \n",
       "386  combat-related, child physical abuse, child se...   \n",
       "387       combat-related, accidents, other (captivity)   \n",
       "388                                                NaN   \n",
       "\n",
       "                                              Citation PTSDPubs ID  \\\n",
       "0    Acarturk C, Konuk E, Cetinkaya M, et al. The e...     45262.0   \n",
       "1    Acierno RE, Knapp RG, Tuerk PW, et al. A non-i...     45948.0   \n",
       "2    Adenauer H, Catani C, Gola H, et al. Narrative...     37889.0   \n",
       "3    Ahmadi K, Hazrati M, Ahmadizadeh MJ, et al. RE...     46896.0   \n",
       "4    Ahmadizadeh MJ, Rezaei M. Unilateral right and...     50480.0   \n",
       "..                                                 ...         ...   \n",
       "384  Zlotnick C, Shea MT, Rosen KH, et al. An affec...     13731.0   \n",
       "385  Zlotnick C, Johnson JE, Najavits LM. Randomize...     32555.0   \n",
       "386  Zoellner LA, Telch M, Foa EB, et al. Enhancing...     48582.0   \n",
       "387  Zohar J, Amital D, Miodownik C, et al. Double-...     24564.0   \n",
       "388  Zucker TL, Samuelson KW, Muench F, et al. The ...     33842.0   \n",
       "\n",
       "    Year Added to PTSD-Repository  \n",
       "0                            2019  \n",
       "1                            2019  \n",
       "2                            2019  \n",
       "3                            2019  \n",
       "4                            2019  \n",
       "..                            ...  \n",
       "384                          2019  \n",
       "385                          2020  \n",
       "386                          2019  \n",
       "387                          2019  \n",
       "388                          2019  \n",
       "\n",
       "[389 rows x 35 columns]>"
      ]
     },
     "execution_count": 39,
     "metadata": {},
     "output_type": "execute_result"
    }
   ],
   "source": [
    "bias.mean"
   ]
  },
  {
   "cell_type": "code",
   "execution_count": 40,
   "id": "53d23b56",
   "metadata": {},
   "outputs": [
    {
     "data": {
      "text/plain": [
       "Index(['Study ID', 'Study Class', 'Treatment Focus',\n",
       "       'Total N Randomized (Study level)',\n",
       "       'Selection Bias: Randomization Adequate',\n",
       "       'Selection Bias: Allocation Concealment Adequate',\n",
       "       'Selection Bias: Groups Similar at Baseline',\n",
       "       'Selection Bias: ITT Analysis',\n",
       "       'Performance Bias: Care Providers Masked',\n",
       "       'Performance Bias: Patients Masked',\n",
       "       'Detection Bias: Outcome Assessors Masked',\n",
       "       'Attrition Overall Less Than or Equal to 20%',\n",
       "       'Attrition Overall Greater Than 20%',\n",
       "       'Attrition Differential Less Than or Equal to 15%',\n",
       "       'Attrition Differential Greater Than 15%',\n",
       "       'Additional Quantitative Data Reported',\n",
       "       'Reporting Bias: All Prespecified Outcomes Reported',\n",
       "       'Reporting Bias: Method of Handling Dropouts',\n",
       "       'Reporting Bias: Detail of Other Methods of Handling Dropouts',\n",
       "       'Outcome Measures Equal Valid and Reliable',\n",
       "       'Study Reports Adequate Treatment Fidelity Based on Measurements by Independent Raters',\n",
       "       'Risk of Bias Rating', 'EPC Assessing Risk of Bias',\n",
       "       'Military Status (Study level)', 'Active Duty Military (Study level)',\n",
       "       'Veteran Percent (Study level)', 'Community Percent (Study level)',\n",
       "       'Female Percent (Study level)', 'Female Percent Detail (Study level)',\n",
       "       'Male Percent (Study level)', 'Trauma Type (Study level)',\n",
       "       'Trauma Detail (Study level)', 'Citation', 'PTSDPubs ID',\n",
       "       'Year Added to PTSD-Repository'],\n",
       "      dtype='object')"
      ]
     },
     "execution_count": 40,
     "metadata": {},
     "output_type": "execute_result"
    }
   ],
   "source": [
    "bias.columns"
   ]
  },
  {
   "cell_type": "code",
   "execution_count": 41,
   "id": "d7ae2325",
   "metadata": {},
   "outputs": [
    {
     "data": {
      "text/plain": [
       "-0.9998917477816226"
      ]
     },
     "execution_count": 41,
     "metadata": {},
     "output_type": "execute_result"
    }
   ],
   "source": [
    "bias['Female Percent (Study level)'].corr(bias['Male Percent (Study level)'])"
   ]
  },
  {
   "cell_type": "code",
   "execution_count": 45,
   "id": "f5f6e7e4",
   "metadata": {},
   "outputs": [
    {
     "data": {
      "text/html": [
       "<style  type=\"text/css\" >\n",
       "#T_873ac_row0_col0,#T_873ac_row1_col1,#T_873ac_row2_col2,#T_873ac_row3_col3,#T_873ac_row4_col4,#T_873ac_row5_col5,#T_873ac_row6_col6,#T_873ac_row7_col7,#T_873ac_row8_col8{\n",
       "            background-color:  #b40426;\n",
       "            color:  #f1f1f1;\n",
       "        }#T_873ac_row0_col1{\n",
       "            background-color:  #5673e0;\n",
       "            color:  #000000;\n",
       "        }#T_873ac_row0_col2{\n",
       "            background-color:  #7093f3;\n",
       "            color:  #000000;\n",
       "        }#T_873ac_row0_col3{\n",
       "            background-color:  #3e51c5;\n",
       "            color:  #f1f1f1;\n",
       "        }#T_873ac_row0_col4,#T_873ac_row4_col6{\n",
       "            background-color:  #4055c8;\n",
       "            color:  #f1f1f1;\n",
       "        }#T_873ac_row0_col5{\n",
       "            background-color:  #4257c9;\n",
       "            color:  #f1f1f1;\n",
       "        }#T_873ac_row0_col6,#T_873ac_row1_col0{\n",
       "            background-color:  #5e7de7;\n",
       "            color:  #000000;\n",
       "        }#T_873ac_row0_col7,#T_873ac_row1_col3,#T_873ac_row2_col3,#T_873ac_row3_col4,#T_873ac_row4_col3,#T_873ac_row5_col6,#T_873ac_row6_col5,#T_873ac_row7_col6,#T_873ac_row8_col3{\n",
       "            background-color:  #3b4cc0;\n",
       "            color:  #f1f1f1;\n",
       "        }#T_873ac_row0_col8,#T_873ac_row1_col2{\n",
       "            background-color:  #7a9df8;\n",
       "            color:  #000000;\n",
       "        }#T_873ac_row1_col4{\n",
       "            background-color:  #5875e1;\n",
       "            color:  #000000;\n",
       "        }#T_873ac_row1_col5{\n",
       "            background-color:  #516ddb;\n",
       "            color:  #000000;\n",
       "        }#T_873ac_row1_col6,#T_873ac_row1_col7{\n",
       "            background-color:  #5f7fe8;\n",
       "            color:  #000000;\n",
       "        }#T_873ac_row1_col8{\n",
       "            background-color:  #4f69d9;\n",
       "            color:  #000000;\n",
       "        }#T_873ac_row2_col0,#T_873ac_row2_col1{\n",
       "            background-color:  #c4d5f3;\n",
       "            color:  #000000;\n",
       "        }#T_873ac_row2_col4,#T_873ac_row5_col3{\n",
       "            background-color:  #88abfd;\n",
       "            color:  #000000;\n",
       "        }#T_873ac_row2_col5{\n",
       "            background-color:  #8badfd;\n",
       "            color:  #000000;\n",
       "        }#T_873ac_row2_col6,#T_873ac_row3_col7{\n",
       "            background-color:  #ccd9ed;\n",
       "            color:  #000000;\n",
       "        }#T_873ac_row2_col7{\n",
       "            background-color:  #a1c0ff;\n",
       "            color:  #000000;\n",
       "        }#T_873ac_row2_col8,#T_873ac_row8_col7{\n",
       "            background-color:  #94b6ff;\n",
       "            color:  #000000;\n",
       "        }#T_873ac_row3_col0{\n",
       "            background-color:  #c0d4f5;\n",
       "            color:  #000000;\n",
       "        }#T_873ac_row3_col1{\n",
       "            background-color:  #b9d0f9;\n",
       "            color:  #000000;\n",
       "        }#T_873ac_row3_col2{\n",
       "            background-color:  #688aef;\n",
       "            color:  #000000;\n",
       "        }#T_873ac_row3_col5{\n",
       "            background-color:  #6788ee;\n",
       "            color:  #000000;\n",
       "        }#T_873ac_row3_col6{\n",
       "            background-color:  #f59f80;\n",
       "            color:  #000000;\n",
       "        }#T_873ac_row3_col8{\n",
       "            background-color:  #8caffe;\n",
       "            color:  #000000;\n",
       "        }#T_873ac_row4_col0{\n",
       "            background-color:  #c3d5f4;\n",
       "            color:  #000000;\n",
       "        }#T_873ac_row4_col1{\n",
       "            background-color:  #cbd8ee;\n",
       "            color:  #000000;\n",
       "        }#T_873ac_row4_col2{\n",
       "            background-color:  #aec9fc;\n",
       "            color:  #000000;\n",
       "        }#T_873ac_row4_col5{\n",
       "            background-color:  #e36b54;\n",
       "            color:  #000000;\n",
       "        }#T_873ac_row4_col7{\n",
       "            background-color:  #d7dce3;\n",
       "            color:  #000000;\n",
       "        }#T_873ac_row4_col8{\n",
       "            background-color:  #afcafc;\n",
       "            color:  #000000;\n",
       "        }#T_873ac_row5_col0{\n",
       "            background-color:  #d6dce4;\n",
       "            color:  #000000;\n",
       "        }#T_873ac_row5_col1{\n",
       "            background-color:  #d9dce1;\n",
       "            color:  #000000;\n",
       "        }#T_873ac_row5_col2{\n",
       "            background-color:  #c7d7f0;\n",
       "            color:  #000000;\n",
       "        }#T_873ac_row5_col4{\n",
       "            background-color:  #de614d;\n",
       "            color:  #000000;\n",
       "        }#T_873ac_row5_col7{\n",
       "            background-color:  #e9d5cb;\n",
       "            color:  #000000;\n",
       "        }#T_873ac_row5_col8{\n",
       "            background-color:  #d5dbe5;\n",
       "            color:  #000000;\n",
       "        }#T_873ac_row6_col0{\n",
       "            background-color:  #e3d9d3;\n",
       "            color:  #000000;\n",
       "        }#T_873ac_row6_col1{\n",
       "            background-color:  #e0dbd8;\n",
       "            color:  #000000;\n",
       "        }#T_873ac_row6_col2{\n",
       "            background-color:  #eed0c0;\n",
       "            color:  #000000;\n",
       "        }#T_873ac_row6_col3{\n",
       "            background-color:  #f39475;\n",
       "            color:  #000000;\n",
       "        }#T_873ac_row6_col4{\n",
       "            background-color:  #6384eb;\n",
       "            color:  #000000;\n",
       "        }#T_873ac_row6_col7{\n",
       "            background-color:  #cfdaea;\n",
       "            color:  #000000;\n",
       "        }#T_873ac_row6_col8{\n",
       "            background-color:  #e4d9d2;\n",
       "            color:  #000000;\n",
       "        }#T_873ac_row7_col0{\n",
       "            background-color:  #3f53c6;\n",
       "            color:  #f1f1f1;\n",
       "        }#T_873ac_row7_col1{\n",
       "            background-color:  #5b7ae5;\n",
       "            color:  #000000;\n",
       "        }#T_873ac_row7_col2{\n",
       "            background-color:  #465ecf;\n",
       "            color:  #f1f1f1;\n",
       "        }#T_873ac_row7_col3{\n",
       "            background-color:  #5572df;\n",
       "            color:  #000000;\n",
       "        }#T_873ac_row7_col4{\n",
       "            background-color:  #6b8df0;\n",
       "            color:  #000000;\n",
       "        }#T_873ac_row7_col5,#T_873ac_row8_col2{\n",
       "            background-color:  #7295f4;\n",
       "            color:  #000000;\n",
       "        }#T_873ac_row7_col8{\n",
       "            background-color:  #5d7ce6;\n",
       "            color:  #000000;\n",
       "        }#T_873ac_row8_col0{\n",
       "            background-color:  #b1cbfc;\n",
       "            color:  #000000;\n",
       "        }#T_873ac_row8_col1{\n",
       "            background-color:  #85a8fc;\n",
       "            color:  #000000;\n",
       "        }#T_873ac_row8_col4{\n",
       "            background-color:  #6485ec;\n",
       "            color:  #000000;\n",
       "        }#T_873ac_row8_col5{\n",
       "            background-color:  #7ea1fa;\n",
       "            color:  #000000;\n",
       "        }#T_873ac_row8_col6{\n",
       "            background-color:  #9ebeff;\n",
       "            color:  #000000;\n",
       "        }</style><table id=\"T_873ac_\" ><thead>    <tr>        <th class=\"blank level0\" ></th>        <th class=\"col_heading level0 col0\" >Total N Randomized (Study level)</th>        <th class=\"col_heading level0 col1\" >Attrition Overall Greater Than 20%</th>        <th class=\"col_heading level0 col2\" >Active Duty Military (Study level)</th>        <th class=\"col_heading level0 col3\" >Veteran Percent (Study level)</th>        <th class=\"col_heading level0 col4\" >Community Percent (Study level)</th>        <th class=\"col_heading level0 col5\" >Female Percent (Study level)</th>        <th class=\"col_heading level0 col6\" >Male Percent (Study level)</th>        <th class=\"col_heading level0 col7\" >PTSDPubs ID</th>        <th class=\"col_heading level0 col8\" >Year Added to PTSD-Repository</th>    </tr></thead><tbody>\n",
       "                <tr>\n",
       "                        <th id=\"T_873ac_level0_row0\" class=\"row_heading level0 row0\" >Total N Randomized (Study level)</th>\n",
       "                        <td id=\"T_873ac_row0_col0\" class=\"data row0 col0\" >1.0</td>\n",
       "                        <td id=\"T_873ac_row0_col1\" class=\"data row0 col1\" >0.022</td>\n",
       "                        <td id=\"T_873ac_row0_col2\" class=\"data row0 col2\" >0.11</td>\n",
       "                        <td id=\"T_873ac_row0_col3\" class=\"data row0 col3\" >-0.063</td>\n",
       "                        <td id=\"T_873ac_row0_col4\" class=\"data row0 col4\" >-0.052</td>\n",
       "                        <td id=\"T_873ac_row0_col5\" class=\"data row0 col5\" >-0.049</td>\n",
       "                        <td id=\"T_873ac_row0_col6\" class=\"data row0 col6\" >0.049</td>\n",
       "                        <td id=\"T_873ac_row0_col7\" class=\"data row0 col7\" >-0.077</td>\n",
       "                        <td id=\"T_873ac_row0_col8\" class=\"data row0 col8\" >0.14</td>\n",
       "            </tr>\n",
       "            <tr>\n",
       "                        <th id=\"T_873ac_level0_row1\" class=\"row_heading level0 row1\" >Attrition Overall Greater Than 20%</th>\n",
       "                        <td id=\"T_873ac_row1_col0\" class=\"data row1 col0\" >0.022</td>\n",
       "                        <td id=\"T_873ac_row1_col1\" class=\"data row1 col1\" >1.0</td>\n",
       "                        <td id=\"T_873ac_row1_col2\" class=\"data row1 col2\" >0.11</td>\n",
       "                        <td id=\"T_873ac_row1_col3\" class=\"data row1 col3\" >-0.11</td>\n",
       "                        <td id=\"T_873ac_row1_col4\" class=\"data row1 col4\" >-0.0018</td>\n",
       "                        <td id=\"T_873ac_row1_col5\" class=\"data row1 col5\" >-0.024</td>\n",
       "                        <td id=\"T_873ac_row1_col6\" class=\"data row1 col6\" >0.025</td>\n",
       "                        <td id=\"T_873ac_row1_col7\" class=\"data row1 col7\" >0.022</td>\n",
       "                        <td id=\"T_873ac_row1_col8\" class=\"data row1 col8\" >-0.03</td>\n",
       "            </tr>\n",
       "            <tr>\n",
       "                        <th id=\"T_873ac_level0_row2\" class=\"row_heading level0 row2\" >Active Duty Military (Study level)</th>\n",
       "                        <td id=\"T_873ac_row2_col0\" class=\"data row2 col0\" >0.11</td>\n",
       "                        <td id=\"T_873ac_row2_col1\" class=\"data row2 col1\" >0.11</td>\n",
       "                        <td id=\"T_873ac_row2_col2\" class=\"data row2 col2\" >1.0</td>\n",
       "                        <td id=\"T_873ac_row2_col3\" class=\"data row2 col3\" >-0.52</td>\n",
       "                        <td id=\"T_873ac_row2_col4\" class=\"data row2 col4\" >-0.16</td>\n",
       "                        <td id=\"T_873ac_row2_col5\" class=\"data row2 col5\" >-0.15</td>\n",
       "                        <td id=\"T_873ac_row2_col6\" class=\"data row2 col6\" >0.15</td>\n",
       "                        <td id=\"T_873ac_row2_col7\" class=\"data row2 col7\" >-0.051</td>\n",
       "                        <td id=\"T_873ac_row2_col8\" class=\"data row2 col8\" >-0.1</td>\n",
       "            </tr>\n",
       "            <tr>\n",
       "                        <th id=\"T_873ac_level0_row3\" class=\"row_heading level0 row3\" >Veteran Percent (Study level)</th>\n",
       "                        <td id=\"T_873ac_row3_col0\" class=\"data row3 col0\" >-0.063</td>\n",
       "                        <td id=\"T_873ac_row3_col1\" class=\"data row3 col1\" >-0.11</td>\n",
       "                        <td id=\"T_873ac_row3_col2\" class=\"data row3 col2\" >-0.52</td>\n",
       "                        <td id=\"T_873ac_row3_col3\" class=\"data row3 col3\" >1.0</td>\n",
       "                        <td id=\"T_873ac_row3_col4\" class=\"data row3 col4\" >-0.78</td>\n",
       "                        <td id=\"T_873ac_row3_col5\" class=\"data row3 col5\" >-0.53</td>\n",
       "                        <td id=\"T_873ac_row3_col6\" class=\"data row3 col6\" >0.53</td>\n",
       "                        <td id=\"T_873ac_row3_col7\" class=\"data row3 col7\" >-0.0003</td>\n",
       "                        <td id=\"T_873ac_row3_col8\" class=\"data row3 col8\" >-0.34</td>\n",
       "            </tr>\n",
       "            <tr>\n",
       "                        <th id=\"T_873ac_level0_row4\" class=\"row_heading level0 row4\" >Community Percent (Study level)</th>\n",
       "                        <td id=\"T_873ac_row4_col0\" class=\"data row4 col0\" >-0.052</td>\n",
       "                        <td id=\"T_873ac_row4_col1\" class=\"data row4 col1\" >-0.0018</td>\n",
       "                        <td id=\"T_873ac_row4_col2\" class=\"data row4 col2\" >-0.16</td>\n",
       "                        <td id=\"T_873ac_row4_col3\" class=\"data row4 col3\" >-0.78</td>\n",
       "                        <td id=\"T_873ac_row4_col4\" class=\"data row4 col4\" >1.0</td>\n",
       "                        <td id=\"T_873ac_row4_col5\" class=\"data row4 col5\" >0.74</td>\n",
       "                        <td id=\"T_873ac_row4_col6\" class=\"data row4 col6\" >-0.74</td>\n",
       "                        <td id=\"T_873ac_row4_col7\" class=\"data row4 col7\" >0.074</td>\n",
       "                        <td id=\"T_873ac_row4_col8\" class=\"data row4 col8\" >-0.16</td>\n",
       "            </tr>\n",
       "            <tr>\n",
       "                        <th id=\"T_873ac_level0_row5\" class=\"row_heading level0 row5\" >Female Percent (Study level)</th>\n",
       "                        <td id=\"T_873ac_row5_col0\" class=\"data row5 col0\" >-0.049</td>\n",
       "                        <td id=\"T_873ac_row5_col1\" class=\"data row5 col1\" >-0.024</td>\n",
       "                        <td id=\"T_873ac_row5_col2\" class=\"data row5 col2\" >-0.15</td>\n",
       "                        <td id=\"T_873ac_row5_col3\" class=\"data row5 col3\" >-0.53</td>\n",
       "                        <td id=\"T_873ac_row5_col4\" class=\"data row5 col4\" >0.74</td>\n",
       "                        <td id=\"T_873ac_row5_col5\" class=\"data row5 col5\" >1.0</td>\n",
       "                        <td id=\"T_873ac_row5_col6\" class=\"data row5 col6\" >-1.0</td>\n",
       "                        <td id=\"T_873ac_row5_col7\" class=\"data row5 col7\" >0.095</td>\n",
       "                        <td id=\"T_873ac_row5_col8\" class=\"data row5 col8\" >-0.058</td>\n",
       "            </tr>\n",
       "            <tr>\n",
       "                        <th id=\"T_873ac_level0_row6\" class=\"row_heading level0 row6\" >Male Percent (Study level)</th>\n",
       "                        <td id=\"T_873ac_row6_col0\" class=\"data row6 col0\" >0.049</td>\n",
       "                        <td id=\"T_873ac_row6_col1\" class=\"data row6 col1\" >0.025</td>\n",
       "                        <td id=\"T_873ac_row6_col2\" class=\"data row6 col2\" >0.15</td>\n",
       "                        <td id=\"T_873ac_row6_col3\" class=\"data row6 col3\" >0.53</td>\n",
       "                        <td id=\"T_873ac_row6_col4\" class=\"data row6 col4\" >-0.74</td>\n",
       "                        <td id=\"T_873ac_row6_col5\" class=\"data row6 col5\" >-1.0</td>\n",
       "                        <td id=\"T_873ac_row6_col6\" class=\"data row6 col6\" >1.0</td>\n",
       "                        <td id=\"T_873ac_row6_col7\" class=\"data row6 col7\" >-0.095</td>\n",
       "                        <td id=\"T_873ac_row6_col8\" class=\"data row6 col8\" >0.059</td>\n",
       "            </tr>\n",
       "            <tr>\n",
       "                        <th id=\"T_873ac_level0_row7\" class=\"row_heading level0 row7\" >PTSDPubs ID</th>\n",
       "                        <td id=\"T_873ac_row7_col0\" class=\"data row7 col0\" >-0.077</td>\n",
       "                        <td id=\"T_873ac_row7_col1\" class=\"data row7 col1\" >0.022</td>\n",
       "                        <td id=\"T_873ac_row7_col2\" class=\"data row7 col2\" >-0.051</td>\n",
       "                        <td id=\"T_873ac_row7_col3\" class=\"data row7 col3\" >-0.0003</td>\n",
       "                        <td id=\"T_873ac_row7_col4\" class=\"data row7 col4\" >0.074</td>\n",
       "                        <td id=\"T_873ac_row7_col5\" class=\"data row7 col5\" >0.095</td>\n",
       "                        <td id=\"T_873ac_row7_col6\" class=\"data row7 col6\" >-0.095</td>\n",
       "                        <td id=\"T_873ac_row7_col7\" class=\"data row7 col7\" >1.0</td>\n",
       "                        <td id=\"T_873ac_row7_col8\" class=\"data row7 col8\" >0.027</td>\n",
       "            </tr>\n",
       "            <tr>\n",
       "                        <th id=\"T_873ac_level0_row8\" class=\"row_heading level0 row8\" >Year Added to PTSD-Repository</th>\n",
       "                        <td id=\"T_873ac_row8_col0\" class=\"data row8 col0\" >0.14</td>\n",
       "                        <td id=\"T_873ac_row8_col1\" class=\"data row8 col1\" >-0.03</td>\n",
       "                        <td id=\"T_873ac_row8_col2\" class=\"data row8 col2\" >-0.1</td>\n",
       "                        <td id=\"T_873ac_row8_col3\" class=\"data row8 col3\" >-0.34</td>\n",
       "                        <td id=\"T_873ac_row8_col4\" class=\"data row8 col4\" >-0.16</td>\n",
       "                        <td id=\"T_873ac_row8_col5\" class=\"data row8 col5\" >-0.058</td>\n",
       "                        <td id=\"T_873ac_row8_col6\" class=\"data row8 col6\" >0.059</td>\n",
       "                        <td id=\"T_873ac_row8_col7\" class=\"data row8 col7\" >0.027</td>\n",
       "                        <td id=\"T_873ac_row8_col8\" class=\"data row8 col8\" >1.0</td>\n",
       "            </tr>\n",
       "    </tbody></table>"
      ],
      "text/plain": [
       "<pandas.io.formats.style.Styler at 0x229eb3fad00>"
      ]
     },
     "execution_count": 45,
     "metadata": {},
     "output_type": "execute_result"
    }
   ],
   "source": [
    "bias.corr(method='pearson').style.format(\"{:.2}\").background_gradient(cmap=plt.get_cmap('coolwarm'), axis=1)"
   ]
  },
  {
   "cell_type": "code",
   "execution_count": 47,
   "id": "cb644952",
   "metadata": {},
   "outputs": [
    {
     "data": {
      "text/plain": [
       "<AxesSubplot:>"
      ]
     },
     "execution_count": 47,
     "metadata": {},
     "output_type": "execute_result"
    },
    {
     "data": {
      "image/png": "[encoded data removed]",
      "text/plain": [
       "<Figure size 432x288 with 1 Axes>"
      ]
     },
     "metadata": {
      "needs_background": "light"
     },
     "output_type": "display_data"
    }
   ],
   "source": [
    "bias['Risk of Bias Rating'].hist()"
   ]
  },
  {
   "cell_type": "code",
   "execution_count": 48,
   "id": "fae243ef",
   "metadata": {},
   "outputs": [
    {
     "data": {
      "text/plain": [
       "0      Medium\n",
       "1      Medium\n",
       "2        High\n",
       "3        High\n",
       "4      Medium\n",
       "        ...  \n",
       "384      High\n",
       "385      High\n",
       "386    Medium\n",
       "387    Medium\n",
       "388      High\n",
       "Name: Risk of Bias Rating, Length: 389, dtype: object"
      ]
     },
     "execution_count": 48,
     "metadata": {},
     "output_type": "execute_result"
    }
   ],
   "source": [
    "bias['Risk of Bias Rating']"
   ]
  },
  {
   "cell_type": "code",
   "execution_count": null,
   "id": "43551429",
   "metadata": {},
   "outputs": [],
   "source": []
  }
 ],
 "metadata": {
  "kernelspec": {
   "display_name": "Python 3",
   "language": "python",
   "name": "python3"
  },
  "language_info": {
   "codemirror_mode": {
    "name": "ipython",
    "version": 3
   },
   "file_extension": ".py",
   "mimetype": "text/x-python",
   "name": "python",
   "nbconvert_exporter": "python",
   "pygments_lexer": "ipython3",
   "version": "3.8.8"
  }
 },
 "nbformat": 4,
 "nbformat_minor": 5
}
