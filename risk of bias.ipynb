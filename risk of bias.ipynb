{
 "cells": [
  {
   "cell_type": "code",
   "execution_count": 11,
   "id": "d062a8d2",
   "metadata": {},
   "outputs": [],
   "source": [
    "url = 'https://catalog.data.gov/dataset/risk-of-bias'\n",
    "bias = pd.read_csv('C:/Users/elean/Downloads/Risk_of_Bias.csv')"
   ]
  },
  {
   "cell_type": "code",
   "execution_count": 15,
   "id": "356daa61",
   "metadata": {},
   "outputs": [],
   "source": [
    "import pandas as pd\n",
    "import numpy as np\n",
    "from scipy.stats import norm\n",
    "from scipy import stats"
   ]
  },
  {
   "cell_type": "code",
   "execution_count": 12,
   "id": "0210c1f0",
   "metadata": {},
   "outputs": [
    {
     "data": {
      "text/html": [
       "<div>\n",
       "<style scoped>\n",
       "    .dataframe tbody tr th:only-of-type {\n",
       "        vertical-align: middle;\n",
       "    }\n",
       "\n",
       "    .dataframe tbody tr th {\n",
       "        vertical-align: top;\n",
       "    }\n",
       "\n",
       "    .dataframe thead th {\n",
       "        text-align: right;\n",
       "    }\n",
       "</style>\n",
       "<table border=\"1\" class=\"dataframe\">\n",
       "  <thead>\n",
       "    <tr style=\"text-align: right;\">\n",
       "      <th></th>\n",
       "      <th>Study ID</th>\n",
       "      <th>Study Class</th>\n",
       "      <th>Treatment Focus</th>\n",
       "      <th>Total N Randomized (Study level)</th>\n",
       "      <th>Selection Bias: Randomization Adequate</th>\n",
       "      <th>Selection Bias: Allocation Concealment Adequate</th>\n",
       "      <th>Selection Bias: Groups Similar at Baseline</th>\n",
       "      <th>Selection Bias: ITT Analysis</th>\n",
       "      <th>Performance Bias: Care Providers Masked</th>\n",
       "      <th>Performance Bias: Patients Masked</th>\n",
       "      <th>...</th>\n",
       "      <th>Veteran Percent (Study level)</th>\n",
       "      <th>Community Percent (Study level)</th>\n",
       "      <th>Female Percent (Study level)</th>\n",
       "      <th>Female Percent Detail (Study level)</th>\n",
       "      <th>Male Percent (Study level)</th>\n",
       "      <th>Trauma Type (Study level)</th>\n",
       "      <th>Trauma Detail (Study level)</th>\n",
       "      <th>Citation</th>\n",
       "      <th>PTSDPubs ID</th>\n",
       "      <th>Year Added to PTSD-Repository</th>\n",
       "    </tr>\n",
       "  </thead>\n",
       "  <tbody>\n",
       "    <tr>\n",
       "      <th>0</th>\n",
       "      <td>acarturk2016</td>\n",
       "      <td>Psychotherapy</td>\n",
       "      <td>PTSD</td>\n",
       "      <td>98</td>\n",
       "      <td>Yes</td>\n",
       "      <td>Yes</td>\n",
       "      <td>Unclear</td>\n",
       "      <td>Yes</td>\n",
       "      <td>No</td>\n",
       "      <td>No</td>\n",
       "      <td>...</td>\n",
       "      <td>NaN</td>\n",
       "      <td>1.0</td>\n",
       "      <td>0.7449</td>\n",
       "      <td>NaN</td>\n",
       "      <td>0.2551</td>\n",
       "      <td>Terrorism/political violence/forced displacement</td>\n",
       "      <td>NaN</td>\n",
       "      <td>Acarturk C, Konuk E, Cetinkaya M, et al. The e...</td>\n",
       "      <td>45262.0</td>\n",
       "      <td>2019</td>\n",
       "    </tr>\n",
       "    <tr>\n",
       "      <th>1</th>\n",
       "      <td>acierno2017</td>\n",
       "      <td>Psychotherapy</td>\n",
       "      <td>PTSD</td>\n",
       "      <td>150</td>\n",
       "      <td>Yes</td>\n",
       "      <td>Yes</td>\n",
       "      <td>Yes</td>\n",
       "      <td>No</td>\n",
       "      <td>No</td>\n",
       "      <td>No</td>\n",
       "      <td>...</td>\n",
       "      <td>1.0</td>\n",
       "      <td>NaN</td>\n",
       "      <td>0.0379</td>\n",
       "      <td>NaN</td>\n",
       "      <td>0.9621</td>\n",
       "      <td>Combat-related</td>\n",
       "      <td>NaN</td>\n",
       "      <td>Acierno RE, Knapp RG, Tuerk PW, et al. A non-i...</td>\n",
       "      <td>45948.0</td>\n",
       "      <td>2019</td>\n",
       "    </tr>\n",
       "    <tr>\n",
       "      <th>2</th>\n",
       "      <td>adenauer2011</td>\n",
       "      <td>Psychotherapy</td>\n",
       "      <td>PTSD</td>\n",
       "      <td>34</td>\n",
       "      <td>Yes</td>\n",
       "      <td>Unclear</td>\n",
       "      <td>No</td>\n",
       "      <td>Yes</td>\n",
       "      <td>No</td>\n",
       "      <td>No</td>\n",
       "      <td>...</td>\n",
       "      <td>NaN</td>\n",
       "      <td>1.0</td>\n",
       "      <td>0.4412</td>\n",
       "      <td>NaN</td>\n",
       "      <td>0.5588</td>\n",
       "      <td>Terrorism/political violence/forced displacement</td>\n",
       "      <td>NaN</td>\n",
       "      <td>Adenauer H, Catani C, Gola H, et al. Narrative...</td>\n",
       "      <td>37889.0</td>\n",
       "      <td>2019</td>\n",
       "    </tr>\n",
       "    <tr>\n",
       "      <th>3</th>\n",
       "      <td>ahmadi2015</td>\n",
       "      <td>Mixed: Psychotherapy &amp; CIH</td>\n",
       "      <td>PTSD</td>\n",
       "      <td>48</td>\n",
       "      <td>Unclear</td>\n",
       "      <td>Unclear</td>\n",
       "      <td>Yes</td>\n",
       "      <td>No</td>\n",
       "      <td>No</td>\n",
       "      <td>No</td>\n",
       "      <td>...</td>\n",
       "      <td>0.0</td>\n",
       "      <td>0.0</td>\n",
       "      <td>0.0000</td>\n",
       "      <td>NaN</td>\n",
       "      <td>1.0000</td>\n",
       "      <td>Combat-related</td>\n",
       "      <td>NaN</td>\n",
       "      <td>Ahmadi K, Hazrati M, Ahmadizadeh MJ, et al. RE...</td>\n",
       "      <td>46896.0</td>\n",
       "      <td>2019</td>\n",
       "    </tr>\n",
       "    <tr>\n",
       "      <th>4</th>\n",
       "      <td>ahmadizadeh2018</td>\n",
       "      <td>Nonpharmacologic biological</td>\n",
       "      <td>PTSD</td>\n",
       "      <td>65</td>\n",
       "      <td>Unclear</td>\n",
       "      <td>Unclear</td>\n",
       "      <td>Yes</td>\n",
       "      <td>Yes</td>\n",
       "      <td>No</td>\n",
       "      <td>Yes</td>\n",
       "      <td>...</td>\n",
       "      <td>1.0</td>\n",
       "      <td>0.0</td>\n",
       "      <td>0.0000</td>\n",
       "      <td>NaN</td>\n",
       "      <td>1.0000</td>\n",
       "      <td>Combat-related</td>\n",
       "      <td>NaN</td>\n",
       "      <td>Ahmadizadeh MJ, Rezaei M. Unilateral right and...</td>\n",
       "      <td>50480.0</td>\n",
       "      <td>2019</td>\n",
       "    </tr>\n",
       "  </tbody>\n",
       "</table>\n",
       "<p>5 rows × 35 columns</p>\n",
       "</div>"
      ],
      "text/plain": [
       "          Study ID                  Study Class Treatment Focus  \\\n",
       "0     acarturk2016                Psychotherapy            PTSD   \n",
       "1      acierno2017                Psychotherapy            PTSD   \n",
       "2     adenauer2011                Psychotherapy            PTSD   \n",
       "3       ahmadi2015   Mixed: Psychotherapy & CIH            PTSD   \n",
       "4  ahmadizadeh2018  Nonpharmacologic biological            PTSD   \n",
       "\n",
       "   Total N Randomized (Study level) Selection Bias: Randomization Adequate  \\\n",
       "0                                98                                    Yes   \n",
       "1                               150                                    Yes   \n",
       "2                                34                                    Yes   \n",
       "3                                48                                Unclear   \n",
       "4                                65                                Unclear   \n",
       "\n",
       "  Selection Bias: Allocation Concealment Adequate  \\\n",
       "0                                             Yes   \n",
       "1                                             Yes   \n",
       "2                                         Unclear   \n",
       "3                                         Unclear   \n",
       "4                                         Unclear   \n",
       "\n",
       "  Selection Bias: Groups Similar at Baseline Selection Bias: ITT Analysis  \\\n",
       "0                                    Unclear                          Yes   \n",
       "1                                        Yes                           No   \n",
       "2                                         No                          Yes   \n",
       "3                                        Yes                           No   \n",
       "4                                        Yes                          Yes   \n",
       "\n",
       "  Performance Bias: Care Providers Masked Performance Bias: Patients Masked  \\\n",
       "0                                      No                                No   \n",
       "1                                      No                                No   \n",
       "2                                      No                                No   \n",
       "3                                      No                                No   \n",
       "4                                      No                               Yes   \n",
       "\n",
       "   ... Veteran Percent (Study level) Community Percent (Study level)  \\\n",
       "0  ...                           NaN                             1.0   \n",
       "1  ...                           1.0                             NaN   \n",
       "2  ...                           NaN                             1.0   \n",
       "3  ...                           0.0                             0.0   \n",
       "4  ...                           1.0                             0.0   \n",
       "\n",
       "   Female Percent (Study level) Female Percent Detail (Study level)  \\\n",
       "0                        0.7449                                 NaN   \n",
       "1                        0.0379                                 NaN   \n",
       "2                        0.4412                                 NaN   \n",
       "3                        0.0000                                 NaN   \n",
       "4                        0.0000                                 NaN   \n",
       "\n",
       "  Male Percent (Study level)  \\\n",
       "0                     0.2551   \n",
       "1                     0.9621   \n",
       "2                     0.5588   \n",
       "3                     1.0000   \n",
       "4                     1.0000   \n",
       "\n",
       "                          Trauma Type (Study level)  \\\n",
       "0  Terrorism/political violence/forced displacement   \n",
       "1                                    Combat-related   \n",
       "2  Terrorism/political violence/forced displacement   \n",
       "3                                    Combat-related   \n",
       "4                                    Combat-related   \n",
       "\n",
       "  Trauma Detail (Study level)  \\\n",
       "0                         NaN   \n",
       "1                         NaN   \n",
       "2                         NaN   \n",
       "3                         NaN   \n",
       "4                         NaN   \n",
       "\n",
       "                                            Citation PTSDPubs ID  \\\n",
       "0  Acarturk C, Konuk E, Cetinkaya M, et al. The e...     45262.0   \n",
       "1  Acierno RE, Knapp RG, Tuerk PW, et al. A non-i...     45948.0   \n",
       "2  Adenauer H, Catani C, Gola H, et al. Narrative...     37889.0   \n",
       "3  Ahmadi K, Hazrati M, Ahmadizadeh MJ, et al. RE...     46896.0   \n",
       "4  Ahmadizadeh MJ, Rezaei M. Unilateral right and...     50480.0   \n",
       "\n",
       "  Year Added to PTSD-Repository  \n",
       "0                          2019  \n",
       "1                          2019  \n",
       "2                          2019  \n",
       "3                          2019  \n",
       "4                          2019  \n",
       "\n",
       "[5 rows x 35 columns]"
      ]
     },
     "execution_count": 12,
     "metadata": {},
     "output_type": "execute_result"
    }
   ],
   "source": [
    "bias.head()"
   ]
  },
  {
   "cell_type": "code",
   "execution_count": 21,
   "id": "97eae689",
   "metadata": {
    "scrolled": true
   },
   "outputs": [
    {
     "data": {
      "text/plain": [
       "<AxesSubplot:>"
      ]
     },
     "execution_count": 21,
     "metadata": {},
     "output_type": "execute_result"
    },
    {
     "data": {
      "image/png": "[encoded data removed]",
      "text/plain": [
       "<Figure size 432x288 with 1 Axes>"
      ]
     },
     "metadata": {
      "needs_background": "light"
     },
     "output_type": "display_data"
    }
   ],
   "source": [
    "bias['Female Percent (Study level)'].hist()"
   ]
  },
  {
   "cell_type": "code",
   "execution_count": 22,
   "id": "6b3a73dd",
   "metadata": {},
   "outputs": [
    {
     "data": {
      "text/plain": [
       "<AxesSubplot:>"
      ]
     },
     "execution_count": 22,
     "metadata": {},
     "output_type": "execute_result"
    },
    {
     "data": {
      "image/png": "[encoded data removed]",
      "text/plain": [
       "<Figure size 432x288 with 1 Axes>"
      ]
     },
     "metadata": {
      "needs_background": "light"
     },
     "output_type": "display_data"
    }
   ],
   "source": [
    "bias['Male Percent (Study level)'].hist()"
   ]
  },
  {
   "cell_type": "code",
   "execution_count": 78,
   "id": "e5749ab0",
   "metadata": {},
   "outputs": [],
   "source": [
    "bias2 =bias[['Female Percent (Study level)', 'Male Percent (Study level)']].dropna()"
   ]
  },
  {
   "cell_type": "code",
   "execution_count": 79,
   "id": "dc8d7a88",
   "metadata": {},
   "outputs": [
    {
     "data": {
      "text/html": [
       "<div>\n",
       "<style scoped>\n",
       "    .dataframe tbody tr th:only-of-type {\n",
       "        vertical-align: middle;\n",
       "    }\n",
       "\n",
       "    .dataframe tbody tr th {\n",
       "        vertical-align: top;\n",
       "    }\n",
       "\n",
       "    .dataframe thead th {\n",
       "        text-align: right;\n",
       "    }\n",
       "</style>\n",
       "<table border=\"1\" class=\"dataframe\">\n",
       "  <thead>\n",
       "    <tr style=\"text-align: right;\">\n",
       "      <th></th>\n",
       "      <th>Female Percent (Study level)</th>\n",
       "      <th>Male Percent (Study level)</th>\n",
       "    </tr>\n",
       "  </thead>\n",
       "  <tbody>\n",
       "    <tr>\n",
       "      <th>0</th>\n",
       "      <td>0.7449</td>\n",
       "      <td>0.2551</td>\n",
       "    </tr>\n",
       "    <tr>\n",
       "      <th>1</th>\n",
       "      <td>0.0379</td>\n",
       "      <td>0.9621</td>\n",
       "    </tr>\n",
       "    <tr>\n",
       "      <th>2</th>\n",
       "      <td>0.4412</td>\n",
       "      <td>0.5588</td>\n",
       "    </tr>\n",
       "    <tr>\n",
       "      <th>3</th>\n",
       "      <td>0.0000</td>\n",
       "      <td>1.0000</td>\n",
       "    </tr>\n",
       "    <tr>\n",
       "      <th>4</th>\n",
       "      <td>0.0000</td>\n",
       "      <td>1.0000</td>\n",
       "    </tr>\n",
       "  </tbody>\n",
       "</table>\n",
       "</div>"
      ],
      "text/plain": [
       "   Female Percent (Study level)  Male Percent (Study level)\n",
       "0                        0.7449                      0.2551\n",
       "1                        0.0379                      0.9621\n",
       "2                        0.4412                      0.5588\n",
       "3                        0.0000                      1.0000\n",
       "4                        0.0000                      1.0000"
      ]
     },
     "execution_count": 79,
     "metadata": {},
     "output_type": "execute_result"
    }
   ],
   "source": [
    "bias2.head()"
   ]
  },
  {
   "cell_type": "code",
   "execution_count": null,
   "id": "a313f9e8",
   "metadata": {},
   "outputs": [],
   "source": []
  },
  {
   "cell_type": "code",
   "execution_count": 80,
   "id": "bbb4bfb8",
   "metadata": {
    "scrolled": true
   },
   "outputs": [
    {
     "data": {
      "text/plain": [
       "Ttest_1sampResult(statistic=-780.3953325665119, pvalue=0.0)"
      ]
     },
     "execution_count": 80,
     "metadata": {},
     "output_type": "execute_result"
    }
   ],
   "source": [
    "stats.ttest_1samp(bias2['Female Percent (Study level)'], 15)"
   ]
  },
  {
   "cell_type": "code",
   "execution_count": 81,
   "id": "f7a171c6",
   "metadata": {},
   "outputs": [
    {
     "data": {
      "text/plain": [
       "Ttest_1sampResult(statistic=-776.3813246914493, pvalue=0.0)"
      ]
     },
     "execution_count": 81,
     "metadata": {},
     "output_type": "execute_result"
    }
   ],
   "source": [
    "stats.ttest_1samp(bias2['Male Percent (Study level)'], 15)"
   ]
  },
  {
   "cell_type": "code",
   "execution_count": 30,
   "id": "0e723439",
   "metadata": {},
   "outputs": [
    {
     "data": {
      "text/plain": [
       "Total N Randomized (Study level)          82.966581\n",
       "Attrition Overall Greater Than 20%         0.315994\n",
       "Active Duty Military (Study level)         0.094748\n",
       "Veteran Percent (Study level)              0.723692\n",
       "Community Percent (Study level)            0.608769\n",
       "Female Percent (Study level)               0.460399\n",
       "Male Percent (Study level)                 0.539886\n",
       "PTSDPubs ID                           100595.570248\n",
       "Year Added to PTSD-Repository           2019.226221\n",
       "dtype: float64"
      ]
     },
     "execution_count": 30,
     "metadata": {},
     "output_type": "execute_result"
    }
   ],
   "source": [
    "bias.mean()"
   ]
  },
  {
   "cell_type": "code",
   "execution_count": 33,
   "id": "72ab78dc",
   "metadata": {},
   "outputs": [],
   "source": [
    "import pandas as pd\n",
    "import numpy as np\n",
    "from scipy import stats\n",
    "from scipy.stats import ttest_ind"
   ]
  },
  {
   "cell_type": "code",
   "execution_count": 40,
   "id": "2adc7da3",
   "metadata": {},
   "outputs": [
    {
     "data": {
      "text/plain": [
       "<AxesSubplot:>"
      ]
     },
     "execution_count": 40,
     "metadata": {},
     "output_type": "execute_result"
    },
    {
     "data": {
      "image/png": "[encoded data removed]",
      "text/plain": [
       "<Figure size 432x288 with 1 Axes>"
      ]
     },
     "metadata": {
      "needs_background": "light"
     },
     "output_type": "display_data"
    }
   ],
   "source": [
    "bias['Female Percent (Study level)'].hist()"
   ]
  },
  {
   "cell_type": "code",
   "execution_count": 42,
   "id": "f347c979",
   "metadata": {},
   "outputs": [
    {
     "data": {
      "text/plain": [
       "<AxesSubplot:>"
      ]
     },
     "execution_count": 42,
     "metadata": {},
     "output_type": "execute_result"
    },
    {
     "data": {
      "image/png": "[encoded data removed]",
      "text/plain": [
       "<Figure size 432x288 with 1 Axes>"
      ]
     },
     "metadata": {
      "needs_background": "light"
     },
     "output_type": "display_data"
    }
   ],
   "source": [
    "bias['Male Percent (Study level)'].hist()"
   ]
  },
  {
   "cell_type": "code",
   "execution_count": 83,
   "id": "1024744e",
   "metadata": {},
   "outputs": [
    {
     "data": {
      "text/plain": [
       "Ttest_indResult(statistic=-3.01729332663548, pvalue=0.0026393372907377454)"
      ]
     },
     "execution_count": 83,
     "metadata": {},
     "output_type": "execute_result"
    }
   ],
   "source": [
    "ttest_ind(bias2['Female Percent (Study level)'], bias2['Male Percent (Study level)'])"
   ]
  },
  {
   "cell_type": "code",
   "execution_count": 57,
   "id": "28667288",
   "metadata": {},
   "outputs": [
    {
     "data": {
      "text/plain": [
       "Total N Randomized (Study level)          82.966581\n",
       "Attrition Overall Greater Than 20%         0.315994\n",
       "Active Duty Military (Study level)         0.094748\n",
       "Veteran Percent (Study level)              0.723692\n",
       "Community Percent (Study level)            0.608769\n",
       "Female Percent (Study level)               0.460399\n",
       "Male Percent (Study level)                 0.539886\n",
       "PTSDPubs ID                           100595.570248\n",
       "Year Added to PTSD-Repository           2019.226221\n",
       "dtype: float64"
      ]
     },
     "execution_count": 57,
     "metadata": {},
     "output_type": "execute_result"
    }
   ],
   "source": [
    "bias.mean()"
   ]
  },
  {
   "cell_type": "code",
   "execution_count": 82,
   "id": "10f75035",
   "metadata": {},
   "outputs": [
    {
     "data": {
      "text/plain": [
       "0                                                    NaN\n",
       "1                                                    NaN\n",
       "2                                                    NaN\n",
       "3                                                    NaN\n",
       "4                                                    NaN\n",
       "                             ...                        \n",
       "384                                                  NaN\n",
       "385       rape/sexual assault, community/school violence\n",
       "386    combat-related, child physical abuse, child se...\n",
       "387         combat-related, accidents, other (captivity)\n",
       "388                                                  NaN\n",
       "Name: Trauma Detail (Study level), Length: 389, dtype: object"
      ]
     },
     "execution_count": 82,
     "metadata": {},
     "output_type": "execute_result"
    }
   ],
   "source": [
    "bias['Trauma Detail (Study level)']"
   ]
  },
  {
   "cell_type": "code",
   "execution_count": 60,
   "id": "d267b5cd",
   "metadata": {},
   "outputs": [
    {
     "data": {
      "text/plain": [
       "<AxesSubplot:>"
      ]
     },
     "execution_count": 60,
     "metadata": {},
     "output_type": "execute_result"
    },
    {
     "data": {
      "image/png": "[encoded data removed]",
      "text/plain": [
       "<Figure size 432x288 with 1 Axes>"
      ]
     },
     "metadata": {
      "needs_background": "light"
     },
     "output_type": "display_data"
    }
   ],
   "source": [
    "bias['Military Status (Study level)'].hist()"
   ]
  },
  {
   "cell_type": "code",
   "execution_count": 62,
   "id": "c79f3415",
   "metadata": {},
   "outputs": [
    {
     "data": {
      "text/plain": [
       "<AxesSubplot:>"
      ]
     },
     "execution_count": 62,
     "metadata": {},
     "output_type": "execute_result"
    },
    {
     "data": {
      "image/png": "[encoded data removed]",
      "text/plain": [
       "<Figure size 432x288 with 1 Axes>"
      ]
     },
     "metadata": {
      "needs_background": "light"
     },
     "output_type": "display_data"
    }
   ],
   "source": [
    "bias['Veteran Percent (Study level)'].hist()"
   ]
  },
  {
   "cell_type": "code",
   "execution_count": 20,
   "id": "5c00cc0a",
   "metadata": {},
   "outputs": [
    {
     "data": {
      "text/plain": [
       "Index(['Study ID', 'Study Class', 'Treatment Focus',\n",
       "       'Total N Randomized (Study level)',\n",
       "       'Selection Bias: Randomization Adequate',\n",
       "       'Selection Bias: Allocation Concealment Adequate',\n",
       "       'Selection Bias: Groups Similar at Baseline',\n",
       "       'Selection Bias: ITT Analysis',\n",
       "       'Performance Bias: Care Providers Masked',\n",
       "       'Performance Bias: Patients Masked',\n",
       "       'Detection Bias: Outcome Assessors Masked',\n",
       "       'Attrition Overall Less Than or Equal to 20%',\n",
       "       'Attrition Overall Greater Than 20%',\n",
       "       'Attrition Differential Less Than or Equal to 15%',\n",
       "       'Attrition Differential Greater Than 15%',\n",
       "       'Additional Quantitative Data Reported',\n",
       "       'Reporting Bias: All Prespecified Outcomes Reported',\n",
       "       'Reporting Bias: Method of Handling Dropouts',\n",
       "       'Reporting Bias: Detail of Other Methods of Handling Dropouts',\n",
       "       'Outcome Measures Equal Valid and Reliable',\n",
       "       'Study Reports Adequate Treatment Fidelity Based on Measurements by Independent Raters',\n",
       "       'Risk of Bias Rating', 'EPC Assessing Risk of Bias',\n",
       "       'Military Status (Study level)', 'Active Duty Military (Study level)',\n",
       "       'Veteran Percent (Study level)', 'Community Percent (Study level)',\n",
       "       'Female Percent (Study level)', 'Female Percent Detail (Study level)',\n",
       "       'Male Percent (Study level)', 'Trauma Type (Study level)',\n",
       "       'Trauma Detail (Study level)', 'Citation', 'PTSDPubs ID',\n",
       "       'Year Added to PTSD-Repository'],\n",
       "      dtype='object')"
      ]
     },
     "execution_count": 20,
     "metadata": {},
     "output_type": "execute_result"
    }
   ],
   "source": [
    "bias.columns"
   ]
  },
  {
   "cell_type": "code",
   "execution_count": 63,
   "id": "bb6f589d",
   "metadata": {},
   "outputs": [
    {
     "data": {
      "text/plain": [
       "-0.9998917477816226"
      ]
     },
     "execution_count": 63,
     "metadata": {},
     "output_type": "execute_result"
    }
   ],
   "source": [
    "bias['Female Percent (Study level)'].corr(bias['Male Percent (Study level)'])"
   ]
  },
  {
   "cell_type": "code",
   "execution_count": 66,
   "id": "3bbd0fe5",
   "metadata": {},
   "outputs": [],
   "source": [
    "import pandas as pd\n",
    "import matplotlib.pyplot as plt\n",
    "import seaborn as sns"
   ]
  },
  {
   "cell_type": "code",
   "execution_count": 67,
   "id": "15c3c4d6",
   "metadata": {},
   "outputs": [
    {
     "data": {
      "text/html": [
       "<style  type=\"text/css\" >\n",
       "#T_b367b_row0_col0,#T_b367b_row1_col1,#T_b367b_row2_col2,#T_b367b_row3_col3,#T_b367b_row4_col4,#T_b367b_row5_col5,#T_b367b_row6_col6,#T_b367b_row7_col7,#T_b367b_row8_col8{\n",
       "            background-color:  #b40426;\n",
       "            color:  #f1f1f1;\n",
       "        }#T_b367b_row0_col1{\n",
       "            background-color:  #5673e0;\n",
       "            color:  #000000;\n",
       "        }#T_b367b_row0_col2{\n",
       "            background-color:  #7093f3;\n",
       "            color:  #000000;\n",
       "        }#T_b367b_row0_col3{\n",
       "            background-color:  #3e51c5;\n",
       "            color:  #f1f1f1;\n",
       "        }#T_b367b_row0_col4,#T_b367b_row4_col6{\n",
       "            background-color:  #4055c8;\n",
       "            color:  #f1f1f1;\n",
       "        }#T_b367b_row0_col5{\n",
       "            background-color:  #4257c9;\n",
       "            color:  #f1f1f1;\n",
       "        }#T_b367b_row0_col6,#T_b367b_row1_col0{\n",
       "            background-color:  #5e7de7;\n",
       "            color:  #000000;\n",
       "        }#T_b367b_row0_col7,#T_b367b_row1_col3,#T_b367b_row2_col3,#T_b367b_row3_col4,#T_b367b_row4_col3,#T_b367b_row5_col6,#T_b367b_row6_col5,#T_b367b_row7_col6,#T_b367b_row8_col3{\n",
       "            background-color:  #3b4cc0;\n",
       "            color:  #f1f1f1;\n",
       "        }#T_b367b_row0_col8,#T_b367b_row1_col2{\n",
       "            background-color:  #7a9df8;\n",
       "            color:  #000000;\n",
       "        }#T_b367b_row1_col4{\n",
       "            background-color:  #5875e1;\n",
       "            color:  #000000;\n",
       "        }#T_b367b_row1_col5{\n",
       "            background-color:  #516ddb;\n",
       "            color:  #000000;\n",
       "        }#T_b367b_row1_col6,#T_b367b_row1_col7{\n",
       "            background-color:  #5f7fe8;\n",
       "            color:  #000000;\n",
       "        }#T_b367b_row1_col8{\n",
       "            background-color:  #4f69d9;\n",
       "            color:  #000000;\n",
       "        }#T_b367b_row2_col0,#T_b367b_row2_col1{\n",
       "            background-color:  #c4d5f3;\n",
       "            color:  #000000;\n",
       "        }#T_b367b_row2_col4,#T_b367b_row5_col3{\n",
       "            background-color:  #88abfd;\n",
       "            color:  #000000;\n",
       "        }#T_b367b_row2_col5{\n",
       "            background-color:  #8badfd;\n",
       "            color:  #000000;\n",
       "        }#T_b367b_row2_col6,#T_b367b_row3_col7{\n",
       "            background-color:  #ccd9ed;\n",
       "            color:  #000000;\n",
       "        }#T_b367b_row2_col7{\n",
       "            background-color:  #a1c0ff;\n",
       "            color:  #000000;\n",
       "        }#T_b367b_row2_col8,#T_b367b_row8_col7{\n",
       "            background-color:  #94b6ff;\n",
       "            color:  #000000;\n",
       "        }#T_b367b_row3_col0{\n",
       "            background-color:  #c0d4f5;\n",
       "            color:  #000000;\n",
       "        }#T_b367b_row3_col1{\n",
       "            background-color:  #b9d0f9;\n",
       "            color:  #000000;\n",
       "        }#T_b367b_row3_col2{\n",
       "            background-color:  #688aef;\n",
       "            color:  #000000;\n",
       "        }#T_b367b_row3_col5{\n",
       "            background-color:  #6788ee;\n",
       "            color:  #000000;\n",
       "        }#T_b367b_row3_col6{\n",
       "            background-color:  #f59f80;\n",
       "            color:  #000000;\n",
       "        }#T_b367b_row3_col8{\n",
       "            background-color:  #8caffe;\n",
       "            color:  #000000;\n",
       "        }#T_b367b_row4_col0{\n",
       "            background-color:  #c3d5f4;\n",
       "            color:  #000000;\n",
       "        }#T_b367b_row4_col1{\n",
       "            background-color:  #cbd8ee;\n",
       "            color:  #000000;\n",
       "        }#T_b367b_row4_col2{\n",
       "            background-color:  #aec9fc;\n",
       "            color:  #000000;\n",
       "        }#T_b367b_row4_col5{\n",
       "            background-color:  #e36b54;\n",
       "            color:  #000000;\n",
       "        }#T_b367b_row4_col7{\n",
       "            background-color:  #d7dce3;\n",
       "            color:  #000000;\n",
       "        }#T_b367b_row4_col8{\n",
       "            background-color:  #afcafc;\n",
       "            color:  #000000;\n",
       "        }#T_b367b_row5_col0{\n",
       "            background-color:  #d6dce4;\n",
       "            color:  #000000;\n",
       "        }#T_b367b_row5_col1{\n",
       "            background-color:  #d9dce1;\n",
       "            color:  #000000;\n",
       "        }#T_b367b_row5_col2{\n",
       "            background-color:  #c7d7f0;\n",
       "            color:  #000000;\n",
       "        }#T_b367b_row5_col4{\n",
       "            background-color:  #de614d;\n",
       "            color:  #000000;\n",
       "        }#T_b367b_row5_col7{\n",
       "            background-color:  #e9d5cb;\n",
       "            color:  #000000;\n",
       "        }#T_b367b_row5_col8{\n",
       "            background-color:  #d5dbe5;\n",
       "            color:  #000000;\n",
       "        }#T_b367b_row6_col0{\n",
       "            background-color:  #e3d9d3;\n",
       "            color:  #000000;\n",
       "        }#T_b367b_row6_col1{\n",
       "            background-color:  #e0dbd8;\n",
       "            color:  #000000;\n",
       "        }#T_b367b_row6_col2{\n",
       "            background-color:  #eed0c0;\n",
       "            color:  #000000;\n",
       "        }#T_b367b_row6_col3{\n",
       "            background-color:  #f39475;\n",
       "            color:  #000000;\n",
       "        }#T_b367b_row6_col4{\n",
       "            background-color:  #6384eb;\n",
       "            color:  #000000;\n",
       "        }#T_b367b_row6_col7{\n",
       "            background-color:  #cfdaea;\n",
       "            color:  #000000;\n",
       "        }#T_b367b_row6_col8{\n",
       "            background-color:  #e4d9d2;\n",
       "            color:  #000000;\n",
       "        }#T_b367b_row7_col0{\n",
       "            background-color:  #3f53c6;\n",
       "            color:  #f1f1f1;\n",
       "        }#T_b367b_row7_col1{\n",
       "            background-color:  #5b7ae5;\n",
       "            color:  #000000;\n",
       "        }#T_b367b_row7_col2{\n",
       "            background-color:  #465ecf;\n",
       "            color:  #f1f1f1;\n",
       "        }#T_b367b_row7_col3{\n",
       "            background-color:  #5572df;\n",
       "            color:  #000000;\n",
       "        }#T_b367b_row7_col4{\n",
       "            background-color:  #6b8df0;\n",
       "            color:  #000000;\n",
       "        }#T_b367b_row7_col5,#T_b367b_row8_col2{\n",
       "            background-color:  #7295f4;\n",
       "            color:  #000000;\n",
       "        }#T_b367b_row7_col8{\n",
       "            background-color:  #5d7ce6;\n",
       "            color:  #000000;\n",
       "        }#T_b367b_row8_col0{\n",
       "            background-color:  #b1cbfc;\n",
       "            color:  #000000;\n",
       "        }#T_b367b_row8_col1{\n",
       "            background-color:  #85a8fc;\n",
       "            color:  #000000;\n",
       "        }#T_b367b_row8_col4{\n",
       "            background-color:  #6485ec;\n",
       "            color:  #000000;\n",
       "        }#T_b367b_row8_col5{\n",
       "            background-color:  #7ea1fa;\n",
       "            color:  #000000;\n",
       "        }#T_b367b_row8_col6{\n",
       "            background-color:  #9ebeff;\n",
       "            color:  #000000;\n",
       "        }</style><table id=\"T_b367b_\" ><thead>    <tr>        <th class=\"blank level0\" ></th>        <th class=\"col_heading level0 col0\" >Total N Randomized (Study level)</th>        <th class=\"col_heading level0 col1\" >Attrition Overall Greater Than 20%</th>        <th class=\"col_heading level0 col2\" >Active Duty Military (Study level)</th>        <th class=\"col_heading level0 col3\" >Veteran Percent (Study level)</th>        <th class=\"col_heading level0 col4\" >Community Percent (Study level)</th>        <th class=\"col_heading level0 col5\" >Female Percent (Study level)</th>        <th class=\"col_heading level0 col6\" >Male Percent (Study level)</th>        <th class=\"col_heading level0 col7\" >PTSDPubs ID</th>        <th class=\"col_heading level0 col8\" >Year Added to PTSD-Repository</th>    </tr></thead><tbody>\n",
       "                <tr>\n",
       "                        <th id=\"T_b367b_level0_row0\" class=\"row_heading level0 row0\" >Total N Randomized (Study level)</th>\n",
       "                        <td id=\"T_b367b_row0_col0\" class=\"data row0 col0\" >1.0</td>\n",
       "                        <td id=\"T_b367b_row0_col1\" class=\"data row0 col1\" >0.022</td>\n",
       "                        <td id=\"T_b367b_row0_col2\" class=\"data row0 col2\" >0.11</td>\n",
       "                        <td id=\"T_b367b_row0_col3\" class=\"data row0 col3\" >-0.063</td>\n",
       "                        <td id=\"T_b367b_row0_col4\" class=\"data row0 col4\" >-0.052</td>\n",
       "                        <td id=\"T_b367b_row0_col5\" class=\"data row0 col5\" >-0.049</td>\n",
       "                        <td id=\"T_b367b_row0_col6\" class=\"data row0 col6\" >0.049</td>\n",
       "                        <td id=\"T_b367b_row0_col7\" class=\"data row0 col7\" >-0.077</td>\n",
       "                        <td id=\"T_b367b_row0_col8\" class=\"data row0 col8\" >0.14</td>\n",
       "            </tr>\n",
       "            <tr>\n",
       "                        <th id=\"T_b367b_level0_row1\" class=\"row_heading level0 row1\" >Attrition Overall Greater Than 20%</th>\n",
       "                        <td id=\"T_b367b_row1_col0\" class=\"data row1 col0\" >0.022</td>\n",
       "                        <td id=\"T_b367b_row1_col1\" class=\"data row1 col1\" >1.0</td>\n",
       "                        <td id=\"T_b367b_row1_col2\" class=\"data row1 col2\" >0.11</td>\n",
       "                        <td id=\"T_b367b_row1_col3\" class=\"data row1 col3\" >-0.11</td>\n",
       "                        <td id=\"T_b367b_row1_col4\" class=\"data row1 col4\" >-0.0018</td>\n",
       "                        <td id=\"T_b367b_row1_col5\" class=\"data row1 col5\" >-0.024</td>\n",
       "                        <td id=\"T_b367b_row1_col6\" class=\"data row1 col6\" >0.025</td>\n",
       "                        <td id=\"T_b367b_row1_col7\" class=\"data row1 col7\" >0.022</td>\n",
       "                        <td id=\"T_b367b_row1_col8\" class=\"data row1 col8\" >-0.03</td>\n",
       "            </tr>\n",
       "            <tr>\n",
       "                        <th id=\"T_b367b_level0_row2\" class=\"row_heading level0 row2\" >Active Duty Military (Study level)</th>\n",
       "                        <td id=\"T_b367b_row2_col0\" class=\"data row2 col0\" >0.11</td>\n",
       "                        <td id=\"T_b367b_row2_col1\" class=\"data row2 col1\" >0.11</td>\n",
       "                        <td id=\"T_b367b_row2_col2\" class=\"data row2 col2\" >1.0</td>\n",
       "                        <td id=\"T_b367b_row2_col3\" class=\"data row2 col3\" >-0.52</td>\n",
       "                        <td id=\"T_b367b_row2_col4\" class=\"data row2 col4\" >-0.16</td>\n",
       "                        <td id=\"T_b367b_row2_col5\" class=\"data row2 col5\" >-0.15</td>\n",
       "                        <td id=\"T_b367b_row2_col6\" class=\"data row2 col6\" >0.15</td>\n",
       "                        <td id=\"T_b367b_row2_col7\" class=\"data row2 col7\" >-0.051</td>\n",
       "                        <td id=\"T_b367b_row2_col8\" class=\"data row2 col8\" >-0.1</td>\n",
       "            </tr>\n",
       "            <tr>\n",
       "                        <th id=\"T_b367b_level0_row3\" class=\"row_heading level0 row3\" >Veteran Percent (Study level)</th>\n",
       "                        <td id=\"T_b367b_row3_col0\" class=\"data row3 col0\" >-0.063</td>\n",
       "                        <td id=\"T_b367b_row3_col1\" class=\"data row3 col1\" >-0.11</td>\n",
       "                        <td id=\"T_b367b_row3_col2\" class=\"data row3 col2\" >-0.52</td>\n",
       "                        <td id=\"T_b367b_row3_col3\" class=\"data row3 col3\" >1.0</td>\n",
       "                        <td id=\"T_b367b_row3_col4\" class=\"data row3 col4\" >-0.78</td>\n",
       "                        <td id=\"T_b367b_row3_col5\" class=\"data row3 col5\" >-0.53</td>\n",
       "                        <td id=\"T_b367b_row3_col6\" class=\"data row3 col6\" >0.53</td>\n",
       "                        <td id=\"T_b367b_row3_col7\" class=\"data row3 col7\" >-0.0003</td>\n",
       "                        <td id=\"T_b367b_row3_col8\" class=\"data row3 col8\" >-0.34</td>\n",
       "            </tr>\n",
       "            <tr>\n",
       "                        <th id=\"T_b367b_level0_row4\" class=\"row_heading level0 row4\" >Community Percent (Study level)</th>\n",
       "                        <td id=\"T_b367b_row4_col0\" class=\"data row4 col0\" >-0.052</td>\n",
       "                        <td id=\"T_b367b_row4_col1\" class=\"data row4 col1\" >-0.0018</td>\n",
       "                        <td id=\"T_b367b_row4_col2\" class=\"data row4 col2\" >-0.16</td>\n",
       "                        <td id=\"T_b367b_row4_col3\" class=\"data row4 col3\" >-0.78</td>\n",
       "                        <td id=\"T_b367b_row4_col4\" class=\"data row4 col4\" >1.0</td>\n",
       "                        <td id=\"T_b367b_row4_col5\" class=\"data row4 col5\" >0.74</td>\n",
       "                        <td id=\"T_b367b_row4_col6\" class=\"data row4 col6\" >-0.74</td>\n",
       "                        <td id=\"T_b367b_row4_col7\" class=\"data row4 col7\" >0.074</td>\n",
       "                        <td id=\"T_b367b_row4_col8\" class=\"data row4 col8\" >-0.16</td>\n",
       "            </tr>\n",
       "            <tr>\n",
       "                        <th id=\"T_b367b_level0_row5\" class=\"row_heading level0 row5\" >Female Percent (Study level)</th>\n",
       "                        <td id=\"T_b367b_row5_col0\" class=\"data row5 col0\" >-0.049</td>\n",
       "                        <td id=\"T_b367b_row5_col1\" class=\"data row5 col1\" >-0.024</td>\n",
       "                        <td id=\"T_b367b_row5_col2\" class=\"data row5 col2\" >-0.15</td>\n",
       "                        <td id=\"T_b367b_row5_col3\" class=\"data row5 col3\" >-0.53</td>\n",
       "                        <td id=\"T_b367b_row5_col4\" class=\"data row5 col4\" >0.74</td>\n",
       "                        <td id=\"T_b367b_row5_col5\" class=\"data row5 col5\" >1.0</td>\n",
       "                        <td id=\"T_b367b_row5_col6\" class=\"data row5 col6\" >-1.0</td>\n",
       "                        <td id=\"T_b367b_row5_col7\" class=\"data row5 col7\" >0.095</td>\n",
       "                        <td id=\"T_b367b_row5_col8\" class=\"data row5 col8\" >-0.058</td>\n",
       "            </tr>\n",
       "            <tr>\n",
       "                        <th id=\"T_b367b_level0_row6\" class=\"row_heading level0 row6\" >Male Percent (Study level)</th>\n",
       "                        <td id=\"T_b367b_row6_col0\" class=\"data row6 col0\" >0.049</td>\n",
       "                        <td id=\"T_b367b_row6_col1\" class=\"data row6 col1\" >0.025</td>\n",
       "                        <td id=\"T_b367b_row6_col2\" class=\"data row6 col2\" >0.15</td>\n",
       "                        <td id=\"T_b367b_row6_col3\" class=\"data row6 col3\" >0.53</td>\n",
       "                        <td id=\"T_b367b_row6_col4\" class=\"data row6 col4\" >-0.74</td>\n",
       "                        <td id=\"T_b367b_row6_col5\" class=\"data row6 col5\" >-1.0</td>\n",
       "                        <td id=\"T_b367b_row6_col6\" class=\"data row6 col6\" >1.0</td>\n",
       "                        <td id=\"T_b367b_row6_col7\" class=\"data row6 col7\" >-0.095</td>\n",
       "                        <td id=\"T_b367b_row6_col8\" class=\"data row6 col8\" >0.059</td>\n",
       "            </tr>\n",
       "            <tr>\n",
       "                        <th id=\"T_b367b_level0_row7\" class=\"row_heading level0 row7\" >PTSDPubs ID</th>\n",
       "                        <td id=\"T_b367b_row7_col0\" class=\"data row7 col0\" >-0.077</td>\n",
       "                        <td id=\"T_b367b_row7_col1\" class=\"data row7 col1\" >0.022</td>\n",
       "                        <td id=\"T_b367b_row7_col2\" class=\"data row7 col2\" >-0.051</td>\n",
       "                        <td id=\"T_b367b_row7_col3\" class=\"data row7 col3\" >-0.0003</td>\n",
       "                        <td id=\"T_b367b_row7_col4\" class=\"data row7 col4\" >0.074</td>\n",
       "                        <td id=\"T_b367b_row7_col5\" class=\"data row7 col5\" >0.095</td>\n",
       "                        <td id=\"T_b367b_row7_col6\" class=\"data row7 col6\" >-0.095</td>\n",
       "                        <td id=\"T_b367b_row7_col7\" class=\"data row7 col7\" >1.0</td>\n",
       "                        <td id=\"T_b367b_row7_col8\" class=\"data row7 col8\" >0.027</td>\n",
       "            </tr>\n",
       "            <tr>\n",
       "                        <th id=\"T_b367b_level0_row8\" class=\"row_heading level0 row8\" >Year Added to PTSD-Repository</th>\n",
       "                        <td id=\"T_b367b_row8_col0\" class=\"data row8 col0\" >0.14</td>\n",
       "                        <td id=\"T_b367b_row8_col1\" class=\"data row8 col1\" >-0.03</td>\n",
       "                        <td id=\"T_b367b_row8_col2\" class=\"data row8 col2\" >-0.1</td>\n",
       "                        <td id=\"T_b367b_row8_col3\" class=\"data row8 col3\" >-0.34</td>\n",
       "                        <td id=\"T_b367b_row8_col4\" class=\"data row8 col4\" >-0.16</td>\n",
       "                        <td id=\"T_b367b_row8_col5\" class=\"data row8 col5\" >-0.058</td>\n",
       "                        <td id=\"T_b367b_row8_col6\" class=\"data row8 col6\" >0.059</td>\n",
       "                        <td id=\"T_b367b_row8_col7\" class=\"data row8 col7\" >0.027</td>\n",
       "                        <td id=\"T_b367b_row8_col8\" class=\"data row8 col8\" >1.0</td>\n",
       "            </tr>\n",
       "    </tbody></table>"
      ],
      "text/plain": [
       "<pandas.io.formats.style.Styler at 0x267049b09d0>"
      ]
     },
     "execution_count": 67,
     "metadata": {},
     "output_type": "execute_result"
    }
   ],
   "source": [
    "bias.corr(method='pearson').style.format(\"{:.2}\").background_gradient(cmap=plt.get_cmap('coolwarm'), axis=1)"
   ]
  },
  {
   "cell_type": "code",
   "execution_count": 70,
   "id": "f2b39310",
   "metadata": {},
   "outputs": [],
   "source": [
    "import pandas as pd\n",
    "import numpy as np\n",
    "import scipy\n",
    "from scipy import stats\n",
    "from statsmodels.stats.multicomp import pairwise_tukeyhsd\n",
    "from statsmodels.stats.multicomp import MultiComparison"
   ]
  },
  {
   "cell_type": "code",
   "execution_count": 71,
   "id": "76e03021",
   "metadata": {},
   "outputs": [
    {
     "name": "stderr",
     "output_type": "stream",
     "text": [
      "C:\\tools\\Anaconda3\\lib\\site-packages\\seaborn\\distributions.py:2557: FutureWarning: `distplot` is a deprecated function and will be removed in a future version. Please adapt your code to use either `displot` (a figure-level function with similar flexibility) or `histplot` (an axes-level function for histograms).\n",
      "  warnings.warn(msg, FutureWarning)\n"
     ]
    },
    {
     "data": {
      "text/plain": [
       "<AxesSubplot:xlabel='Female Percent (Study level)', ylabel='Density'>"
      ]
     },
     "execution_count": 71,
     "metadata": {},
     "output_type": "execute_result"
    },
    {
     "data": {
      "image/png": "[encoded data removed]",
      "text/plain": [
       "<Figure size 432x288 with 1 Axes>"
      ]
     },
     "metadata": {
      "needs_background": "light"
     },
     "output_type": "display_data"
    }
   ],
   "source": [
    "sns.distplot(bias['Female Percent (Study level)'])"
   ]
  },
  {
   "cell_type": "code",
   "execution_count": 72,
   "id": "ca54e585",
   "metadata": {},
   "outputs": [
    {
     "name": "stderr",
     "output_type": "stream",
     "text": [
      "C:\\tools\\Anaconda3\\lib\\site-packages\\seaborn\\distributions.py:2557: FutureWarning: `distplot` is a deprecated function and will be removed in a future version. Please adapt your code to use either `displot` (a figure-level function with similar flexibility) or `histplot` (an axes-level function for histograms).\n",
      "  warnings.warn(msg, FutureWarning)\n"
     ]
    },
    {
     "data": {
      "text/plain": [
       "<AxesSubplot:xlabel='Male Percent (Study level)', ylabel='Density'>"
      ]
     },
     "execution_count": 72,
     "metadata": {},
     "output_type": "execute_result"
    },
    {
     "data": {
      "image/png": "[encoded data removed]",
      "text/plain": [
       "<Figure size 432x288 with 1 Axes>"
      ]
     },
     "metadata": {
      "needs_background": "light"
     },
     "output_type": "display_data"
    }
   ],
   "source": [
    "sns.distplot(bias['Male Percent (Study level)'])"
   ]
  },
  {
   "cell_type": "code",
   "execution_count": null,
   "id": "5028fe5b",
   "metadata": {},
   "outputs": [],
   "source": []
  }
 ],
 "metadata": {
  "kernelspec": {
   "display_name": "Python 3",
   "language": "python",
   "name": "python3"
  },
  "language_info": {
   "codemirror_mode": {
    "name": "ipython",
    "version": 3
   },
   "file_extension": ".py",
   "mimetype": "text/x-python",
   "name": "python",
   "nbconvert_exporter": "python",
   "pygments_lexer": "ipython3",
   "version": "3.8.8"
  }
 },
 "nbformat": 4,
 "nbformat_minor": 5
}
