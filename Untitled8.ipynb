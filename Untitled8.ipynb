{
 "cells": [
  {
   "cell_type": "code",
   "execution_count": 1,
   "id": "ce30937c",
   "metadata": {},
   "outputs": [],
   "source": [
    "import pandas as pd\n",
    "import statsmodels.api as sm"
   ]
  },
  {
   "cell_type": "code",
   "execution_count": 2,
   "id": "10e6e48d",
   "metadata": {},
   "outputs": [],
   "source": [
    "baseball = pd.read_csv('C:/Users/elean/Downloads/baseball/baseball.csv')"
   ]
  },
  {
   "cell_type": "code",
   "execution_count": 3,
   "id": "2395a212",
   "metadata": {},
   "outputs": [],
   "source": [
    "def recode (series):\n",
    "    if series == \"W\":\n",
    "        return 1\n",
    "    if series == \"L\":\n",
    "        return 0\n",
    "baseball['WLr'] = baseball['W/L'].apply(recode)"
   ]
  },
  {
   "cell_type": "code",
   "execution_count": 4,
   "id": "71396b91",
   "metadata": {},
   "outputs": [],
   "source": [
    "x = baseball['HR Count']\n",
    "y = baseball['WLr']"
   ]
  },
  {
   "cell_type": "code",
   "execution_count": 5,
   "id": "10f96d9a",
   "metadata": {},
   "outputs": [
    {
     "name": "stdout",
     "output_type": "stream",
     "text": [
      "Optimization terminated successfully.\n",
      "         Current function value: 0.667079\n",
      "         Iterations 5\n",
      "                         Results: Logit\n",
      "================================================================\n",
      "Model:              Logit            Pseudo R-squared: 0.038    \n",
      "Dependent Variable: WLr              AIC:              6486.0070\n",
      "Date:               2021-09-22 15:46 BIC:              6492.4958\n",
      "No. Observations:   4860             Log-Likelihood:   -3242.0  \n",
      "Df Model:           0                LL-Null:          -3368.7  \n",
      "Df Residuals:       4859             LLR p-value:      nan      \n",
      "Converged:          1.0000           Scale:            1.0000   \n",
      "No. Iterations:     5.0000                                      \n",
      "------------------------------------------------------------------\n",
      "            Coef.    Std.Err.      z      P>|z|    [0.025   0.975]\n",
      "------------------------------------------------------------------\n",
      "HR Count    0.2798     0.0184   15.2304   0.0000   0.2438   0.3158\n",
      "================================================================\n",
      "\n"
     ]
    }
   ],
   "source": [
    "logit = sm.Logit(y,x)\n",
    "results = logit.fit()\n",
    "print(results.summary2())"
   ]
  },
  {
   "cell_type": "code",
   "execution_count": null,
   "id": "db825ad3",
   "metadata": {},
   "outputs": [],
   "source": []
  }
 ],
 "metadata": {
  "kernelspec": {
   "display_name": "Python 3",
   "language": "python",
   "name": "python3"
  },
  "language_info": {
   "codemirror_mode": {
    "name": "ipython",
    "version": 3
   },
   "file_extension": ".py",
   "mimetype": "text/x-python",
   "name": "python",
   "nbconvert_exporter": "python",
   "pygments_lexer": "ipython3",
   "version": "3.8.8"
  }
 },
 "nbformat": 4,
 "nbformat_minor": 5
}
