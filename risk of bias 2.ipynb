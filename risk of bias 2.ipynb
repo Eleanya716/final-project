{
 "cells": [
  {
   "cell_type": "code",
   "execution_count": 343,
   "id": "8cc77953",
   "metadata": {},
   "outputs": [],
   "source": [
    "import pandas as pd\n",
    "import numpy as np\n",
    "from scipy.stats import norm\n",
    "from scipy import stats"
   ]
  },
  {
   "cell_type": "code",
   "execution_count": 344,
   "id": "0902b276",
   "metadata": {},
   "outputs": [],
   "source": [
    "import pandas as pd\n",
    "import matplotlib.pyplot as plt\n",
    "import seaborn as sns"
   ]
  },
  {
   "cell_type": "code",
   "execution_count": 345,
   "id": "fbf9220b",
   "metadata": {},
   "outputs": [],
   "source": [
    "import pandas as pd\n",
    "import numpy as np\n",
    "from scipy import stats\n",
    "from scipy.stats import ttest_ind"
   ]
  },
  {
   "cell_type": "code",
   "execution_count": 346,
   "id": "e95a9a26",
   "metadata": {},
   "outputs": [],
   "source": [
    "import pandas as pd\n",
    "import numpy as np\n",
    "import scipy\n",
    "from scipy import stats\n",
    "from statsmodels.stats.multicomp import pairwise_tukeyhsd\n",
    "from statsmodels.stats.multicomp import MultiComparison"
   ]
  },
  {
   "cell_type": "code",
   "execution_count": 347,
   "id": "957ff8a5",
   "metadata": {},
   "outputs": [],
   "source": [
    "import pandas as pd\n",
    "import numpy as np\n",
    "import matplotlib.pyplot as plt\n",
    "from pylab import *\n",
    "import seaborn as sns\n",
    "%matplotlib inline\n",
    "import  statsmodels.api as sm\n",
    "import statsmodels.stats.api as sms\n",
    "from scipy.stats import boxcox"
   ]
  },
  {
   "cell_type": "code",
   "execution_count": 348,
   "id": "4dd335e4",
   "metadata": {},
   "outputs": [],
   "source": [
    "import pandas as pd\n",
    "import numpy as np\n",
    "from scipy.stats import chi2_contingency\n",
    " \n",
    "import seaborn as sns\n",
    "import matplotlib.pyplot as plt\n",
    "%matplotlib inline "
   ]
  },
  {
   "cell_type": "code",
   "execution_count": 349,
   "id": "f490c8f7",
   "metadata": {},
   "outputs": [],
   "source": [
    "import pandas as pd\n",
    "from scipy import stats"
   ]
  },
  {
   "cell_type": "code",
   "execution_count": 350,
   "id": "5a656d1b",
   "metadata": {},
   "outputs": [],
   "source": [
    "from scipy.stats import chi2_contingency"
   ]
  },
  {
   "cell_type": "code",
   "execution_count": 351,
   "id": "5b40d0a0",
   "metadata": {},
   "outputs": [],
   "source": [
    "import matplotlib.pyplot as plt"
   ]
  },
  {
   "cell_type": "code",
   "execution_count": 352,
   "id": "f50696bf",
   "metadata": {},
   "outputs": [],
   "source": [
    "import seaborn as sns"
   ]
  },
  {
   "cell_type": "code",
   "execution_count": 353,
   "id": "6f7ece92",
   "metadata": {},
   "outputs": [],
   "source": [
    "bias = pd.read_csv('C:/Users/elean/Downloads/Risk_of_Bias.csv')"
   ]
  },
  {
   "cell_type": "code",
   "execution_count": 354,
   "id": "e87cc145",
   "metadata": {},
   "outputs": [
    {
     "data": {
      "text/html": [
       "<div>\n",
       "<style scoped>\n",
       "    .dataframe tbody tr th:only-of-type {\n",
       "        vertical-align: middle;\n",
       "    }\n",
       "\n",
       "    .dataframe tbody tr th {\n",
       "        vertical-align: top;\n",
       "    }\n",
       "\n",
       "    .dataframe thead th {\n",
       "        text-align: right;\n",
       "    }\n",
       "</style>\n",
       "<table border=\"1\" class=\"dataframe\">\n",
       "  <thead>\n",
       "    <tr style=\"text-align: right;\">\n",
       "      <th></th>\n",
       "      <th>Study ID</th>\n",
       "      <th>Study Class</th>\n",
       "      <th>Treatment Focus</th>\n",
       "      <th>Total N Randomized (Study level)</th>\n",
       "      <th>Selection Bias: Randomization Adequate</th>\n",
       "      <th>Selection Bias: Allocation Concealment Adequate</th>\n",
       "      <th>Selection Bias: Groups Similar at Baseline</th>\n",
       "      <th>Selection Bias: ITT Analysis</th>\n",
       "      <th>Performance Bias: Care Providers Masked</th>\n",
       "      <th>Performance Bias: Patients Masked</th>\n",
       "      <th>...</th>\n",
       "      <th>Veteran Percent (Study level)</th>\n",
       "      <th>Community Percent (Study level)</th>\n",
       "      <th>Female Percent (Study level)</th>\n",
       "      <th>Female Percent Detail (Study level)</th>\n",
       "      <th>Male Percent (Study level)</th>\n",
       "      <th>Trauma Type (Study level)</th>\n",
       "      <th>Trauma Detail (Study level)</th>\n",
       "      <th>Citation</th>\n",
       "      <th>PTSDPubs ID</th>\n",
       "      <th>Year Added to PTSD-Repository</th>\n",
       "    </tr>\n",
       "  </thead>\n",
       "  <tbody>\n",
       "    <tr>\n",
       "      <th>0</th>\n",
       "      <td>acarturk2016</td>\n",
       "      <td>Psychotherapy</td>\n",
       "      <td>PTSD</td>\n",
       "      <td>98</td>\n",
       "      <td>Yes</td>\n",
       "      <td>Yes</td>\n",
       "      <td>Unclear</td>\n",
       "      <td>Yes</td>\n",
       "      <td>No</td>\n",
       "      <td>No</td>\n",
       "      <td>...</td>\n",
       "      <td>NaN</td>\n",
       "      <td>1.0</td>\n",
       "      <td>0.7449</td>\n",
       "      <td>NaN</td>\n",
       "      <td>0.2551</td>\n",
       "      <td>Terrorism/political violence/forced displacement</td>\n",
       "      <td>NaN</td>\n",
       "      <td>Acarturk C, Konuk E, Cetinkaya M, et al. The e...</td>\n",
       "      <td>45262.0</td>\n",
       "      <td>2019</td>\n",
       "    </tr>\n",
       "    <tr>\n",
       "      <th>1</th>\n",
       "      <td>acierno2017</td>\n",
       "      <td>Psychotherapy</td>\n",
       "      <td>PTSD</td>\n",
       "      <td>150</td>\n",
       "      <td>Yes</td>\n",
       "      <td>Yes</td>\n",
       "      <td>Yes</td>\n",
       "      <td>No</td>\n",
       "      <td>No</td>\n",
       "      <td>No</td>\n",
       "      <td>...</td>\n",
       "      <td>1.0</td>\n",
       "      <td>NaN</td>\n",
       "      <td>0.0379</td>\n",
       "      <td>NaN</td>\n",
       "      <td>0.9621</td>\n",
       "      <td>Combat-related</td>\n",
       "      <td>NaN</td>\n",
       "      <td>Acierno RE, Knapp RG, Tuerk PW, et al. A non-i...</td>\n",
       "      <td>45948.0</td>\n",
       "      <td>2019</td>\n",
       "    </tr>\n",
       "    <tr>\n",
       "      <th>2</th>\n",
       "      <td>adenauer2011</td>\n",
       "      <td>Psychotherapy</td>\n",
       "      <td>PTSD</td>\n",
       "      <td>34</td>\n",
       "      <td>Yes</td>\n",
       "      <td>Unclear</td>\n",
       "      <td>No</td>\n",
       "      <td>Yes</td>\n",
       "      <td>No</td>\n",
       "      <td>No</td>\n",
       "      <td>...</td>\n",
       "      <td>NaN</td>\n",
       "      <td>1.0</td>\n",
       "      <td>0.4412</td>\n",
       "      <td>NaN</td>\n",
       "      <td>0.5588</td>\n",
       "      <td>Terrorism/political violence/forced displacement</td>\n",
       "      <td>NaN</td>\n",
       "      <td>Adenauer H, Catani C, Gola H, et al. Narrative...</td>\n",
       "      <td>37889.0</td>\n",
       "      <td>2019</td>\n",
       "    </tr>\n",
       "    <tr>\n",
       "      <th>3</th>\n",
       "      <td>ahmadi2015</td>\n",
       "      <td>Mixed: Psychotherapy &amp; CIH</td>\n",
       "      <td>PTSD</td>\n",
       "      <td>48</td>\n",
       "      <td>Unclear</td>\n",
       "      <td>Unclear</td>\n",
       "      <td>Yes</td>\n",
       "      <td>No</td>\n",
       "      <td>No</td>\n",
       "      <td>No</td>\n",
       "      <td>...</td>\n",
       "      <td>0.0</td>\n",
       "      <td>0.0</td>\n",
       "      <td>0.0000</td>\n",
       "      <td>NaN</td>\n",
       "      <td>1.0000</td>\n",
       "      <td>Combat-related</td>\n",
       "      <td>NaN</td>\n",
       "      <td>Ahmadi K, Hazrati M, Ahmadizadeh MJ, et al. RE...</td>\n",
       "      <td>46896.0</td>\n",
       "      <td>2019</td>\n",
       "    </tr>\n",
       "    <tr>\n",
       "      <th>4</th>\n",
       "      <td>ahmadizadeh2018</td>\n",
       "      <td>Nonpharmacologic biological</td>\n",
       "      <td>PTSD</td>\n",
       "      <td>65</td>\n",
       "      <td>Unclear</td>\n",
       "      <td>Unclear</td>\n",
       "      <td>Yes</td>\n",
       "      <td>Yes</td>\n",
       "      <td>No</td>\n",
       "      <td>Yes</td>\n",
       "      <td>...</td>\n",
       "      <td>1.0</td>\n",
       "      <td>0.0</td>\n",
       "      <td>0.0000</td>\n",
       "      <td>NaN</td>\n",
       "      <td>1.0000</td>\n",
       "      <td>Combat-related</td>\n",
       "      <td>NaN</td>\n",
       "      <td>Ahmadizadeh MJ, Rezaei M. Unilateral right and...</td>\n",
       "      <td>50480.0</td>\n",
       "      <td>2019</td>\n",
       "    </tr>\n",
       "  </tbody>\n",
       "</table>\n",
       "<p>5 rows × 35 columns</p>\n",
       "</div>"
      ],
      "text/plain": [
       "          Study ID                  Study Class Treatment Focus  \\\n",
       "0     acarturk2016                Psychotherapy            PTSD   \n",
       "1      acierno2017                Psychotherapy            PTSD   \n",
       "2     adenauer2011                Psychotherapy            PTSD   \n",
       "3       ahmadi2015   Mixed: Psychotherapy & CIH            PTSD   \n",
       "4  ahmadizadeh2018  Nonpharmacologic biological            PTSD   \n",
       "\n",
       "   Total N Randomized (Study level) Selection Bias: Randomization Adequate  \\\n",
       "0                                98                                    Yes   \n",
       "1                               150                                    Yes   \n",
       "2                                34                                    Yes   \n",
       "3                                48                                Unclear   \n",
       "4                                65                                Unclear   \n",
       "\n",
       "  Selection Bias: Allocation Concealment Adequate  \\\n",
       "0                                             Yes   \n",
       "1                                             Yes   \n",
       "2                                         Unclear   \n",
       "3                                         Unclear   \n",
       "4                                         Unclear   \n",
       "\n",
       "  Selection Bias: Groups Similar at Baseline Selection Bias: ITT Analysis  \\\n",
       "0                                    Unclear                          Yes   \n",
       "1                                        Yes                           No   \n",
       "2                                         No                          Yes   \n",
       "3                                        Yes                           No   \n",
       "4                                        Yes                          Yes   \n",
       "\n",
       "  Performance Bias: Care Providers Masked Performance Bias: Patients Masked  \\\n",
       "0                                      No                                No   \n",
       "1                                      No                                No   \n",
       "2                                      No                                No   \n",
       "3                                      No                                No   \n",
       "4                                      No                               Yes   \n",
       "\n",
       "   ... Veteran Percent (Study level) Community Percent (Study level)  \\\n",
       "0  ...                           NaN                             1.0   \n",
       "1  ...                           1.0                             NaN   \n",
       "2  ...                           NaN                             1.0   \n",
       "3  ...                           0.0                             0.0   \n",
       "4  ...                           1.0                             0.0   \n",
       "\n",
       "   Female Percent (Study level) Female Percent Detail (Study level)  \\\n",
       "0                        0.7449                                 NaN   \n",
       "1                        0.0379                                 NaN   \n",
       "2                        0.4412                                 NaN   \n",
       "3                        0.0000                                 NaN   \n",
       "4                        0.0000                                 NaN   \n",
       "\n",
       "  Male Percent (Study level)  \\\n",
       "0                     0.2551   \n",
       "1                     0.9621   \n",
       "2                     0.5588   \n",
       "3                     1.0000   \n",
       "4                     1.0000   \n",
       "\n",
       "                          Trauma Type (Study level)  \\\n",
       "0  Terrorism/political violence/forced displacement   \n",
       "1                                    Combat-related   \n",
       "2  Terrorism/political violence/forced displacement   \n",
       "3                                    Combat-related   \n",
       "4                                    Combat-related   \n",
       "\n",
       "  Trauma Detail (Study level)  \\\n",
       "0                         NaN   \n",
       "1                         NaN   \n",
       "2                         NaN   \n",
       "3                         NaN   \n",
       "4                         NaN   \n",
       "\n",
       "                                            Citation PTSDPubs ID  \\\n",
       "0  Acarturk C, Konuk E, Cetinkaya M, et al. The e...     45262.0   \n",
       "1  Acierno RE, Knapp RG, Tuerk PW, et al. A non-i...     45948.0   \n",
       "2  Adenauer H, Catani C, Gola H, et al. Narrative...     37889.0   \n",
       "3  Ahmadi K, Hazrati M, Ahmadizadeh MJ, et al. RE...     46896.0   \n",
       "4  Ahmadizadeh MJ, Rezaei M. Unilateral right and...     50480.0   \n",
       "\n",
       "  Year Added to PTSD-Repository  \n",
       "0                          2019  \n",
       "1                          2019  \n",
       "2                          2019  \n",
       "3                          2019  \n",
       "4                          2019  \n",
       "\n",
       "[5 rows x 35 columns]"
      ]
     },
     "execution_count": 354,
     "metadata": {},
     "output_type": "execute_result"
    }
   ],
   "source": [
    "bias.head()"
   ]
  },
  {
   "cell_type": "code",
   "execution_count": 355,
   "id": "5d1f078f",
   "metadata": {},
   "outputs": [
    {
     "data": {
      "text/plain": [
       "Total N Randomized (Study level)          82.966581\n",
       "Attrition Overall Greater Than 20%         0.315994\n",
       "Active Duty Military (Study level)         0.094748\n",
       "Veteran Percent (Study level)              0.723692\n",
       "Community Percent (Study level)            0.608769\n",
       "Female Percent (Study level)               0.460399\n",
       "Male Percent (Study level)                 0.539886\n",
       "PTSDPubs ID                           100595.570248\n",
       "Year Added to PTSD-Repository           2019.226221\n",
       "dtype: float64"
      ]
     },
     "execution_count": 355,
     "metadata": {},
     "output_type": "execute_result"
    }
   ],
   "source": [
    "bias.mean()"
   ]
  },
  {
   "cell_type": "code",
   "execution_count": 356,
   "id": "363277f3",
   "metadata": {},
   "outputs": [
    {
     "data": {
      "text/plain": [
       "Index(['Study ID', 'Study Class', 'Treatment Focus',\n",
       "       'Total N Randomized (Study level)',\n",
       "       'Selection Bias: Randomization Adequate',\n",
       "       'Selection Bias: Allocation Concealment Adequate',\n",
       "       'Selection Bias: Groups Similar at Baseline',\n",
       "       'Selection Bias: ITT Analysis',\n",
       "       'Performance Bias: Care Providers Masked',\n",
       "       'Performance Bias: Patients Masked',\n",
       "       'Detection Bias: Outcome Assessors Masked',\n",
       "       'Attrition Overall Less Than or Equal to 20%',\n",
       "       'Attrition Overall Greater Than 20%',\n",
       "       'Attrition Differential Less Than or Equal to 15%',\n",
       "       'Attrition Differential Greater Than 15%',\n",
       "       'Additional Quantitative Data Reported',\n",
       "       'Reporting Bias: All Prespecified Outcomes Reported',\n",
       "       'Reporting Bias: Method of Handling Dropouts',\n",
       "       'Reporting Bias: Detail of Other Methods of Handling Dropouts',\n",
       "       'Outcome Measures Equal Valid and Reliable',\n",
       "       'Study Reports Adequate Treatment Fidelity Based on Measurements by Independent Raters',\n",
       "       'Risk of Bias Rating', 'EPC Assessing Risk of Bias',\n",
       "       'Military Status (Study level)', 'Active Duty Military (Study level)',\n",
       "       'Veteran Percent (Study level)', 'Community Percent (Study level)',\n",
       "       'Female Percent (Study level)', 'Female Percent Detail (Study level)',\n",
       "       'Male Percent (Study level)', 'Trauma Type (Study level)',\n",
       "       'Trauma Detail (Study level)', 'Citation', 'PTSDPubs ID',\n",
       "       'Year Added to PTSD-Repository'],\n",
       "      dtype='object')"
      ]
     },
     "execution_count": 356,
     "metadata": {},
     "output_type": "execute_result"
    }
   ],
   "source": [
    "bias.columns"
   ]
  },
  {
   "cell_type": "markdown",
   "id": "a2156e9b",
   "metadata": {},
   "source": [
    "# Recode & Rename"
   ]
  },
  {
   "cell_type": "code",
   "execution_count": 359,
   "id": "30641a43",
   "metadata": {},
   "outputs": [],
   "source": [
    "def male_recode (series):\n",
    "    if series < .25:\n",
    "        return 0\n",
    "    if series < .5:\n",
    "        return 1\n",
    "    if series < .75:\n",
    "        return 2\n",
    "    else:\n",
    "        return 3"
   ]
  },
  {
   "cell_type": "code",
   "execution_count": 360,
   "id": "17e60632",
   "metadata": {},
   "outputs": [],
   "source": [
    "bias['Male_recode'] = bias['Male Percent (Study level)'].apply(male_recode)"
   ]
  },
  {
   "cell_type": "code",
   "execution_count": 361,
   "id": "bdec86bd",
   "metadata": {},
   "outputs": [
    {
     "data": {
      "text/plain": [
       "3    166\n",
       "0     97\n",
       "1     83\n",
       "2     43\n",
       "Name: Male_recode, dtype: int64"
      ]
     },
     "execution_count": 361,
     "metadata": {},
     "output_type": "execute_result"
    }
   ],
   "source": [
    "bias['Male_recode'].value_counts(dropna=False)"
   ]
  },
  {
   "cell_type": "code",
   "execution_count": 362,
   "id": "b6c97699",
   "metadata": {},
   "outputs": [],
   "source": [
    "def fem_recode (series):\n",
    "    if series < .25:\n",
    "        return 0\n",
    "    if series < .5:\n",
    "        return 1\n",
    "    if series < .75:\n",
    "        return 2\n",
    "    else:\n",
    "        return 3"
   ]
  },
  {
   "cell_type": "code",
   "execution_count": 363,
   "id": "a66441d5",
   "metadata": {},
   "outputs": [],
   "source": [
    "bias['Female_recode'] = bias['Female Percent (Study level)'].apply(fem_recode)"
   ]
  },
  {
   "cell_type": "code",
   "execution_count": 364,
   "id": "bfffc10f",
   "metadata": {},
   "outputs": [],
   "source": [
    "bias1 =bias[['Female Percent (Study level)', 'Male Percent (Study level)']].dropna()"
   ]
  },
  {
   "cell_type": "code",
   "execution_count": 365,
   "id": "16aef973",
   "metadata": {},
   "outputs": [
    {
     "data": {
      "text/plain": [
       "0    141\n",
       "3    124\n",
       "2     81\n",
       "1     43\n",
       "Name: Female_recode, dtype: int64"
      ]
     },
     "execution_count": 365,
     "metadata": {},
     "output_type": "execute_result"
    }
   ],
   "source": [
    "bias['Female_recode'].value_counts(dropna=False)"
   ]
  },
  {
   "cell_type": "code",
   "execution_count": 366,
   "id": "65a5454f",
   "metadata": {},
   "outputs": [],
   "source": [
    "def Vetern_recode (series):\n",
    "    if series < .25:\n",
    "        return 0\n",
    "    if series < .5:\n",
    "        return 1\n",
    "    if series < .75:\n",
    "        return 2\n",
    "    else:\n",
    "        return 3"
   ]
  },
  {
   "cell_type": "code",
   "execution_count": 367,
   "id": "fa87dd21",
   "metadata": {},
   "outputs": [],
   "source": [
    "bias['Veteran_recode'] = bias['Veteran Percent (Study level)'].apply(Vetern_recode)"
   ]
  },
  {
   "cell_type": "code",
   "execution_count": 368,
   "id": "8688381e",
   "metadata": {},
   "outputs": [
    {
     "data": {
      "text/plain": [
       "3    332\n",
       "0     46\n",
       "1      7\n",
       "2      4\n",
       "Name: Veteran_recode, dtype: int64"
      ]
     },
     "execution_count": 368,
     "metadata": {},
     "output_type": "execute_result"
    }
   ],
   "source": [
    "bias['Veteran_recode'].value_counts(dropna=False)"
   ]
  },
  {
   "cell_type": "code",
   "execution_count": 369,
   "id": "9e2ba8ac",
   "metadata": {},
   "outputs": [],
   "source": [
    "def Military_recode (series):\n",
    "    if series < .25:\n",
    "        return 0\n",
    "    if series < .5:\n",
    "        return 1\n",
    "    if series < .75:\n",
    "        return 2\n",
    "    else:\n",
    "        return 3"
   ]
  },
  {
   "cell_type": "code",
   "execution_count": 370,
   "id": "44b4422d",
   "metadata": {},
   "outputs": [],
   "source": [
    "bias2 =bias[['Active Duty Military (Study level)', ]].dropna()"
   ]
  },
  {
   "cell_type": "code",
   "execution_count": 371,
   "id": "4c0b5be8",
   "metadata": {
    "scrolled": true
   },
   "outputs": [],
   "source": [
    "bias['Military_recode'] = bias['Active Duty Military (Study level)'].apply(Military_recode)"
   ]
  },
  {
   "cell_type": "code",
   "execution_count": 372,
   "id": "ad1f9b78",
   "metadata": {},
   "outputs": [
    {
     "data": {
      "text/plain": [
       "3    234\n",
       "0    151\n",
       "1      2\n",
       "2      2\n",
       "Name: Military_recode, dtype: int64"
      ]
     },
     "execution_count": 372,
     "metadata": {},
     "output_type": "execute_result"
    }
   ],
   "source": [
    "bias['Military_recode'].value_counts(dropna=False)"
   ]
  },
  {
   "cell_type": "code",
   "execution_count": 373,
   "id": "64552784",
   "metadata": {},
   "outputs": [],
   "source": [
    "def trauma_recode (series):\n",
    "    if pd.isnull(series):\n",
    "        return 0\n",
    "    else:\n",
    "        return 1\n",
    "    "
   ]
  },
  {
   "cell_type": "code",
   "execution_count": 374,
   "id": "9691b0bc",
   "metadata": {},
   "outputs": [],
   "source": [
    "bias2 =bias[['Trauma Detail (Study level)',]].dropna()"
   ]
  },
  {
   "cell_type": "code",
   "execution_count": 375,
   "id": "e1079cbc",
   "metadata": {},
   "outputs": [],
   "source": [
    "bias['trauma_recode'] = bias['Trauma Detail (Study level)'].apply(trauma_recode)"
   ]
  },
  {
   "cell_type": "code",
   "execution_count": 376,
   "id": "c929c265",
   "metadata": {},
   "outputs": [
    {
     "data": {
      "text/plain": [
       "0                                                    NaN\n",
       "1                                                    NaN\n",
       "2                                                    NaN\n",
       "3                                                    NaN\n",
       "4                                                    NaN\n",
       "                             ...                        \n",
       "384                                                  NaN\n",
       "385       rape/sexual assault, community/school violence\n",
       "386    combat-related, child physical abuse, child se...\n",
       "387         combat-related, accidents, other (captivity)\n",
       "388                                                  NaN\n",
       "Name: Trauma Detail (Study level), Length: 389, dtype: object"
      ]
     },
     "execution_count": 376,
     "metadata": {},
     "output_type": "execute_result"
    }
   ],
   "source": [
    "bias['Trauma Detail (Study level)']"
   ]
  },
  {
   "cell_type": "code",
   "execution_count": 377,
   "id": "1a1da200",
   "metadata": {},
   "outputs": [
    {
     "data": {
      "text/plain": [
       "NaN                                                                                                                                                                                                                                 190\n",
       "accidents, community/school violence                                                                                                                                                                                                  4\n",
       "combat-related, other (not specified)                                                                                                                                                                                                 4\n",
       "rape/sexual assault, community/school violence                                                                                                                                                                                        3\n",
       "rape/sexual assault, accidents, community/school violence                                                                                                                                                                             3\n",
       "                                                                                                                                                                                                                                   ... \n",
       "accidents, community/school violence, other (not specified)                                                                                                                                                                           1\n",
       "rape/sexual assault, intimate partner violence, child physical abuse, community/school violence, other (violent death of a loved one)                                                                                                 1\n",
       "rape/sexual assault, child sexual abuse, intimate partner violence, terrorism/political violence/forced displacement, illness/medical procedure, accidents, other (emotional abuse, systemic discrimination, compassion fatigue)      1\n",
       "combat-related, child physical abuse, child sexual abuse, rape/sexual assault, community/school violence, terrorism/political violence/forced displacement                                                                            1\n",
       "terrorism/political violence/forced displacement, community/school violence                                                                                                                                                           1\n",
       "Name: Trauma Detail (Study level), Length: 183, dtype: int64"
      ]
     },
     "execution_count": 377,
     "metadata": {},
     "output_type": "execute_result"
    }
   ],
   "source": [
    "bias['Trauma Detail (Study level)'].value_counts(dropna=False)"
   ]
  },
  {
   "cell_type": "code",
   "execution_count": 378,
   "id": "dd9ecb8e",
   "metadata": {},
   "outputs": [
    {
     "data": {
      "text/plain": [
       "0      Medium\n",
       "1      Medium\n",
       "2        High\n",
       "3        High\n",
       "4      Medium\n",
       "        ...  \n",
       "384      High\n",
       "385      High\n",
       "386    Medium\n",
       "387    Medium\n",
       "388      High\n",
       "Name: Risk of Bias Rating, Length: 389, dtype: object"
      ]
     },
     "execution_count": 378,
     "metadata": {},
     "output_type": "execute_result"
    }
   ],
   "source": [
    "bias['Risk of Bias Rating']"
   ]
  },
  {
   "cell_type": "code",
   "execution_count": 379,
   "id": "30cf0589",
   "metadata": {},
   "outputs": [
    {
     "data": {
      "text/html": [
       "<div>\n",
       "<style scoped>\n",
       "    .dataframe tbody tr th:only-of-type {\n",
       "        vertical-align: middle;\n",
       "    }\n",
       "\n",
       "    .dataframe tbody tr th {\n",
       "        vertical-align: top;\n",
       "    }\n",
       "\n",
       "    .dataframe thead th {\n",
       "        text-align: right;\n",
       "    }\n",
       "</style>\n",
       "<table border=\"1\" class=\"dataframe\">\n",
       "  <thead>\n",
       "    <tr style=\"text-align: right;\">\n",
       "      <th></th>\n",
       "      <th>Study ID</th>\n",
       "      <th>Study Class</th>\n",
       "      <th>Treatment Focus</th>\n",
       "      <th>Total N Randomized (Study level)</th>\n",
       "      <th>Selection Bias: Randomization Adequate</th>\n",
       "      <th>Selection Bias: Allocation Concealment Adequate</th>\n",
       "      <th>Selection Bias: Groups Similar at Baseline</th>\n",
       "      <th>Selection Bias: ITT Analysis</th>\n",
       "      <th>Performance Bias: Care Providers Masked</th>\n",
       "      <th>Performance Bias: Patients Masked</th>\n",
       "      <th>...</th>\n",
       "      <th>Trauma Type (Study level)</th>\n",
       "      <th>Trauma Detail (Study level)</th>\n",
       "      <th>Citation</th>\n",
       "      <th>PTSDPubs ID</th>\n",
       "      <th>Year Added to PTSD-Repository</th>\n",
       "      <th>Male_recode</th>\n",
       "      <th>Female_recode</th>\n",
       "      <th>Veteran_recode</th>\n",
       "      <th>Military_recode</th>\n",
       "      <th>trauma_recode</th>\n",
       "    </tr>\n",
       "  </thead>\n",
       "  <tbody>\n",
       "    <tr>\n",
       "      <th>0</th>\n",
       "      <td>acarturk2016</td>\n",
       "      <td>Psychotherapy</td>\n",
       "      <td>PTSD</td>\n",
       "      <td>98</td>\n",
       "      <td>Yes</td>\n",
       "      <td>Yes</td>\n",
       "      <td>Unclear</td>\n",
       "      <td>Yes</td>\n",
       "      <td>No</td>\n",
       "      <td>No</td>\n",
       "      <td>...</td>\n",
       "      <td>Terrorism/political violence/forced displacement</td>\n",
       "      <td>NaN</td>\n",
       "      <td>Acarturk C, Konuk E, Cetinkaya M, et al. The e...</td>\n",
       "      <td>45262.0</td>\n",
       "      <td>2019</td>\n",
       "      <td>1</td>\n",
       "      <td>2</td>\n",
       "      <td>3</td>\n",
       "      <td>3</td>\n",
       "      <td>0</td>\n",
       "    </tr>\n",
       "    <tr>\n",
       "      <th>1</th>\n",
       "      <td>acierno2017</td>\n",
       "      <td>Psychotherapy</td>\n",
       "      <td>PTSD</td>\n",
       "      <td>150</td>\n",
       "      <td>Yes</td>\n",
       "      <td>Yes</td>\n",
       "      <td>Yes</td>\n",
       "      <td>No</td>\n",
       "      <td>No</td>\n",
       "      <td>No</td>\n",
       "      <td>...</td>\n",
       "      <td>Combat-related</td>\n",
       "      <td>NaN</td>\n",
       "      <td>Acierno RE, Knapp RG, Tuerk PW, et al. A non-i...</td>\n",
       "      <td>45948.0</td>\n",
       "      <td>2019</td>\n",
       "      <td>3</td>\n",
       "      <td>0</td>\n",
       "      <td>3</td>\n",
       "      <td>3</td>\n",
       "      <td>0</td>\n",
       "    </tr>\n",
       "    <tr>\n",
       "      <th>2</th>\n",
       "      <td>adenauer2011</td>\n",
       "      <td>Psychotherapy</td>\n",
       "      <td>PTSD</td>\n",
       "      <td>34</td>\n",
       "      <td>Yes</td>\n",
       "      <td>Unclear</td>\n",
       "      <td>No</td>\n",
       "      <td>Yes</td>\n",
       "      <td>No</td>\n",
       "      <td>No</td>\n",
       "      <td>...</td>\n",
       "      <td>Terrorism/political violence/forced displacement</td>\n",
       "      <td>NaN</td>\n",
       "      <td>Adenauer H, Catani C, Gola H, et al. Narrative...</td>\n",
       "      <td>37889.0</td>\n",
       "      <td>2019</td>\n",
       "      <td>2</td>\n",
       "      <td>1</td>\n",
       "      <td>3</td>\n",
       "      <td>3</td>\n",
       "      <td>0</td>\n",
       "    </tr>\n",
       "    <tr>\n",
       "      <th>3</th>\n",
       "      <td>ahmadi2015</td>\n",
       "      <td>Mixed: Psychotherapy &amp; CIH</td>\n",
       "      <td>PTSD</td>\n",
       "      <td>48</td>\n",
       "      <td>Unclear</td>\n",
       "      <td>Unclear</td>\n",
       "      <td>Yes</td>\n",
       "      <td>No</td>\n",
       "      <td>No</td>\n",
       "      <td>No</td>\n",
       "      <td>...</td>\n",
       "      <td>Combat-related</td>\n",
       "      <td>NaN</td>\n",
       "      <td>Ahmadi K, Hazrati M, Ahmadizadeh MJ, et al. RE...</td>\n",
       "      <td>46896.0</td>\n",
       "      <td>2019</td>\n",
       "      <td>3</td>\n",
       "      <td>0</td>\n",
       "      <td>0</td>\n",
       "      <td>3</td>\n",
       "      <td>0</td>\n",
       "    </tr>\n",
       "    <tr>\n",
       "      <th>4</th>\n",
       "      <td>ahmadizadeh2018</td>\n",
       "      <td>Nonpharmacologic biological</td>\n",
       "      <td>PTSD</td>\n",
       "      <td>65</td>\n",
       "      <td>Unclear</td>\n",
       "      <td>Unclear</td>\n",
       "      <td>Yes</td>\n",
       "      <td>Yes</td>\n",
       "      <td>No</td>\n",
       "      <td>Yes</td>\n",
       "      <td>...</td>\n",
       "      <td>Combat-related</td>\n",
       "      <td>NaN</td>\n",
       "      <td>Ahmadizadeh MJ, Rezaei M. Unilateral right and...</td>\n",
       "      <td>50480.0</td>\n",
       "      <td>2019</td>\n",
       "      <td>3</td>\n",
       "      <td>0</td>\n",
       "      <td>3</td>\n",
       "      <td>0</td>\n",
       "      <td>0</td>\n",
       "    </tr>\n",
       "  </tbody>\n",
       "</table>\n",
       "<p>5 rows × 40 columns</p>\n",
       "</div>"
      ],
      "text/plain": [
       "          Study ID                  Study Class Treatment Focus  \\\n",
       "0     acarturk2016                Psychotherapy            PTSD   \n",
       "1      acierno2017                Psychotherapy            PTSD   \n",
       "2     adenauer2011                Psychotherapy            PTSD   \n",
       "3       ahmadi2015   Mixed: Psychotherapy & CIH            PTSD   \n",
       "4  ahmadizadeh2018  Nonpharmacologic biological            PTSD   \n",
       "\n",
       "   Total N Randomized (Study level) Selection Bias: Randomization Adequate  \\\n",
       "0                                98                                    Yes   \n",
       "1                               150                                    Yes   \n",
       "2                                34                                    Yes   \n",
       "3                                48                                Unclear   \n",
       "4                                65                                Unclear   \n",
       "\n",
       "  Selection Bias: Allocation Concealment Adequate  \\\n",
       "0                                             Yes   \n",
       "1                                             Yes   \n",
       "2                                         Unclear   \n",
       "3                                         Unclear   \n",
       "4                                         Unclear   \n",
       "\n",
       "  Selection Bias: Groups Similar at Baseline Selection Bias: ITT Analysis  \\\n",
       "0                                    Unclear                          Yes   \n",
       "1                                        Yes                           No   \n",
       "2                                         No                          Yes   \n",
       "3                                        Yes                           No   \n",
       "4                                        Yes                          Yes   \n",
       "\n",
       "  Performance Bias: Care Providers Masked Performance Bias: Patients Masked  \\\n",
       "0                                      No                                No   \n",
       "1                                      No                                No   \n",
       "2                                      No                                No   \n",
       "3                                      No                                No   \n",
       "4                                      No                               Yes   \n",
       "\n",
       "   ...                         Trauma Type (Study level)  \\\n",
       "0  ...  Terrorism/political violence/forced displacement   \n",
       "1  ...                                    Combat-related   \n",
       "2  ...  Terrorism/political violence/forced displacement   \n",
       "3  ...                                    Combat-related   \n",
       "4  ...                                    Combat-related   \n",
       "\n",
       "  Trauma Detail (Study level)  \\\n",
       "0                         NaN   \n",
       "1                         NaN   \n",
       "2                         NaN   \n",
       "3                         NaN   \n",
       "4                         NaN   \n",
       "\n",
       "                                            Citation PTSDPubs ID  \\\n",
       "0  Acarturk C, Konuk E, Cetinkaya M, et al. The e...     45262.0   \n",
       "1  Acierno RE, Knapp RG, Tuerk PW, et al. A non-i...     45948.0   \n",
       "2  Adenauer H, Catani C, Gola H, et al. Narrative...     37889.0   \n",
       "3  Ahmadi K, Hazrati M, Ahmadizadeh MJ, et al. RE...     46896.0   \n",
       "4  Ahmadizadeh MJ, Rezaei M. Unilateral right and...     50480.0   \n",
       "\n",
       "  Year Added to PTSD-Repository Male_recode Female_recode Veteran_recode  \\\n",
       "0                          2019           1             2              3   \n",
       "1                          2019           3             0              3   \n",
       "2                          2019           2             1              3   \n",
       "3                          2019           3             0              0   \n",
       "4                          2019           3             0              3   \n",
       "\n",
       "  Military_recode trauma_recode  \n",
       "0               3             0  \n",
       "1               3             0  \n",
       "2               3             0  \n",
       "3               3             0  \n",
       "4               0             0  \n",
       "\n",
       "[5 rows x 40 columns]"
      ]
     },
     "execution_count": 379,
     "metadata": {},
     "output_type": "execute_result"
    }
   ],
   "source": [
    "bias.head()"
   ]
  },
  {
   "cell_type": "code",
   "execution_count": 380,
   "id": "cde3ecaf",
   "metadata": {},
   "outputs": [
    {
     "data": {
      "text/plain": [
       "array([nan,\n",
       "       'combat-related, accidents, natural or manmade disasters, other (not specified)',\n",
       "       'intimate partner violence, accidents, illness/medical procedure',\n",
       "       'rape/sexual assault, accidents, community/school violence, other (witnessing trauma of others, unspecified childhood trauma)',\n",
       "       'rape/sexual assault, accidents, community/school violence',\n",
       "       'Combat-related, Rape/sexual assault, Accidents, Community/school violence, Natural or manmade disasters, Terrorism/policital violence/forced displacement; Other (physical assault, assault with a weapon, unwanted or uncomfortable sexual experience, captivity, severe human suffering, sudden violent death of someone close, sudden unexpected death of someone close, other very stressful event or experience)',\n",
       "       'combat-related, rape/sexual assault, accidents, community/school violence, natural or manmade disasters, other (not specified)',\n",
       "       'combat-related, other (\"civilian related trauma\")',\n",
       "       'combat-related, child sexual abuse, child physical abuse, intimate partner violence, rape/sexual assault, accidents, illness/medical procedure, other (homicide, death/suicide of a loved one)',\n",
       "       'combat-related, rape/sexual assault, community/school violence, illness/medical procedure, natural or manmade disasters, child other abuse, other (\"work-related trauma [e.g. first responders]\")',\n",
       "       'child sexual abuse, rape/sexual assault',\n",
       "       'rape/sexual assault, community/school violence, other (death or severe disease of relative, perceived physical harm/psychological distress)',\n",
       "       'rape/sexual assault, intimate partner violence, accidents, community/school violence',\n",
       "       'combat-related, rape/sexual assault, accidents, community/school violence, natural or manmade disasters, other (seeing someone hurt or die, kidnapping)',\n",
       "       'rape/sexual assault, accidents, community/school violence, other (childhood trauma not specified)',\n",
       "       'combat-related, accidents, terrorism/political violence/forced displacement',\n",
       "       'accidents, community/school violence, illness/medical procedure, other (loss of loved one, undefined)',\n",
       "       'combat-related, accidents, illness/medical procedure, community/school violence terrorism/political violence/forced displacement, other (death or injury of family member, threat)',\n",
       "       'combat-related. rape/sexual assault, accidents, illness/medical procedure, community/school violence, other (war zone, captivity, life threat, sudden unexpected death, other trauma not specified)',\n",
       "       'accidents, community/school violence',\n",
       "       'accidents, illness/medical procedure, other (\"interpersonal\", \"loss\", not specified)',\n",
       "       'MST, child physical abuse, rape/sexual assault, intimate partner violence, community/school violence, other (military harassment, \"nurse in Vietnam\", \"Persian Gulf\" [non-combat trauma])',\n",
       "       'MST, combat-related, child sexual abuse, rape/sexual assault',\n",
       "       'intimate partner violence, community/school violence',\n",
       "       'child sexual abuse, rape/sexual assault, community/school violence, terrorism/political violence/forced displacement, other (torture)',\n",
       "       'MST, combat-related, other (not specified)',\n",
       "       'child physical abuse, child sexual abuse',\n",
       "       'child physical abuse, child sexual abuse, child other abuse, intimate partner violence, rape/sexual assault, community/school violence, other (\"other interpersonal victimization\")',\n",
       "       'child sexual abuse, child physical abuse, rape/sexual assault, accidents, natural or manmade disasters',\n",
       "       'combat-related, accidents, rape/sexual assault, community/school violence, other (occupational, unexpected death of relative)',\n",
       "       'rape/sexual assault, accidents, illness/medical procedure, community/school violence, natural or manmade disasters. other (traumatic bereavement, father in intensive care unit, witnessed emotional abuse)',\n",
       "       'combat-related, rape/sexual assault, accidents, community/school violence, other (unexpected death of or threat of harm to a loved one; unwanted therapeutic abortion)',\n",
       "       'rape/sexual assault, accidents, illness/medical procedure, community/school violence, other (not specified)',\n",
       "       'accidents, rape/sexual assault, combat-related, natural or manmade disasters, community/school violence, other (\"seeing someone hurt or die\", \"other event\")',\n",
       "       'child sexual abuse, community/school violence, combat-related, accidents, other (non-specified)',\n",
       "       'combat-related, child sexual abuse, rape/sexual assault, accidents, natural or manmade disasters, other (nonsexual abuse, witnessing unexpected death)',\n",
       "       'combat-related, child sexual abuse, rape/sexual assault, accidents, community/school violence, other (\"unexpected death\")',\n",
       "       'rape/sexual assault, community/school violence, accidents, combat-related, natural or manmade disasters, other (non-specified)',\n",
       "       'combat-related, rape/sexual assault',\n",
       "       'combat-related, other (non-specified)',\n",
       "       'Combat-related; Rape/sexual assault; Other (noncombat military, civilian)',\n",
       "       'MST; Combat-related; Rape/sexual assault; Other (childhood, not specified; other adult, not specified)',\n",
       "       'combat-related, rape/sexual assault, accidents, other (violent nonsexual assault; \"miscellaneous\")',\n",
       "       'child sexual abuse, child physical abuse',\n",
       "       'Rape/sexual assault; Accidents; Illness/medical procedure; Community/school violence; Natural or manmade disasters; Other (observed violence to or death of a loved one)',\n",
       "       'terrorism/political violence/forced displacement, community/school violence, accidents',\n",
       "       'combat-related, other (unspecified child abuse, unspecified)',\n",
       "       'child other abuse, rape/sexual assault, accidents, community/school violence, natural or manmade disasters, other (traumatic death of others, not specified)',\n",
       "       'combat-related, MST',\n",
       "       'child sexual abuse, rape/sexual assault, community/school violence, natural or manmade disasters',\n",
       "       'combat-related, child physical abuse, child sexual abuse, rape/sexual assault, community/school violence, other (witnessing trauma)',\n",
       "       'combat-related. rape/sexual assault, accidents, community/school violence, other (fire, witnessed assault or death, witnessed 9/11 attacks)',\n",
       "       'rape/sexual assault, accidents, community/school violence, natural or manmade disasters, other (death of family members)',\n",
       "       'child physical abuse, child sexual abuse, rape/sexual assault, intimate partner violence, community/school violence',\n",
       "       'combat-related, rape/sexual assault, accidents, terrorism/political violence/forced displacement, other (assault)',\n",
       "       'rape/sexual assault, community/school violence',\n",
       "       'rape/sexual assault, intimate partner violence, child sexual abuse',\n",
       "       'Combat-related; Rape/sexual assault; Community/school violence; Other (not specified)',\n",
       "       'Combat-related; Child sexual abuse; Rape/sexual assault; Accidents; Illness/medical procedure; Community/school violence; Natural or manmade disasters; Other (imprisonment, torture, other)',\n",
       "       'combat-related, other (not specified)',\n",
       "       'combat-related, illness/medical procedure, community/school violence, natural or manmade disasters, rape/sexual assault',\n",
       "       'combat-related, rape/sexual assault, accidents, community/school violence, other (injury, fire, seeing someone hurt or die, \"miscellaneous\")',\n",
       "       'child sexual abuse, child physical abuse, rape/sexual assault, community/school violence, intimate partner violence',\n",
       "       'child physical abuse, child sexual abuse, child other abuse, other (not specified)',\n",
       "       'natural or manmade disaster, accidents, rape/sexual assault, community/school violence, illness/medical procedure, combat-related, terrorism/political violence/forced displacement',\n",
       "       'MST, combat-related, rape/sexual assault, accidents, community/school violence, terrorism/political violence/forced displacement, other (not specified)',\n",
       "       'combat-related, other (noncombat unspecified)',\n",
       "       'combat-related, rape/sexual assault, accidents, illness/medical procedure, community/school violence, other (adverse childhood experiences, not specified)',\n",
       "       'accidents, terrorism/political violence/forced displacement, other (physical abuse)',\n",
       "       'combat-related, accidents, terrorism/political violence/forced displacement, other (not specified)',\n",
       "       'combat-related, rape/sexual assault, other (abduction)',\n",
       "       'child physical abuse, child sexual abuse, rape/sexual assault, community/school violence, accidents, illness/medical procedure, other (\"exposed to violent death\")',\n",
       "       'terrorism/political violence/forced displacement, rape/sexual assault, combat-related',\n",
       "       'combat-related, rape/sexual assault, accidents, community/school violence',\n",
       "       'intimate partner violence, accidents, illness/medical procedure, combat-related, natural or manmade disasters, community/school violence, other (torture, multiple stressors)',\n",
       "       'rape/sexual assault, terrorism/political violence/forced displacement',\n",
       "       'rape/sexual assault, child sexual abuse, intimate partner violence, terrorism/political violence/forced displacement, illness/medical procedure, accidents, other (emotional abuse, systemic discrimination, compassion fatigue)',\n",
       "       'combat-related, accidents, community/school violence, other (not specified)',\n",
       "       'accidents, community/school violence, other (not specified)',\n",
       "       'combat-related, rape/sexual assault, accidents, community/school violence, other (not specified)',\n",
       "       'MST, rape/sexual assault, child sexual abuse, intimate partner violence',\n",
       "       'combat-related, child physical abuse, child other abuse, rape/sexual assault, accidents, community/school violence',\n",
       "       'MST, combat-related, community/school violence',\n",
       "       'terrorism/political violence/forced displacement, rape/sexual assault, community/school violence',\n",
       "       'child physical abuse, child sexual abuse, rape/sexual assault, accidents, community/school violence, natural or manmade disasters',\n",
       "       'child physical abuse, child sexual abuse, other (interpersonal trauma)',\n",
       "       'MST, combat-related',\n",
       "       'combat-related, other (physical or sexual abuse)',\n",
       "       'combat-related; Accidents; Community/ school violence; Other (sudden violent death, causing serious harm to another)',\n",
       "       'rape/sexual assault, accidents, community/school violence, other (war-related)',\n",
       "       'combat-related, rape/sexual assault, accidents, other (murder)',\n",
       "       'intimate partner violence, terrorism/political violence/forced displacement, other (unspecified child abuse, persecution)',\n",
       "       'Rape/sexual assault; Other (exposure to actual or threatened death or serious injury, and witnessing such incidents)',\n",
       "       'accidents, illness/medical procedure, rape/sexual assault, terrorism/political violence/forced displacement, community/school violence',\n",
       "       'combat-related, other (chemical burn)',\n",
       "       'combat-related, rape/sexual assault, accidents, community/school violence, natural or manmade disasters, other (unspecified)',\n",
       "       'child sexual abuse, child physical abuse, rape/sexual assault, intimate partner violence',\n",
       "       'combat-related, rape/sexual assault, accidents, community/school violence, other (unspecified type of child abuse, \"unexpected death\", \"others\")',\n",
       "       'child sexual abuse, rape/sexual assault, child physical abuse, child other abuse',\n",
       "       'accidents, rape/sexual assault, combat-related, community/school violence, other (non-specified)',\n",
       "       'rape/sexual assault, accidents, illness/medical procedure, community/school violence, natural or manmade disaster',\n",
       "       'rape/sexual assault, other (child abuse unspecified, interpersonal, not specified)',\n",
       "       'combat-related, rape/sexual assault, accidents, community/school violence, terrorism/political violence/forced displacement',\n",
       "       'combat-related, rape/sexual assault, accidents, community/school violence, other (serious injury, witnessing injury or death)',\n",
       "       'rape/sexual assault, accidents, community/school violence, other (witnessing events, fire)',\n",
       "       'combat-related, other (\"victim of war or witness of war event,\" \"witness of another person\\'s death\")',\n",
       "       'combat-related, rape/sexual assault, intimate partner violence, accidents, other (incest, witnessed a death)',\n",
       "       'combat-related, rape/sexual assault, accidents, community/school violence, other (unexpected death)',\n",
       "       'rape/sexual assault, child sexual abuse, child physical abuse, accidents, community/school violence, other (military-related, not specified)',\n",
       "       'child physical abuse, child sexual abuse, rape/sexual assault, community/school violence, accidents',\n",
       "       'child sexual abuse, community/school violence, other (not specified)',\n",
       "       'Rape/sexual assault; Intimate partner violence; Accidents; Community/school violence; Natural or manmade disasters; Other (childhood trauma, not specified)',\n",
       "       'child physical abuse, child sexual abuse, rape/sexual assault, accidents, community/school violence, other (not specified)',\n",
       "       'combat-related, child sexual abuse, rape/sexual assault, accidents, community/school violence, natural or manmade disasters, terrorism/political violence/forced displacement, other (not specified)',\n",
       "       'combat-related, child physical abuse, child sexual abuse, child other abuse, rape/sexual assault, community/school violence, other (family violence)',\n",
       "       'combat-related, other (firefighter/police officer)',\n",
       "       'rape/sexual assault, child sexual abuse, accidents, illness/medical procedure, combat-related, community/school violence, other (not specified)',\n",
       "       'combat-related, child physical abuse, child sexual abuse, rape/sexual assault, accidents, community/school violence, other (not specified)',\n",
       "       'combat-related, terrorism/political violence',\n",
       "       'combat-related, rape/sexual assault, child sexual abuse, community/school violence, terrorism/political violence/forced displacement, accidents',\n",
       "       'combat-related, rape/sexual assault, other (NR)',\n",
       "       'intimate partner violence, accidents, community/school violence',\n",
       "       'MST; Combat-related; Illness/medical procedure; Natural or manmade disasters; Other (life-threatening or serious injury; life-threatening illness)',\n",
       "       'rape/sexual assault, accidents, natural or manmade disasters, community/school violence, other (war-related)',\n",
       "       'combat-related, rape/sexual assault, terrorism/political violence/forced dsplacement, other (\"violence from relatives\")',\n",
       "       'combat-related, rape/sexual assault, accidents, community/school violence, natural or manmade disasters',\n",
       "       'child sexual abuse, rape/sexual assault, accidents, illness/medical procedure',\n",
       "       'Combat-related; Child physical abuse; Child sexual abuse; Accidents; Community/school violence; Other (ritual abuse, witnessing a crime)',\n",
       "       'rape/sexual assault, intimate partner violence, child physical abuse, community/school violence, other (violent death of a loved one)',\n",
       "       'combat-related, rape/sexual assault, accidents, community/school violence, terrorism/political violence/forced displacement, other (exposure to toxic substance)',\n",
       "       'other (sexual abuse, physical abuse or physical threatening or negligence, emotional abuse)',\n",
       "       'combat-related, rape/sexual assault, accidents, illness/medical procedure, community/school violence, natural or manmade disasters, terrorism/political violence/forced displacement, other (unspecified childhood trauma, \"serious injury, harm, or death you caused to someone else\", \"other very stressful event/experiences\")',\n",
       "       'accidents, other (sexual or physical abuse)',\n",
       "       'combat-related, rape/sexual assault, illness/medical procedure, community/school violence, natural or manmade disaster, other (not specified)',\n",
       "       'accidents, rape/sexual assault, community/school violence, other (traumatic death, not specified)',\n",
       "       'rape/sexual assault, community/school violence, other (not specified)',\n",
       "       'combat-related, child physical abuse, child sexual abuse, child other abuse',\n",
       "       'child physical abuse, child sexual abuse, child other abuse',\n",
       "       'child physical abuse, child sexual abuse, rape/sexual assault, intimate partner violence',\n",
       "       'combat-related, child sexual abuse',\n",
       "       'combat-related, rape/sexual assault, accidents, community/school violence, other (noncombat death)',\n",
       "       'rape/sexual assault, accidents, community/school violence, natural or manmade disasters',\n",
       "       'other (trauma experienced through occupation, not specified)',\n",
       "       'child sexual abuse, child physical abuse, accidents, combat-related, other (death [not combat-related] of another person)',\n",
       "       'rape/sexual assault, intimate partner violence, accidents, community/school violence, other (stalking, break-in, witnessed killing or suicide attempt)',\n",
       "       'accidents, natural or manmade disasters, community/school violence, other (sexual trauma)',\n",
       "       'rape/sexual assault, child sexual abuse, community/school violence, accidents, natural or manmade disasters, other (\"non-sexual violence by a family member\")',\n",
       "       'child physical abuse, child sexual abuse, rape/sexual assault, community/school violence, intimate partner violence, accidents, other (\"witnessed injury/killing/mutilation\", \"news of someone close\", \"danger of losing life/other\")',\n",
       "       'child sexual assault, child physical assault, intimate partner violence, other (unexpected death of loved one)',\n",
       "       'combat-related, MST, rape/sexual assault, community/school violence, natural or manmade disasters, illness/medical procedure, accidents, other (sexual trauma, not specified)',\n",
       "       'combat-related, rape/sexual assault, accidents, natural or manmade disaster, community/school violence',\n",
       "       'other (childhood trauma unspecified, adult trauma unspecified)',\n",
       "       'rape/sexual assault, accidents, community/school violence, other (witnessing accident)',\n",
       "       'combat-related, accidents, terrorism/political violence/forced displacement, other (accident with death of son)',\n",
       "       'rape/sexual assault, intimate partner violence, accidents, illness/medical procedure, other (exposure to war)',\n",
       "       'rape/sexual assault, accidents, child sexual abuse, community/school violence, other (witness to murder)',\n",
       "       'rape/sexual assault, community/school violence, accidents, other (witness to murder)',\n",
       "       'rape/sexual assault, community/school violence, accidents, combat-related, other (witness to a murder)',\n",
       "       'combat-related, rape/sexual assault, child sexual abuse, child physical abuse, accidents, community/school violence',\n",
       "       'Combat-related; Child physical abuse; Child sexual abuse; Rape/sexual assault; Accidents; Community/school violence; Other (death or trauma to friend or loved one)',\n",
       "       'rape/sexual assault, accidents, community/school violence, other (not specified)',\n",
       "       'combat-related, rape/sexual assault, accidents, illness/medical procedure, community/school violence, natural or manmade disasters, terrorism/political violence/forced displacement, other (not specified)',\n",
       "       'intimate partner violence, accidents, rape/sexual assault, combat-related, community/school violence, other (trafficking)',\n",
       "       'accidents, other (crime, not specified)',\n",
       "       'child physical abuse, child sexual abuse, rape/sexual assault, accidents, community/school violence',\n",
       "       'terrorism/political violence/forced displacement, community/school violence',\n",
       "       'combat-related, natural or manmade disasters',\n",
       "       'combat-related, rape/sexual assault, accidents, community/school violence, other (serious injury, seeing someone hurt or die)',\n",
       "       'rape/sexual assault, combat-related, natural or manmade disasters, accidents, terrorism/political violence/forced displacement, community/school violence',\n",
       "       'child sexual abuse, child physical abuse, intimate partner violence, rape/sexual assault, accidents, community/school violence, natural or manmade disasters, other (non-specified)',\n",
       "       'rape/sexual assault, child sexual abuse, child other abuse, accidents, natural or manmade disasters, other (traumatic psychosis, war, physical abuse)',\n",
       "       'combat-related, child physical abuse, child sexual abuse, rape/sexual assault, community/school violence, terrorism/political violence/forced displacement',\n",
       "       'combat-related, child physical abuse, child sexual abuse, rape/sexual assault, intimate partner violence, accidents, community/school violence, terrorism/political violence/forced displacement, other (\"other adult victimization,\" \"traumatic loss,\" injury)',\n",
       "       'child other abuse, rape/sexual assault, intimate partner violence, other (not specified)',\n",
       "       'combat-related, accidents, illness/medical procedure, community/school violence, terrorism/political violence/forced displacement, other (\"severe human suffering\", \"death caused to someone else\", \"explosion or fire\")',\n",
       "       'combat-related, rape/sexual assault, community/school violence, other (multiple trauma)',\n",
       "       'rape/sexual assault, community/school violence, accidents',\n",
       "       'combat-related, rape/sexual assault, accidents, community/school violence, other (fire)',\n",
       "       'combat-related, rape/sexual assault, accidents, illness/medical procedure, community/school violence, natural or manmade disasters, other (unspecified type of child abuse, unspecified \"other\")',\n",
       "       'rape/sexual assault, community/school violence, other (\"sudden or unexpected loss of a child or spouse\")',\n",
       "       'combat-related, accidents, other (interpersonal violence)',\n",
       "       'combat-related, child physical abuse, child sexual abuse, rape/sexual assault, accidents, community/school violence, natural or manmade disasters, other (not specified)',\n",
       "       'combat-related, accidents, other (captivity)'], dtype=object)"
      ]
     },
     "execution_count": 380,
     "metadata": {},
     "output_type": "execute_result"
    }
   ],
   "source": [
    "bias['Trauma Detail (Study level)'].unique() "
   ]
  },
  {
   "cell_type": "code",
   "execution_count": 381,
   "id": "418b591b",
   "metadata": {},
   "outputs": [],
   "source": [
    "def trauma_recode (series):\n",
    "    if pd.isnull(series):\n",
    "        return 0\n",
    "    else:\n",
    "        return 1\n",
    "    \n",
    "   \n",
    "    "
   ]
  },
  {
   "cell_type": "code",
   "execution_count": 382,
   "id": "c8beffc6",
   "metadata": {},
   "outputs": [
    {
     "data": {
      "text/plain": [
       "NaN                                                                                                                                                                                                                                 190\n",
       "accidents, community/school violence                                                                                                                                                                                                  4\n",
       "combat-related, other (not specified)                                                                                                                                                                                                 4\n",
       "rape/sexual assault, community/school violence                                                                                                                                                                                        3\n",
       "rape/sexual assault, accidents, community/school violence                                                                                                                                                                             3\n",
       "                                                                                                                                                                                                                                   ... \n",
       "accidents, community/school violence, other (not specified)                                                                                                                                                                           1\n",
       "rape/sexual assault, intimate partner violence, child physical abuse, community/school violence, other (violent death of a loved one)                                                                                                 1\n",
       "rape/sexual assault, child sexual abuse, intimate partner violence, terrorism/political violence/forced displacement, illness/medical procedure, accidents, other (emotional abuse, systemic discrimination, compassion fatigue)      1\n",
       "combat-related, child physical abuse, child sexual abuse, rape/sexual assault, community/school violence, terrorism/political violence/forced displacement                                                                            1\n",
       "terrorism/political violence/forced displacement, community/school violence                                                                                                                                                           1\n",
       "Name: Trauma Detail (Study level), Length: 183, dtype: int64"
      ]
     },
     "execution_count": 382,
     "metadata": {},
     "output_type": "execute_result"
    }
   ],
   "source": [
    "bias['Trauma Detail (Study level)'].value_counts(dropna=False)"
   ]
  },
  {
   "cell_type": "code",
   "execution_count": 383,
   "id": "1a55a482",
   "metadata": {},
   "outputs": [
    {
     "name": "stdout",
     "output_type": "stream",
     "text": [
      "<class 'pandas.core.frame.DataFrame'>\n",
      "RangeIndex: 389 entries, 0 to 388\n",
      "Data columns (total 40 columns):\n",
      " #   Column                                                                                 Non-Null Count  Dtype  \n",
      "---  ------                                                                                 --------------  -----  \n",
      " 0   Study ID                                                                               389 non-null    object \n",
      " 1   Study Class                                                                            389 non-null    object \n",
      " 2   Treatment Focus                                                                        389 non-null    object \n",
      " 3   Total N Randomized (Study level)                                                       389 non-null    int64  \n",
      " 4   Selection Bias: Randomization Adequate                                                 389 non-null    object \n",
      " 5   Selection Bias: Allocation Concealment Adequate                                        389 non-null    object \n",
      " 6   Selection Bias: Groups Similar at Baseline                                             386 non-null    object \n",
      " 7   Selection Bias: ITT Analysis                                                           384 non-null    object \n",
      " 8   Performance Bias: Care Providers Masked                                                389 non-null    object \n",
      " 9   Performance Bias: Patients Masked                                                      389 non-null    object \n",
      " 10  Detection Bias: Outcome Assessors Masked                                               389 non-null    object \n",
      " 11  Attrition Overall Less Than or Equal to 20%                                            381 non-null    object \n",
      " 12  Attrition Overall Greater Than 20%                                                     174 non-null    float64\n",
      " 13  Attrition Differential Less Than or Equal to 15%                                       380 non-null    object \n",
      " 14  Attrition Differential Greater Than 15%                                                88 non-null     object \n",
      " 15  Additional Quantitative Data Reported                                                  1 non-null      object \n",
      " 16  Reporting Bias: All Prespecified Outcomes Reported                                     389 non-null    object \n",
      " 17  Reporting Bias: Method of Handling Dropouts                                            389 non-null    object \n",
      " 18  Reporting Bias: Detail of Other Methods of Handling Dropouts                           13 non-null     object \n",
      " 19  Outcome Measures Equal Valid and Reliable                                              389 non-null    object \n",
      " 20  Study Reports Adequate Treatment Fidelity Based on Measurements by Independent Raters  246 non-null    object \n",
      " 21  Risk of Bias Rating                                                                    389 non-null    object \n",
      " 22  EPC Assessing Risk of Bias                                                             389 non-null    object \n",
      " 23  Military Status (Study level)                                                          380 non-null    object \n",
      " 24  Active Duty Military (Study level)                                                     169 non-null    float64\n",
      " 25  Veteran Percent (Study level)                                                          186 non-null    float64\n",
      " 26  Community Percent (Study level)                                                        364 non-null    float64\n",
      " 27  Female Percent (Study level)                                                           365 non-null    float64\n",
      " 28  Female Percent Detail (Study level)                                                    7 non-null      object \n",
      " 29  Male Percent (Study level)                                                             365 non-null    float64\n",
      " 30  Trauma Type (Study level)                                                              332 non-null    object \n",
      " 31  Trauma Detail (Study level)                                                            199 non-null    object \n",
      " 32  Citation                                                                               389 non-null    object \n",
      " 33  PTSDPubs ID                                                                            363 non-null    float64\n",
      " 34  Year Added to PTSD-Repository                                                          389 non-null    int64  \n",
      " 35  Male_recode                                                                            389 non-null    int64  \n",
      " 36  Female_recode                                                                          389 non-null    int64  \n",
      " 37  Veteran_recode                                                                         389 non-null    int64  \n",
      " 38  Military_recode                                                                        389 non-null    int64  \n",
      " 39  trauma_recode                                                                          389 non-null    int64  \n",
      "dtypes: float64(7), int64(7), object(26)\n",
      "memory usage: 121.7+ KB\n"
     ]
    }
   ],
   "source": [
    "bias.info()"
   ]
  },
  {
   "cell_type": "markdown",
   "id": "df5619a3",
   "metadata": {},
   "source": [
    "# corrlation "
   ]
  },
  {
   "cell_type": "code",
   "execution_count": 384,
   "id": "f618e14d",
   "metadata": {},
   "outputs": [
    {
     "data": {
      "text/plain": [
       "-0.9998917477816226"
      ]
     },
     "execution_count": 384,
     "metadata": {},
     "output_type": "execute_result"
    }
   ],
   "source": [
    "bias['Female Percent (Study level)'].corr(bias['Male Percent (Study level)'])       "
   ]
  },
  {
   "cell_type": "code",
   "execution_count": 329,
   "id": "919c1032",
   "metadata": {},
   "outputs": [
    {
     "data": {
      "text/html": [
       "<style  type=\"text/css\" >\n",
       "#T_8f7c5_row0_col0,#T_8f7c5_row1_col1,#T_8f7c5_row2_col2,#T_8f7c5_row2_col12,#T_8f7c5_row3_col3,#T_8f7c5_row3_col11,#T_8f7c5_row4_col4,#T_8f7c5_row5_col5,#T_8f7c5_row6_col6,#T_8f7c5_row7_col7,#T_8f7c5_row8_col8,#T_8f7c5_row9_col9,#T_8f7c5_row10_col10,#T_8f7c5_row11_col3,#T_8f7c5_row11_col11,#T_8f7c5_row12_col2,#T_8f7c5_row12_col12,#T_8f7c5_row13_col13{\n",
       "            background-color:  #b40426;\n",
       "            color:  #f1f1f1;\n",
       "        }#T_8f7c5_row0_col1,#T_8f7c5_row1_col9{\n",
       "            background-color:  #5977e3;\n",
       "            color:  #000000;\n",
       "        }#T_8f7c5_row0_col2{\n",
       "            background-color:  #7396f5;\n",
       "            color:  #000000;\n",
       "        }#T_8f7c5_row0_col3,#T_8f7c5_row4_col6{\n",
       "            background-color:  #4055c8;\n",
       "            color:  #f1f1f1;\n",
       "        }#T_8f7c5_row0_col4,#T_8f7c5_row12_col9{\n",
       "            background-color:  #4358cb;\n",
       "            color:  #f1f1f1;\n",
       "        }#T_8f7c5_row0_col5,#T_8f7c5_row7_col9{\n",
       "            background-color:  #445acc;\n",
       "            color:  #f1f1f1;\n",
       "        }#T_8f7c5_row0_col6,#T_8f7c5_row7_col12{\n",
       "            background-color:  #6180e9;\n",
       "            color:  #000000;\n",
       "        }#T_8f7c5_row0_col7{\n",
       "            background-color:  #3c4ec2;\n",
       "            color:  #f1f1f1;\n",
       "        }#T_8f7c5_row0_col8,#T_8f7c5_row1_col13,#T_8f7c5_row13_col11{\n",
       "            background-color:  #7da0f9;\n",
       "            color:  #000000;\n",
       "        }#T_8f7c5_row0_col9,#T_8f7c5_row6_col4{\n",
       "            background-color:  #6384eb;\n",
       "            color:  #000000;\n",
       "        }#T_8f7c5_row0_col10,#T_8f7c5_row1_col3,#T_8f7c5_row2_col3,#T_8f7c5_row2_col11,#T_8f7c5_row3_col4,#T_8f7c5_row4_col3,#T_8f7c5_row5_col6,#T_8f7c5_row6_col5,#T_8f7c5_row7_col6,#T_8f7c5_row8_col12,#T_8f7c5_row9_col5,#T_8f7c5_row10_col6,#T_8f7c5_row11_col2,#T_8f7c5_row12_col6,#T_8f7c5_row13_col6{\n",
       "            background-color:  #3b4cc0;\n",
       "            color:  #f1f1f1;\n",
       "        }#T_8f7c5_row0_col11{\n",
       "            background-color:  #4257c9;\n",
       "            color:  #f1f1f1;\n",
       "        }#T_8f7c5_row0_col12{\n",
       "            background-color:  #5a78e4;\n",
       "            color:  #000000;\n",
       "        }#T_8f7c5_row0_col13,#T_8f7c5_row1_col0,#T_8f7c5_row7_col11{\n",
       "            background-color:  #5e7de7;\n",
       "            color:  #000000;\n",
       "        }#T_8f7c5_row1_col2{\n",
       "            background-color:  #7a9df8;\n",
       "            color:  #000000;\n",
       "        }#T_8f7c5_row1_col4,#T_8f7c5_row12_col3{\n",
       "            background-color:  #5875e1;\n",
       "            color:  #000000;\n",
       "        }#T_8f7c5_row1_col5{\n",
       "            background-color:  #516ddb;\n",
       "            color:  #000000;\n",
       "        }#T_8f7c5_row1_col6,#T_8f7c5_row1_col7{\n",
       "            background-color:  #5f7fe8;\n",
       "            color:  #000000;\n",
       "        }#T_8f7c5_row1_col8{\n",
       "            background-color:  #4f69d9;\n",
       "            color:  #000000;\n",
       "        }#T_8f7c5_row1_col10{\n",
       "            background-color:  #4e68d8;\n",
       "            color:  #000000;\n",
       "        }#T_8f7c5_row1_col11,#T_8f7c5_row12_col8{\n",
       "            background-color:  #485fd1;\n",
       "            color:  #f1f1f1;\n",
       "        }#T_8f7c5_row1_col12,#T_8f7c5_row7_col1{\n",
       "            background-color:  #5b7ae5;\n",
       "            color:  #000000;\n",
       "        }#T_8f7c5_row2_col0,#T_8f7c5_row2_col1{\n",
       "            background-color:  #c4d5f3;\n",
       "            color:  #000000;\n",
       "        }#T_8f7c5_row2_col4,#T_8f7c5_row5_col3{\n",
       "            background-color:  #88abfd;\n",
       "            color:  #000000;\n",
       "        }#T_8f7c5_row2_col5,#T_8f7c5_row8_col5{\n",
       "            background-color:  #8badfd;\n",
       "            color:  #000000;\n",
       "        }#T_8f7c5_row2_col6,#T_8f7c5_row3_col7{\n",
       "            background-color:  #ccd9ed;\n",
       "            color:  #000000;\n",
       "        }#T_8f7c5_row2_col7,#T_8f7c5_row3_col13{\n",
       "            background-color:  #a1c0ff;\n",
       "            color:  #000000;\n",
       "        }#T_8f7c5_row2_col8{\n",
       "            background-color:  #94b6ff;\n",
       "            color:  #000000;\n",
       "        }#T_8f7c5_row2_col9,#T_8f7c5_row6_col7,#T_8f7c5_row10_col0{\n",
       "            background-color:  #cfdaea;\n",
       "            color:  #000000;\n",
       "        }#T_8f7c5_row2_col10,#T_8f7c5_row13_col8{\n",
       "            background-color:  #89acfd;\n",
       "            color:  #000000;\n",
       "        }#T_8f7c5_row2_col13,#T_8f7c5_row9_col12{\n",
       "            background-color:  #98b9ff;\n",
       "            color:  #000000;\n",
       "        }#T_8f7c5_row3_col0{\n",
       "            background-color:  #c0d4f5;\n",
       "            color:  #000000;\n",
       "        }#T_8f7c5_row3_col1{\n",
       "            background-color:  #b9d0f9;\n",
       "            color:  #000000;\n",
       "        }#T_8f7c5_row3_col2{\n",
       "            background-color:  #688aef;\n",
       "            color:  #000000;\n",
       "        }#T_8f7c5_row3_col5,#T_8f7c5_row9_col4{\n",
       "            background-color:  #6788ee;\n",
       "            color:  #000000;\n",
       "        }#T_8f7c5_row3_col6{\n",
       "            background-color:  #f59f80;\n",
       "            color:  #000000;\n",
       "        }#T_8f7c5_row3_col8{\n",
       "            background-color:  #8caffe;\n",
       "            color:  #000000;\n",
       "        }#T_8f7c5_row3_col9{\n",
       "            background-color:  #f6a385;\n",
       "            color:  #000000;\n",
       "        }#T_8f7c5_row3_col10{\n",
       "            background-color:  #82a6fb;\n",
       "            color:  #000000;\n",
       "        }#T_8f7c5_row3_col12{\n",
       "            background-color:  #8fb1fe;\n",
       "            color:  #000000;\n",
       "        }#T_8f7c5_row4_col0{\n",
       "            background-color:  #c3d5f4;\n",
       "            color:  #000000;\n",
       "        }#T_8f7c5_row4_col1,#T_8f7c5_row12_col13{\n",
       "            background-color:  #cbd8ee;\n",
       "            color:  #000000;\n",
       "        }#T_8f7c5_row4_col2,#T_8f7c5_row9_col13{\n",
       "            background-color:  #aec9fc;\n",
       "            color:  #000000;\n",
       "        }#T_8f7c5_row4_col5{\n",
       "            background-color:  #e36b54;\n",
       "            color:  #000000;\n",
       "        }#T_8f7c5_row4_col7{\n",
       "            background-color:  #d7dce3;\n",
       "            color:  #000000;\n",
       "        }#T_8f7c5_row4_col8,#T_8f7c5_row6_col13{\n",
       "            background-color:  #afcafc;\n",
       "            color:  #000000;\n",
       "        }#T_8f7c5_row4_col9{\n",
       "            background-color:  #4961d2;\n",
       "            color:  #f1f1f1;\n",
       "        }#T_8f7c5_row4_col10{\n",
       "            background-color:  #ec7f63;\n",
       "            color:  #000000;\n",
       "        }#T_8f7c5_row4_col11,#T_8f7c5_row10_col2{\n",
       "            background-color:  #c5d6f2;\n",
       "            color:  #000000;\n",
       "        }#T_8f7c5_row4_col12,#T_8f7c5_row10_col4{\n",
       "            background-color:  #e9785d;\n",
       "            color:  #000000;\n",
       "        }#T_8f7c5_row4_col13{\n",
       "            background-color:  #f5c1a9;\n",
       "            color:  #000000;\n",
       "        }#T_8f7c5_row5_col0,#T_8f7c5_row10_col1{\n",
       "            background-color:  #d6dce4;\n",
       "            color:  #000000;\n",
       "        }#T_8f7c5_row5_col1,#T_8f7c5_row10_col11{\n",
       "            background-color:  #d9dce1;\n",
       "            color:  #000000;\n",
       "        }#T_8f7c5_row5_col2,#T_8f7c5_row13_col10{\n",
       "            background-color:  #c7d7f0;\n",
       "            color:  #000000;\n",
       "        }#T_8f7c5_row5_col4{\n",
       "            background-color:  #de614d;\n",
       "            color:  #000000;\n",
       "        }#T_8f7c5_row5_col7{\n",
       "            background-color:  #e9d5cb;\n",
       "            color:  #000000;\n",
       "        }#T_8f7c5_row5_col8{\n",
       "            background-color:  #d5dbe5;\n",
       "            color:  #000000;\n",
       "        }#T_8f7c5_row5_col9,#T_8f7c5_row6_col10{\n",
       "            background-color:  #3e51c5;\n",
       "            color:  #f1f1f1;\n",
       "        }#T_8f7c5_row5_col10,#T_8f7c5_row6_col9,#T_8f7c5_row9_col6,#T_8f7c5_row10_col5{\n",
       "            background-color:  #b8122a;\n",
       "            color:  #f1f1f1;\n",
       "        }#T_8f7c5_row5_col11{\n",
       "            background-color:  #d8dce2;\n",
       "            color:  #000000;\n",
       "        }#T_8f7c5_row5_col12{\n",
       "            background-color:  #f5a081;\n",
       "            color:  #000000;\n",
       "        }#T_8f7c5_row5_col13{\n",
       "            background-color:  #f6bda2;\n",
       "            color:  #000000;\n",
       "        }#T_8f7c5_row6_col0{\n",
       "            background-color:  #e3d9d3;\n",
       "            color:  #000000;\n",
       "        }#T_8f7c5_row6_col1{\n",
       "            background-color:  #e0dbd8;\n",
       "            color:  #000000;\n",
       "        }#T_8f7c5_row6_col2,#T_8f7c5_row9_col2{\n",
       "            background-color:  #eed0c0;\n",
       "            color:  #000000;\n",
       "        }#T_8f7c5_row6_col3{\n",
       "            background-color:  #f39475;\n",
       "            color:  #000000;\n",
       "        }#T_8f7c5_row6_col8,#T_8f7c5_row9_col8{\n",
       "            background-color:  #e4d9d2;\n",
       "            color:  #000000;\n",
       "        }#T_8f7c5_row6_col11{\n",
       "            background-color:  #e1dad6;\n",
       "            color:  #000000;\n",
       "        }#T_8f7c5_row6_col12{\n",
       "            background-color:  #93b5fe;\n",
       "            color:  #000000;\n",
       "        }#T_8f7c5_row7_col0{\n",
       "            background-color:  #3f53c6;\n",
       "            color:  #f1f1f1;\n",
       "        }#T_8f7c5_row7_col2,#T_8f7c5_row7_col13,#T_8f7c5_row8_col3{\n",
       "            background-color:  #465ecf;\n",
       "            color:  #f1f1f1;\n",
       "        }#T_8f7c5_row7_col3,#T_8f7c5_row11_col8{\n",
       "            background-color:  #5572df;\n",
       "            color:  #000000;\n",
       "        }#T_8f7c5_row7_col4{\n",
       "            background-color:  #6b8df0;\n",
       "            color:  #000000;\n",
       "        }#T_8f7c5_row7_col5{\n",
       "            background-color:  #7295f4;\n",
       "            color:  #000000;\n",
       "        }#T_8f7c5_row7_col8{\n",
       "            background-color:  #5d7ce6;\n",
       "            color:  #000000;\n",
       "        }#T_8f7c5_row7_col10,#T_8f7c5_row8_col4{\n",
       "            background-color:  #7093f3;\n",
       "            color:  #000000;\n",
       "        }#T_8f7c5_row8_col0{\n",
       "            background-color:  #bad0f8;\n",
       "            color:  #000000;\n",
       "        }#T_8f7c5_row8_col1,#T_8f7c5_row13_col0{\n",
       "            background-color:  #92b4fe;\n",
       "            color:  #000000;\n",
       "        }#T_8f7c5_row8_col2{\n",
       "            background-color:  #7ea1fa;\n",
       "            color:  #000000;\n",
       "        }#T_8f7c5_row8_col6,#T_8f7c5_row13_col1{\n",
       "            background-color:  #a7c5fe;\n",
       "            color:  #000000;\n",
       "        }#T_8f7c5_row8_col7{\n",
       "            background-color:  #9fbfff;\n",
       "            color:  #000000;\n",
       "        }#T_8f7c5_row8_col9,#T_8f7c5_row12_col0{\n",
       "            background-color:  #aac7fd;\n",
       "            color:  #000000;\n",
       "        }#T_8f7c5_row8_col10{\n",
       "            background-color:  #86a9fc;\n",
       "            color:  #000000;\n",
       "        }#T_8f7c5_row8_col11,#T_8f7c5_row13_col9{\n",
       "            background-color:  #3d50c3;\n",
       "            color:  #f1f1f1;\n",
       "        }#T_8f7c5_row8_col13{\n",
       "            background-color:  #9bbcff;\n",
       "            color:  #000000;\n",
       "        }#T_8f7c5_row9_col0{\n",
       "            background-color:  #e2dad5;\n",
       "            color:  #000000;\n",
       "        }#T_8f7c5_row9_col1{\n",
       "            background-color:  #dbdcde;\n",
       "            color:  #000000;\n",
       "        }#T_8f7c5_row9_col3{\n",
       "            background-color:  #f4987a;\n",
       "            color:  #000000;\n",
       "        }#T_8f7c5_row9_col7,#T_8f7c5_row13_col5{\n",
       "            background-color:  #d3dbe7;\n",
       "            color:  #000000;\n",
       "        }#T_8f7c5_row9_col10,#T_8f7c5_row10_col9{\n",
       "            background-color:  #506bda;\n",
       "            color:  #000000;\n",
       "        }#T_8f7c5_row9_col11{\n",
       "            background-color:  #dfdbd9;\n",
       "            color:  #000000;\n",
       "        }#T_8f7c5_row10_col3,#T_8f7c5_row11_col0,#T_8f7c5_row11_col1{\n",
       "            background-color:  #9ebeff;\n",
       "            color:  #000000;\n",
       "        }#T_8f7c5_row10_col7{\n",
       "            background-color:  #e7d7ce;\n",
       "            color:  #000000;\n",
       "        }#T_8f7c5_row10_col8{\n",
       "            background-color:  #d2dbe8;\n",
       "            color:  #000000;\n",
       "        }#T_8f7c5_row10_col12{\n",
       "            background-color:  #f7ad90;\n",
       "            color:  #000000;\n",
       "        }#T_8f7c5_row10_col13{\n",
       "            background-color:  #f4c6af;\n",
       "            color:  #000000;\n",
       "        }#T_8f7c5_row11_col4,#T_8f7c5_row11_col5{\n",
       "            background-color:  #a3c2fe;\n",
       "            color:  #000000;\n",
       "        }#T_8f7c5_row11_col6,#T_8f7c5_row13_col12{\n",
       "            background-color:  #b5cdfa;\n",
       "            color:  #000000;\n",
       "        }#T_8f7c5_row11_col7,#T_8f7c5_row11_col9{\n",
       "            background-color:  #b3cdfb;\n",
       "            color:  #000000;\n",
       "        }#T_8f7c5_row11_col10{\n",
       "            background-color:  #a9c6fd;\n",
       "            color:  #000000;\n",
       "        }#T_8f7c5_row11_col12{\n",
       "            background-color:  #cedaeb;\n",
       "            color:  #000000;\n",
       "        }#T_8f7c5_row11_col13{\n",
       "            background-color:  #a5c3fe;\n",
       "            color:  #000000;\n",
       "        }#T_8f7c5_row12_col1{\n",
       "            background-color:  #a6c4fe;\n",
       "            color:  #000000;\n",
       "        }#T_8f7c5_row12_col4{\n",
       "            background-color:  #f08a6c;\n",
       "            color:  #000000;\n",
       "        }#T_8f7c5_row12_col5{\n",
       "            background-color:  #f5c2aa;\n",
       "            color:  #000000;\n",
       "        }#T_8f7c5_row12_col7{\n",
       "            background-color:  #adc9fd;\n",
       "            color:  #000000;\n",
       "        }#T_8f7c5_row12_col10{\n",
       "            background-color:  #f1cdba;\n",
       "            color:  #000000;\n",
       "        }#T_8f7c5_row12_col11{\n",
       "            background-color:  #c9d7f0;\n",
       "            color:  #000000;\n",
       "        }#T_8f7c5_row13_col2{\n",
       "            background-color:  #6e90f2;\n",
       "            color:  #000000;\n",
       "        }#T_8f7c5_row13_col3{\n",
       "            background-color:  #4a63d3;\n",
       "            color:  #f1f1f1;\n",
       "        }#T_8f7c5_row13_col4{\n",
       "            background-color:  #dcdddd;\n",
       "            color:  #000000;\n",
       "        }#T_8f7c5_row13_col7{\n",
       "            background-color:  #799cf8;\n",
       "            color:  #000000;\n",
       "        }</style><table id=\"T_8f7c5_\" ><thead>    <tr>        <th class=\"blank level0\" ></th>        <th class=\"col_heading level0 col0\" >Total N Randomized (Study level)</th>        <th class=\"col_heading level0 col1\" >Attrition Overall Greater Than 20%</th>        <th class=\"col_heading level0 col2\" >Active Duty Military (Study level)</th>        <th class=\"col_heading level0 col3\" >Veteran Percent (Study level)</th>        <th class=\"col_heading level0 col4\" >Community Percent (Study level)</th>        <th class=\"col_heading level0 col5\" >Female Percent (Study level)</th>        <th class=\"col_heading level0 col6\" >Male Percent (Study level)</th>        <th class=\"col_heading level0 col7\" >PTSDPubs ID</th>        <th class=\"col_heading level0 col8\" >Year Added to PTSD-Repository</th>        <th class=\"col_heading level0 col9\" >Male_recode</th>        <th class=\"col_heading level0 col10\" >Female_recode</th>        <th class=\"col_heading level0 col11\" >Veteran_recode</th>        <th class=\"col_heading level0 col12\" >Military_recode</th>        <th class=\"col_heading level0 col13\" >trauma_recode</th>    </tr></thead><tbody>\n",
       "                <tr>\n",
       "                        <th id=\"T_8f7c5_level0_row0\" class=\"row_heading level0 row0\" >Total N Randomized (Study level)</th>\n",
       "                        <td id=\"T_8f7c5_row0_col0\" class=\"data row0 col0\" >1.0</td>\n",
       "                        <td id=\"T_8f7c5_row0_col1\" class=\"data row0 col1\" >0.022</td>\n",
       "                        <td id=\"T_8f7c5_row0_col2\" class=\"data row0 col2\" >0.11</td>\n",
       "                        <td id=\"T_8f7c5_row0_col3\" class=\"data row0 col3\" >-0.063</td>\n",
       "                        <td id=\"T_8f7c5_row0_col4\" class=\"data row0 col4\" >-0.052</td>\n",
       "                        <td id=\"T_8f7c5_row0_col5\" class=\"data row0 col5\" >-0.049</td>\n",
       "                        <td id=\"T_8f7c5_row0_col6\" class=\"data row0 col6\" >0.049</td>\n",
       "                        <td id=\"T_8f7c5_row0_col7\" class=\"data row0 col7\" >-0.077</td>\n",
       "                        <td id=\"T_8f7c5_row0_col8\" class=\"data row0 col8\" >0.14</td>\n",
       "                        <td id=\"T_8f7c5_row0_col9\" class=\"data row0 col9\" >0.058</td>\n",
       "                        <td id=\"T_8f7c5_row0_col10\" class=\"data row0 col10\" >-0.085</td>\n",
       "                        <td id=\"T_8f7c5_row0_col11\" class=\"data row0 col11\" >-0.059</td>\n",
       "                        <td id=\"T_8f7c5_row0_col12\" class=\"data row0 col12\" >0.028</td>\n",
       "                        <td id=\"T_8f7c5_row0_col13\" class=\"data row0 col13\" >0.042</td>\n",
       "            </tr>\n",
       "            <tr>\n",
       "                        <th id=\"T_8f7c5_level0_row1\" class=\"row_heading level0 row1\" >Attrition Overall Greater Than 20%</th>\n",
       "                        <td id=\"T_8f7c5_row1_col0\" class=\"data row1 col0\" >0.022</td>\n",
       "                        <td id=\"T_8f7c5_row1_col1\" class=\"data row1 col1\" >1.0</td>\n",
       "                        <td id=\"T_8f7c5_row1_col2\" class=\"data row1 col2\" >0.11</td>\n",
       "                        <td id=\"T_8f7c5_row1_col3\" class=\"data row1 col3\" >-0.11</td>\n",
       "                        <td id=\"T_8f7c5_row1_col4\" class=\"data row1 col4\" >-0.0018</td>\n",
       "                        <td id=\"T_8f7c5_row1_col5\" class=\"data row1 col5\" >-0.024</td>\n",
       "                        <td id=\"T_8f7c5_row1_col6\" class=\"data row1 col6\" >0.025</td>\n",
       "                        <td id=\"T_8f7c5_row1_col7\" class=\"data row1 col7\" >0.022</td>\n",
       "                        <td id=\"T_8f7c5_row1_col8\" class=\"data row1 col8\" >-0.03</td>\n",
       "                        <td id=\"T_8f7c5_row1_col9\" class=\"data row1 col9\" >0.00092</td>\n",
       "                        <td id=\"T_8f7c5_row1_col10\" class=\"data row1 col10\" >-0.036</td>\n",
       "                        <td id=\"T_8f7c5_row1_col11\" class=\"data row1 col11\" >-0.06</td>\n",
       "                        <td id=\"T_8f7c5_row1_col12\" class=\"data row1 col12\" >0.0099</td>\n",
       "                        <td id=\"T_8f7c5_row1_col13\" class=\"data row1 col13\" >0.12</td>\n",
       "            </tr>\n",
       "            <tr>\n",
       "                        <th id=\"T_8f7c5_level0_row2\" class=\"row_heading level0 row2\" >Active Duty Military (Study level)</th>\n",
       "                        <td id=\"T_8f7c5_row2_col0\" class=\"data row2 col0\" >0.11</td>\n",
       "                        <td id=\"T_8f7c5_row2_col1\" class=\"data row2 col1\" >0.11</td>\n",
       "                        <td id=\"T_8f7c5_row2_col2\" class=\"data row2 col2\" >1.0</td>\n",
       "                        <td id=\"T_8f7c5_row2_col3\" class=\"data row2 col3\" >-0.52</td>\n",
       "                        <td id=\"T_8f7c5_row2_col4\" class=\"data row2 col4\" >-0.16</td>\n",
       "                        <td id=\"T_8f7c5_row2_col5\" class=\"data row2 col5\" >-0.15</td>\n",
       "                        <td id=\"T_8f7c5_row2_col6\" class=\"data row2 col6\" >0.15</td>\n",
       "                        <td id=\"T_8f7c5_row2_col7\" class=\"data row2 col7\" >-0.051</td>\n",
       "                        <td id=\"T_8f7c5_row2_col8\" class=\"data row2 col8\" >-0.1</td>\n",
       "                        <td id=\"T_8f7c5_row2_col9\" class=\"data row2 col9\" >0.17</td>\n",
       "                        <td id=\"T_8f7c5_row2_col10\" class=\"data row2 col10\" >-0.15</td>\n",
       "                        <td id=\"T_8f7c5_row2_col11\" class=\"data row2 col11\" >-0.51</td>\n",
       "                        <td id=\"T_8f7c5_row2_col12\" class=\"data row2 col12\" >1.0</td>\n",
       "                        <td id=\"T_8f7c5_row2_col13\" class=\"data row2 col13\" >-0.09</td>\n",
       "            </tr>\n",
       "            <tr>\n",
       "                        <th id=\"T_8f7c5_level0_row3\" class=\"row_heading level0 row3\" >Veteran Percent (Study level)</th>\n",
       "                        <td id=\"T_8f7c5_row3_col0\" class=\"data row3 col0\" >-0.063</td>\n",
       "                        <td id=\"T_8f7c5_row3_col1\" class=\"data row3 col1\" >-0.11</td>\n",
       "                        <td id=\"T_8f7c5_row3_col2\" class=\"data row3 col2\" >-0.52</td>\n",
       "                        <td id=\"T_8f7c5_row3_col3\" class=\"data row3 col3\" >1.0</td>\n",
       "                        <td id=\"T_8f7c5_row3_col4\" class=\"data row3 col4\" >-0.78</td>\n",
       "                        <td id=\"T_8f7c5_row3_col5\" class=\"data row3 col5\" >-0.53</td>\n",
       "                        <td id=\"T_8f7c5_row3_col6\" class=\"data row3 col6\" >0.53</td>\n",
       "                        <td id=\"T_8f7c5_row3_col7\" class=\"data row3 col7\" >-0.0003</td>\n",
       "                        <td id=\"T_8f7c5_row3_col8\" class=\"data row3 col8\" >-0.34</td>\n",
       "                        <td id=\"T_8f7c5_row3_col9\" class=\"data row3 col9\" >0.51</td>\n",
       "                        <td id=\"T_8f7c5_row3_col10\" class=\"data row3 col10\" >-0.38</td>\n",
       "                        <td id=\"T_8f7c5_row3_col11\" class=\"data row3 col11\" >1.0</td>\n",
       "                        <td id=\"T_8f7c5_row3_col12\" class=\"data row3 col12\" >-0.32</td>\n",
       "                        <td id=\"T_8f7c5_row3_col13\" class=\"data row3 col13\" >-0.23</td>\n",
       "            </tr>\n",
       "            <tr>\n",
       "                        <th id=\"T_8f7c5_level0_row4\" class=\"row_heading level0 row4\" >Community Percent (Study level)</th>\n",
       "                        <td id=\"T_8f7c5_row4_col0\" class=\"data row4 col0\" >-0.052</td>\n",
       "                        <td id=\"T_8f7c5_row4_col1\" class=\"data row4 col1\" >-0.0018</td>\n",
       "                        <td id=\"T_8f7c5_row4_col2\" class=\"data row4 col2\" >-0.16</td>\n",
       "                        <td id=\"T_8f7c5_row4_col3\" class=\"data row4 col3\" >-0.78</td>\n",
       "                        <td id=\"T_8f7c5_row4_col4\" class=\"data row4 col4\" >1.0</td>\n",
       "                        <td id=\"T_8f7c5_row4_col5\" class=\"data row4 col5\" >0.74</td>\n",
       "                        <td id=\"T_8f7c5_row4_col6\" class=\"data row4 col6\" >-0.74</td>\n",
       "                        <td id=\"T_8f7c5_row4_col7\" class=\"data row4 col7\" >0.074</td>\n",
       "                        <td id=\"T_8f7c5_row4_col8\" class=\"data row4 col8\" >-0.16</td>\n",
       "                        <td id=\"T_8f7c5_row4_col9\" class=\"data row4 col9\" >-0.69</td>\n",
       "                        <td id=\"T_8f7c5_row4_col10\" class=\"data row4 col10\" >0.66</td>\n",
       "                        <td id=\"T_8f7c5_row4_col11\" class=\"data row4 col11\" >-0.038</td>\n",
       "                        <td id=\"T_8f7c5_row4_col12\" class=\"data row4 col12\" >0.69</td>\n",
       "                        <td id=\"T_8f7c5_row4_col13\" class=\"data row4 col13\" >0.35</td>\n",
       "            </tr>\n",
       "            <tr>\n",
       "                        <th id=\"T_8f7c5_level0_row5\" class=\"row_heading level0 row5\" >Female Percent (Study level)</th>\n",
       "                        <td id=\"T_8f7c5_row5_col0\" class=\"data row5 col0\" >-0.049</td>\n",
       "                        <td id=\"T_8f7c5_row5_col1\" class=\"data row5 col1\" >-0.024</td>\n",
       "                        <td id=\"T_8f7c5_row5_col2\" class=\"data row5 col2\" >-0.15</td>\n",
       "                        <td id=\"T_8f7c5_row5_col3\" class=\"data row5 col3\" >-0.53</td>\n",
       "                        <td id=\"T_8f7c5_row5_col4\" class=\"data row5 col4\" >0.74</td>\n",
       "                        <td id=\"T_8f7c5_row5_col5\" class=\"data row5 col5\" >1.0</td>\n",
       "                        <td id=\"T_8f7c5_row5_col6\" class=\"data row5 col6\" >-1.0</td>\n",
       "                        <td id=\"T_8f7c5_row5_col7\" class=\"data row5 col7\" >0.095</td>\n",
       "                        <td id=\"T_8f7c5_row5_col8\" class=\"data row5 col8\" >-0.058</td>\n",
       "                        <td id=\"T_8f7c5_row5_col9\" class=\"data row5 col9\" >-0.97</td>\n",
       "                        <td id=\"T_8f7c5_row5_col10\" class=\"data row5 col10\" >0.97</td>\n",
       "                        <td id=\"T_8f7c5_row5_col11\" class=\"data row5 col11\" >-0.036</td>\n",
       "                        <td id=\"T_8f7c5_row5_col12\" class=\"data row5 col12\" >0.46</td>\n",
       "                        <td id=\"T_8f7c5_row5_col13\" class=\"data row5 col13\" >0.3</td>\n",
       "            </tr>\n",
       "            <tr>\n",
       "                        <th id=\"T_8f7c5_level0_row6\" class=\"row_heading level0 row6\" >Male Percent (Study level)</th>\n",
       "                        <td id=\"T_8f7c5_row6_col0\" class=\"data row6 col0\" >0.049</td>\n",
       "                        <td id=\"T_8f7c5_row6_col1\" class=\"data row6 col1\" >0.025</td>\n",
       "                        <td id=\"T_8f7c5_row6_col2\" class=\"data row6 col2\" >0.15</td>\n",
       "                        <td id=\"T_8f7c5_row6_col3\" class=\"data row6 col3\" >0.53</td>\n",
       "                        <td id=\"T_8f7c5_row6_col4\" class=\"data row6 col4\" >-0.74</td>\n",
       "                        <td id=\"T_8f7c5_row6_col5\" class=\"data row6 col5\" >-1.0</td>\n",
       "                        <td id=\"T_8f7c5_row6_col6\" class=\"data row6 col6\" >1.0</td>\n",
       "                        <td id=\"T_8f7c5_row6_col7\" class=\"data row6 col7\" >-0.095</td>\n",
       "                        <td id=\"T_8f7c5_row6_col8\" class=\"data row6 col8\" >0.059</td>\n",
       "                        <td id=\"T_8f7c5_row6_col9\" class=\"data row6 col9\" >0.97</td>\n",
       "                        <td id=\"T_8f7c5_row6_col10\" class=\"data row6 col10\" >-0.97</td>\n",
       "                        <td id=\"T_8f7c5_row6_col11\" class=\"data row6 col11\" >0.036</td>\n",
       "                        <td id=\"T_8f7c5_row6_col12\" class=\"data row6 col12\" >-0.46</td>\n",
       "                        <td id=\"T_8f7c5_row6_col13\" class=\"data row6 col13\" >-0.3</td>\n",
       "            </tr>\n",
       "            <tr>\n",
       "                        <th id=\"T_8f7c5_level0_row7\" class=\"row_heading level0 row7\" >PTSDPubs ID</th>\n",
       "                        <td id=\"T_8f7c5_row7_col0\" class=\"data row7 col0\" >-0.077</td>\n",
       "                        <td id=\"T_8f7c5_row7_col1\" class=\"data row7 col1\" >0.022</td>\n",
       "                        <td id=\"T_8f7c5_row7_col2\" class=\"data row7 col2\" >-0.051</td>\n",
       "                        <td id=\"T_8f7c5_row7_col3\" class=\"data row7 col3\" >-0.0003</td>\n",
       "                        <td id=\"T_8f7c5_row7_col4\" class=\"data row7 col4\" >0.074</td>\n",
       "                        <td id=\"T_8f7c5_row7_col5\" class=\"data row7 col5\" >0.095</td>\n",
       "                        <td id=\"T_8f7c5_row7_col6\" class=\"data row7 col6\" >-0.095</td>\n",
       "                        <td id=\"T_8f7c5_row7_col7\" class=\"data row7 col7\" >1.0</td>\n",
       "                        <td id=\"T_8f7c5_row7_col8\" class=\"data row7 col8\" >0.027</td>\n",
       "                        <td id=\"T_8f7c5_row7_col9\" class=\"data row7 col9\" >-0.059</td>\n",
       "                        <td id=\"T_8f7c5_row7_col10\" class=\"data row7 col10\" >0.091</td>\n",
       "                        <td id=\"T_8f7c5_row7_col11\" class=\"data row7 col11\" >0.03</td>\n",
       "                        <td id=\"T_8f7c5_row7_col12\" class=\"data row7 col12\" >0.04</td>\n",
       "                        <td id=\"T_8f7c5_row7_col13\" class=\"data row7 col13\" >-0.049</td>\n",
       "            </tr>\n",
       "            <tr>\n",
       "                        <th id=\"T_8f7c5_level0_row8\" class=\"row_heading level0 row8\" >Year Added to PTSD-Repository</th>\n",
       "                        <td id=\"T_8f7c5_row8_col0\" class=\"data row8 col0\" >0.14</td>\n",
       "                        <td id=\"T_8f7c5_row8_col1\" class=\"data row8 col1\" >-0.03</td>\n",
       "                        <td id=\"T_8f7c5_row8_col2\" class=\"data row8 col2\" >-0.1</td>\n",
       "                        <td id=\"T_8f7c5_row8_col3\" class=\"data row8 col3\" >-0.34</td>\n",
       "                        <td id=\"T_8f7c5_row8_col4\" class=\"data row8 col4\" >-0.16</td>\n",
       "                        <td id=\"T_8f7c5_row8_col5\" class=\"data row8 col5\" >-0.058</td>\n",
       "                        <td id=\"T_8f7c5_row8_col6\" class=\"data row8 col6\" >0.059</td>\n",
       "                        <td id=\"T_8f7c5_row8_col7\" class=\"data row8 col7\" >0.027</td>\n",
       "                        <td id=\"T_8f7c5_row8_col8\" class=\"data row8 col8\" >1.0</td>\n",
       "                        <td id=\"T_8f7c5_row8_col9\" class=\"data row8 col9\" >0.07</td>\n",
       "                        <td id=\"T_8f7c5_row8_col10\" class=\"data row8 col10\" >-0.07</td>\n",
       "                        <td id=\"T_8f7c5_row8_col11\" class=\"data row8 col11\" >-0.38</td>\n",
       "                        <td id=\"T_8f7c5_row8_col12\" class=\"data row8 col12\" >-0.4</td>\n",
       "                        <td id=\"T_8f7c5_row8_col13\" class=\"data row8 col13\" >0.012</td>\n",
       "            </tr>\n",
       "            <tr>\n",
       "                        <th id=\"T_8f7c5_level0_row9\" class=\"row_heading level0 row9\" >Male_recode</th>\n",
       "                        <td id=\"T_8f7c5_row9_col0\" class=\"data row9 col0\" >0.058</td>\n",
       "                        <td id=\"T_8f7c5_row9_col1\" class=\"data row9 col1\" >0.00092</td>\n",
       "                        <td id=\"T_8f7c5_row9_col2\" class=\"data row9 col2\" >0.17</td>\n",
       "                        <td id=\"T_8f7c5_row9_col3\" class=\"data row9 col3\" >0.51</td>\n",
       "                        <td id=\"T_8f7c5_row9_col4\" class=\"data row9 col4\" >-0.69</td>\n",
       "                        <td id=\"T_8f7c5_row9_col5\" class=\"data row9 col5\" >-0.97</td>\n",
       "                        <td id=\"T_8f7c5_row9_col6\" class=\"data row9 col6\" >0.97</td>\n",
       "                        <td id=\"T_8f7c5_row9_col7\" class=\"data row9 col7\" >-0.059</td>\n",
       "                        <td id=\"T_8f7c5_row9_col8\" class=\"data row9 col8\" >0.07</td>\n",
       "                        <td id=\"T_8f7c5_row9_col9\" class=\"data row9 col9\" >1.0</td>\n",
       "                        <td id=\"T_8f7c5_row9_col10\" class=\"data row9 col10\" >-0.83</td>\n",
       "                        <td id=\"T_8f7c5_row9_col11\" class=\"data row9 col11\" >0.034</td>\n",
       "                        <td id=\"T_8f7c5_row9_col12\" class=\"data row9 col12\" >-0.42</td>\n",
       "                        <td id=\"T_8f7c5_row9_col13\" class=\"data row9 col13\" >-0.29</td>\n",
       "            </tr>\n",
       "            <tr>\n",
       "                        <th id=\"T_8f7c5_level0_row10\" class=\"row_heading level0 row10\" >Female_recode</th>\n",
       "                        <td id=\"T_8f7c5_row10_col0\" class=\"data row10 col0\" >-0.085</td>\n",
       "                        <td id=\"T_8f7c5_row10_col1\" class=\"data row10 col1\" >-0.036</td>\n",
       "                        <td id=\"T_8f7c5_row10_col2\" class=\"data row10 col2\" >-0.15</td>\n",
       "                        <td id=\"T_8f7c5_row10_col3\" class=\"data row10 col3\" >-0.38</td>\n",
       "                        <td id=\"T_8f7c5_row10_col4\" class=\"data row10 col4\" >0.66</td>\n",
       "                        <td id=\"T_8f7c5_row10_col5\" class=\"data row10 col5\" >0.97</td>\n",
       "                        <td id=\"T_8f7c5_row10_col6\" class=\"data row10 col6\" >-0.97</td>\n",
       "                        <td id=\"T_8f7c5_row10_col7\" class=\"data row10 col7\" >0.091</td>\n",
       "                        <td id=\"T_8f7c5_row10_col8\" class=\"data row10 col8\" >-0.07</td>\n",
       "                        <td id=\"T_8f7c5_row10_col9\" class=\"data row10 col9\" >-0.83</td>\n",
       "                        <td id=\"T_8f7c5_row10_col10\" class=\"data row10 col10\" >1.0</td>\n",
       "                        <td id=\"T_8f7c5_row10_col11\" class=\"data row10 col11\" >-0.013</td>\n",
       "                        <td id=\"T_8f7c5_row10_col12\" class=\"data row10 col12\" >0.4</td>\n",
       "                        <td id=\"T_8f7c5_row10_col13\" class=\"data row10 col13\" >0.25</td>\n",
       "            </tr>\n",
       "            <tr>\n",
       "                        <th id=\"T_8f7c5_level0_row11\" class=\"row_heading level0 row11\" >Veteran_recode</th>\n",
       "                        <td id=\"T_8f7c5_row11_col0\" class=\"data row11 col0\" >-0.059</td>\n",
       "                        <td id=\"T_8f7c5_row11_col1\" class=\"data row11 col1\" >-0.06</td>\n",
       "                        <td id=\"T_8f7c5_row11_col2\" class=\"data row11 col2\" >-0.51</td>\n",
       "                        <td id=\"T_8f7c5_row11_col3\" class=\"data row11 col3\" >1.0</td>\n",
       "                        <td id=\"T_8f7c5_row11_col4\" class=\"data row11 col4\" >-0.038</td>\n",
       "                        <td id=\"T_8f7c5_row11_col5\" class=\"data row11 col5\" >-0.036</td>\n",
       "                        <td id=\"T_8f7c5_row11_col6\" class=\"data row11 col6\" >0.036</td>\n",
       "                        <td id=\"T_8f7c5_row11_col7\" class=\"data row11 col7\" >0.03</td>\n",
       "                        <td id=\"T_8f7c5_row11_col8\" class=\"data row11 col8\" >-0.38</td>\n",
       "                        <td id=\"T_8f7c5_row11_col9\" class=\"data row11 col9\" >0.034</td>\n",
       "                        <td id=\"T_8f7c5_row11_col10\" class=\"data row11 col10\" >-0.013</td>\n",
       "                        <td id=\"T_8f7c5_row11_col11\" class=\"data row11 col11\" >1.0</td>\n",
       "                        <td id=\"T_8f7c5_row11_col12\" class=\"data row11 col12\" >0.16</td>\n",
       "                        <td id=\"T_8f7c5_row11_col13\" class=\"data row11 col13\" >-0.032</td>\n",
       "            </tr>\n",
       "            <tr>\n",
       "                        <th id=\"T_8f7c5_level0_row12\" class=\"row_heading level0 row12\" >Military_recode</th>\n",
       "                        <td id=\"T_8f7c5_row12_col0\" class=\"data row12 col0\" >0.028</td>\n",
       "                        <td id=\"T_8f7c5_row12_col1\" class=\"data row12 col1\" >0.0099</td>\n",
       "                        <td id=\"T_8f7c5_row12_col2\" class=\"data row12 col2\" >1.0</td>\n",
       "                        <td id=\"T_8f7c5_row12_col3\" class=\"data row12 col3\" >-0.32</td>\n",
       "                        <td id=\"T_8f7c5_row12_col4\" class=\"data row12 col4\" >0.69</td>\n",
       "                        <td id=\"T_8f7c5_row12_col5\" class=\"data row12 col5\" >0.46</td>\n",
       "                        <td id=\"T_8f7c5_row12_col6\" class=\"data row12 col6\" >-0.46</td>\n",
       "                        <td id=\"T_8f7c5_row12_col7\" class=\"data row12 col7\" >0.04</td>\n",
       "                        <td id=\"T_8f7c5_row12_col8\" class=\"data row12 col8\" >-0.4</td>\n",
       "                        <td id=\"T_8f7c5_row12_col9\" class=\"data row12 col9\" >-0.42</td>\n",
       "                        <td id=\"T_8f7c5_row12_col10\" class=\"data row12 col10\" >0.4</td>\n",
       "                        <td id=\"T_8f7c5_row12_col11\" class=\"data row12 col11\" >0.16</td>\n",
       "                        <td id=\"T_8f7c5_row12_col12\" class=\"data row12 col12\" >1.0</td>\n",
       "                        <td id=\"T_8f7c5_row12_col13\" class=\"data row12 col13\" >0.18</td>\n",
       "            </tr>\n",
       "            <tr>\n",
       "                        <th id=\"T_8f7c5_level0_row13\" class=\"row_heading level0 row13\" >trauma_recode</th>\n",
       "                        <td id=\"T_8f7c5_row13_col0\" class=\"data row13 col0\" >0.042</td>\n",
       "                        <td id=\"T_8f7c5_row13_col1\" class=\"data row13 col1\" >0.12</td>\n",
       "                        <td id=\"T_8f7c5_row13_col2\" class=\"data row13 col2\" >-0.09</td>\n",
       "                        <td id=\"T_8f7c5_row13_col3\" class=\"data row13 col3\" >-0.23</td>\n",
       "                        <td id=\"T_8f7c5_row13_col4\" class=\"data row13 col4\" >0.35</td>\n",
       "                        <td id=\"T_8f7c5_row13_col5\" class=\"data row13 col5\" >0.3</td>\n",
       "                        <td id=\"T_8f7c5_row13_col6\" class=\"data row13 col6\" >-0.3</td>\n",
       "                        <td id=\"T_8f7c5_row13_col7\" class=\"data row13 col7\" >-0.049</td>\n",
       "                        <td id=\"T_8f7c5_row13_col8\" class=\"data row13 col8\" >0.012</td>\n",
       "                        <td id=\"T_8f7c5_row13_col9\" class=\"data row13 col9\" >-0.29</td>\n",
       "                        <td id=\"T_8f7c5_row13_col10\" class=\"data row13 col10\" >0.25</td>\n",
       "                        <td id=\"T_8f7c5_row13_col11\" class=\"data row13 col11\" >-0.032</td>\n",
       "                        <td id=\"T_8f7c5_row13_col12\" class=\"data row13 col12\" >0.18</td>\n",
       "                        <td id=\"T_8f7c5_row13_col13\" class=\"data row13 col13\" >1.0</td>\n",
       "            </tr>\n",
       "    </tbody></table>"
      ],
      "text/plain": [
       "<pandas.io.formats.style.Styler at 0x271dba35a60>"
      ]
     },
     "execution_count": 329,
     "metadata": {},
     "output_type": "execute_result"
    }
   ],
   "source": [
    "bias.corr(method='pearson').style.format(\"{:.2}\").background_gradient(cmap=plt.get_cmap('coolwarm'), axis=1)"
   ]
  },
  {
   "cell_type": "markdown",
   "id": "ceb76016",
   "metadata": {},
   "source": [
    "# histogram "
   ]
  },
  {
   "cell_type": "code",
   "execution_count": 386,
   "id": "c7024aa5",
   "metadata": {},
   "outputs": [
    {
     "data": {
      "text/plain": [
       "(array([141.,   0.,   0.,  43.,   0.,   0.,  81.,   0.,   0., 124.]),\n",
       " array([0. , 0.3, 0.6, 0.9, 1.2, 1.5, 1.8, 2.1, 2.4, 2.7, 3. ]),\n",
       " <BarContainer object of 10 artists>)"
      ]
     },
     "execution_count": 386,
     "metadata": {},
     "output_type": "execute_result"
    },
    {
     "data": {
      "image/png": "[encoded data removed]",
      "text/plain": [
       "<Figure size 432x288 with 1 Axes>"
      ]
     },
     "metadata": {
      "needs_background": "light"
     },
     "output_type": "display_data"
    }
   ],
   "source": [
    "bias['Female_recode'].hist()\n",
    "plt.hist(bias['Female_recode'], facecolor='hotpink')\n"
   ]
  },
  {
   "cell_type": "code",
   "execution_count": 387,
   "id": "975fa6ea",
   "metadata": {},
   "outputs": [
    {
     "data": {
      "text/plain": [
       "(array([ 97.,   0.,   0.,  83.,   0.,   0.,  43.,   0.,   0., 166.]),\n",
       " array([0. , 0.3, 0.6, 0.9, 1.2, 1.5, 1.8, 2.1, 2.4, 2.7, 3. ]),\n",
       " <BarContainer object of 10 artists>)"
      ]
     },
     "execution_count": 387,
     "metadata": {},
     "output_type": "execute_result"
    },
    {
     "data": {
      "image/png": "[encoded data removed]",
      "text/plain": [
       "<Figure size 432x288 with 1 Axes>"
      ]
     },
     "metadata": {
      "needs_background": "light"
     },
     "output_type": "display_data"
    }
   ],
   "source": [
    "bias['Male_recode'].hist()\n",
    "plt.hist(bias['Male_recode'], facecolor='hotpink')"
   ]
  },
  {
   "cell_type": "code",
   "execution_count": 388,
   "id": "8e2c6d80",
   "metadata": {},
   "outputs": [
    {
     "data": {
      "text/plain": [
       "(array([235.,   0.,   0.,   0.,   0., 132.,   0.,   0.,   0.,  22.]),\n",
       " array([0. , 0.2, 0.4, 0.6, 0.8, 1. , 1.2, 1.4, 1.6, 1.8, 2. ]),\n",
       " <BarContainer object of 10 artists>)"
      ]
     },
     "execution_count": 388,
     "metadata": {},
     "output_type": "execute_result"
    },
    {
     "data": {
      "image/png": "[encoded data removed]",
      "text/plain": [
       "<Figure size 432x288 with 1 Axes>"
      ]
     },
     "metadata": {
      "needs_background": "light"
     },
     "output_type": "display_data"
    }
   ],
   "source": [
    "bias['Risk of Bias Rating'].hist()\n",
    "plt.hist(bias['Risk of Bias Rating'], facecolor='hotpink')"
   ]
  },
  {
   "cell_type": "code",
   "execution_count": 389,
   "id": "652cb08d",
   "metadata": {},
   "outputs": [
    {
     "data": {
      "text/plain": [
       "(array([151.,   0.,   0.,   2.,   0.,   0.,   2.,   0.,   0., 234.]),\n",
       " array([0. , 0.3, 0.6, 0.9, 1.2, 1.5, 1.8, 2.1, 2.4, 2.7, 3. ]),\n",
       " <BarContainer object of 10 artists>)"
      ]
     },
     "execution_count": 389,
     "metadata": {},
     "output_type": "execute_result"
    },
    {
     "data": {
      "image/png": "[encoded data removed]",
      "text/plain": [
       "<Figure size 432x288 with 1 Axes>"
      ]
     },
     "metadata": {
      "needs_background": "light"
     },
     "output_type": "display_data"
    }
   ],
   "source": [
    "bias['Military_recode'].hist()\n",
    "plt.hist(bias['Military_recode'], facecolor='hotpink')"
   ]
  },
  {
   "cell_type": "code",
   "execution_count": 335,
   "id": "efe887c4",
   "metadata": {},
   "outputs": [
    {
     "data": {
      "text/plain": [
       "(array([ 46.,   0.,   0.,   7.,   0.,   0.,   4.,   0.,   0., 332.]),\n",
       " array([0. , 0.3, 0.6, 0.9, 1.2, 1.5, 1.8, 2.1, 2.4, 2.7, 3. ]),\n",
       " <BarContainer object of 10 artists>)"
      ]
     },
     "execution_count": 335,
     "metadata": {},
     "output_type": "execute_result"
    },
    {
     "data": {
      "image/png": "[encoded data removed]",
      "text/plain": [
       "<Figure size 432x288 with 1 Axes>"
      ]
     },
     "metadata": {
      "needs_background": "light"
     },
     "output_type": "display_data"
    }
   ],
   "source": [
    "bias['Veteran_recode'].hist()\n",
    "plt.hist(bias['Veteran_recode'], facecolor='hotpink')"
   ]
  },
  {
   "cell_type": "code",
   "execution_count": 471,
   "id": "213f84d4",
   "metadata": {},
   "outputs": [
    {
     "data": {
      "text/plain": [
       "Index(['Study ID', 'Study Class', 'Treatment Focus',\n",
       "       'Total N Randomized (Study level)',\n",
       "       'Selection Bias: Randomization Adequate',\n",
       "       'Selection Bias: Allocation Concealment Adequate',\n",
       "       'Selection Bias: Groups Similar at Baseline',\n",
       "       'Selection Bias: ITT Analysis',\n",
       "       'Performance Bias: Care Providers Masked',\n",
       "       'Performance Bias: Patients Masked',\n",
       "       'Detection Bias: Outcome Assessors Masked',\n",
       "       'Attrition Overall Less Than or Equal to 20%',\n",
       "       'Attrition Overall Greater Than 20%',\n",
       "       'Attrition Differential Less Than or Equal to 15%',\n",
       "       'Attrition Differential Greater Than 15%',\n",
       "       'Additional Quantitative Data Reported',\n",
       "       'Reporting Bias: All Prespecified Outcomes Reported',\n",
       "       'Reporting Bias: Method of Handling Dropouts',\n",
       "       'Reporting Bias: Detail of Other Methods of Handling Dropouts',\n",
       "       'Outcome Measures Equal Valid and Reliable',\n",
       "       'Study Reports Adequate Treatment Fidelity Based on Measurements by Independent Raters',\n",
       "       'Risk of Bias Rating', 'EPC Assessing Risk of Bias',\n",
       "       'Military Status (Study level)', 'Active Duty Military (Study level)',\n",
       "       'Veteran Percent (Study level)', 'Community Percent (Study level)',\n",
       "       'Female Percent (Study level)', 'Female Percent Detail (Study level)',\n",
       "       'Male Percent (Study level)', 'Trauma Type (Study level)',\n",
       "       'Trauma Detail (Study level)', 'Citation', 'PTSDPubs ID',\n",
       "       'Year Added to PTSD-Repository', 'Male_recode', 'Female_recode',\n",
       "       'Veteran_recode', 'Military_recode', 'trauma_recode'],\n",
       "      dtype='object')"
      ]
     },
     "execution_count": 471,
     "metadata": {},
     "output_type": "execute_result"
    }
   ],
   "source": [
    "bias.columns"
   ]
  },
  {
   "cell_type": "markdown",
   "id": "9b0b9453",
   "metadata": {},
   "source": [
    "# ttest"
   ]
  },
  {
   "cell_type": "code",
   "execution_count": 472,
   "id": "b12489fc",
   "metadata": {
    "scrolled": true
   },
   "outputs": [
    {
     "data": {
      "text/plain": [
       "Ttest_1sampResult(statistic=-209.69057588230226, pvalue=0.0)"
      ]
     },
     "execution_count": 472,
     "metadata": {},
     "output_type": "execute_result"
    }
   ],
   "source": [
    "stats.ttest_1samp(bias['Female_recode'], 15)"
   ]
  },
  {
   "cell_type": "code",
   "execution_count": 473,
   "id": "caa54689",
   "metadata": {
    "scrolled": true
   },
   "outputs": [
    {
     "data": {
      "text/plain": [
       "Ttest_1sampResult(statistic=-209.78224634437905, pvalue=0.0)"
      ]
     },
     "execution_count": 473,
     "metadata": {},
     "output_type": "execute_result"
    }
   ],
   "source": [
    "stats.ttest_1samp(bias['Male_recode'], 15)"
   ]
  },
  {
   "cell_type": "code",
   "execution_count": 475,
   "id": "2c571ee8",
   "metadata": {
    "scrolled": true
   },
   "outputs": [
    {
     "data": {
      "text/plain": [
       "Ttest_indResult(statistic=-2.5603289632828967, pvalue=0.010645532321528605)"
      ]
     },
     "execution_count": 475,
     "metadata": {},
     "output_type": "execute_result"
    }
   ],
   "source": [
    "ttest_ind(bias['Female_recode'], bias['Male_recode'])"
   ]
  },
  {
   "cell_type": "markdown",
   "id": "d529121e",
   "metadata": {},
   "source": [
    "# crosstab"
   ]
  },
  {
   "cell_type": "code",
   "execution_count": 393,
   "id": "6e23fde6",
   "metadata": {},
   "outputs": [
    {
     "data": {
      "text/html": [
       "<div>\n",
       "<style scoped>\n",
       "    .dataframe tbody tr th:only-of-type {\n",
       "        vertical-align: middle;\n",
       "    }\n",
       "\n",
       "    .dataframe tbody tr th {\n",
       "        vertical-align: top;\n",
       "    }\n",
       "\n",
       "    .dataframe thead th {\n",
       "        text-align: right;\n",
       "    }\n",
       "</style>\n",
       "<table border=\"1\" class=\"dataframe\">\n",
       "  <thead>\n",
       "    <tr style=\"text-align: right;\">\n",
       "      <th>Female_recode</th>\n",
       "      <th>0</th>\n",
       "      <th>1</th>\n",
       "      <th>2</th>\n",
       "      <th>3</th>\n",
       "    </tr>\n",
       "    <tr>\n",
       "      <th>Risk of Bias Rating</th>\n",
       "      <th></th>\n",
       "      <th></th>\n",
       "      <th></th>\n",
       "      <th></th>\n",
       "    </tr>\n",
       "  </thead>\n",
       "  <tbody>\n",
       "    <tr>\n",
       "      <th>High</th>\n",
       "      <td>46</td>\n",
       "      <td>17</td>\n",
       "      <td>21</td>\n",
       "      <td>48</td>\n",
       "    </tr>\n",
       "    <tr>\n",
       "      <th>Low</th>\n",
       "      <td>14</td>\n",
       "      <td>1</td>\n",
       "      <td>4</td>\n",
       "      <td>3</td>\n",
       "    </tr>\n",
       "    <tr>\n",
       "      <th>Medium</th>\n",
       "      <td>81</td>\n",
       "      <td>25</td>\n",
       "      <td>56</td>\n",
       "      <td>73</td>\n",
       "    </tr>\n",
       "  </tbody>\n",
       "</table>\n",
       "</div>"
      ],
      "text/plain": [
       "Female_recode         0   1   2   3\n",
       "Risk of Bias Rating                \n",
       "High                 46  17  21  48\n",
       "Low                  14   1   4   3\n",
       "Medium               81  25  56  73"
      ]
     },
     "execution_count": 393,
     "metadata": {},
     "output_type": "execute_result"
    }
   ],
   "source": [
    "bias_crosstab1 = pd.crosstab(bias['Female_recode'], bias['Male_recode'])\n",
    "bias_crosstab"
   ]
  },
  {
   "cell_type": "code",
   "execution_count": 394,
   "id": "7d7b9227",
   "metadata": {},
   "outputs": [
    {
     "data": {
      "text/html": [
       "<div>\n",
       "<style scoped>\n",
       "    .dataframe tbody tr th:only-of-type {\n",
       "        vertical-align: middle;\n",
       "    }\n",
       "\n",
       "    .dataframe tbody tr th {\n",
       "        vertical-align: top;\n",
       "    }\n",
       "\n",
       "    .dataframe thead th {\n",
       "        text-align: right;\n",
       "    }\n",
       "</style>\n",
       "<table border=\"1\" class=\"dataframe\">\n",
       "  <thead>\n",
       "    <tr style=\"text-align: right;\">\n",
       "      <th>Female_recode</th>\n",
       "      <th>0</th>\n",
       "      <th>1</th>\n",
       "      <th>2</th>\n",
       "      <th>3</th>\n",
       "    </tr>\n",
       "    <tr>\n",
       "      <th>Risk of Bias Rating</th>\n",
       "      <th></th>\n",
       "      <th></th>\n",
       "      <th></th>\n",
       "      <th></th>\n",
       "    </tr>\n",
       "  </thead>\n",
       "  <tbody>\n",
       "    <tr>\n",
       "      <th>High</th>\n",
       "      <td>46</td>\n",
       "      <td>17</td>\n",
       "      <td>21</td>\n",
       "      <td>48</td>\n",
       "    </tr>\n",
       "    <tr>\n",
       "      <th>Low</th>\n",
       "      <td>14</td>\n",
       "      <td>1</td>\n",
       "      <td>4</td>\n",
       "      <td>3</td>\n",
       "    </tr>\n",
       "    <tr>\n",
       "      <th>Medium</th>\n",
       "      <td>81</td>\n",
       "      <td>25</td>\n",
       "      <td>56</td>\n",
       "      <td>73</td>\n",
       "    </tr>\n",
       "  </tbody>\n",
       "</table>\n",
       "</div>"
      ],
      "text/plain": [
       "Female_recode         0   1   2   3\n",
       "Risk of Bias Rating                \n",
       "High                 46  17  21  48\n",
       "Low                  14   1   4   3\n",
       "Medium               81  25  56  73"
      ]
     },
     "execution_count": 394,
     "metadata": {},
     "output_type": "execute_result"
    }
   ],
   "source": [
    "bias_crosstab2 = pd.crosstab(bias['Risk of Bias Rating'], bias['Male_recode'])\n",
    "bias_crosstab"
   ]
  },
  {
   "cell_type": "code",
   "execution_count": 395,
   "id": "ab858043",
   "metadata": {},
   "outputs": [
    {
     "data": {
      "text/html": [
       "<div>\n",
       "<style scoped>\n",
       "    .dataframe tbody tr th:only-of-type {\n",
       "        vertical-align: middle;\n",
       "    }\n",
       "\n",
       "    .dataframe tbody tr th {\n",
       "        vertical-align: top;\n",
       "    }\n",
       "\n",
       "    .dataframe thead th {\n",
       "        text-align: right;\n",
       "    }\n",
       "</style>\n",
       "<table border=\"1\" class=\"dataframe\">\n",
       "  <thead>\n",
       "    <tr style=\"text-align: right;\">\n",
       "      <th>Female_recode</th>\n",
       "      <th>0</th>\n",
       "      <th>1</th>\n",
       "      <th>2</th>\n",
       "      <th>3</th>\n",
       "    </tr>\n",
       "    <tr>\n",
       "      <th>Risk of Bias Rating</th>\n",
       "      <th></th>\n",
       "      <th></th>\n",
       "      <th></th>\n",
       "      <th></th>\n",
       "    </tr>\n",
       "  </thead>\n",
       "  <tbody>\n",
       "    <tr>\n",
       "      <th>High</th>\n",
       "      <td>46</td>\n",
       "      <td>17</td>\n",
       "      <td>21</td>\n",
       "      <td>48</td>\n",
       "    </tr>\n",
       "    <tr>\n",
       "      <th>Low</th>\n",
       "      <td>14</td>\n",
       "      <td>1</td>\n",
       "      <td>4</td>\n",
       "      <td>3</td>\n",
       "    </tr>\n",
       "    <tr>\n",
       "      <th>Medium</th>\n",
       "      <td>81</td>\n",
       "      <td>25</td>\n",
       "      <td>56</td>\n",
       "      <td>73</td>\n",
       "    </tr>\n",
       "  </tbody>\n",
       "</table>\n",
       "</div>"
      ],
      "text/plain": [
       "Female_recode         0   1   2   3\n",
       "Risk of Bias Rating                \n",
       "High                 46  17  21  48\n",
       "Low                  14   1   4   3\n",
       "Medium               81  25  56  73"
      ]
     },
     "execution_count": 395,
     "metadata": {},
     "output_type": "execute_result"
    }
   ],
   "source": [
    "bias_crosstab3 = pd.crosstab(bias['Risk of Bias Rating'], bias['Female_recode'])\n",
    "bias_crosstab"
   ]
  },
  {
   "cell_type": "markdown",
   "id": "959d5063",
   "metadata": {},
   "source": [
    "# Bias Histogram"
   ]
  },
  {
   "cell_type": "code",
   "execution_count": 397,
   "id": "cc0a3b2c",
   "metadata": {},
   "outputs": [
    {
     "data": {
      "image/png": "[encoded data removed]",
      "text/plain": [
       "<Figure size 1440x1440 with 16 Axes>"
      ]
     },
     "metadata": {
      "needs_background": "light"
     },
     "output_type": "display_data"
    }
   ],
   "source": [
    "\n",
    "bias.hist(figsize= (20, 20), color = \"hotpink\")\n",
    "plt.show()"
   ]
  },
  {
   "cell_type": "code",
   "execution_count": 408,
   "id": "0003be14",
   "metadata": {},
   "outputs": [],
   "source": [
    "h2=bias[['Risk of Bias Rating','Female_recode', 'Male_recode']]"
   ]
  },
  {
   "cell_type": "markdown",
   "id": "9516511a",
   "metadata": {},
   "source": [
    "# histogram"
   ]
  },
  {
   "cell_type": "code",
   "execution_count": 402,
   "id": "507feb0c",
   "metadata": {},
   "outputs": [
    {
     "data": {
      "text/plain": [
       "(array([ 97.,   0.,   0.,  83.,   0.,   0.,  43.,   0.,   0., 166.]),\n",
       " array([0. , 0.3, 0.6, 0.9, 1.2, 1.5, 1.8, 2.1, 2.4, 2.7, 3. ]),\n",
       " <BarContainer object of 10 artists>)"
      ]
     },
     "execution_count": 402,
     "metadata": {},
     "output_type": "execute_result"
    },
    {
     "data": {
      "image/png": "[encoded data removed]",
      "text/plain": [
       "<Figure size 432x288 with 1 Axes>"
      ]
     },
     "metadata": {
      "needs_background": "light"
     },
     "output_type": "display_data"
    }
   ],
   "source": [
    "bias['Risk of Bias Rating'].hist()\n",
    "p = sns.lineplot(dataSet = bias)\n",
    "p.set_xlabel(\"X-Male_recode\", fontsize = 20)\n",
    "p.set_ylabel(\"Y-Risk of Bias Rating\", fontsize = 20)\n",
    "plt.hist(bias['Risk of Bias Rating'], facecolor='purple')\n",
    "plt.hist(bias['Male_recode'], facecolor='hotpink')"
   ]
  },
  {
   "cell_type": "code",
   "execution_count": 403,
   "id": "cd3180a7",
   "metadata": {},
   "outputs": [
    {
     "data": {
      "text/plain": [
       "(array([141.,   0.,   0.,  43.,   0.,   0.,  81.,   0.,   0., 124.]),\n",
       " array([0. , 0.3, 0.6, 0.9, 1.2, 1.5, 1.8, 2.1, 2.4, 2.7, 3. ]),\n",
       " <BarContainer object of 10 artists>)"
      ]
     },
     "execution_count": 403,
     "metadata": {},
     "output_type": "execute_result"
    },
    {
     "data": {
      "image/png": "[encoded data removed]",
      "text/plain": [
       "<Figure size 432x288 with 1 Axes>"
      ]
     },
     "metadata": {
      "needs_background": "light"
     },
     "output_type": "display_data"
    }
   ],
   "source": [
    "bias['Risk of Bias Rating'].hist()\n",
    "p = sns.lineplot(dataSet = bias)\n",
    "p.set_xlabel(\"X-Female_recode \", fontsize = 20)\n",
    "p.set_ylabel(\"Y-Risk of Bias Rating\", fontsize = 20)\n",
    "plt.hist(bias['Risk of Bias Rating'], facecolor='purple')\n",
    "plt.hist(bias['Female_recode'], facecolor='hotpink')"
   ]
  },
  {
   "cell_type": "code",
   "execution_count": 46,
   "id": "1c171d9f",
   "metadata": {},
   "outputs": [
    {
     "data": {
      "text/plain": [
       "array([0.7449, 0.0379, 0.4412, 0.    , 0.65  , 0.28  , 0.7857, 0.5294,\n",
       "       0.6567, 0.875 , 0.091 , 0.193 , 0.8475, 0.871 , 0.0667, 0.1371,\n",
       "          nan, 0.8182, 0.2143, 0.881 , 0.0556, 0.7347, 0.7   , 1.    ,\n",
       "       0.0274, 0.8   , 0.733 , 0.457 , 0.79  , 0.507 , 0.5833, 0.52  ,\n",
       "       0.9643, 0.5429, 0.23  , 0.4101, 0.6596, 0.9333, 0.0455, 0.6071,\n",
       "       0.4365, 0.5625, 0.1017, 0.6744, 0.4603, 0.29  , 0.91  , 0.7308,\n",
       "       0.7619, 0.7788, 0.541 , 0.66  , 0.0238, 0.0571, 0.0244, 0.162 ,\n",
       "       0.34  , 0.0323, 0.825 , 0.806 , 0.24  , 0.4   , 0.3966, 0.5   ,\n",
       "       0.5868, 0.098 , 0.309 , 0.1875, 0.1907, 0.556 , 0.4634, 0.7042,\n",
       "       0.177 , 0.3455, 0.3944, 0.1202, 0.6515, 0.0339, 0.102 , 0.074 ,\n",
       "       0.2282, 0.5714, 0.69  , 0.6522, 0.1207, 0.119 , 0.831 , 0.1915,\n",
       "       0.9074, 0.0345, 0.1905, 0.139 , 0.2391, 0.1818, 0.1364, 0.36  ,\n",
       "       0.5846, 0.2083, 0.6786, 0.2308, 0.823 , 0.9211, 0.11  , 0.6   ,\n",
       "       0.8875, 0.3846, 0.5652, 0.62  , 0.2444, 0.2128, 0.1455, 0.0765,\n",
       "       0.33  , 0.7233, 0.6489, 0.2857, 0.0882, 0.09  , 0.069 , 0.25  ,\n",
       "       0.4583, 0.2727, 0.8276, 0.595 , 0.125 , 0.5417, 0.226 , 0.7317,\n",
       "       0.067 , 0.791 , 0.1   , 0.6842, 0.6731, 0.19  , 0.7153, 0.5897,\n",
       "       0.8125, 0.85  , 0.0636, 0.566 , 0.593 , 0.05  , 0.037 , 0.7692,\n",
       "       0.8056, 0.621 , 0.2692, 0.75  , 0.251 , 0.787 , 0.6866, 0.625 ,\n",
       "       0.3571, 0.5126, 0.3125, 0.1683, 0.564 , 0.528 , 0.1008, 0.4884,\n",
       "       0.8333, 0.5049, 0.679 , 0.0909, 0.0625, 0.16  , 0.22  , 0.1552,\n",
       "       0.2368, 0.4167, 0.8889, 0.27  , 0.115 , 0.8667, 0.1493, 0.023 ,\n",
       "       0.0833, 0.13  , 0.1176, 0.0741, 0.6923, 0.1605, 0.646 , 0.0513,\n",
       "       0.64  , 0.5323, 0.3871, 0.7593, 0.7931, 0.5405, 0.6389, 0.0872,\n",
       "       0.7549, 0.941 , 0.3333, 0.8049, 0.4762, 0.56  , 0.401 , 0.8095,\n",
       "       0.864 , 0.475 , 0.487 , 0.1277, 0.3086, 0.8488, 0.6889, 0.5806,\n",
       "       0.8462, 0.2778, 0.658 , 0.7414, 0.7895, 0.3182, 0.5419, 0.7412,\n",
       "       0.3438, 0.8295, 0.8571, 0.0588, 0.1739, 0.5814, 0.55  , 0.375 ,\n",
       "       0.818 , 0.6774, 0.1081, 0.019 , 0.766 , 0.5333, 0.7727, 0.9   ,\n",
       "       0.7143, 0.88  , 0.447 ])"
      ]
     },
     "execution_count": 46,
     "metadata": {},
     "output_type": "execute_result"
    }
   ],
   "source": [
    "bias['Female Percent (Study level)'].unique()"
   ]
  },
  {
   "cell_type": "code",
   "execution_count": 51,
   "id": "1194899a",
   "metadata": {},
   "outputs": [
    {
     "data": {
      "text/plain": [
       "array([0.2551, 0.9621, 0.5588, 1.    , 0.35  , 0.72  , 0.2143, 0.4706,\n",
       "       0.3433, 0.125 , 0.909 , 0.807 , 0.1525, 0.129 , 0.9333, 0.8629,\n",
       "          nan, 0.1818, 0.7857, 0.119 , 0.9444, 0.2653, 0.3   , 0.    ,\n",
       "       0.9726, 0.2   , 0.267 , 0.543 , 0.21  , 0.493 , 0.4167, 0.48  ,\n",
       "       0.0357, 0.4571, 0.77  , 0.5899, 0.4404, 0.0667, 0.9545, 0.3929,\n",
       "       0.5635, 0.4375, 0.8983, 0.3256, 0.5397, 0.71  , 0.09  , 0.2692,\n",
       "       0.2381, 0.2212, 0.459 , 0.34  , 0.9762, 0.9429, 0.9756, 0.838 ,\n",
       "       0.66  , 0.9677, 0.175 , 0.194 , 0.76  , 0.6   , 0.6034, 0.5   ,\n",
       "       0.4132, 0.902 , 0.691 , 0.8125, 0.8093, 0.444 , 0.5366, 0.2958,\n",
       "       0.823 , 0.6545, 0.6056, 0.8798, 0.3485, 0.9661, 0.898 , 0.926 ,\n",
       "       0.7718, 0.4286, 0.31  , 0.3478, 0.8793, 0.881 , 0.169 , 0.8085,\n",
       "       0.0926, 0.9655, 0.8095, 0.861 , 0.7609, 0.8182, 0.8636, 0.64  ,\n",
       "       0.4154, 0.7917, 0.3214, 0.7692, 0.177 , 0.0789, 0.89  , 0.4   ,\n",
       "       0.1125, 0.6154, 0.4348, 0.38  , 0.7556, 0.7872, 0.8545, 0.9235,\n",
       "       0.67  , 0.2767, 0.3511, 0.7143, 0.9118, 0.91  , 0.931 , 0.75  ,\n",
       "       0.5417, 0.7273, 0.1724, 0.405 , 0.875 , 0.4583, 0.774 , 0.2683,\n",
       "       0.933 , 0.209 , 0.9   , 0.3158, 0.3269, 0.81  , 0.2847, 0.4103,\n",
       "       0.1875, 0.15  , 0.9364, 0.434 , 0.407 , 0.95  , 0.963 , 0.2308,\n",
       "       0.1944, 0.379 , 0.7308, 0.25  , 0.749 , 0.213 , 0.3134, 0.375 ,\n",
       "       0.6429, 0.4874, 0.6875, 0.8317, 0.436 , 0.472 , 0.8992, 0.5116,\n",
       "       0.1667, 0.4951, 0.321 , 0.9091, 0.9375, 0.84  , 0.78  , 0.8448,\n",
       "       0.7632, 0.5833, 0.1111, 0.73  , 0.885 , 0.1333, 0.8507, 0.977 ,\n",
       "       0.9167, 0.87  , 0.8824, 0.9259, 0.3077, 0.8395, 0.354 , 0.9487,\n",
       "       0.36  , 0.4677, 0.6129, 0.2407, 0.2069, 0.4595, 0.3611, 0.9128,\n",
       "       0.2451, 0.059 , 0.6667, 0.1951, 0.5278, 0.44  , 0.599 , 0.1905,\n",
       "       0.136 , 0.525 , 0.513 , 0.8723, 0.6914, 0.1512, 0.3111, 0.4194,\n",
       "       0.1538, 0.7222, 0.342 , 0.2586, 0.2105, 0.6818, 0.4581, 0.2588,\n",
       "       0.6562, 0.1705, 0.1429, 0.9412, 0.8261, 0.4186, 0.45  , 0.625 ,\n",
       "       0.182 , 0.3226, 0.8919, 0.981 , 0.234 , 0.4667, 0.2273, 0.1   ,\n",
       "       0.2857, 0.12  , 0.553 ])"
      ]
     },
     "execution_count": 51,
     "metadata": {},
     "output_type": "execute_result"
    }
   ],
   "source": [
    "bias['Male Percent (Study level)'].unique()"
   ]
  },
  {
   "cell_type": "code",
   "execution_count": 410,
   "id": "c5e7e2bd",
   "metadata": {},
   "outputs": [],
   "source": [
    "CrossTable = pd.crosstab(bias['Military_recode'], bias['Veteran_recode'])"
   ]
  },
  {
   "cell_type": "code",
   "execution_count": 411,
   "id": "b18ac7cd",
   "metadata": {},
   "outputs": [
    {
     "data": {
      "text/plain": [
       "array([3, 0, 2, 1], dtype=int64)"
      ]
     },
     "execution_count": 411,
     "metadata": {},
     "output_type": "execute_result"
    }
   ],
   "source": [
    "bias['Military_recode'].unique()"
   ]
  },
  {
   "cell_type": "code",
   "execution_count": 412,
   "id": "c3a82d2e",
   "metadata": {},
   "outputs": [
    {
     "data": {
      "text/plain": [
       "array([3, 0, 2, 1], dtype=int64)"
      ]
     },
     "execution_count": 412,
     "metadata": {},
     "output_type": "execute_result"
    }
   ],
   "source": [
    "   bias['Veteran_recode'].unique()"
   ]
  },
  {
   "cell_type": "markdown",
   "id": "937f1061",
   "metadata": {},
   "source": [
    "# Stacked Bar"
   ]
  },
  {
   "cell_type": "code",
   "execution_count": 453,
   "id": "3d453212",
   "metadata": {},
   "outputs": [
    {
     "data": {
      "text/plain": [
       "<AxesSubplot:xlabel='Male_recode'>"
      ]
     },
     "execution_count": 453,
     "metadata": {},
     "output_type": "execute_result"
    },
    {
     "data": {
      "image/png": "[encoded data removed]",
      "text/plain": [
       "<Figure size 432x288 with 1 Axes>"
      ]
     },
     "metadata": {
      "needs_background": "light"
     },
     "output_type": "display_data"
    }
   ],
   "source": [
    "CrossTable2 = pd.crosstab(bias['Male_recode'], bias['Risk of Bias Rating'])\n",
    "CrossTable2.plot.bar(stacked=True, color=['purple', 'lightblue', 'hotpink'])"
   ]
  },
  {
   "cell_type": "code",
   "execution_count": 455,
   "id": "93246ed9",
   "metadata": {},
   "outputs": [
    {
     "data": {
      "text/plain": [
       "<AxesSubplot:xlabel='Male_recode'>"
      ]
     },
     "execution_count": 455,
     "metadata": {},
     "output_type": "execute_result"
    },
    {
     "data": {
      "image/png": "[encoded data removed]",
      "text/plain": [
       "<Figure size 432x288 with 1 Axes>"
      ]
     },
     "metadata": {
      "needs_background": "light"
     },
     "output_type": "display_data"
    }
   ],
   "source": [
    "CrossTable3 = pd.crosstab(bias['Female_recode'], bias['Risk of Bias Rating'])\n",
    "CrossTable.plot.bar(stacked=True, color=['hotpink', 'lightblue', 'purple'])"
   ]
  },
  {
   "cell_type": "code",
   "execution_count": 458,
   "id": "e3e9fe70",
   "metadata": {},
   "outputs": [
    {
     "data": {
      "text/plain": [
       "<AxesSubplot:xlabel='Male_recode'>"
      ]
     },
     "execution_count": 458,
     "metadata": {},
     "output_type": "execute_result"
    },
    {
     "data": {
      "image/png": "[encoded data removed]",
      "text/plain": [
       "<Figure size 432x288 with 1 Axes>"
      ]
     },
     "metadata": {
      "needs_background": "light"
     },
     "output_type": "display_data"
    }
   ],
   "source": [
    "CrossTable = pd.crosstab(bias['Veteran_recode'],bias['trauma_recode'])\n",
    "CrossTable2.plot.bar(stacked=True, color=['hotpink', 'lightblue', 'purple'])"
   ]
  },
  {
   "cell_type": "code",
   "execution_count": null,
   "id": "8100bc3d",
   "metadata": {},
   "outputs": [],
   "source": []
  },
  {
   "cell_type": "code",
   "execution_count": 451,
   "id": "0a7b1f45",
   "metadata": {},
   "outputs": [
    {
     "data": {
      "text/plain": [
       "<AxesSubplot:xlabel='Female_recode'>"
      ]
     },
     "execution_count": 451,
     "metadata": {},
     "output_type": "execute_result"
    },
    {
     "data": {
      "image/png": "[encoded data removed]",
      "text/plain": [
       "<Figure size 432x288 with 1 Axes>"
      ]
     },
     "metadata": {
      "needs_background": "light"
     },
     "output_type": "display_data"
    }
   ],
   "source": [
    "CrossTable1 = pd.crosstab(bias['Female_recode'], bias['Male_recode'])\n",
    "CrossTable1.plot.bar(stacked=True, color=['purple', 'yellow','lightblue', 'hotpink'])"
   ]
  },
  {
   "cell_type": "code",
   "execution_count": 452,
   "id": "043036a0",
   "metadata": {},
   "outputs": [
    {
     "data": {
      "text/plain": [
       "<AxesSubplot:xlabel='Male_recode'>"
      ]
     },
     "execution_count": 452,
     "metadata": {},
     "output_type": "execute_result"
    },
    {
     "data": {
      "image/png": "[encoded data removed]",
      "text/plain": [
       "<Figure size 432x288 with 1 Axes>"
      ]
     },
     "metadata": {
      "needs_background": "light"
     },
     "output_type": "display_data"
    }
   ],
   "source": [
    "CrossTable = pd.crosstab(bias['Male_recode'], bias['Risk of Bias Rating'])\n",
    "CrossTable.plot.bar(stacked=True, color=['hotpink', 'lightblue', 'purple'])"
   ]
  },
  {
   "cell_type": "code",
   "execution_count": 459,
   "id": "7510c62b",
   "metadata": {},
   "outputs": [
    {
     "data": {
      "text/plain": [
       "<AxesSubplot:xlabel='Female_recode'>"
      ]
     },
     "execution_count": 459,
     "metadata": {},
     "output_type": "execute_result"
    },
    {
     "data": {
      "image/png": "[encoded data removed]",
      "text/plain": [
       "<Figure size 432x288 with 1 Axes>"
      ]
     },
     "metadata": {
      "needs_background": "light"
     },
     "output_type": "display_data"
    }
   ],
   "source": [
    "CrossTable = pd.crosstab(bias['Female_recode'], bias['Risk of Bias Rating'])\n",
    "CrossTable.plot.bar(stacked=True, color=['hotpink', 'lightblue', 'purple'])"
   ]
  },
  {
   "cell_type": "code",
   "execution_count": 460,
   "id": "db06377e",
   "metadata": {},
   "outputs": [
    {
     "data": {
      "text/plain": [
       "<AxesSubplot:xlabel='Female_recode'>"
      ]
     },
     "execution_count": 460,
     "metadata": {},
     "output_type": "execute_result"
    },
    {
     "data": {
      "image/png": "[encoded data removed]",
      "text/plain": [
       "<Figure size 432x288 with 1 Axes>"
      ]
     },
     "metadata": {
      "needs_background": "light"
     },
     "output_type": "display_data"
    }
   ],
   "source": [
    "CrossTable = pd.crosstab(bias['Female_recode'], bias['Military_recode'])\n",
    "CrossTable.plot.bar(stacked=True, color=['purple', 'lightblue', 'yellow', 'hotpink'])"
   ]
  },
  {
   "cell_type": "code",
   "execution_count": 461,
   "id": "b1cc2ad8",
   "metadata": {},
   "outputs": [
    {
     "data": {
      "text/plain": [
       "<AxesSubplot:xlabel='Male_recode'>"
      ]
     },
     "execution_count": 461,
     "metadata": {},
     "output_type": "execute_result"
    },
    {
     "data": {
      "image/png": "[encoded data removed]",
      "text/plain": [
       "<Figure size 432x288 with 1 Axes>"
      ]
     },
     "metadata": {
      "needs_background": "light"
     },
     "output_type": "display_data"
    }
   ],
   "source": [
    "CrossTable = pd.crosstab(bias['Male_recode'],bias['Military_recode'])\n",
    "CrossTable.plot.bar(stacked=True, color=['purple', 'yellow', 'lightblue', 'hotpink'])"
   ]
  },
  {
   "cell_type": "code",
   "execution_count": 418,
   "id": "72fb6bf4",
   "metadata": {},
   "outputs": [],
   "source": [
    "CrossTable = pd.crosstab(bias['Veteran_recode'],bias['Military_recode'])\n",
    "CrossTable.plot.bar(stacked=True, color=['purple', 'black', 'yellow', 'hotpink'])"
   ]
  },
  {
   "cell_type": "code",
   "execution_count": 463,
   "id": "ac4df01f",
   "metadata": {},
   "outputs": [
    {
     "data": {
      "text/plain": [
       "<AxesSubplot:xlabel='Veteran_recode'>"
      ]
     },
     "execution_count": 463,
     "metadata": {},
     "output_type": "execute_result"
    },
    {
     "data": {
      "image/png": "[encoded data removed]",
      "text/plain": [
       "<Figure size 432x288 with 1 Axes>"
      ]
     },
     "metadata": {
      "needs_background": "light"
     },
     "output_type": "display_data"
    }
   ],
   "source": [
    "CrossTable2 = pd.crosstab(bias['Veteran_recode'],bias['trauma_recode'])\n",
    "CrossTable2.plot.bar(stacked=True, color=['purple', 'hotpink'])"
   ]
  },
  {
   "cell_type": "code",
   "execution_count": 464,
   "id": "57f0d9af",
   "metadata": {},
   "outputs": [
    {
     "data": {
      "text/plain": [
       "<AxesSubplot:xlabel='trauma_recode'>"
      ]
     },
     "execution_count": 464,
     "metadata": {},
     "output_type": "execute_result"
    },
    {
     "data": {
      "image/png": "[encoded data removed]",
      "text/plain": [
       "<Figure size 432x288 with 1 Axes>"
      ]
     },
     "metadata": {
      "needs_background": "light"
     },
     "output_type": "display_data"
    }
   ],
   "source": [
    "CrossTable2 = pd.crosstab(bias['trauma_recode'],bias['Veteran_recode'])\n",
    "CrossTable2.plot.bar(stacked=True, color=['purple', 'lightblue', 'yellow', 'hotpink'])"
   ]
  },
  {
   "cell_type": "code",
   "execution_count": 466,
   "id": "08ae6593",
   "metadata": {},
   "outputs": [
    {
     "data": {
      "text/plain": [
       "(array([151.,   0.,   0.,   2.,   0.,   0.,   2.,   0.,   0., 234.]),\n",
       " array([0. , 0.3, 0.6, 0.9, 1.2, 1.5, 1.8, 2.1, 2.4, 2.7, 3. ]),\n",
       " <BarContainer object of 10 artists>)"
      ]
     },
     "execution_count": 466,
     "metadata": {},
     "output_type": "execute_result"
    },
    {
     "data": {
      "image/png": "[encoded data removed]",
      "text/plain": [
       "<Figure size 432x288 with 1 Axes>"
      ]
     },
     "metadata": {
      "needs_background": "light"
     },
     "output_type": "display_data"
    }
   ],
   "source": [
    "bias['Military_recode'].hist()\n",
    "plt.hist(bias['Military_recode'], facecolor='purple')"
   ]
  },
  {
   "cell_type": "markdown",
   "id": "02b10d34",
   "metadata": {},
   "source": [
    "# SCATTERPLOT"
   ]
  },
  {
   "cell_type": "code",
   "execution_count": 476,
   "id": "8ff79ed9",
   "metadata": {},
   "outputs": [
    {
     "data": {
      "image/png": "[encoded data removed]",
      "text/plain": [
       "<Figure size 432x288 with 1 Axes>"
      ]
     },
     "metadata": {
      "needs_background": "light"
     },
     "output_type": "display_data"
    }
   ],
   "source": [
    "plt.scatter(x = bias['Male_recode'], y = bias['Female_recode'])\n",
    "\n",
    "plt.show()"
   ]
  },
  {
   "cell_type": "code",
   "execution_count": 477,
   "id": "fb1b4209",
   "metadata": {},
   "outputs": [
    {
     "data": {
      "image/png": "[encoded data removed]",
      "text/plain": [
       "<Figure size 432x288 with 1 Axes>"
      ]
     },
     "metadata": {
      "needs_background": "light"
     },
     "output_type": "display_data"
    }
   ],
   "source": [
    "plt.scatter(x = bias['Male Percent (Study level)'], y = bias['Female Percent (Study level)'])\n",
    "\n",
    "plt.show()"
   ]
  },
  {
   "cell_type": "code",
   "execution_count": 478,
   "id": "2bda56f0",
   "metadata": {},
   "outputs": [
    {
     "data": {
      "image/png": "[encoded data removed]",
      "text/plain": [
       "<Figure size 432x288 with 1 Axes>"
      ]
     },
     "metadata": {
      "needs_background": "light"
     },
     "output_type": "display_data"
    }
   ],
   "source": [
    "plt.scatter(x = bias ['Veteran_recode'], y =  bias ['Female_recode'])\n",
    "\n",
    "plt.show()"
   ]
  },
  {
   "cell_type": "code",
   "execution_count": 481,
   "id": "cb779c61",
   "metadata": {},
   "outputs": [
    {
     "data": {
      "image/png": "[encoded data removed]",
      "text/plain": [
       "<Figure size 432x288 with 1 Axes>"
      ]
     },
     "metadata": {
      "needs_background": "light"
     },
     "output_type": "display_data"
    }
   ],
   "source": [
    "plt.scatter(x = bias ['Veteran Percent (Study level)'], y =  bias ['Female Percent (Study level)'])\n",
    "\n",
    "plt.show()"
   ]
  },
  {
   "cell_type": "code",
   "execution_count": 483,
   "id": "f3cc4df6",
   "metadata": {},
   "outputs": [
    {
     "data": {
      "image/png": "[encoded data removed]",
      "text/plain": [
       "<Figure size 432x288 with 1 Axes>"
      ]
     },
     "metadata": {
      "needs_background": "light"
     },
     "output_type": "display_data"
    }
   ],
   "source": [
    "plt.scatter(x = bias ['Veteran_recode'], y =  bias ['Male_recode'])\n",
    "\n",
    "plt.show()"
   ]
  },
  {
   "cell_type": "code",
   "execution_count": 484,
   "id": "2bbad1dc",
   "metadata": {},
   "outputs": [
    {
     "data": {
      "image/png": "[encoded data removed]",
      "text/plain": [
       "<Figure size 432x288 with 1 Axes>"
      ]
     },
     "metadata": {
      "needs_background": "light"
     },
     "output_type": "display_data"
    }
   ],
   "source": [
    "plt.scatter(x = bias ['Veteran Percent (Study level)'], y =  bias ['Male Percent (Study level)'])\n",
    "\n",
    "plt.show()"
   ]
  },
  {
   "cell_type": "code",
   "execution_count": 482,
   "id": "14208b45",
   "metadata": {},
   "outputs": [
    {
     "data": {
      "image/png": "[encoded data removed]",
      "text/plain": [
       "<Figure size 432x288 with 1 Axes>"
      ]
     },
     "metadata": {
      "needs_background": "light"
     },
     "output_type": "display_data"
    }
   ],
   "source": [
    "plt.scatter(x = bias ['Military_recode'],y = bias ['Veteran_recode'])\n",
    "\n",
    "plt.show()"
   ]
  },
  {
   "cell_type": "markdown",
   "id": "a6988653",
   "metadata": {},
   "source": [
    " # Chi 2"
   ]
  },
  {
   "cell_type": "code",
   "execution_count": 489,
   "id": "4818191d",
   "metadata": {},
   "outputs": [],
   "source": [
    "stat, p, dlf, expected = chi2_contingency(bias_crosstab)"
   ]
  },
  {
   "cell_type": "code",
   "execution_count": 490,
   "id": "e0002c64",
   "metadata": {},
   "outputs": [
    {
     "name": "stdout",
     "output_type": "stream",
     "text": [
      "11.910418073995602\n"
     ]
    }
   ],
   "source": [
    "print (stat)"
   ]
  },
  {
   "cell_type": "code",
   "execution_count": 491,
   "id": "7cb76076",
   "metadata": {},
   "outputs": [
    {
     "name": "stdout",
     "output_type": "stream",
     "text": [
      "0.06399736576468158\n"
     ]
    }
   ],
   "source": [
    "print (p)"
   ]
  },
  {
   "cell_type": "code",
   "execution_count": 492,
   "id": "2cf40baf",
   "metadata": {},
   "outputs": [
    {
     "name": "stdout",
     "output_type": "stream",
     "text": [
      "p value:0.06399736576468158\n",
      "ACCEPT NULL HYPOTHESIS\n"
     ]
    }
   ],
   "source": [
    "significance_level = 0.05\n",
    "print(\"p value:\"+ str(p))\n",
    "if p <= significance_level: \n",
    "    print('Reject NULL HYPOTHESIS') \n",
    "else: \n",
    "    print('ACCEPT NULL HYPOTHESIS') "
   ]
  },
  {
   "cell_type": "code",
   "execution_count": 502,
   "id": "a26d458d",
   "metadata": {},
   "outputs": [
    {
     "name": "stderr",
     "output_type": "stream",
     "text": [
      "C:\\tools\\Anaconda3\\lib\\site-packages\\seaborn\\distributions.py:2557: FutureWarning: `distplot` is a deprecated function and will be removed in a future version. Please adapt your code to use either `displot` (a figure-level function with similar flexibility) or `histplot` (an axes-level function for histograms).\n",
      "  warnings.warn(msg, FutureWarning)\n"
     ]
    },
    {
     "data": {
      "text/plain": [
       "<AxesSubplot:xlabel='Female_recode', ylabel='Density'>"
      ]
     },
     "execution_count": 502,
     "metadata": {},
     "output_type": "execute_result"
    },
    {
     "data": {
      "image/png": "[encoded data removed]",
      "text/plain": [
       "<Figure size 432x288 with 1 Axes>"
      ]
     },
     "metadata": {
      "needs_background": "light"
     },
     "output_type": "display_data"
    }
   ],
   "source": [
    "sns.distplot(bias['Female_recode'])\n"
   ]
  },
  {
   "cell_type": "code",
   "execution_count": 500,
   "id": "f3f22111",
   "metadata": {},
   "outputs": [
    {
     "name": "stdout",
     "output_type": "stream",
     "text": [
      "0      1\n",
      "1      3\n",
      "2      2\n",
      "3      3\n",
      "4      3\n",
      "      ..\n",
      "384    0\n",
      "385    0\n",
      "386    1\n",
      "387    0\n",
      "388    2\n",
      "Name: Male_recode, Length: 389, dtype: int64 0      2\n",
      "1      0\n",
      "2      1\n",
      "3      0\n",
      "4      0\n",
      "      ..\n",
      "384    3\n",
      "385    3\n",
      "386    2\n",
      "387    3\n",
      "388    1\n",
      "Name: Female_recode, Length: 389, dtype: int64\n"
     ]
    }
   ],
   "source": [
    "x = bias['Male_recode']\n",
    "y = bias['Female_recode']\n",
    "print (x, y)"
   ]
  },
  {
   "cell_type": "code",
   "execution_count": null,
   "id": "882ac359",
   "metadata": {},
   "outputs": [],
   "source": []
  }
 ],
 "metadata": {
  "kernelspec": {
   "display_name": "Python 3",
   "language": "python",
   "name": "python3"
  },
  "language_info": {
   "codemirror_mode": {
    "name": "ipython",
    "version": 3
   },
   "file_extension": ".py",
   "mimetype": "text/x-python",
   "name": "python",
   "nbconvert_exporter": "python",
   "pygments_lexer": "ipython3",
   "version": "3.8.8"
  }
 },
 "nbformat": 4,
 "nbformat_minor": 5
}
