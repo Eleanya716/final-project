{
 "cells": [
  {
   "cell_type": "code",
   "execution_count": 1,
   "id": "f2bb03f5",
   "metadata": {},
   "outputs": [
    {
     "ename": "SyntaxError",
     "evalue": "cannot assign to function call (<ipython-input-1-572fd8365aea>, line 1)",
     "output_type": "error",
     "traceback": [
      "\u001b[1;36m  File \u001b[1;32m\"<ipython-input-1-572fd8365aea>\"\u001b[1;36m, line \u001b[1;32m1\u001b[0m\n\u001b[1;33m    P(A|B) = (P(B|A) * P(A)) / P(B)\u001b[0m\n\u001b[1;37m    ^\u001b[0m\n\u001b[1;31mSyntaxError\u001b[0m\u001b[1;31m:\u001b[0m cannot assign to function call\n"
     ]
    }
   ],
   "source": [
    "P(A|B) = (P(B|A) * P(A)) / P(B)\n",
    "P(A|B) = (.8 * .6) / .000065\n",
    "P(A|B) = .3 / .000065\n",
    "P(A|B) = 4,615.38"
   ]
  },
  {
   "cell_type": "code",
   "execution_count": null,
   "id": "5cddb11a",
   "metadata": {},
   "outputs": [],
   "source": []
  }
 ],
 "metadata": {
  "kernelspec": {
   "display_name": "Python 3",
   "language": "python",
   "name": "python3"
  }
 },
 "nbformat": 4,
 "nbformat_minor": 5
}
