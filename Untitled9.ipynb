{
 "cells": [
  {
   "cell_type": "code",
   "execution_count": 4,
   "id": "81fb664c",
   "metadata": {},
   "outputs": [],
   "source": [
    "import pandas as pd"
   ]
  },
  {
   "cell_type": "code",
   "execution_count": 5,
   "id": "be256642",
   "metadata": {},
   "outputs": [],
   "source": [
    "IQ = pd.read_csv('C:/Users/elean/Downloads/IQ/IQ.csv')"
   ]
  },
  {
   "cell_type": "code",
   "execution_count": null,
   "id": "123c4dda",
   "metadata": {},
   "outputs": [],
   "source": [
    "#Backward Selection\n",
    "FitAll = lm(Y ~ ., data = stepwiseRegression)\n",
    "summary(FitAll)\n",
    "\n",
    "step(FitAll, direction = 'backward', scope = formula(FitAll))\n",
    "\n",
    "#Forward Selection\n",
    "fitstart = lm(Y ~ 1, data = stepwiseRegression)\n",
    "summary(fitstart)\n",
    "\n",
    "step(fitstart, direction = 'forward', scope = (formula(FitAll)))\n",
    "\n",
    "#StepWise \n",
    "step(fitstart, direction = 'both', scope = formula(FitAll))\n",
    "\n",
    "fitsome <- lm(formula = Y ~ X2 + X4 + X6 + X10 + X11 + X12, data = stepwiseRegression)\n",
    "summary(fitsome)\n",
    "\n",
    "#Compare the output from the different types of stepwise selections above and note the order of the elimination of features"
   ]
  },
  {
   "cell_type": "code",
   "execution_count": 8,
   "id": "f7fb94e0",
   "metadata": {},
   "outputs": [
    {
     "ename": "SyntaxError",
     "evalue": "invalid syntax (<ipython-input-8-6b23bb846e70>, line 1)",
     "output_type": "error",
     "traceback": [
      "\u001b[1;36m  File \u001b[1;32m\"<ipython-input-8-6b23bb846e70>\"\u001b[1;36m, line \u001b[1;32m1\u001b[0m\n\u001b[1;33m    FitAll = lm(Y ~ ., data = stepwiseRegression)\u001b[0m\n\u001b[1;37m                  ^\u001b[0m\n\u001b[1;31mSyntaxError\u001b[0m\u001b[1;31m:\u001b[0m invalid syntax\n"
     ]
    }
   ],
   "source": [
    "FitAll = lm(Y ~ ., data = stepwiseRegression)\n",
    "summary(FitAll)"
   ]
  },
  {
   "cell_type": "code",
   "execution_count": null,
   "id": "e5a8c6e6",
   "metadata": {},
   "outputs": [],
   "source": []
  }
 ],
 "metadata": {
  "kernelspec": {
   "display_name": "Python 3",
   "language": "python",
   "name": "python3"
  },
  "language_info": {
   "codemirror_mode": {
    "name": "ipython",
    "version": 3
   },
   "file_extension": ".py",
   "mimetype": "text/x-python",
   "name": "python",
   "nbconvert_exporter": "python",
   "pygments_lexer": "ipython3",
   "version": "3.8.8"
  }
 },
 "nbformat": 4,
 "nbformat_minor": 5
}
